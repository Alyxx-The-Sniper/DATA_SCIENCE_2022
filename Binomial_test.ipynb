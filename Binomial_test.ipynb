{
  "nbformat": 4,
  "nbformat_minor": 0,
  "metadata": {
    "colab": {
      "provenance": [],
      "authorship_tag": "ABX9TyPK1Fqy7CxaEx6gjWQ8la3O",
      "include_colab_link": true
    },
    "kernelspec": {
      "name": "python3",
      "display_name": "Python 3"
    },
    "language_info": {
      "name": "python"
    }
  },
  "cells": [
    {
      "cell_type": "markdown",
      "metadata": {
        "id": "view-in-github",
        "colab_type": "text"
      },
      "source": [
        "<a href=\"https://colab.research.google.com/github/Alyxx-The-Sniper/DATA_SCIENCE_2022/blob/main/Binomial_test.ipynb\" target=\"_parent\"><img src=\"https://colab.research.google.com/assets/colab-badge.svg\" alt=\"Open In Colab\"/></a>"
      ]
    },
    {
      "cell_type": "markdown",
      "source": [
        "#Binomial Test\n"
      ],
      "metadata": {
        "id": "Gy96uRD5nLB0"
      }
    },
    {
      "cell_type": "markdown",
      "source": [
        "In Genshin Impact, there's a draw system where players make wishes to obtain new characters and weapons. We'll simulate this draw system using statistical probability to determine the success rate of each draw."
      ],
      "metadata": {
        "id": "v0DtOMIfQQMW"
      }
    },
    {
      "cell_type": "markdown",
      "source": [
        "**TASK 1:** Determine the probability of obtaining a 5-star character in 5 draws. This implies aiming for exactly 1 successful draw out of the 5 attempts3.(note: 2 or more success draw will have different probality result we only aiming for exactly 1 success draw here.)"
      ],
      "metadata": {
        "id": "3d_YRTUCRpzw"
      }
    },
    {
      "cell_type": "code",
      "source": [
        "# let k = the number of success\n",
        "# let n = the total number trials\n",
        "# let p = (p 5-star | total characters) the probability of 5-star characters given the total number of characters\n",
        "\n",
        "# p = (37/57) there are 37 5-stars character over 57 total characters"
      ],
      "metadata": {
        "id": "l9bfBrE1Kd5a"
      },
      "execution_count": null,
      "outputs": []
    },
    {
      "cell_type": "code",
      "source": [
        "# setting up variables\n",
        "k = 1 # in this scenario we only want 1 success rate (not 2 or more just 1 success rate)\n",
        "n = 5 # 5 trails or draw\n",
        "p = 37/57 # the probability"
      ],
      "metadata": {
        "id": "AjhIplB8wpgg"
      },
      "execution_count": 42,
      "outputs": []
    },
    {
      "cell_type": "code",
      "execution_count": 45,
      "metadata": {
        "colab": {
          "base_uri": "https://localhost:8080/"
        },
        "id": "PSt30fiSnE1T",
        "outputId": "efcba056-a653-4ad1-828e-bd3dc03e529c"
      },
      "outputs": [
        {
          "output_type": "execute_result",
          "data": {
            "text/plain": [
              "0.04919459988816174"
            ]
          },
          "metadata": {},
          "execution_count": 45
        }
      ],
      "source": [
        "from scipy.stats import binom_test\n",
        "binom.pmf(k, n, p)"
      ]
    },
    {
      "cell_type": "markdown",
      "source": [
        "Results shows that there is a 4.9% success of rate of obtaing only 1 5-stars character."
      ],
      "metadata": {
        "id": "SnHohTZqUBi5"
      }
    },
    {
      "cell_type": "markdown",
      "source": [
        "How about getting only 3 5-stars character in 5 trials."
      ],
      "metadata": {
        "id": "s0Wp_11PZQ__"
      }
    },
    {
      "cell_type": "code",
      "source": [
        "binom.pmf(3, 5, 37/57)"
      ],
      "metadata": {
        "colab": {
          "base_uri": "https://localhost:8080/"
        },
        "id": "T30aY1anW9A4",
        "outputId": "469a401d-6cd1-4d40-aa91-15f011a7e9b7"
      },
      "execution_count": 56,
      "outputs": [
        {
          "output_type": "execute_result",
          "data": {
            "text/plain": [
              "0.33673703623446705"
            ]
          },
          "metadata": {},
          "execution_count": 56
        }
      ]
    },
    {
      "cell_type": "markdown",
      "source": [
        "Visualization"
      ],
      "metadata": {
        "id": "pjDAvGvGXc8D"
      }
    },
    {
      "cell_type": "code",
      "source": [
        "import seaborn as sns\n",
        "import matplotlib.pyplot as plt\n",
        "\n",
        "\n",
        "# defining the list of r values\n",
        "r_values = list(range(n + 1))\n",
        "# list of pmf values\n",
        "dist = [binom.pmf(r, n, p) for r in r_values ]\n",
        "\n",
        "plt.figure(figsize=(12,4))\n",
        "ax = sns.barplot(x = r_values,\n",
        "                 y= dist,\n",
        "                               )\n",
        "plt.title('Probability VS The number of Success ')\n",
        "for i in ax.containers:\n",
        "    ax.bar_label(i,\n",
        "                fmt='%.5f'\n",
        "                )\n"
      ],
      "metadata": {
        "colab": {
          "base_uri": "https://localhost:8080/",
          "height": 391
        },
        "id": "1tgu0OY3K_CV",
        "outputId": "2c0cbc9c-72c6-4c05-f6d5-f1b6678369d2"
      },
      "execution_count": 57,
      "outputs": [
        {
          "output_type": "display_data",
          "data": {
            "text/plain": [
              "<Figure size 1200x400 with 1 Axes>"
            ],
            "image/png": "[encoded data removed]"
          },
          "metadata": {}
        }
      ]
    },
    {
      "cell_type": "markdown",
      "source": [
        "This graph shows that the probabilities (y-axis) correspond to the number of successes (x-axis).\n",
        "\n",
        "- The probability of getting only 1 5-star character is 0.491 (4.9%).\n",
        "- The probability of getting only 3 5-star characters is 0.336.\"\n",
        "\n"
      ],
      "metadata": {
        "id": "9kF8KvHHXgm8"
      }
    },
    {
      "cell_type": "code",
      "source": [],
      "metadata": {
        "id": "IX1MG55XPHRu"
      },
      "execution_count": null,
      "outputs": []
    },
    {
      "cell_type": "code",
      "source": [],
      "metadata": {
        "id": "K_LRXs28PHPO"
      },
      "execution_count": null,
      "outputs": []
    },
    {
      "cell_type": "code",
      "source": [],
      "metadata": {
        "id": "ANuF-M1cPHM2"
      },
      "execution_count": null,
      "outputs": []
    },
    {
      "cell_type": "code",
      "source": [],
      "metadata": {
        "id": "w4T6rN5vPHKW"
      },
      "execution_count": null,
      "outputs": []
    },
    {
      "cell_type": "code",
      "source": [],
      "metadata": {
        "id": "OW34cd-zPHH3"
      },
      "execution_count": null,
      "outputs": []
    },
    {
      "cell_type": "code",
      "source": [],
      "metadata": {
        "id": "7ziIz_z16tYW"
      },
      "execution_count": null,
      "outputs": []
    }
  ]
}