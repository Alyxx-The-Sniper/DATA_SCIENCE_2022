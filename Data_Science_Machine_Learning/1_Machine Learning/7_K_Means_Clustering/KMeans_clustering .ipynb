{
 "cells": [
  {
   "cell_type": "markdown",
   "metadata": {},
   "source": [
    "# K means\n",
    "\n",
    "For simplicity I made my own dataset and to be precice with clustering model."
   ]
  },
  {
   "cell_type": "markdown",
   "metadata": {},
   "source": [
    "### Loading Libraries and Dataset"
   ]
  },
  {
   "cell_type": "code",
   "execution_count": 1,
   "metadata": {},
   "outputs": [],
   "source": [
    "from sklearn.cluster import KMeans\n",
    "from sklearn.preprocessing import StandardScaler\n",
    "from sklearn.metrics import silhouette_score\n",
    "import pandas as pd\n",
    "import numpy as np\n",
    "import matplotlib.pyplot as plt\n",
    "import warnings\n",
    "\n",
    "warnings.filterwarnings('ignore')"
   ]
  },
  {
   "cell_type": "code",
   "execution_count": 2,
   "metadata": {},
   "outputs": [
    {
     "data": {
      "text/html": [
       "<div>\n",
       "<style scoped>\n",
       "    .dataframe tbody tr th:only-of-type {\n",
       "        vertical-align: middle;\n",
       "    }\n",
       "\n",
       "    .dataframe tbody tr th {\n",
       "        vertical-align: top;\n",
       "    }\n",
       "\n",
       "    .dataframe thead th {\n",
       "        text-align: right;\n",
       "    }\n",
       "</style>\n",
       "<table border=\"1\" class=\"dataframe\">\n",
       "  <thead>\n",
       "    <tr style=\"text-align: right;\">\n",
       "      <th></th>\n",
       "      <th>distance</th>\n",
       "      <th>duration</th>\n",
       "    </tr>\n",
       "  </thead>\n",
       "  <tbody>\n",
       "    <tr>\n",
       "      <th>0</th>\n",
       "      <td>3.0</td>\n",
       "      <td>15.0</td>\n",
       "    </tr>\n",
       "    <tr>\n",
       "      <th>1</th>\n",
       "      <td>2.0</td>\n",
       "      <td>10.0</td>\n",
       "    </tr>\n",
       "    <tr>\n",
       "      <th>2</th>\n",
       "      <td>3.0</td>\n",
       "      <td>14.0</td>\n",
       "    </tr>\n",
       "    <tr>\n",
       "      <th>3</th>\n",
       "      <td>1.1</td>\n",
       "      <td>13.0</td>\n",
       "    </tr>\n",
       "    <tr>\n",
       "      <th>4</th>\n",
       "      <td>3.1</td>\n",
       "      <td>15.0</td>\n",
       "    </tr>\n",
       "  </tbody>\n",
       "</table>\n",
       "</div>"
      ],
      "text/plain": [
       "   distance  duration\n",
       "0       3.0      15.0\n",
       "1       2.0      10.0\n",
       "2       3.0      14.0\n",
       "3       1.1      13.0\n",
       "4       3.1      15.0"
      ]
     },
     "execution_count": 2,
     "metadata": {},
     "output_type": "execute_result"
    }
   ],
   "source": [
    "dfx = pd.read_csv('workout.csv')\n",
    "dfx.head()"
   ]
  },
  {
   "cell_type": "markdown",
   "metadata": {},
   "source": [
    "### Standardizing the Attributes/Clustering variables"
   ]
  },
  {
   "cell_type": "code",
   "execution_count": 3,
   "metadata": {},
   "outputs": [],
   "source": [
    "scaler = StandardScaler()\n",
    "df = scaler.fit_transform(dfx)"
   ]
  },
  {
   "cell_type": "markdown",
   "metadata": {},
   "source": [
    "### The Number of Clusters\n",
    "Using elbow method to determined the appropriate k value"
   ]
  },
  {
   "cell_type": "code",
   "execution_count": 4,
   "metadata": {},
   "outputs": [
    {
     "data": {
      "text/plain": [
       "Text(0, 0.5, 'inertia')"
      ]
     },
     "execution_count": 4,
     "metadata": {},
     "output_type": "execute_result"
    },
    {
     "data": {
      "image/png": "[encoded data removed]",
      "text/plain": [
       "<Figure size 640x480 with 1 Axes>"
      ]
     },
     "metadata": {},
     "output_type": "display_data"
    }
   ],
   "source": [
    "clusters = []\n",
    "inertias = []\n",
    "\n",
    "# try for 9 k\n",
    "for k in range(1,10):\n",
    "  km = KMeans(n_clusters=k, random_state=0)\n",
    "  km.fit(df)\n",
    "  \n",
    "  # append clusters and inertias\n",
    "  inertias.append(km.inertia_)\n",
    "  clusters.append(km)\n",
    "  \n",
    "plt.plot(range(len(inertias)), inertias, '-o')\n",
    "plt.xlabel('number of clusters (k)')\n",
    "plt.ylabel('inertia')"
   ]
  },
  {
   "cell_type": "markdown",
   "metadata": {},
   "source": [
    "The the elbow of the curve is around K= 3. For values of K greater than 3, the distortion value starts decaying steadily."
   ]
  },
  {
   "cell_type": "markdown",
   "metadata": {},
   "source": [
    "### Silhouette score \n",
    "The Silhouette score is used to measure the degree of separation between clusters."
   ]
  },
  {
   "cell_type": "code",
   "execution_count": 5,
   "metadata": {},
   "outputs": [
    {
     "name": "stdout",
     "output_type": "stream",
     "text": [
      "---------------------------------------\n",
      "KMeans(n_clusters=2, random_state=0)\n",
      "Silhouette score: 0.6801797235765018\n",
      "---------------------------------------\n",
      "KMeans(n_clusters=3, random_state=0)\n",
      "Silhouette score: 0.8351218705865467\n",
      "---------------------------------------\n",
      "KMeans(n_clusters=4, random_state=0)\n",
      "Silhouette score: 0.7731312253479402\n",
      "---------------------------------------\n",
      "KMeans(n_clusters=5, random_state=0)\n",
      "Silhouette score: 0.688104915054184\n",
      "---------------------------------------\n",
      "KMeans(n_clusters=6, random_state=0)\n",
      "Silhouette score: 0.681491795677522\n",
      "---------------------------------------\n",
      "KMeans(n_clusters=7, random_state=0)\n",
      "Silhouette score: 0.5528002466657721\n",
      "---------------------------------------\n",
      "KMeans(random_state=0)\n",
      "Silhouette score: 0.49856889026365403\n",
      "---------------------------------------\n",
      "KMeans(n_clusters=9, random_state=0)\n",
      "Silhouette score: 0.5189654084005247\n"
     ]
    }
   ],
   "source": [
    "for i in range(1,9,1): \n",
    "    print(\"---------------------------------------\")\n",
    "    print(clusters[i])\n",
    "    print(\"Silhouette score:\",silhouette_score(df, clusters[i].predict(df)))"
   ]
  },
  {
   "cell_type": "markdown",
   "metadata": {},
   "source": [
    "As we can see from silhoutte and elbow method the optimal number of clusters is 3."
   ]
  },
  {
   "cell_type": "code",
   "execution_count": 6,
   "metadata": {},
   "outputs": [],
   "source": [
    "# Kmeans object with 3 clusters\n",
    "km = KMeans(n_clusters=3, random_state=0)"
   ]
  },
  {
   "cell_type": "code",
   "execution_count": 7,
   "metadata": {},
   "outputs": [
    {
     "data": {
      "text/plain": [
       "array([1, 1, 1, 1, 1, 1, 1, 1, 0, 0, 0, 0, 0, 0, 0, 0, 2, 2, 2, 2, 2, 2,\n",
       "       2, 2])"
      ]
     },
     "execution_count": 7,
     "metadata": {},
     "output_type": "execute_result"
    }
   ],
   "source": [
    "# fir and predict labels\n",
    "y_km = km.fit_predict(df)\n",
    "y_km"
   ]
  },
  {
   "cell_type": "markdown",
   "metadata": {},
   "source": [
    "As expected the first observation up to index 8 are all in the same category. We made it this way."
   ]
  },
  {
   "cell_type": "markdown",
   "metadata": {},
   "source": [
    "### Visualization"
   ]
  },
  {
   "cell_type": "markdown",
   "metadata": {},
   "source": [
    "#### Cetroid of each clusters"
   ]
  },
  {
   "cell_type": "code",
   "execution_count": 8,
   "metadata": {},
   "outputs": [
    {
     "data": {
      "text/plain": [
       "array([[ 0.96159769, -0.26768834],\n",
       "       [-1.32707578, -1.06309601],\n",
       "       [ 0.36547809,  1.33078435]])"
      ]
     },
     "execution_count": 8,
     "metadata": {},
     "output_type": "execute_result"
    }
   ],
   "source": [
    "centers = km.cluster_centers_\n",
    "centers"
   ]
  },
  {
   "cell_type": "markdown",
   "metadata": {},
   "source": [
    "#### Assigning each feature in a variable"
   ]
  },
  {
   "cell_type": "code",
   "execution_count": 12,
   "metadata": {},
   "outputs": [],
   "source": [
    "# Make a scatter plot of distance and duration and using labels to define the colors\n",
    "distance = df[:,0]\n",
    "duration = df[:,1]"
   ]
  },
  {
   "cell_type": "code",
   "execution_count": 10,
   "metadata": {},
   "outputs": [
    {
     "data": {
      "text/plain": [
       "Text(0, 0.5, 'Duration(minutes)')"
      ]
     },
     "execution_count": 10,
     "metadata": {},
     "output_type": "execute_result"
    },
    {
     "data": {
      "image/png": "[encoded data removed]",
      "text/plain": [
       "<Figure size 640x480 with 1 Axes>"
      ]
     },
     "metadata": {},
     "output_type": "display_data"
    }
   ],
   "source": [
    "plt.scatter(distance, duration, c=y_km, alpha=0.5)\n",
    "\n",
    "# replacing centroid by accessing 2d list (centers)\n",
    "plt.scatter(centers[0][0], centers[0][1], marker='*', color ='r', s=150)\n",
    "plt.scatter(centers[1][0], centers[1][1], marker='*', color ='r', s=150)\n",
    "plt.scatter(centers[2][0], centers[2][1], marker='*', color ='r', s=150)\n",
    "\n",
    "plt.xlabel('Distance(kilometers)')\n",
    "plt.ylabel('Duration(minutes)')"
   ]
  },
  {
   "cell_type": "markdown",
   "metadata": {},
   "source": [
    "Note: our dataset has been standarized at this point"
   ]
  },
  {
   "cell_type": "markdown",
   "metadata": {},
   "source": [
    "We can now labels each cluster like this;\n",
    "- 1 (team_blue) = lazy\n",
    "- 2 (team_yellow) = not so fast\n",
    "- 3 (team_purple)= fast"
   ]
  },
  {
   "cell_type": "markdown",
   "metadata": {},
   "source": [
    "Just to recap, these are the pros and cons of using K-Means:\n",
    "\n",
    "`pros`\n",
    "- Easy to implement\n",
    "- Only has one parameter to tune and you can easily see the direct impact of adjusting the value of   parameter K\n",
    "\n",
    "`cons`\n",
    "- Heavily affected by outliers\n",
    "- Sensitive to random initialization"
   ]
  },
  {
   "cell_type": "markdown",
   "metadata": {},
   "source": [
    "-fin"
   ]
  }
 ],
 "metadata": {
  "kernelspec": {
   "display_name": "Python 3 (ipykernel)",
   "language": "python",
   "name": "python3"
  },
  "language_info": {
   "codemirror_mode": {
    "name": "ipython",
    "version": 3
   },
   "file_extension": ".py",
   "mimetype": "text/x-python",
   "name": "python",
   "nbconvert_exporter": "python",
   "pygments_lexer": "ipython3",
   "version": "3.8.13"
  }
 },
 "nbformat": 4,
 "nbformat_minor": 4
}
