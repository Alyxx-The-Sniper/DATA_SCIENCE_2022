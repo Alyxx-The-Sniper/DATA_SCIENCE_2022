{
 "cells": [
  {
   "cell_type": "markdown",
   "id": "e4e5dfdd",
   "metadata": {},
   "source": [
    "# PCA"
   ]
  },
  {
   "cell_type": "code",
   "execution_count": 1,
   "id": "72a21cbd",
   "metadata": {},
   "outputs": [
    {
     "name": "stderr",
     "output_type": "stream",
     "text": [
      "C:\\Users\\Toto\\anaconda3\\lib\\site-packages\\scipy\\__init__.py:146: UserWarning: A NumPy version >=1.16.5 and <1.23.0 is required for this version of SciPy (detected version 1.23.1\n",
      "  warnings.warn(f\"A NumPy version >={np_minversion} and <{np_maxversion}\"\n"
     ]
    }
   ],
   "source": [
    "import numpy as np\n",
    "import pandas as pd\n",
    "import matplotlib.pyplot as plt\n",
    "import seaborn as sns\n",
    "from sklearn.decomposition import PCA"
   ]
  },
  {
   "cell_type": "code",
   "execution_count": 2,
   "id": "407a40cb",
   "metadata": {},
   "outputs": [],
   "source": [
    "# Read the csv data as a DataFrame\n",
    "df = pd.read_csv('drybean.csv')"
   ]
  },
  {
   "cell_type": "code",
   "execution_count": 3,
   "id": "fe945a27",
   "metadata": {},
   "outputs": [
    {
     "name": "stdout",
     "output_type": "stream",
     "text": [
      "(13611, 17)\n"
     ]
    },
    {
     "data": {
      "text/html": [
       "<div>\n",
       "<style scoped>\n",
       "    .dataframe tbody tr th:only-of-type {\n",
       "        vertical-align: middle;\n",
       "    }\n",
       "\n",
       "    .dataframe tbody tr th {\n",
       "        vertical-align: top;\n",
       "    }\n",
       "\n",
       "    .dataframe thead th {\n",
       "        text-align: right;\n",
       "    }\n",
       "</style>\n",
       "<table border=\"1\" class=\"dataframe\">\n",
       "  <thead>\n",
       "    <tr style=\"text-align: right;\">\n",
       "      <th></th>\n",
       "      <th>Area</th>\n",
       "      <th>Perimeter</th>\n",
       "      <th>MajorAxisLength</th>\n",
       "      <th>MinorAxisLength</th>\n",
       "      <th>AspectRation</th>\n",
       "      <th>Eccentricity</th>\n",
       "      <th>ConvexArea</th>\n",
       "      <th>EquivDiameter</th>\n",
       "      <th>Extent</th>\n",
       "      <th>Solidity</th>\n",
       "      <th>roundness</th>\n",
       "      <th>Compactness</th>\n",
       "      <th>ShapeFactor1</th>\n",
       "      <th>ShapeFactor2</th>\n",
       "      <th>ShapeFactor3</th>\n",
       "      <th>ShapeFactor4</th>\n",
       "      <th>Class</th>\n",
       "    </tr>\n",
       "  </thead>\n",
       "  <tbody>\n",
       "    <tr>\n",
       "      <th>0</th>\n",
       "      <td>28395</td>\n",
       "      <td>610.291</td>\n",
       "      <td>208.178117</td>\n",
       "      <td>173.888747</td>\n",
       "      <td>1.197191</td>\n",
       "      <td>0.549812</td>\n",
       "      <td>28715</td>\n",
       "      <td>190.141097</td>\n",
       "      <td>0.763923</td>\n",
       "      <td>0.988856</td>\n",
       "      <td>0.958027</td>\n",
       "      <td>0.913358</td>\n",
       "      <td>0.007332</td>\n",
       "      <td>0.003147</td>\n",
       "      <td>0.834222</td>\n",
       "      <td>0.998724</td>\n",
       "      <td>SEKER</td>\n",
       "    </tr>\n",
       "    <tr>\n",
       "      <th>1</th>\n",
       "      <td>28734</td>\n",
       "      <td>638.018</td>\n",
       "      <td>200.524796</td>\n",
       "      <td>182.734419</td>\n",
       "      <td>1.097356</td>\n",
       "      <td>0.411785</td>\n",
       "      <td>29172</td>\n",
       "      <td>191.272751</td>\n",
       "      <td>0.783968</td>\n",
       "      <td>0.984986</td>\n",
       "      <td>0.887034</td>\n",
       "      <td>0.953861</td>\n",
       "      <td>0.006979</td>\n",
       "      <td>0.003564</td>\n",
       "      <td>0.909851</td>\n",
       "      <td>0.998430</td>\n",
       "      <td>SEKER</td>\n",
       "    </tr>\n",
       "    <tr>\n",
       "      <th>2</th>\n",
       "      <td>29380</td>\n",
       "      <td>624.110</td>\n",
       "      <td>212.826130</td>\n",
       "      <td>175.931143</td>\n",
       "      <td>1.209713</td>\n",
       "      <td>0.562727</td>\n",
       "      <td>29690</td>\n",
       "      <td>193.410904</td>\n",
       "      <td>0.778113</td>\n",
       "      <td>0.989559</td>\n",
       "      <td>0.947849</td>\n",
       "      <td>0.908774</td>\n",
       "      <td>0.007244</td>\n",
       "      <td>0.003048</td>\n",
       "      <td>0.825871</td>\n",
       "      <td>0.999066</td>\n",
       "      <td>SEKER</td>\n",
       "    </tr>\n",
       "    <tr>\n",
       "      <th>3</th>\n",
       "      <td>30008</td>\n",
       "      <td>645.884</td>\n",
       "      <td>210.557999</td>\n",
       "      <td>182.516516</td>\n",
       "      <td>1.153638</td>\n",
       "      <td>0.498616</td>\n",
       "      <td>30724</td>\n",
       "      <td>195.467062</td>\n",
       "      <td>0.782681</td>\n",
       "      <td>0.976696</td>\n",
       "      <td>0.903936</td>\n",
       "      <td>0.928329</td>\n",
       "      <td>0.007017</td>\n",
       "      <td>0.003215</td>\n",
       "      <td>0.861794</td>\n",
       "      <td>0.994199</td>\n",
       "      <td>SEKER</td>\n",
       "    </tr>\n",
       "    <tr>\n",
       "      <th>4</th>\n",
       "      <td>30140</td>\n",
       "      <td>620.134</td>\n",
       "      <td>201.847882</td>\n",
       "      <td>190.279279</td>\n",
       "      <td>1.060798</td>\n",
       "      <td>0.333680</td>\n",
       "      <td>30417</td>\n",
       "      <td>195.896503</td>\n",
       "      <td>0.773098</td>\n",
       "      <td>0.990893</td>\n",
       "      <td>0.984877</td>\n",
       "      <td>0.970516</td>\n",
       "      <td>0.006697</td>\n",
       "      <td>0.003665</td>\n",
       "      <td>0.941900</td>\n",
       "      <td>0.999166</td>\n",
       "      <td>SEKER</td>\n",
       "    </tr>\n",
       "  </tbody>\n",
       "</table>\n",
       "</div>"
      ],
      "text/plain": [
       "    Area  Perimeter  MajorAxisLength  MinorAxisLength  AspectRation  \\\n",
       "0  28395    610.291       208.178117       173.888747      1.197191   \n",
       "1  28734    638.018       200.524796       182.734419      1.097356   \n",
       "2  29380    624.110       212.826130       175.931143      1.209713   \n",
       "3  30008    645.884       210.557999       182.516516      1.153638   \n",
       "4  30140    620.134       201.847882       190.279279      1.060798   \n",
       "\n",
       "   Eccentricity  ConvexArea  EquivDiameter    Extent  Solidity  roundness  \\\n",
       "0      0.549812       28715     190.141097  0.763923  0.988856   0.958027   \n",
       "1      0.411785       29172     191.272751  0.783968  0.984986   0.887034   \n",
       "2      0.562727       29690     193.410904  0.778113  0.989559   0.947849   \n",
       "3      0.498616       30724     195.467062  0.782681  0.976696   0.903936   \n",
       "4      0.333680       30417     195.896503  0.773098  0.990893   0.984877   \n",
       "\n",
       "   Compactness  ShapeFactor1  ShapeFactor2  ShapeFactor3  ShapeFactor4  Class  \n",
       "0     0.913358      0.007332      0.003147      0.834222      0.998724  SEKER  \n",
       "1     0.953861      0.006979      0.003564      0.909851      0.998430  SEKER  \n",
       "2     0.908774      0.007244      0.003048      0.825871      0.999066  SEKER  \n",
       "3     0.928329      0.007017      0.003215      0.861794      0.994199  SEKER  \n",
       "4     0.970516      0.006697      0.003665      0.941900      0.999166  SEKER  "
      ]
     },
     "execution_count": 3,
     "metadata": {},
     "output_type": "execute_result"
    }
   ],
   "source": [
    "print(df.shape)\n",
    "df.head()"
   ]
  },
  {
   "cell_type": "markdown",
   "id": "c294ed0b",
   "metadata": {},
   "source": [
    "#### Note: Just for this analysis we drop rows and columns to get rid of too many data. This for better understanding of what happening in our dataset."
   ]
  },
  {
   "cell_type": "code",
   "execution_count": 50,
   "id": "9d7e9e95",
   "metadata": {},
   "outputs": [],
   "source": [
    "# Extract the numerical columns\n",
    "X = df.iloc[:,:-1]\n",
    "y = df['Class']"
   ]
  },
  {
   "cell_type": "markdown",
   "id": "45266689",
   "metadata": {},
   "source": [
    "# Using Numpy"
   ]
  },
  {
   "cell_type": "markdown",
   "id": "20488451",
   "metadata": {},
   "source": [
    "First, we generate a correlation matrix using .corr()\n",
    "Next, we use np.linalg.eig() to perform eigendecompostition on the correlation matrix. This gives us two outputs — the eigenvalues and eigenvectors."
   ]
  },
  {
   "cell_type": "code",
   "execution_count": 51,
   "id": "5f5b32e0",
   "metadata": {},
   "outputs": [],
   "source": [
    "# Use the `.corr()` method on `data_matrix` to get the correlation matrix \n",
    "X_corr = X.corr()"
   ]
  },
  {
   "cell_type": "markdown",
   "id": "0ed3d35f",
   "metadata": {},
   "source": [
    "Visualise fearutes correlations"
   ]
  },
  {
   "cell_type": "code",
   "execution_count": 6,
   "id": "96b6fe2d",
   "metadata": {},
   "outputs": [],
   "source": [
    "# # Heatmap code:\n",
    "# plt.figure(figsize=(15,12))\n",
    "# # red_blue = sns.diverging_palette(220, 20, as_cmap=True)\n",
    "# sns.heatmap(X_corr, annot = True)\n",
    "# plt.show()"
   ]
  },
  {
   "cell_type": "markdown",
   "id": "65c77772",
   "metadata": {},
   "source": [
    "Next, we use np.linalg.eig() to perform eigendecompostition on the correlation matrix. This gives us two outputs — the eigenvalues and eigenvectors."
   ]
  },
  {
   "cell_type": "code",
   "execution_count": 52,
   "id": "882e6635",
   "metadata": {},
   "outputs": [],
   "source": [
    "eigenvalues, eigenvectors = np.linalg.eig(X_corr)"
   ]
  },
  {
   "cell_type": "markdown",
   "id": "94380466",
   "metadata": {},
   "source": [
    "After performing PCA, we generally want to know how useful the new features are. One way to visualize this is to create a scree plot, which shows the proportion of information described by each principal component."
   ]
  },
  {
   "cell_type": "code",
   "execution_count": 65,
   "id": "78861d7a",
   "metadata": {},
   "outputs": [
    {
     "data": {
      "text/plain": [
       "array([5.54664386e-01, 2.64309732e-01, 8.00656422e-02, 5.11408029e-02,\n",
       "       2.73929290e-02, 1.14976093e-02, 6.97650724e-03, 3.25082500e-03,\n",
       "       5.16266295e-04, 9.08681206e-05, 6.58867938e-05, 1.83739336e-05,\n",
       "       9.29966038e-06, 6.25641678e-07, 1.11549485e-07, 1.34132086e-07])"
      ]
     },
     "execution_count": 65,
     "metadata": {},
     "output_type": "execute_result"
    }
   ],
   "source": [
    "# information proportion of each eigenvalue compared to the sum of all eigenvalues\n",
    "info_prop = eigenvalues / eigenvalues.sum()\n",
    "info_prop"
   ]
  },
  {
   "cell_type": "code",
   "execution_count": 56,
   "id": "d4fda13c",
   "metadata": {},
   "outputs": [
    {
     "data": {
      "text/plain": [
       "Text(0, 0.5, 'Percent of Information Explained')"
      ]
     },
     "execution_count": 56,
     "metadata": {},
     "output_type": "execute_result"
    },
    {
     "data": {
      "image/png": "[encoded data removed]",
      "text/plain": [
       "<Figure size 432x288 with 1 Axes>"
      ]
     },
     "metadata": {
      "needs_background": "light"
     },
     "output_type": "display_data"
    }
   ],
   "source": [
    "## Plot of the principal axes vs the information proportions for each principal axis\n",
    "plt.plot(np.arange(1,len(info_prop)+1),info_prop, 'bo-', linewidth=2)\n",
    "plt.title('Scree Plot')\n",
    "plt.xlabel('Principal Axes')\n",
    "plt.xticks(np.arange(1,len(info_prop)+1))\n",
    "plt.ylabel('Percent of Information Explained')"
   ]
  },
  {
   "cell_type": "markdown",
   "id": "29aaa782",
   "metadata": {},
   "source": [
    "From this plot, we see that the first principal component explains about 55% of the variation in the data, the second explains about 26%, and so on.\n",
    "\n",
    "Another way to view this is to see how many principal axes it takes to reach around 95% (our threshold) of the total amount of information."
   ]
  },
  {
   "cell_type": "code",
   "execution_count": 62,
   "id": "44ddc1b1",
   "metadata": {},
   "outputs": [
    {
     "data": {
      "text/plain": [
       "array([0.55466439, 0.81897412, 0.89903976, 0.95018056, 0.97757349,\n",
       "       0.9890711 , 0.99604761, 0.99929843, 0.9998147 , 0.99990557,\n",
       "       0.99997146, 0.99998983, 0.99999913, 0.99999975, 0.99999987,\n",
       "       1.        ])"
      ]
     },
     "execution_count": 62,
     "metadata": {},
     "output_type": "execute_result"
    }
   ],
   "source": [
    "# Cummulative sum of info_prop\n",
    "cum_info_prop = np.cumsum(info_prop)\n",
    "cum_info_prop"
   ]
  },
  {
   "cell_type": "code",
   "execution_count": 64,
   "id": "138d34bf",
   "metadata": {},
   "outputs": [
    {
     "data": {
      "text/plain": [
       "Text(0, 0.5, 'Cumulative Proportion of Variance Explained')"
      ]
     },
     "execution_count": 64,
     "metadata": {},
     "output_type": "execute_result"
    },
    {
     "data": {
      "image/png": "[encoded data removed]",
      "text/plain": [
       "<Figure size 432x288 with 1 Axes>"
      ]
     },
     "metadata": {
      "needs_background": "light"
     },
     "output_type": "display_data"
    }
   ],
   "source": [
    "# Plot the cumulative proportions array\n",
    "plt.plot(cum_info_prop, 'bo-', linewidth=2)\n",
    "plt.hlines(y=cum_info_prop[3], xmin=0, xmax=15)\n",
    "plt.vlines(x=3, ymin=0, ymax=1)\n",
    "plt.title('Cumulative Information percentages')\n",
    "plt.xlabel('Principal Axes')\n",
    "plt.xticks(np.arange(1,len(info_prop)+1))\n",
    "plt.ylabel('Cumulative Proportion of Variance Explained')"
   ]
  },
  {
   "cell_type": "markdown",
   "id": "23e47263",
   "metadata": {},
   "source": [
    "From this plot, we see that four principal axes account for about 95% of the variation in the data."
   ]
  },
  {
   "cell_type": "markdown",
   "id": "17a6a6eb",
   "metadata": {},
   "source": [
    "# Using SKlearn"
   ]
  },
  {
   "cell_type": "code",
   "execution_count": 67,
   "id": "19e3a2e6",
   "metadata": {},
   "outputs": [
    {
     "name": "stdout",
     "output_type": "stream",
     "text": [
      "(13611, 16)\n"
     ]
    },
    {
     "data": {
      "text/html": [
       "<div>\n",
       "<style scoped>\n",
       "    .dataframe tbody tr th:only-of-type {\n",
       "        vertical-align: middle;\n",
       "    }\n",
       "\n",
       "    .dataframe tbody tr th {\n",
       "        vertical-align: top;\n",
       "    }\n",
       "\n",
       "    .dataframe thead th {\n",
       "        text-align: right;\n",
       "    }\n",
       "</style>\n",
       "<table border=\"1\" class=\"dataframe\">\n",
       "  <thead>\n",
       "    <tr style=\"text-align: right;\">\n",
       "      <th></th>\n",
       "      <th>Area</th>\n",
       "      <th>Perimeter</th>\n",
       "      <th>MajorAxisLength</th>\n",
       "      <th>MinorAxisLength</th>\n",
       "      <th>AspectRation</th>\n",
       "      <th>Eccentricity</th>\n",
       "      <th>ConvexArea</th>\n",
       "      <th>EquivDiameter</th>\n",
       "      <th>Extent</th>\n",
       "      <th>Solidity</th>\n",
       "      <th>roundness</th>\n",
       "      <th>Compactness</th>\n",
       "      <th>ShapeFactor1</th>\n",
       "      <th>ShapeFactor2</th>\n",
       "      <th>ShapeFactor3</th>\n",
       "      <th>ShapeFactor4</th>\n",
       "    </tr>\n",
       "  </thead>\n",
       "  <tbody>\n",
       "    <tr>\n",
       "      <th>0</th>\n",
       "      <td>28395</td>\n",
       "      <td>610.291</td>\n",
       "      <td>208.178117</td>\n",
       "      <td>173.888747</td>\n",
       "      <td>1.197191</td>\n",
       "      <td>0.549812</td>\n",
       "      <td>28715</td>\n",
       "      <td>190.141097</td>\n",
       "      <td>0.763923</td>\n",
       "      <td>0.988856</td>\n",
       "      <td>0.958027</td>\n",
       "      <td>0.913358</td>\n",
       "      <td>0.007332</td>\n",
       "      <td>0.003147</td>\n",
       "      <td>0.834222</td>\n",
       "      <td>0.998724</td>\n",
       "    </tr>\n",
       "    <tr>\n",
       "      <th>1</th>\n",
       "      <td>28734</td>\n",
       "      <td>638.018</td>\n",
       "      <td>200.524796</td>\n",
       "      <td>182.734419</td>\n",
       "      <td>1.097356</td>\n",
       "      <td>0.411785</td>\n",
       "      <td>29172</td>\n",
       "      <td>191.272751</td>\n",
       "      <td>0.783968</td>\n",
       "      <td>0.984986</td>\n",
       "      <td>0.887034</td>\n",
       "      <td>0.953861</td>\n",
       "      <td>0.006979</td>\n",
       "      <td>0.003564</td>\n",
       "      <td>0.909851</td>\n",
       "      <td>0.998430</td>\n",
       "    </tr>\n",
       "    <tr>\n",
       "      <th>2</th>\n",
       "      <td>29380</td>\n",
       "      <td>624.110</td>\n",
       "      <td>212.826130</td>\n",
       "      <td>175.931143</td>\n",
       "      <td>1.209713</td>\n",
       "      <td>0.562727</td>\n",
       "      <td>29690</td>\n",
       "      <td>193.410904</td>\n",
       "      <td>0.778113</td>\n",
       "      <td>0.989559</td>\n",
       "      <td>0.947849</td>\n",
       "      <td>0.908774</td>\n",
       "      <td>0.007244</td>\n",
       "      <td>0.003048</td>\n",
       "      <td>0.825871</td>\n",
       "      <td>0.999066</td>\n",
       "    </tr>\n",
       "  </tbody>\n",
       "</table>\n",
       "</div>"
      ],
      "text/plain": [
       "    Area  Perimeter  MajorAxisLength  MinorAxisLength  AspectRation  \\\n",
       "0  28395    610.291       208.178117       173.888747      1.197191   \n",
       "1  28734    638.018       200.524796       182.734419      1.097356   \n",
       "2  29380    624.110       212.826130       175.931143      1.209713   \n",
       "\n",
       "   Eccentricity  ConvexArea  EquivDiameter    Extent  Solidity  roundness  \\\n",
       "0      0.549812       28715     190.141097  0.763923  0.988856   0.958027   \n",
       "1      0.411785       29172     191.272751  0.783968  0.984986   0.887034   \n",
       "2      0.562727       29690     193.410904  0.778113  0.989559   0.947849   \n",
       "\n",
       "   Compactness  ShapeFactor1  ShapeFactor2  ShapeFactor3  ShapeFactor4  \n",
       "0     0.913358      0.007332      0.003147      0.834222      0.998724  \n",
       "1     0.953861      0.006979      0.003564      0.909851      0.998430  \n",
       "2     0.908774      0.007244      0.003048      0.825871      0.999066  "
      ]
     },
     "execution_count": 67,
     "metadata": {},
     "output_type": "execute_result"
    }
   ],
   "source": [
    "print(X.shape)\n",
    "X.head(3)"
   ]
  },
  {
   "cell_type": "markdown",
   "id": "58e64801",
   "metadata": {},
   "source": [
    "### Standarize our data"
   ]
  },
  {
   "cell_type": "code",
   "execution_count": 69,
   "id": "8cbfb51f",
   "metadata": {},
   "outputs": [
    {
     "data": {
      "text/html": [
       "<div>\n",
       "<style scoped>\n",
       "    .dataframe tbody tr th:only-of-type {\n",
       "        vertical-align: middle;\n",
       "    }\n",
       "\n",
       "    .dataframe tbody tr th {\n",
       "        vertical-align: top;\n",
       "    }\n",
       "\n",
       "    .dataframe thead th {\n",
       "        text-align: right;\n",
       "    }\n",
       "</style>\n",
       "<table border=\"1\" class=\"dataframe\">\n",
       "  <thead>\n",
       "    <tr style=\"text-align: right;\">\n",
       "      <th></th>\n",
       "      <th>Area</th>\n",
       "      <th>Perimeter</th>\n",
       "      <th>MajorAxisLength</th>\n",
       "      <th>MinorAxisLength</th>\n",
       "      <th>AspectRation</th>\n",
       "      <th>Eccentricity</th>\n",
       "      <th>ConvexArea</th>\n",
       "      <th>EquivDiameter</th>\n",
       "      <th>Extent</th>\n",
       "      <th>Solidity</th>\n",
       "      <th>roundness</th>\n",
       "      <th>Compactness</th>\n",
       "      <th>ShapeFactor1</th>\n",
       "      <th>ShapeFactor2</th>\n",
       "      <th>ShapeFactor3</th>\n",
       "      <th>ShapeFactor4</th>\n",
       "    </tr>\n",
       "  </thead>\n",
       "  <tbody>\n",
       "    <tr>\n",
       "      <th>0</th>\n",
       "      <td>-0.840718</td>\n",
       "      <td>-1.143277</td>\n",
       "      <td>-1.306550</td>\n",
       "      <td>-0.631130</td>\n",
       "      <td>-1.564995</td>\n",
       "      <td>-2.185640</td>\n",
       "      <td>-0.841420</td>\n",
       "      <td>-1.063302</td>\n",
       "      <td>0.289077</td>\n",
       "      <td>0.367600</td>\n",
       "      <td>1.423815</td>\n",
       "      <td>1.839049</td>\n",
       "      <td>0.680761</td>\n",
       "      <td>2.402084</td>\n",
       "      <td>1.925653</td>\n",
       "      <td>0.838340</td>\n",
       "    </tr>\n",
       "    <tr>\n",
       "      <th>1</th>\n",
       "      <td>-0.829157</td>\n",
       "      <td>-1.013887</td>\n",
       "      <td>-1.395860</td>\n",
       "      <td>-0.434429</td>\n",
       "      <td>-1.969712</td>\n",
       "      <td>-3.685904</td>\n",
       "      <td>-0.826071</td>\n",
       "      <td>-1.044178</td>\n",
       "      <td>0.697451</td>\n",
       "      <td>-0.462889</td>\n",
       "      <td>0.231046</td>\n",
       "      <td>2.495358</td>\n",
       "      <td>0.367953</td>\n",
       "      <td>3.100780</td>\n",
       "      <td>2.689603</td>\n",
       "      <td>0.771110</td>\n",
       "    </tr>\n",
       "    <tr>\n",
       "      <th>2</th>\n",
       "      <td>-0.807128</td>\n",
       "      <td>-1.078789</td>\n",
       "      <td>-1.252311</td>\n",
       "      <td>-0.585713</td>\n",
       "      <td>-1.514236</td>\n",
       "      <td>-2.045261</td>\n",
       "      <td>-0.808674</td>\n",
       "      <td>-1.008047</td>\n",
       "      <td>0.578174</td>\n",
       "      <td>0.518398</td>\n",
       "      <td>1.252819</td>\n",
       "      <td>1.764778</td>\n",
       "      <td>0.603107</td>\n",
       "      <td>2.235009</td>\n",
       "      <td>1.841288</td>\n",
       "      <td>0.916721</td>\n",
       "    </tr>\n",
       "  </tbody>\n",
       "</table>\n",
       "</div>"
      ],
      "text/plain": [
       "       Area  Perimeter  MajorAxisLength  MinorAxisLength  AspectRation  \\\n",
       "0 -0.840718  -1.143277        -1.306550        -0.631130     -1.564995   \n",
       "1 -0.829157  -1.013887        -1.395860        -0.434429     -1.969712   \n",
       "2 -0.807128  -1.078789        -1.252311        -0.585713     -1.514236   \n",
       "\n",
       "   Eccentricity  ConvexArea  EquivDiameter    Extent  Solidity  roundness  \\\n",
       "0     -2.185640   -0.841420      -1.063302  0.289077  0.367600   1.423815   \n",
       "1     -3.685904   -0.826071      -1.044178  0.697451 -0.462889   0.231046   \n",
       "2     -2.045261   -0.808674      -1.008047  0.578174  0.518398   1.252819   \n",
       "\n",
       "   Compactness  ShapeFactor1  ShapeFactor2  ShapeFactor3  ShapeFactor4  \n",
       "0     1.839049      0.680761      2.402084      1.925653      0.838340  \n",
       "1     2.495358      0.367953      3.100780      2.689603      0.771110  \n",
       "2     1.764778      0.603107      2.235009      1.841288      0.916721  "
      ]
     },
     "execution_count": 69,
     "metadata": {},
     "output_type": "execute_result"
    }
   ],
   "source": [
    "mean = X.mean(axis=0)\n",
    "sttd = X.std(axis=0)\n",
    "X_standardized = (X - mean) / sttd\n",
    "X_standardized.head(3)"
   ]
  },
  {
   "cell_type": "markdown",
   "id": "de59fff5",
   "metadata": {},
   "source": [
    "### PCA object"
   ]
  },
  {
   "cell_type": "code",
   "execution_count": 70,
   "id": "3b90f291",
   "metadata": {},
   "outputs": [],
   "source": [
    "pca = PCA()"
   ]
  },
  {
   "cell_type": "markdown",
   "id": "be30b487",
   "metadata": {},
   "source": [
    "###  Retrieve eigenvectors "
   ]
  },
  {
   "cell_type": "code",
   "execution_count": 71,
   "id": "73f0d10b",
   "metadata": {},
   "outputs": [],
   "source": [
    "# we can acces eigenvectors by using the components_ attribute\n",
    "# note: were just fitting here and when were satisfied on the number of PCA's were gonna use will use the fit_transform method\n",
    "components = pca.fit(X_standardized).components_"
   ]
  },
  {
   "cell_type": "code",
   "execution_count": 73,
   "id": "a8d55f64",
   "metadata": {},
   "outputs": [
    {
     "data": {
      "text/html": [
       "<div>\n",
       "<style scoped>\n",
       "    .dataframe tbody tr th:only-of-type {\n",
       "        vertical-align: middle;\n",
       "    }\n",
       "\n",
       "    .dataframe tbody tr th {\n",
       "        vertical-align: top;\n",
       "    }\n",
       "\n",
       "    .dataframe thead th {\n",
       "        text-align: right;\n",
       "    }\n",
       "</style>\n",
       "<table border=\"1\" class=\"dataframe\">\n",
       "  <thead>\n",
       "    <tr style=\"text-align: right;\">\n",
       "      <th></th>\n",
       "      <th>Area</th>\n",
       "      <th>Perimeter</th>\n",
       "      <th>MajorAxisLength</th>\n",
       "      <th>MinorAxisLength</th>\n",
       "      <th>AspectRation</th>\n",
       "      <th>Eccentricity</th>\n",
       "      <th>ConvexArea</th>\n",
       "      <th>EquivDiameter</th>\n",
       "      <th>Extent</th>\n",
       "      <th>Solidity</th>\n",
       "      <th>roundness</th>\n",
       "      <th>Compactness</th>\n",
       "      <th>ShapeFactor1</th>\n",
       "      <th>ShapeFactor2</th>\n",
       "      <th>ShapeFactor3</th>\n",
       "      <th>ShapeFactor4</th>\n",
       "    </tr>\n",
       "  </thead>\n",
       "  <tbody>\n",
       "    <tr>\n",
       "      <th>0</th>\n",
       "      <td>0.282458</td>\n",
       "      <td>0.310891</td>\n",
       "      <td>0.325824</td>\n",
       "      <td>0.236199</td>\n",
       "      <td>0.229298</td>\n",
       "      <td>0.231526</td>\n",
       "      <td>0.283200</td>\n",
       "      <td>0.297484</td>\n",
       "      <td>-0.059808</td>\n",
       "      <td>-0.143016</td>\n",
       "      <td>-0.248165</td>\n",
       "      <td>-0.238378</td>\n",
       "      <td>-0.221319</td>\n",
       "      <td>-0.314625</td>\n",
       "      <td>-0.238983</td>\n",
       "      <td>-0.198009</td>\n",
       "    </tr>\n",
       "    <tr>\n",
       "      <th>1</th>\n",
       "      <td>0.245882</td>\n",
       "      <td>0.179303</td>\n",
       "      <td>0.100757</td>\n",
       "      <td>0.343461</td>\n",
       "      <td>-0.330844</td>\n",
       "      <td>-0.319434</td>\n",
       "      <td>0.244630</td>\n",
       "      <td>0.222802</td>\n",
       "      <td>0.220619</td>\n",
       "      <td>0.103322</td>\n",
       "      <td>0.214805</td>\n",
       "      <td>0.328914</td>\n",
       "      <td>-0.332549</td>\n",
       "      <td>0.129419</td>\n",
       "      <td>0.327522</td>\n",
       "      <td>0.100061</td>\n",
       "    </tr>\n",
       "    <tr>\n",
       "      <th>2</th>\n",
       "      <td>-0.061447</td>\n",
       "      <td>-0.018853</td>\n",
       "      <td>-0.084692</td>\n",
       "      <td>0.007500</td>\n",
       "      <td>-0.169058</td>\n",
       "      <td>-0.163042</td>\n",
       "      <td>-0.053649</td>\n",
       "      <td>-0.049914</td>\n",
       "      <td>-0.085258</td>\n",
       "      <td>-0.738670</td>\n",
       "      <td>-0.163325</td>\n",
       "      <td>0.149701</td>\n",
       "      <td>-0.032623</td>\n",
       "      <td>0.120077</td>\n",
       "      <td>0.149570</td>\n",
       "      <td>-0.536903</td>\n",
       "    </tr>\n",
       "  </tbody>\n",
       "</table>\n",
       "</div>"
      ],
      "text/plain": [
       "       Area  Perimeter  MajorAxisLength  MinorAxisLength  AspectRation  \\\n",
       "0  0.282458   0.310891         0.325824         0.236199      0.229298   \n",
       "1  0.245882   0.179303         0.100757         0.343461     -0.330844   \n",
       "2 -0.061447  -0.018853        -0.084692         0.007500     -0.169058   \n",
       "\n",
       "   Eccentricity  ConvexArea  EquivDiameter    Extent  Solidity  roundness  \\\n",
       "0      0.231526    0.283200       0.297484 -0.059808 -0.143016  -0.248165   \n",
       "1     -0.319434    0.244630       0.222802  0.220619  0.103322   0.214805   \n",
       "2     -0.163042   -0.053649      -0.049914 -0.085258 -0.738670  -0.163325   \n",
       "\n",
       "   Compactness  ShapeFactor1  ShapeFactor2  ShapeFactor3  ShapeFactor4  \n",
       "0    -0.238378     -0.221319     -0.314625     -0.238983     -0.198009  \n",
       "1     0.328914     -0.332549      0.129419      0.327522      0.100061  \n",
       "2     0.149701     -0.032623      0.120077      0.149570     -0.536903  "
      ]
     },
     "execution_count": 73,
     "metadata": {},
     "output_type": "execute_result"
    }
   ],
   "source": [
    "# convert to dataframe without transpose \n",
    "components_noTrans = pd.DataFrame(components, columns = X.columns)\n",
    "components_noTrans.head(3)"
   ]
  },
  {
   "cell_type": "code",
   "execution_count": 74,
   "id": "abe117a5",
   "metadata": {},
   "outputs": [
    {
     "data": {
      "text/html": [
       "<div>\n",
       "<style scoped>\n",
       "    .dataframe tbody tr th:only-of-type {\n",
       "        vertical-align: middle;\n",
       "    }\n",
       "\n",
       "    .dataframe tbody tr th {\n",
       "        vertical-align: top;\n",
       "    }\n",
       "\n",
       "    .dataframe thead th {\n",
       "        text-align: right;\n",
       "    }\n",
       "</style>\n",
       "<table border=\"1\" class=\"dataframe\">\n",
       "  <thead>\n",
       "    <tr style=\"text-align: right;\">\n",
       "      <th></th>\n",
       "      <th>0</th>\n",
       "      <th>1</th>\n",
       "      <th>2</th>\n",
       "      <th>3</th>\n",
       "      <th>4</th>\n",
       "      <th>5</th>\n",
       "      <th>6</th>\n",
       "      <th>7</th>\n",
       "      <th>8</th>\n",
       "      <th>9</th>\n",
       "      <th>10</th>\n",
       "      <th>11</th>\n",
       "      <th>12</th>\n",
       "      <th>13</th>\n",
       "      <th>14</th>\n",
       "      <th>15</th>\n",
       "    </tr>\n",
       "  </thead>\n",
       "  <tbody>\n",
       "    <tr>\n",
       "      <th>Area</th>\n",
       "      <td>0.282458</td>\n",
       "      <td>0.245882</td>\n",
       "      <td>-0.061447</td>\n",
       "      <td>-0.031546</td>\n",
       "      <td>-0.091326</td>\n",
       "      <td>0.366390</td>\n",
       "      <td>0.125045</td>\n",
       "      <td>0.071748</td>\n",
       "      <td>0.035067</td>\n",
       "      <td>0.390420</td>\n",
       "      <td>-0.177686</td>\n",
       "      <td>0.054484</td>\n",
       "      <td>-0.046295</td>\n",
       "      <td>-0.655728</td>\n",
       "      <td>0.133190</td>\n",
       "      <td>0.231436</td>\n",
       "    </tr>\n",
       "    <tr>\n",
       "      <th>Perimeter</th>\n",
       "      <td>0.310891</td>\n",
       "      <td>0.179303</td>\n",
       "      <td>-0.018853</td>\n",
       "      <td>-0.042468</td>\n",
       "      <td>0.081820</td>\n",
       "      <td>0.010251</td>\n",
       "      <td>0.081530</td>\n",
       "      <td>0.031730</td>\n",
       "      <td>-0.157501</td>\n",
       "      <td>-0.344383</td>\n",
       "      <td>0.199454</td>\n",
       "      <td>-0.750550</td>\n",
       "      <td>-0.317920</td>\n",
       "      <td>-0.081390</td>\n",
       "      <td>0.012658</td>\n",
       "      <td>0.014614</td>\n",
       "    </tr>\n",
       "    <tr>\n",
       "      <th>MajorAxisLength</th>\n",
       "      <td>0.325824</td>\n",
       "      <td>0.100757</td>\n",
       "      <td>-0.084692</td>\n",
       "      <td>-0.006793</td>\n",
       "      <td>-0.044216</td>\n",
       "      <td>0.014909</td>\n",
       "      <td>0.118163</td>\n",
       "      <td>-0.200947</td>\n",
       "      <td>-0.352366</td>\n",
       "      <td>-0.101996</td>\n",
       "      <td>0.173640</td>\n",
       "      <td>0.027355</td>\n",
       "      <td>0.685302</td>\n",
       "      <td>0.186251</td>\n",
       "      <td>0.174432</td>\n",
       "      <td>0.346019</td>\n",
       "    </tr>\n",
       "  </tbody>\n",
       "</table>\n",
       "</div>"
      ],
      "text/plain": [
       "                       0         1         2         3         4         5   \\\n",
       "Area             0.282458  0.245882 -0.061447 -0.031546 -0.091326  0.366390   \n",
       "Perimeter        0.310891  0.179303 -0.018853 -0.042468  0.081820  0.010251   \n",
       "MajorAxisLength  0.325824  0.100757 -0.084692 -0.006793 -0.044216  0.014909   \n",
       "\n",
       "                       6         7         8         9         10        11  \\\n",
       "Area             0.125045  0.071748  0.035067  0.390420 -0.177686  0.054484   \n",
       "Perimeter        0.081530  0.031730 -0.157501 -0.344383  0.199454 -0.750550   \n",
       "MajorAxisLength  0.118163 -0.200947 -0.352366 -0.101996  0.173640  0.027355   \n",
       "\n",
       "                       12        13        14        15  \n",
       "Area            -0.046295 -0.655728  0.133190  0.231436  \n",
       "Perimeter       -0.317920 -0.081390  0.012658  0.014614  \n",
       "MajorAxisLength  0.685302  0.186251  0.174432  0.346019  "
      ]
     },
     "execution_count": 74,
     "metadata": {},
     "output_type": "execute_result"
    }
   ],
   "source": [
    "# convert to dataframe then transpose \n",
    "components = pd.DataFrame(components).transpose()\n",
    "\n",
    "# attached the original data_matrix column names  as index for better veiwing\n",
    "components.index =  X.columns\n",
    "components.head(3)"
   ]
  },
  {
   "cell_type": "markdown",
   "id": "4f91a71c",
   "metadata": {},
   "source": [
    "### Retrieve propotional size of eigenvalue, the variance (information) ratios"
   ]
  },
  {
   "cell_type": "code",
   "execution_count": 79,
   "id": "293fb88b",
   "metadata": {},
   "outputs": [
    {
     "data": {
      "text/plain": [
       "array([5.54664386e-01, 2.64309732e-01, 8.00656422e-02, 5.11408029e-02,\n",
       "       2.73929290e-02, 1.14976093e-02, 6.97650724e-03, 3.25082500e-03,\n",
       "       5.16266295e-04, 9.08681206e-05, 6.58867938e-05, 1.83739336e-05,\n",
       "       9.29966038e-06, 6.25641678e-07, 1.34132086e-07, 1.11549485e-07])"
      ]
     },
     "execution_count": 79,
     "metadata": {},
     "output_type": "execute_result"
    }
   ],
   "source": [
    "# using explained_variance_ratio_ property\n",
    "var_ratio = pca.explained_variance_ratio_\n",
    "var_ratio"
   ]
  },
  {
   "cell_type": "code",
   "execution_count": 76,
   "id": "3c88808b",
   "metadata": {},
   "outputs": [
    {
     "data": {
      "text/plain": [
       "Text(0, 0.5, 'Percent of Information Explained')"
      ]
     },
     "execution_count": 76,
     "metadata": {},
     "output_type": "execute_result"
    },
    {
     "data": {
      "image/png": "[encoded data removed]",
      "text/plain": [
       "<Figure size 432x288 with 1 Axes>"
      ]
     },
     "metadata": {
      "needs_background": "light"
     },
     "output_type": "display_data"
    }
   ],
   "source": [
    "plt.plot(np.arange(1,len(var_ratio)+1),var_ratio, 'bo-', linewidth=2)\n",
    "plt.title('Scree Plot')\n",
    "plt.xlabel('Principal Axes')\n",
    "plt.xticks(np.arange(1,len(var_ratio)+1))\n",
    "plt.ylabel('Percent of Information Explained')"
   ]
  },
  {
   "cell_type": "code",
   "execution_count": 78,
   "id": "1a0c4ee0",
   "metadata": {},
   "outputs": [
    {
     "data": {
      "text/plain": [
       "array([0.55466439, 0.81897412, 0.89903976, 0.95018056, 0.97757349,\n",
       "       0.9890711 , 0.99604761, 0.99929843, 0.9998147 , 0.99990557,\n",
       "       0.99997146, 0.99998983, 0.99999913, 0.99999975, 0.99999989,\n",
       "       1.        ])"
      ]
     },
     "execution_count": 78,
     "metadata": {},
     "output_type": "execute_result"
    }
   ],
   "source": [
    "cummu_var_ratio = np.cumsum(var_ratio)\n",
    "cummu_var_ratio"
   ]
  },
  {
   "cell_type": "code",
   "execution_count": 81,
   "id": "87c0d277",
   "metadata": {},
   "outputs": [
    {
     "data": {
      "text/plain": [
       "Text(0, 0.5, 'Cumulative Proportion of Variance Explained')"
      ]
     },
     "execution_count": 81,
     "metadata": {},
     "output_type": "execute_result"
    },
    {
     "data": {
      "image/png": "[encoded data removed]",
      "text/plain": [
       "<Figure size 432x288 with 1 Axes>"
      ]
     },
     "metadata": {
      "needs_background": "light"
     },
     "output_type": "display_data"
    }
   ],
   "source": [
    "# Plot the cumulative proportions array\n",
    "plt.plot(cum_info_prop, 'bo-', linewidth=2)\n",
    "plt.hlines(y=cummu_var_ratio[3], xmin=0, xmax=15)\n",
    "plt.vlines(x=3, ymin=0, ymax=1)\n",
    "plt.title('Cumulative Information percentages')\n",
    "plt.xlabel('Principal Axes')\n",
    "plt.xticks(np.arange(1,len(info_prop)+1))\n",
    "plt.ylabel('Cumulative Proportion of Variance Explained')"
   ]
  },
  {
   "cell_type": "code",
   "execution_count": 82,
   "id": "0291fe96",
   "metadata": {},
   "outputs": [
    {
     "data": {
      "text/html": [
       "<div>\n",
       "<style scoped>\n",
       "    .dataframe tbody tr th:only-of-type {\n",
       "        vertical-align: middle;\n",
       "    }\n",
       "\n",
       "    .dataframe tbody tr th {\n",
       "        vertical-align: top;\n",
       "    }\n",
       "\n",
       "    .dataframe thead th {\n",
       "        text-align: right;\n",
       "    }\n",
       "</style>\n",
       "<table border=\"1\" class=\"dataframe\">\n",
       "  <thead>\n",
       "    <tr style=\"text-align: right;\">\n",
       "      <th></th>\n",
       "      <th>0</th>\n",
       "      <th>1</th>\n",
       "      <th>2</th>\n",
       "      <th>3</th>\n",
       "      <th>4</th>\n",
       "      <th>5</th>\n",
       "      <th>6</th>\n",
       "      <th>7</th>\n",
       "      <th>8</th>\n",
       "      <th>9</th>\n",
       "      <th>10</th>\n",
       "      <th>11</th>\n",
       "      <th>12</th>\n",
       "      <th>13</th>\n",
       "      <th>14</th>\n",
       "      <th>15</th>\n",
       "    </tr>\n",
       "  </thead>\n",
       "  <tbody>\n",
       "    <tr>\n",
       "      <th>0</th>\n",
       "      <td>0.554664</td>\n",
       "      <td>0.26431</td>\n",
       "      <td>0.080066</td>\n",
       "      <td>0.051141</td>\n",
       "      <td>0.027393</td>\n",
       "      <td>0.011498</td>\n",
       "      <td>0.006977</td>\n",
       "      <td>0.003251</td>\n",
       "      <td>0.000516</td>\n",
       "      <td>0.000091</td>\n",
       "      <td>0.000066</td>\n",
       "      <td>0.000018</td>\n",
       "      <td>0.000009</td>\n",
       "      <td>6.256417e-07</td>\n",
       "      <td>1.341321e-07</td>\n",
       "      <td>1.115495e-07</td>\n",
       "    </tr>\n",
       "  </tbody>\n",
       "</table>\n",
       "</div>"
      ],
      "text/plain": [
       "         0        1         2         3         4         5         6   \\\n",
       "0  0.554664  0.26431  0.080066  0.051141  0.027393  0.011498  0.006977   \n",
       "\n",
       "         7         8         9         10        11        12            13  \\\n",
       "0  0.003251  0.000516  0.000091  0.000066  0.000018  0.000009  6.256417e-07   \n",
       "\n",
       "             14            15  \n",
       "0  1.341321e-07  1.115495e-07  "
      ]
     },
     "execution_count": 82,
     "metadata": {},
     "output_type": "execute_result"
    }
   ],
   "source": [
    "# covert to dataframe then tranpose\n",
    "# transpose again to return back the rows data into columns data\n",
    "var_ratio= pd.DataFrame(var_ratio).transpose()\n",
    "var_ratio"
   ]
  },
  {
   "cell_type": "markdown",
   "id": "51f04d02",
   "metadata": {},
   "source": [
    "\n",
    "### Let’s only keep the first four principal components because they account for 95% of the information in the data!"
   ]
  },
  {
   "cell_type": "code",
   "execution_count": 87,
   "id": "d6e4a272",
   "metadata": {},
   "outputs": [
    {
     "name": "stdout",
     "output_type": "stream",
     "text": [
      "            PC1       PC2       PC3       PC4\n",
      "0     -4.981378  1.824630  0.748993 -0.390797\n",
      "1     -5.436593  2.932257  2.182294 -0.431944\n",
      "2     -4.757913  1.826817  0.514019 -0.125849\n",
      "3     -4.300383  2.003587  3.554316  0.082961\n",
      "4     -6.349107  4.088055  1.179156 -0.830327\n",
      "...         ...       ...       ...       ...\n",
      "13606 -1.125574 -0.441063 -0.875477 -0.719253\n",
      "13607 -1.604952  0.495979 -0.840527  0.797404\n",
      "13608 -1.417463  0.141189 -0.387192 -0.486421\n",
      "13609 -1.114625 -0.212672  0.144083 -0.841872\n",
      "13610 -0.766409 -0.646490 -0.994085  0.814649\n",
      "\n",
      "[13611 rows x 4 columns]\n"
     ]
    }
   ],
   "source": [
    "# only keep 4 PCs\n",
    "pca = PCA(n_components = 4)\n",
    "# fit and transform the data using the first 3 PCs\n",
    "data_pcomp = pca.fit_transform(X_standardized)\n",
    "# transform into dataframe\n",
    "data_pcomp = pd.DataFrame(data_pcomp)\n",
    "# rename columns\n",
    "data_pcomp.columns = ['PC1', 'PC2', 'PC3', 'PC4']\n",
    "print(data_pcomp)"
   ]
  },
  {
   "cell_type": "code",
   "execution_count": 88,
   "id": "c9c8af15",
   "metadata": {},
   "outputs": [
    {
     "data": {
      "text/plain": [
       "<seaborn.axisgrid.FacetGrid at 0x1c5622dbb50>"
      ]
     },
     "execution_count": 88,
     "metadata": {},
     "output_type": "execute_result"
    },
    {
     "data": {
      "text/plain": [
       "<Figure size 1080x1440 with 0 Axes>"
      ]
     },
     "metadata": {},
     "output_type": "display_data"
    },
    {
     "data": {
      "image/png": "[encoded data removed]",
      "text/plain": [
       "<Figure size 453.875x360 with 1 Axes>"
      ]
     },
     "metadata": {
      "needs_background": "light"
     },
     "output_type": "display_data"
    }
   ],
   "source": [
    "## Plot the first two principal components colored by the bean classes\n",
    "plt.figure(figsize=(15,20))\n",
    "data_pcomp['bean_classes'] = y\n",
    "\n",
    "sns.lmplot(x='PC1', y='PC2', data=data_pcomp, hue='bean_classes', fit_reg=False)"
   ]
  },
  {
   "cell_type": "code",
   "execution_count": null,
   "id": "ca27c1d3",
   "metadata": {},
   "outputs": [],
   "source": []
  }
 ],
 "metadata": {
  "kernelspec": {
   "display_name": "Python 3 (ipykernel)",
   "language": "python",
   "name": "python3"
  },
  "language_info": {
   "codemirror_mode": {
    "name": "ipython",
    "version": 3
   },
   "file_extension": ".py",
   "mimetype": "text/x-python",
   "name": "python",
   "nbconvert_exporter": "python",
   "pygments_lexer": "ipython3",
   "version": "3.8.13"
  }
 },
 "nbformat": 4,
 "nbformat_minor": 5
}
