{
 "cells": [
  {
   "cell_type": "markdown",
   "metadata": {},
   "source": [
    "# IMDB\n",
    "IMDb is the world's most popular and authoritative source for movie, TV and celebrity content. Find ratings and reviews for the newest movie and TV shows."
   ]
  },
  {
   "cell_type": "markdown",
   "metadata": {},
   "source": [
    "Data Source: \n",
    "[IMDB Movies Dataset](https://www.kaggle.com/datasets/harshitshankhdhar/imdb-dataset-of-top-1000-movies-and-tv-shows)"
   ]
  },
  {
   "cell_type": "markdown",
   "metadata": {},
   "source": [
    "<img src=\"imdb1.jpg\" alt=\"drawing\" width=\"1000\" height=\"100\" align = \"left\">"
   ]
  },
  {
   "cell_type": "markdown",
   "metadata": {},
   "source": [
    "# Objectives\n",
    "\n",
    "- Perform Feature Engineering, clean, wraggling and tidy then save the new dataset in a .csv file. The new file will be use in machine learning model, KNN and Decision Tree.\n",
    "\n",
    "\n",
    "\n",
    "\n",
    "Data Dictionary:\n",
    "- `Poster_Link` - Link of the poster that imdb using\n",
    "- `Series_Title` = Name of the movie\n",
    "- `Released_Year` - Year at which that movie released\n",
    "- `Certificate` - Certificate earned by that movie\n",
    "- `Runtime` - Total runtime of the movie\n",
    "- `Genre` - Genre of the movie\n",
    "- `IMDB_Rating` - Rating of the movie at IMDB site\n",
    "- `Overview` - mini story/ summary\n",
    "- `Meta_score` - Score earned by the movie\n",
    "- `Director` - Name of the Director\n",
    "- `Star1,Star2,Star3,Star4` - Name of the Stars\n",
    "- `Noofvotes` - Total number of votes\n",
    "- `Gross` - Money earned by that movie"
   ]
  },
  {
   "cell_type": "markdown",
   "metadata": {},
   "source": [
    "# Feature Engineering\n",
    "\n",
    "Content:\n",
    "\n",
    "1. Import Packages and Load Data\n",
    "2. Converting to Appropriate Data Types\n",
    "3. Check for Null Values (Nan and zero value, impute if necessary)\n",
    "4. Outliers (impute if necessary)\n",
    "5. Conclusion\n"
   ]
  },
  {
   "cell_type": "markdown",
   "metadata": {},
   "source": [
    "# 1. Import Packages and Load Data"
   ]
  },
  {
   "cell_type": "code",
   "execution_count": 1,
   "metadata": {},
   "outputs": [
    {
     "name": "stderr",
     "output_type": "stream",
     "text": [
      "C:\\Users\\Toto\\anaconda3\\lib\\site-packages\\scipy\\__init__.py:146: UserWarning: A NumPy version >=1.16.5 and <1.23.0 is required for this version of SciPy (detected version 1.23.1\n",
      "  warnings.warn(f\"A NumPy version >={np_minversion} and <{np_maxversion}\"\n"
     ]
    }
   ],
   "source": [
    "import pandas as pd\n",
    "import numpy as np\n",
    "import matplotlib.pyplot as plt\n",
    "import seaborn as sns\n",
    "import warnings\n",
    "\n",
    "warnings.filterwarnings(\"ignore\")"
   ]
  },
  {
   "cell_type": "markdown",
   "metadata": {},
   "source": [
    "#### Show initial dataset "
   ]
  },
  {
   "cell_type": "code",
   "execution_count": 2,
   "metadata": {},
   "outputs": [
    {
     "name": "stdout",
     "output_type": "stream",
     "text": [
      "(1000, 16)\n"
     ]
    },
    {
     "data": {
      "text/html": [
       "<div>\n",
       "<style scoped>\n",
       "    .dataframe tbody tr th:only-of-type {\n",
       "        vertical-align: middle;\n",
       "    }\n",
       "\n",
       "    .dataframe tbody tr th {\n",
       "        vertical-align: top;\n",
       "    }\n",
       "\n",
       "    .dataframe thead th {\n",
       "        text-align: right;\n",
       "    }\n",
       "</style>\n",
       "<table border=\"1\" class=\"dataframe\">\n",
       "  <thead>\n",
       "    <tr style=\"text-align: right;\">\n",
       "      <th></th>\n",
       "      <th>Poster_Link</th>\n",
       "      <th>Series_Title</th>\n",
       "      <th>Released_Year</th>\n",
       "      <th>Certificate</th>\n",
       "      <th>Runtime</th>\n",
       "      <th>Genre</th>\n",
       "      <th>IMDB_Rating</th>\n",
       "      <th>Overview</th>\n",
       "      <th>Meta_score</th>\n",
       "      <th>Director</th>\n",
       "      <th>Star1</th>\n",
       "      <th>Star2</th>\n",
       "      <th>Star3</th>\n",
       "      <th>Star4</th>\n",
       "      <th>No_of_Votes</th>\n",
       "      <th>Gross</th>\n",
       "    </tr>\n",
       "  </thead>\n",
       "  <tbody>\n",
       "    <tr>\n",
       "      <th>0</th>\n",
       "      <td>https://m.media-amazon.com/images/M/MV5BMDFkYT...</td>\n",
       "      <td>The Shawshank Redemption</td>\n",
       "      <td>1994</td>\n",
       "      <td>A</td>\n",
       "      <td>142 min</td>\n",
       "      <td>Drama</td>\n",
       "      <td>9.3</td>\n",
       "      <td>Two imprisoned men bond over a number of years...</td>\n",
       "      <td>80.0</td>\n",
       "      <td>Frank Darabont</td>\n",
       "      <td>Tim Robbins</td>\n",
       "      <td>Morgan Freeman</td>\n",
       "      <td>Bob Gunton</td>\n",
       "      <td>William Sadler</td>\n",
       "      <td>2343110</td>\n",
       "      <td>28,341,469</td>\n",
       "    </tr>\n",
       "    <tr>\n",
       "      <th>1</th>\n",
       "      <td>https://m.media-amazon.com/images/M/MV5BM2MyNj...</td>\n",
       "      <td>The Godfather</td>\n",
       "      <td>1972</td>\n",
       "      <td>A</td>\n",
       "      <td>175 min</td>\n",
       "      <td>Crime, Drama</td>\n",
       "      <td>9.2</td>\n",
       "      <td>An organized crime dynasty's aging patriarch t...</td>\n",
       "      <td>100.0</td>\n",
       "      <td>Francis Ford Coppola</td>\n",
       "      <td>Marlon Brando</td>\n",
       "      <td>Al Pacino</td>\n",
       "      <td>James Caan</td>\n",
       "      <td>Diane Keaton</td>\n",
       "      <td>1620367</td>\n",
       "      <td>134,966,411</td>\n",
       "    </tr>\n",
       "  </tbody>\n",
       "</table>\n",
       "</div>"
      ],
      "text/plain": [
       "                                         Poster_Link  \\\n",
       "0  https://m.media-amazon.com/images/M/MV5BMDFkYT...   \n",
       "1  https://m.media-amazon.com/images/M/MV5BM2MyNj...   \n",
       "\n",
       "               Series_Title Released_Year Certificate  Runtime         Genre  \\\n",
       "0  The Shawshank Redemption          1994           A  142 min         Drama   \n",
       "1             The Godfather          1972           A  175 min  Crime, Drama   \n",
       "\n",
       "   IMDB_Rating                                           Overview  Meta_score  \\\n",
       "0          9.3  Two imprisoned men bond over a number of years...        80.0   \n",
       "1          9.2  An organized crime dynasty's aging patriarch t...       100.0   \n",
       "\n",
       "               Director          Star1           Star2       Star3  \\\n",
       "0        Frank Darabont    Tim Robbins  Morgan Freeman  Bob Gunton   \n",
       "1  Francis Ford Coppola  Marlon Brando       Al Pacino  James Caan   \n",
       "\n",
       "            Star4  No_of_Votes        Gross  \n",
       "0  William Sadler      2343110   28,341,469  \n",
       "1    Diane Keaton      1620367  134,966,411  "
      ]
     },
     "execution_count": 2,
     "metadata": {},
     "output_type": "execute_result"
    }
   ],
   "source": [
    "# define training points and training labels\n",
    "df = pd.read_csv('imdb_top_1000.csv')\n",
    "print(df.shape)\n",
    "df.head(2)"
   ]
  },
  {
   "cell_type": "code",
   "execution_count": 3,
   "metadata": {},
   "outputs": [
    {
     "data": {
      "text/plain": [
       "Index(['Poster_Link', 'Series_Title', 'Released_Year', 'Certificate',\n",
       "       'Runtime', 'Genre', 'IMDB_Rating', 'Overview', 'Meta_score', 'Director',\n",
       "       'Star1', 'Star2', 'Star3', 'Star4', 'No_of_Votes', 'Gross'],\n",
       "      dtype='object')"
      ]
     },
     "execution_count": 3,
     "metadata": {},
     "output_type": "execute_result"
    }
   ],
   "source": [
    "# Inpsecting columns\n",
    "df.columns"
   ]
  },
  {
   "cell_type": "markdown",
   "metadata": {},
   "source": [
    "#### Drop unnecessary columns"
   ]
  },
  {
   "cell_type": "code",
   "execution_count": 4,
   "metadata": {},
   "outputs": [],
   "source": [
    "df = df.drop(columns=['Poster_Link', 'Overview'])"
   ]
  },
  {
   "cell_type": "markdown",
   "metadata": {},
   "source": [
    "# 2. Converting to Appropriate Data Types"
   ]
  },
  {
   "cell_type": "code",
   "execution_count": 5,
   "metadata": {},
   "outputs": [
    {
     "name": "stdout",
     "output_type": "stream",
     "text": [
      "<class 'pandas.core.frame.DataFrame'>\n",
      "RangeIndex: 1000 entries, 0 to 999\n",
      "Data columns (total 14 columns):\n",
      " #   Column         Non-Null Count  Dtype  \n",
      "---  ------         --------------  -----  \n",
      " 0   Series_Title   1000 non-null   object \n",
      " 1   Released_Year  1000 non-null   object \n",
      " 2   Certificate    899 non-null    object \n",
      " 3   Runtime        1000 non-null   object \n",
      " 4   Genre          1000 non-null   object \n",
      " 5   IMDB_Rating    1000 non-null   float64\n",
      " 6   Meta_score     843 non-null    float64\n",
      " 7   Director       1000 non-null   object \n",
      " 8   Star1          1000 non-null   object \n",
      " 9   Star2          1000 non-null   object \n",
      " 10  Star3          1000 non-null   object \n",
      " 11  Star4          1000 non-null   object \n",
      " 12  No_of_Votes    1000 non-null   int64  \n",
      " 13  Gross          831 non-null    object \n",
      "dtypes: float64(2), int64(1), object(11)\n",
      "memory usage: 109.5+ KB\n"
     ]
    }
   ],
   "source": [
    "df.info()"
   ]
  },
  {
   "cell_type": "markdown",
   "metadata": {},
   "source": [
    "We will convert the `Released_Year`, `Runtime`, and `Gross` to integer data types."
   ]
  },
  {
   "cell_type": "markdown",
   "metadata": {},
   "source": [
    "### Released_Year to Integer"
   ]
  },
  {
   "cell_type": "code",
   "execution_count": 6,
   "metadata": {},
   "outputs": [
    {
     "data": {
      "text/plain": [
       "array(['1994', '1972', '2008', '1974', '1957', '2003', '1993', '2010',\n",
       "       '1999', '2001', '1966', '2002', '1990', '1980', '1975', '2020',\n",
       "       '2019', '2014', '1998', '1997', '1995', '1991', '1977', '1962',\n",
       "       '1954', '1946', '2011', '2006', '2000', '1988', '1985', '1968',\n",
       "       '1960', '1942', '1936', '1931', '2018', '2017', '2016', '2012',\n",
       "       '2009', '2007', '1984', '1981', '1979', '1971', '1963', '1964',\n",
       "       '1950', '1940', '2013', '2005', '2004', '1992', '1987', '1986',\n",
       "       '1983', '1976', '1973', '1965', '1959', '1958', '1952', '1948',\n",
       "       '1944', '1941', '1927', '1921', '2015', '1996', '1989', '1978',\n",
       "       '1961', '1955', '1953', '1925', '1924', '1982', '1967', '1951',\n",
       "       '1949', '1939', '1937', '1934', '1928', '1926', '1920', '1970',\n",
       "       '1969', '1956', '1947', '1945', '1930', '1938', '1935', '1933',\n",
       "       '1932', '1922', '1943', 'PG'], dtype=object)"
      ]
     },
     "execution_count": 6,
     "metadata": {},
     "output_type": "execute_result"
    }
   ],
   "source": [
    "# showing the string in 'Release_Year'\n",
    "df['Released_Year'].unique()"
   ]
  },
  {
   "cell_type": "markdown",
   "metadata": {},
   "source": [
    "Since only 1 row have missing value, let's look at it. We need to convert this 'PG' to an integer data type."
   ]
  },
  {
   "cell_type": "code",
   "execution_count": 7,
   "metadata": {},
   "outputs": [
    {
     "data": {
      "text/html": [
       "<div>\n",
       "<style scoped>\n",
       "    .dataframe tbody tr th:only-of-type {\n",
       "        vertical-align: middle;\n",
       "    }\n",
       "\n",
       "    .dataframe tbody tr th {\n",
       "        vertical-align: top;\n",
       "    }\n",
       "\n",
       "    .dataframe thead th {\n",
       "        text-align: right;\n",
       "    }\n",
       "</style>\n",
       "<table border=\"1\" class=\"dataframe\">\n",
       "  <thead>\n",
       "    <tr style=\"text-align: right;\">\n",
       "      <th></th>\n",
       "      <th>Series_Title</th>\n",
       "      <th>Released_Year</th>\n",
       "      <th>Certificate</th>\n",
       "      <th>Runtime</th>\n",
       "      <th>Genre</th>\n",
       "      <th>IMDB_Rating</th>\n",
       "      <th>Meta_score</th>\n",
       "      <th>Director</th>\n",
       "      <th>Star1</th>\n",
       "      <th>Star2</th>\n",
       "      <th>Star3</th>\n",
       "      <th>Star4</th>\n",
       "      <th>No_of_Votes</th>\n",
       "      <th>Gross</th>\n",
       "    </tr>\n",
       "  </thead>\n",
       "  <tbody>\n",
       "    <tr>\n",
       "      <th>966</th>\n",
       "      <td>Apollo 13</td>\n",
       "      <td>PG</td>\n",
       "      <td>U</td>\n",
       "      <td>140 min</td>\n",
       "      <td>Adventure, Drama, History</td>\n",
       "      <td>7.6</td>\n",
       "      <td>77.0</td>\n",
       "      <td>Ron Howard</td>\n",
       "      <td>Tom Hanks</td>\n",
       "      <td>Bill Paxton</td>\n",
       "      <td>Kevin Bacon</td>\n",
       "      <td>Gary Sinise</td>\n",
       "      <td>269197</td>\n",
       "      <td>173,837,933</td>\n",
       "    </tr>\n",
       "  </tbody>\n",
       "</table>\n",
       "</div>"
      ],
      "text/plain": [
       "    Series_Title Released_Year Certificate  Runtime  \\\n",
       "966    Apollo 13            PG           U  140 min   \n",
       "\n",
       "                         Genre  IMDB_Rating  Meta_score    Director  \\\n",
       "966  Adventure, Drama, History          7.6        77.0  Ron Howard   \n",
       "\n",
       "         Star1        Star2        Star3        Star4  No_of_Votes  \\\n",
       "966  Tom Hanks  Bill Paxton  Kevin Bacon  Gary Sinise       269197   \n",
       "\n",
       "           Gross  \n",
       "966  173,837,933  "
      ]
     },
     "execution_count": 7,
     "metadata": {},
     "output_type": "execute_result"
    }
   ],
   "source": [
    "# Show detailed information\n",
    "df[df['Released_Year'].isin(['PG'])]"
   ]
  },
  {
   "cell_type": "markdown",
   "metadata": {},
   "source": [
    "After conducting a reseach about the `Apollo 13` movie. We  found out that the release date was November 15, 1995.\n",
    "We will replace `PG` with the year `1995`."
   ]
  },
  {
   "cell_type": "code",
   "execution_count": 8,
   "metadata": {},
   "outputs": [
    {
     "data": {
      "text/html": [
       "<div>\n",
       "<style scoped>\n",
       "    .dataframe tbody tr th:only-of-type {\n",
       "        vertical-align: middle;\n",
       "    }\n",
       "\n",
       "    .dataframe tbody tr th {\n",
       "        vertical-align: top;\n",
       "    }\n",
       "\n",
       "    .dataframe thead th {\n",
       "        text-align: right;\n",
       "    }\n",
       "</style>\n",
       "<table border=\"1\" class=\"dataframe\">\n",
       "  <thead>\n",
       "    <tr style=\"text-align: right;\">\n",
       "      <th></th>\n",
       "      <th>Series_Title</th>\n",
       "      <th>Released_Year</th>\n",
       "      <th>Certificate</th>\n",
       "      <th>Runtime</th>\n",
       "      <th>Genre</th>\n",
       "      <th>IMDB_Rating</th>\n",
       "      <th>Meta_score</th>\n",
       "      <th>Director</th>\n",
       "      <th>Star1</th>\n",
       "      <th>Star2</th>\n",
       "      <th>Star3</th>\n",
       "      <th>Star4</th>\n",
       "      <th>No_of_Votes</th>\n",
       "      <th>Gross</th>\n",
       "    </tr>\n",
       "  </thead>\n",
       "  <tbody>\n",
       "    <tr>\n",
       "      <th>966</th>\n",
       "      <td>Apollo 13</td>\n",
       "      <td>1995</td>\n",
       "      <td>U</td>\n",
       "      <td>140 min</td>\n",
       "      <td>Adventure, Drama, History</td>\n",
       "      <td>7.6</td>\n",
       "      <td>77.0</td>\n",
       "      <td>Ron Howard</td>\n",
       "      <td>Tom Hanks</td>\n",
       "      <td>Bill Paxton</td>\n",
       "      <td>Kevin Bacon</td>\n",
       "      <td>Gary Sinise</td>\n",
       "      <td>269197</td>\n",
       "      <td>173,837,933</td>\n",
       "    </tr>\n",
       "  </tbody>\n",
       "</table>\n",
       "</div>"
      ],
      "text/plain": [
       "    Series_Title  Released_Year Certificate  Runtime  \\\n",
       "966    Apollo 13           1995           U  140 min   \n",
       "\n",
       "                         Genre  IMDB_Rating  Meta_score    Director  \\\n",
       "966  Adventure, Drama, History          7.6        77.0  Ron Howard   \n",
       "\n",
       "         Star1        Star2        Star3        Star4  No_of_Votes  \\\n",
       "966  Tom Hanks  Bill Paxton  Kevin Bacon  Gary Sinise       269197   \n",
       "\n",
       "           Gross  \n",
       "966  173,837,933  "
      ]
     },
     "execution_count": 8,
     "metadata": {},
     "output_type": "execute_result"
    }
   ],
   "source": [
    "# replce 'PG' with 1995 and convert to integer\n",
    "df['Released_Year'] = df['Released_Year'].replace(['PG'] , 1995).astype(int)\n",
    "df.iloc[[966]]"
   ]
  },
  {
   "cell_type": "markdown",
   "metadata": {},
   "source": [
    "###  Runtime to Integer"
   ]
  },
  {
   "cell_type": "code",
   "execution_count": 9,
   "metadata": {},
   "outputs": [
    {
     "data": {
      "text/plain": [
       "array(['142 min', '175 min', '152 min', '202 min', '96 min', '201 min',\n",
       "       '154 min', '195 min', '148 min', '139 min'], dtype=object)"
      ]
     },
     "execution_count": 9,
     "metadata": {},
     "output_type": "execute_result"
    }
   ],
   "source": [
    "df.Runtime.unique()[0:10]"
   ]
  },
  {
   "cell_type": "markdown",
   "metadata": {},
   "source": [
    "Before converting to integer, we need to split the observations and remove the string keyword 'min'."
   ]
  },
  {
   "cell_type": "code",
   "execution_count": 10,
   "metadata": {},
   "outputs": [],
   "source": [
    "# remove 'min' keyword and convert to int.\n",
    "df['Runtime'] = df['Runtime'].str.rstrip('min').astype('int')"
   ]
  },
  {
   "cell_type": "markdown",
   "metadata": {},
   "source": [
    "###  Gross to Integer"
   ]
  },
  {
   "cell_type": "code",
   "execution_count": 11,
   "metadata": {},
   "outputs": [],
   "source": [
    "# Remove comma\n",
    "df['Gross'] = df['Gross'].str.replace(',', '').astype('float')"
   ]
  },
  {
   "cell_type": "markdown",
   "metadata": {},
   "source": [
    "Final checking for datatypes"
   ]
  },
  {
   "cell_type": "code",
   "execution_count": 12,
   "metadata": {},
   "outputs": [
    {
     "name": "stdout",
     "output_type": "stream",
     "text": [
      "<class 'pandas.core.frame.DataFrame'>\n",
      "RangeIndex: 1000 entries, 0 to 999\n",
      "Data columns (total 14 columns):\n",
      " #   Column         Non-Null Count  Dtype  \n",
      "---  ------         --------------  -----  \n",
      " 0   Series_Title   1000 non-null   object \n",
      " 1   Released_Year  1000 non-null   int32  \n",
      " 2   Certificate    899 non-null    object \n",
      " 3   Runtime        1000 non-null   int32  \n",
      " 4   Genre          1000 non-null   object \n",
      " 5   IMDB_Rating    1000 non-null   float64\n",
      " 6   Meta_score     843 non-null    float64\n",
      " 7   Director       1000 non-null   object \n",
      " 8   Star1          1000 non-null   object \n",
      " 9   Star2          1000 non-null   object \n",
      " 10  Star3          1000 non-null   object \n",
      " 11  Star4          1000 non-null   object \n",
      " 12  No_of_Votes    1000 non-null   int64  \n",
      " 13  Gross          831 non-null    float64\n",
      "dtypes: float64(3), int32(2), int64(1), object(8)\n",
      "memory usage: 101.7+ KB\n"
     ]
    }
   ],
   "source": [
    "df.info()"
   ]
  },
  {
   "cell_type": "markdown",
   "metadata": {},
   "source": [
    "# 3. Check for Null Values"
   ]
  },
  {
   "cell_type": "code",
   "execution_count": 13,
   "metadata": {},
   "outputs": [
    {
     "data": {
      "text/plain": [
       "Series_Title       0\n",
       "Released_Year      0\n",
       "Certificate      101\n",
       "Runtime            0\n",
       "Genre              0\n",
       "IMDB_Rating        0\n",
       "Meta_score       157\n",
       "Director           0\n",
       "Star1              0\n",
       "Star2              0\n",
       "Star3              0\n",
       "Star4              0\n",
       "No_of_Votes        0\n",
       "Gross            169\n",
       "dtype: int64"
      ]
     },
     "execution_count": 13,
     "metadata": {},
     "output_type": "execute_result"
    }
   ],
   "source": [
    "df.isna().sum()"
   ]
  },
  {
   "cell_type": "markdown",
   "metadata": {},
   "source": [
    "We have null values in Certificate, Meta_score, and Gross columns let's check and convert these null to an aggregate value."
   ]
  },
  {
   "cell_type": "markdown",
   "metadata": {},
   "source": [
    "### Certificate null values\n",
    "Note: `Certicates` are movies restriction for audinece:\n",
    "- U is unrestricted, suitable for anyone\n",
    "- A adult only, indicate films high in violence or mature content that should not be marketed to teenagers "
   ]
  },
  {
   "cell_type": "code",
   "execution_count": 14,
   "metadata": {},
   "outputs": [
    {
     "data": {
      "text/plain": [
       "array(['A', 'UA', 'U', 'PG-13', 'R', nan, 'PG', 'G', 'Passed', 'TV-14',\n",
       "       '16', 'TV-MA', 'Unrated', 'GP', 'Approved', 'TV-PG', 'U/A'],\n",
       "      dtype=object)"
      ]
     },
     "execution_count": 14,
     "metadata": {},
     "output_type": "execute_result"
    }
   ],
   "source": [
    "# unique values\n",
    "df.Certificate.unique()"
   ]
  },
  {
   "cell_type": "markdown",
   "metadata": {},
   "source": [
    "Since we dont know the certificate of these movies  and we dont want to replace it with the most occurence value,  we will just tag this as `Unrated`. Maybe it's null because these movies are not rated yet. Some further investegation is needed for this scenario."
   ]
  },
  {
   "cell_type": "code",
   "execution_count": 15,
   "metadata": {},
   "outputs": [],
   "source": [
    "# Replace nan with 'Unrated'\n",
    "df.Certificate = df.Certificate.fillna('Unrated')"
   ]
  },
  {
   "cell_type": "markdown",
   "metadata": {},
   "source": [
    "### Meta_score null values"
   ]
  },
  {
   "cell_type": "code",
   "execution_count": 16,
   "metadata": {},
   "outputs": [
    {
     "data": {
      "text/plain": [
       "array([ 80., 100.,  84.,  90.,  96.,  94.,  74.,  66.,  92.,  82.,  87.,\n",
       "        73.,  83.,  nan,  79.,  91.,  61.,  59.,  65.,  85.,  98.,  89.,\n",
       "        88.,  57.,  67.,  62.,  77.,  64.,  75.,  97.,  99.,  78.,  68.,\n",
       "        81.,  95.,  76.,  69.,  55.,  70.,  58.,  86.,  71.,  63.,  93.,\n",
       "        72.,  60.,  47.,  49.,  50.,  33.,  54.,  56.,  51.,  53.,  48.,\n",
       "        44.,  45.,  40.,  52.,  28.,  36.,  46.,  30.,  41.])"
      ]
     },
     "execution_count": 16,
     "metadata": {},
     "output_type": "execute_result"
    }
   ],
   "source": [
    "df.Meta_score.unique()"
   ]
  },
  {
   "cell_type": "markdown",
   "metadata": {},
   "source": [
    "There are 157 nan values in our Meta_score. We can replace this by it's median or mean. For now let's replace it with the mean value."
   ]
  },
  {
   "cell_type": "code",
   "execution_count": 17,
   "metadata": {},
   "outputs": [],
   "source": [
    "df.Meta_score = round(df.Meta_score.fillna((df.Meta_score.mean())))"
   ]
  },
  {
   "cell_type": "code",
   "execution_count": 18,
   "metadata": {},
   "outputs": [
    {
     "data": {
      "text/plain": [
       "array([ 80., 100.,  84.,  90.,  96.,  94.,  74.,  66.,  92.,  82.,  87.,\n",
       "        73.,  83.,  78.,  79.,  91.,  61.,  59.,  65.,  85.,  98.,  89.,\n",
       "        88.,  57.,  67.,  62.,  77.,  64.,  75.,  97.,  99.,  68.,  81.,\n",
       "        95.,  76.,  69.,  55.,  70.,  58.,  86.,  71.,  63.,  93.,  72.,\n",
       "        60.,  47.,  49.,  50.,  33.,  54.,  56.,  51.,  53.,  48.,  44.,\n",
       "        45.,  40.,  52.,  28.,  36.,  46.,  30.,  41.])"
      ]
     },
     "execution_count": 18,
     "metadata": {},
     "output_type": "execute_result"
    }
   ],
   "source": [
    "df.Meta_score.unique()"
   ]
  },
  {
   "cell_type": "markdown",
   "metadata": {},
   "source": [
    "### Gross null values"
   ]
  },
  {
   "cell_type": "markdown",
   "metadata": {},
   "source": [
    "There are 169 null values in `Gross`. With our general knowledge we know that 'gross' is an important feature and we can't safely delete rows with null value that are more than 5%. "
   ]
  },
  {
   "cell_type": "markdown",
   "metadata": {},
   "source": [
    "We have two methods we can apply to replace this null;\n",
    "\n",
    "1.  Replace with the mean value of our total `Gross`.\n",
    "2.  Replace with some aggregated value. In this case the mean of it's belong category in  `IMDB_Rating`.\n",
    "\n",
    "We have both codes below, but since we are preaparing this dataset for KNN classification, it's better to replace it with method number 2."
   ]
  },
  {
   "cell_type": "code",
   "execution_count": 19,
   "metadata": {},
   "outputs": [],
   "source": [
    "# # Replace Nan with zero\n",
    "df['Gross'].fillna(0, inplace = True)\n",
    "\n",
    "# # Change type to int\n",
    "df['Gross'] = df['Gross'].astype(int)\n",
    "\n",
    "# Method 2\n",
    "# # Repalce zero with Gross mean\n",
    "# df['Gross'] = df['Gross'].replace([0], np.mean(df.Gross))"
   ]
  },
  {
   "cell_type": "markdown",
   "metadata": {},
   "source": [
    "I know my code for this is super messy, bear with it for now so we can proceed with our analysis. We will replace this code in the near future.. ;)"
   ]
  },
  {
   "cell_type": "code",
   "execution_count": 20,
   "metadata": {
    "code_folding": [
     0
    ]
   },
   "outputs": [],
   "source": [
    "# Method 2\n",
    "# Subsets by IMDB_Rating\n",
    "# Replace zero gross value by its IMDB Rating mean\n",
    "\n",
    "s76 = df[df['IMDB_Rating'].isin(['7.6'])]\n",
    "s76['Gross'] =  s76['Gross'].replace([0], np.mean(s76.Gross))\n",
    "\n",
    "s77 = df[df['IMDB_Rating'].isin(['7.7'])]\n",
    "s77['Gross'] =  s77['Gross'].replace([0], np.mean(s77.Gross))\n",
    "\n",
    "s78 = df[df['IMDB_Rating'].isin(['7.8'])]\n",
    "s78['Gross'] =  s78['Gross'].replace([0], np.mean(s78.Gross))\n",
    "\n",
    "s79 = df[df['IMDB_Rating'].isin(['7.9'])]\n",
    "s79['Gross'] =  s79['Gross'].replace([0], np.mean(s79.Gross))\n",
    "\n",
    "s80 = df[df['IMDB_Rating'].isin(['8.0'])]\n",
    "s80['Gross'] =  s80['Gross'].replace([0], np.mean(s80.Gross))\n",
    "\n",
    "s81 = df[df['IMDB_Rating'].isin(['8.1'])]\n",
    "s81['Gross'] =  s81['Gross'].replace([0], np.mean(s81.Gross))\n",
    "\n",
    "s82 = df[df['IMDB_Rating'].isin(['8.2'])]\n",
    "s82['Gross'] =  s82['Gross'].replace([0], np.mean(s82.Gross))\n",
    "\n",
    "s83 = df[df['IMDB_Rating'].isin(['8.3'])]\n",
    "s83['Gross'] =  s83['Gross'].replace([0], np.mean(s83.Gross))\n",
    "\n",
    "s84 = df[df['IMDB_Rating'].isin(['8.4'])]\n",
    "s84['Gross'] =  s84['Gross'].replace([0], np.mean(s84.Gross))\n",
    "\n",
    "s85 = df[df['IMDB_Rating'].isin(['8.5'])]\n",
    "s85['Gross'] =  s85['Gross'].replace([0], np.mean(s85.Gross))\n",
    "\n",
    "s86 = df[df['IMDB_Rating'].isin(['8.6'])]\n",
    "s86['Gross'] =  s86['Gross'].replace([0], np.mean(s86.Gross))\n",
    "\n",
    "s87 = df[df['IMDB_Rating'].isin(['8.7'])]\n",
    "s87['Gross'] =  s87['Gross'].replace([0], np.mean(s87.Gross))\n",
    "\n",
    "s88 = df[df['IMDB_Rating'].isin(['8.8'])]\n",
    "s88['Gross'] =  s88['Gross'].replace([0], np.mean(s88.Gross))\n",
    "\n",
    "s89 = df[df['IMDB_Rating'].isin(['8.9'])]\n",
    "s89['Gross'] =  s89['Gross'].replace([0], np.mean(s89.Gross))\n",
    "\n",
    "s90 = df[df['IMDB_Rating'].isin(['9.0'])]\n",
    "s90['Gross'] =  s90['Gross'].replace([0], np.mean(s90.Gross))\n",
    "\n",
    "s92 = df[df['IMDB_Rating'].isin(['9.2'])]\n",
    "s92['Gross'] =  s92['Gross'].replace([0], np.mean(s92.Gross))\n",
    "\n",
    "s93 = df[df['IMDB_Rating'].isin(['9.3'])]\n",
    "s93['Gross'] =  s93['Gross'].replace([0], np.mean(s93.Gross))   "
   ]
  },
  {
   "cell_type": "markdown",
   "metadata": {},
   "source": [
    "### Saving our new dataset to a new variable `df_new`"
   ]
  },
  {
   "cell_type": "code",
   "execution_count": 21,
   "metadata": {},
   "outputs": [
    {
     "data": {
      "text/plain": [
       "(1000, 14)"
      ]
     },
     "execution_count": 21,
     "metadata": {},
     "output_type": "execute_result"
    }
   ],
   "source": [
    "# concatenate all subsets\n",
    "df_new = pd.concat([s76,s77,s78,s79,s80,s81,s82,s83,s84,s85,s86,s87,s88,s89,s90,s92,s93], ignore_index=True, axis=0)\n",
    "df_new.shape"
   ]
  },
  {
   "cell_type": "markdown",
   "metadata": {},
   "source": [
    "Show information of our new dataframe"
   ]
  },
  {
   "cell_type": "code",
   "execution_count": 22,
   "metadata": {},
   "outputs": [
    {
     "name": "stdout",
     "output_type": "stream",
     "text": [
      "<class 'pandas.core.frame.DataFrame'>\n",
      "RangeIndex: 1000 entries, 0 to 999\n",
      "Data columns (total 14 columns):\n",
      " #   Column         Non-Null Count  Dtype  \n",
      "---  ------         --------------  -----  \n",
      " 0   Series_Title   1000 non-null   object \n",
      " 1   Released_Year  1000 non-null   int32  \n",
      " 2   Certificate    1000 non-null   object \n",
      " 3   Runtime        1000 non-null   int32  \n",
      " 4   Genre          1000 non-null   object \n",
      " 5   IMDB_Rating    1000 non-null   float64\n",
      " 6   Meta_score     1000 non-null   float64\n",
      " 7   Director       1000 non-null   object \n",
      " 8   Star1          1000 non-null   object \n",
      " 9   Star2          1000 non-null   object \n",
      " 10  Star3          1000 non-null   object \n",
      " 11  Star4          1000 non-null   object \n",
      " 12  No_of_Votes    1000 non-null   int64  \n",
      " 13  Gross          1000 non-null   float64\n",
      "dtypes: float64(3), int32(2), int64(1), object(8)\n",
      "memory usage: 101.7+ KB\n"
     ]
    }
   ],
   "source": [
    "df_new.info()"
   ]
  },
  {
   "cell_type": "markdown",
   "metadata": {},
   "source": [
    "Check for duplicates"
   ]
  },
  {
   "cell_type": "code",
   "execution_count": 23,
   "metadata": {},
   "outputs": [
    {
     "name": "stdout",
     "output_type": "stream",
     "text": [
      "Number of duplicates: 0\n"
     ]
    }
   ],
   "source": [
    "#count duplicates\n",
    "print(f'Number of duplicates: {df.duplicated().sum()}')"
   ]
  },
  {
   "cell_type": "markdown",
   "metadata": {},
   "source": [
    "Our new dataset is almost ready, one final step is to check for the outliers."
   ]
  },
  {
   "cell_type": "markdown",
   "metadata": {},
   "source": [
    "# 4. Outliers\n",
    "\n",
    "There's a lot of technique on how to identify the outliers, However the hardest part is the decision making on what to do with them. Unfortunately, there is no straightforward “best” solution for dealing with outliers \"NO Free Lunch\" because it depends on the severity of outliers and the goals of the analysis.\n",
    "\n",
    "Remember, sometimes leaving out the outliers in the data is acceptable and other times they can negatively impact analysis and modeling so they should be dealt with by feature engineering. It all depends on the goals of the analysis and the severity of the outliers."
   ]
  },
  {
   "cell_type": "code",
   "execution_count": 24,
   "metadata": {
    "code_folding": [
     1,
     10,
     20
    ]
   },
   "outputs": [],
   "source": [
    "#define functions\n",
    "def showoutliers(df, column_name = \"\"):\n",
    "        iqr = df[column_name].quantile(.75) - df[column_name].quantile(.25)\n",
    "        lowerbound = (df[column_name].quantile(.25)) - iqr * 1.5\n",
    "        upperbound = (df[column_name].quantile(.75)) + iqr * 1.5\n",
    "        lowerbound_outliers = df[df[column_name] < lowerbound]\n",
    "        higherbound_outliers = df[df[column_name] > upperbound]\n",
    "        outliers = pd.concat([lowerbound_outliers,higherbound_outliers])\n",
    "        return outliers\n",
    "    \n",
    "def countoutliers(df, column_name = \"\"):\n",
    "        iqr = df[column_name].quantile(.75) - df[column_name].quantile(.25)\n",
    "        lowerbound = (df[column_name].quantile(.25)) - iqr * 1.5\n",
    "        upperbound = (df[column_name].quantile(.75)) + iqr * 1.5\n",
    "        lowerbound_outliers = df[df[column_name] < lowerbound]\n",
    "        higherbound_outliers = df[df[column_name] > upperbound]\n",
    "        outliers = pd.concat([lowerbound_outliers,higherbound_outliers])\n",
    "        count = len(outliers)\n",
    "        return {column_name : count}\n",
    "    \n",
    "def Replace_Outliers(df_name, value, column_name = \"\"):\n",
    "    iqr = df_name[column_name].quantile(.75) - df_name[column_name].quantile(.25)\n",
    "    \n",
    "    lowerbound = (df_name[column_name].quantile(.25)) - iqr * 1.5\n",
    "    upperbound = (df_name[column_name].quantile(.75)) + iqr * 1.5\n",
    "            \n",
    "    df_name[column_name] = np.where(df_name[column_name] > upperbound, value, df_name[column_name])\n",
    "    df_name[column_name] = np.where(df_name[column_name] < lowerbound, value, df_name[column_name])"
   ]
  },
  {
   "cell_type": "code",
   "execution_count": 25,
   "metadata": {},
   "outputs": [],
   "source": [
    "# create a dataset with only numeric values\n",
    "df_n = df_new.select_dtypes(include=np.number)"
   ]
  },
  {
   "cell_type": "markdown",
   "metadata": {},
   "source": [
    "### Number of ouliers per column"
   ]
  },
  {
   "cell_type": "code",
   "execution_count": 26,
   "metadata": {},
   "outputs": [
    {
     "name": "stdout",
     "output_type": "stream",
     "text": [
      "{'Released_Year': 7}\n",
      "{'Runtime': 29}\n",
      "{'IMDB_Rating': 13}\n",
      "{'Meta_score': 31}\n",
      "{'No_of_Votes': 67}\n",
      "{'Gross': 116}\n"
     ]
    }
   ],
   "source": [
    "column_list = df_n.columns\n",
    "column_list = np.array(column_list)\n",
    "for i in column_list:\n",
    "    print (countoutliers(df_n, i))"
   ]
  },
  {
   "cell_type": "markdown",
   "metadata": {},
   "source": [
    "### Outliers percentage"
   ]
  },
  {
   "cell_type": "markdown",
   "metadata": {},
   "source": [
    "We likely to replace outliers that have very low proportion in our data set"
   ]
  },
  {
   "cell_type": "code",
   "execution_count": 28,
   "metadata": {},
   "outputs": [
    {
     "name": "stdout",
     "output_type": "stream",
     "text": [
      "Released_Year: 0.70%\n",
      "Runtime: 2.90%\n",
      "IMDB_Rating: 1.30%\n",
      "Meta_score: 3.10%\n",
      "No_of_Votes: 6.70%\n",
      "Gross: 11.60%\n"
     ]
    }
   ],
   "source": [
    "for i in column_list:\n",
    "    col = i\n",
    "    perc = countoutliers(df_n, i)[i] / len(df_n)\n",
    "    print (col + ': ' + str('{:.2f}'.format(perc*100)) + '%') "
   ]
  },
  {
   "cell_type": "markdown",
   "metadata": {},
   "source": [
    "### Visualize outliers in boxplot"
   ]
  },
  {
   "cell_type": "code",
   "execution_count": 29,
   "metadata": {},
   "outputs": [
    {
     "data": {
      "image/png": "[encoded data removed]",
      "text/plain": [
       "<Figure size 1440x504 with 6 Axes>"
      ]
     },
     "metadata": {
      "needs_background": "light"
     },
     "output_type": "display_data"
    }
   ],
   "source": [
    "df_n.plot(kind='box', \n",
    "          subplots=True, \n",
    "          sharey=False, \n",
    "          figsize=(20, 7))\n",
    "# increase spacing between subplots\n",
    "plt.subplots_adjust(wspace=0.5) "
   ]
  },
  {
   "cell_type": "markdown",
   "metadata": {},
   "source": [
    "### Summary Statistic"
   ]
  },
  {
   "cell_type": "code",
   "execution_count": 30,
   "metadata": {},
   "outputs": [
    {
     "data": {
      "text/html": [
       "<div>\n",
       "<style scoped>\n",
       "    .dataframe tbody tr th:only-of-type {\n",
       "        vertical-align: middle;\n",
       "    }\n",
       "\n",
       "    .dataframe tbody tr th {\n",
       "        vertical-align: top;\n",
       "    }\n",
       "\n",
       "    .dataframe thead th {\n",
       "        text-align: right;\n",
       "    }\n",
       "</style>\n",
       "<table border=\"1\" class=\"dataframe\">\n",
       "  <thead>\n",
       "    <tr style=\"text-align: right;\">\n",
       "      <th></th>\n",
       "      <th>Released_Year</th>\n",
       "      <th>Runtime</th>\n",
       "      <th>IMDB_Rating</th>\n",
       "      <th>Meta_score</th>\n",
       "      <th>No_of_Votes</th>\n",
       "      <th>Gross</th>\n",
       "    </tr>\n",
       "  </thead>\n",
       "  <tbody>\n",
       "    <tr>\n",
       "      <th>count</th>\n",
       "      <td>1000.000000</td>\n",
       "      <td>1000.000000</td>\n",
       "      <td>1000.000000</td>\n",
       "      <td>1000.000000</td>\n",
       "      <td>1.000000e+03</td>\n",
       "      <td>1.000000e+03</td>\n",
       "    </tr>\n",
       "    <tr>\n",
       "      <th>mean</th>\n",
       "      <td>1991.221000</td>\n",
       "      <td>122.891000</td>\n",
       "      <td>7.949300</td>\n",
       "      <td>77.976000</td>\n",
       "      <td>2.736929e+05</td>\n",
       "      <td>6.556885e+07</td>\n",
       "    </tr>\n",
       "    <tr>\n",
       "      <th>std</th>\n",
       "      <td>23.285669</td>\n",
       "      <td>28.093671</td>\n",
       "      <td>0.275491</td>\n",
       "      <td>11.362065</td>\n",
       "      <td>3.273727e+05</td>\n",
       "      <td>1.003734e+08</td>\n",
       "    </tr>\n",
       "    <tr>\n",
       "      <th>min</th>\n",
       "      <td>1920.000000</td>\n",
       "      <td>45.000000</td>\n",
       "      <td>7.600000</td>\n",
       "      <td>28.000000</td>\n",
       "      <td>2.508800e+04</td>\n",
       "      <td>1.305000e+03</td>\n",
       "    </tr>\n",
       "    <tr>\n",
       "      <th>25%</th>\n",
       "      <td>1976.000000</td>\n",
       "      <td>103.000000</td>\n",
       "      <td>7.700000</td>\n",
       "      <td>72.000000</td>\n",
       "      <td>5.552625e+04</td>\n",
       "      <td>5.012919e+06</td>\n",
       "    </tr>\n",
       "    <tr>\n",
       "      <th>50%</th>\n",
       "      <td>1999.000000</td>\n",
       "      <td>119.000000</td>\n",
       "      <td>7.900000</td>\n",
       "      <td>78.000000</td>\n",
       "      <td>1.385485e+05</td>\n",
       "      <td>3.767117e+07</td>\n",
       "    </tr>\n",
       "    <tr>\n",
       "      <th>75%</th>\n",
       "      <td>2009.000000</td>\n",
       "      <td>137.000000</td>\n",
       "      <td>8.100000</td>\n",
       "      <td>85.250000</td>\n",
       "      <td>3.741612e+05</td>\n",
       "      <td>6.806557e+07</td>\n",
       "    </tr>\n",
       "    <tr>\n",
       "      <th>max</th>\n",
       "      <td>2020.000000</td>\n",
       "      <td>321.000000</td>\n",
       "      <td>9.300000</td>\n",
       "      <td>100.000000</td>\n",
       "      <td>2.343110e+06</td>\n",
       "      <td>9.366622e+08</td>\n",
       "    </tr>\n",
       "  </tbody>\n",
       "</table>\n",
       "</div>"
      ],
      "text/plain": [
       "       Released_Year      Runtime  IMDB_Rating   Meta_score   No_of_Votes  \\\n",
       "count    1000.000000  1000.000000  1000.000000  1000.000000  1.000000e+03   \n",
       "mean     1991.221000   122.891000     7.949300    77.976000  2.736929e+05   \n",
       "std        23.285669    28.093671     0.275491    11.362065  3.273727e+05   \n",
       "min      1920.000000    45.000000     7.600000    28.000000  2.508800e+04   \n",
       "25%      1976.000000   103.000000     7.700000    72.000000  5.552625e+04   \n",
       "50%      1999.000000   119.000000     7.900000    78.000000  1.385485e+05   \n",
       "75%      2009.000000   137.000000     8.100000    85.250000  3.741612e+05   \n",
       "max      2020.000000   321.000000     9.300000   100.000000  2.343110e+06   \n",
       "\n",
       "              Gross  \n",
       "count  1.000000e+03  \n",
       "mean   6.556885e+07  \n",
       "std    1.003734e+08  \n",
       "min    1.305000e+03  \n",
       "25%    5.012919e+06  \n",
       "50%    3.767117e+07  \n",
       "75%    6.806557e+07  \n",
       "max    9.366622e+08  "
      ]
     },
     "execution_count": 30,
     "metadata": {},
     "output_type": "execute_result"
    }
   ],
   "source": [
    "df_n.describe()"
   ]
  },
  {
   "cell_type": "markdown",
   "metadata": {},
   "source": [
    "Now that we have all the outliers necessary details and since we were preparing this dataset for our machine learning model, we will replace outliers with some value:\n",
    "\n",
    "- `Released_Year:` replace with 25 percentile\n",
    "- `Runtime:` retain\n",
    "- `IMDB_Rating:` retain\n",
    "- `Meta_score:` retain\n",
    "- `No_of_Votes:` retain\n",
    "- `Gross:` retain\n"
   ]
  },
  {
   "cell_type": "markdown",
   "metadata": {},
   "source": [
    "### Release_Year Outliers"
   ]
  },
  {
   "cell_type": "code",
   "execution_count": 31,
   "metadata": {},
   "outputs": [],
   "source": [
    "# replace released year outliers with 25 percentile\n",
    "Replace_Outliers(df_new, \n",
    "                 df_new['Released_Year'].quantile(0.25),\n",
    "                 'Released_Year')\n",
    "\n",
    "# uncomment for changing outliers for other columns\n",
    "# Replace_Outliers(df_new, 119, 'Runtime')\n",
    "# Replace_Outliers(df_new, 7.9, 'IMDB_Rating')\n",
    "# Replace_Outliers(df_new, 78, 'Meta_score')\n",
    "# Replace_Outliers(df_new, df_new.No_of_Votes.mean(), 'No_of_Votes')\n",
    "# Replace_Outliers(df_new, df_new.Gross.mean(), 'Gross')"
   ]
  },
  {
   "cell_type": "markdown",
   "metadata": {},
   "source": [
    "### Correlations Before and After Replacing Outliers Value"
   ]
  },
  {
   "cell_type": "code",
   "execution_count": 32,
   "metadata": {},
   "outputs": [
    {
     "data": {
      "text/plain": [
       "<AxesSubplot:>"
      ]
     },
     "execution_count": 32,
     "metadata": {},
     "output_type": "execute_result"
    },
    {
     "data": {
      "image/png": "[encoded data removed]",
      "text/plain": [
       "<Figure size 864x576 with 2 Axes>"
      ]
     },
     "metadata": {
      "needs_background": "light"
     },
     "output_type": "display_data"
    },
    {
     "data": {
      "image/png": "[encoded data removed]",
      "text/plain": [
       "<Figure size 864x576 with 2 Axes>"
      ]
     },
     "metadata": {
      "needs_background": "light"
     },
     "output_type": "display_data"
    }
   ],
   "source": [
    "# Using df_n\n",
    "plt.figure(figsize=(12, 8)) \n",
    "corr_matrix = df_n.corr(method='pearson')\n",
    "sns.heatmap(corr_matrix, annot=True)\n",
    "\n",
    "# # Using df_new\n",
    "plt.figure(figsize=(12, 8)) \n",
    "corr_matrix = df_new.corr(method='pearson')\n",
    "sns.heatmap(corr_matrix, annot=True)"
   ]
  },
  {
   "cell_type": "markdown",
   "metadata": {},
   "source": [
    "Replacing all outliers has negative impact in correlation, so we decided to leave most our data as is."
   ]
  },
  {
   "cell_type": "markdown",
   "metadata": {},
   "source": [
    "### Saving our new df_new dataset in .csv file"
   ]
  },
  {
   "cell_type": "code",
   "execution_count": null,
   "metadata": {},
   "outputs": [],
   "source": [
    "# df_new.to_csv(\"imdb_top_1000_clean.csv\")"
   ]
  },
  {
   "cell_type": "code",
   "execution_count": 36,
   "metadata": {},
   "outputs": [
    {
     "data": {
      "text/html": [
       "<div>\n",
       "<style scoped>\n",
       "    .dataframe tbody tr th:only-of-type {\n",
       "        vertical-align: middle;\n",
       "    }\n",
       "\n",
       "    .dataframe tbody tr th {\n",
       "        vertical-align: top;\n",
       "    }\n",
       "\n",
       "    .dataframe thead th {\n",
       "        text-align: right;\n",
       "    }\n",
       "</style>\n",
       "<table border=\"1\" class=\"dataframe\">\n",
       "  <thead>\n",
       "    <tr style=\"text-align: right;\">\n",
       "      <th></th>\n",
       "      <th>Unnamed: 0</th>\n",
       "      <th>Series_Title</th>\n",
       "      <th>Released_Year</th>\n",
       "      <th>Certificate</th>\n",
       "      <th>Runtime</th>\n",
       "      <th>Genre</th>\n",
       "      <th>IMDB_Rating</th>\n",
       "      <th>Meta_score</th>\n",
       "      <th>Director</th>\n",
       "      <th>Star1</th>\n",
       "      <th>Star2</th>\n",
       "      <th>Star3</th>\n",
       "      <th>Star4</th>\n",
       "      <th>No_of_Votes</th>\n",
       "      <th>Gross</th>\n",
       "    </tr>\n",
       "  </thead>\n",
       "  <tbody>\n",
       "    <tr>\n",
       "      <th>0</th>\n",
       "      <td>0</td>\n",
       "      <td>Dark Waters</td>\n",
       "      <td>2019.0</td>\n",
       "      <td>PG-13</td>\n",
       "      <td>126</td>\n",
       "      <td>Biography, Drama, History</td>\n",
       "      <td>7.6</td>\n",
       "      <td>73.0</td>\n",
       "      <td>Todd Haynes</td>\n",
       "      <td>Mark Ruffalo</td>\n",
       "      <td>Anne Hathaway</td>\n",
       "      <td>Tim Robbins</td>\n",
       "      <td>Bill Pullman</td>\n",
       "      <td>60408</td>\n",
       "      <td>6.212517e+07</td>\n",
       "    </tr>\n",
       "    <tr>\n",
       "      <th>1</th>\n",
       "      <td>1</td>\n",
       "      <td>Searching</td>\n",
       "      <td>2018.0</td>\n",
       "      <td>U/A</td>\n",
       "      <td>102</td>\n",
       "      <td>Drama, Mystery, Thriller</td>\n",
       "      <td>7.6</td>\n",
       "      <td>71.0</td>\n",
       "      <td>Aneesh Chaganty</td>\n",
       "      <td>John Cho</td>\n",
       "      <td>Debra Messing</td>\n",
       "      <td>Joseph Lee</td>\n",
       "      <td>Michelle La</td>\n",
       "      <td>140840</td>\n",
       "      <td>2.602096e+07</td>\n",
       "    </tr>\n",
       "    <tr>\n",
       "      <th>2</th>\n",
       "      <td>2</td>\n",
       "      <td>Once Upon a Time... in Hollywood</td>\n",
       "      <td>2019.0</td>\n",
       "      <td>A</td>\n",
       "      <td>161</td>\n",
       "      <td>Comedy, Drama</td>\n",
       "      <td>7.6</td>\n",
       "      <td>83.0</td>\n",
       "      <td>Quentin Tarantino</td>\n",
       "      <td>Leonardo DiCaprio</td>\n",
       "      <td>Brad Pitt</td>\n",
       "      <td>Margot Robbie</td>\n",
       "      <td>Emile Hirsch</td>\n",
       "      <td>551309</td>\n",
       "      <td>1.425027e+08</td>\n",
       "    </tr>\n",
       "  </tbody>\n",
       "</table>\n",
       "</div>"
      ],
      "text/plain": [
       "   Unnamed: 0                      Series_Title  Released_Year Certificate  \\\n",
       "0           0                       Dark Waters         2019.0       PG-13   \n",
       "1           1                         Searching         2018.0         U/A   \n",
       "2           2  Once Upon a Time... in Hollywood         2019.0           A   \n",
       "\n",
       "   Runtime                      Genre  IMDB_Rating  Meta_score  \\\n",
       "0      126  Biography, Drama, History          7.6        73.0   \n",
       "1      102   Drama, Mystery, Thriller          7.6        71.0   \n",
       "2      161              Comedy, Drama          7.6        83.0   \n",
       "\n",
       "            Director              Star1          Star2          Star3  \\\n",
       "0        Todd Haynes       Mark Ruffalo  Anne Hathaway    Tim Robbins   \n",
       "1    Aneesh Chaganty           John Cho  Debra Messing     Joseph Lee   \n",
       "2  Quentin Tarantino  Leonardo DiCaprio      Brad Pitt  Margot Robbie   \n",
       "\n",
       "          Star4  No_of_Votes         Gross  \n",
       "0  Bill Pullman        60408  6.212517e+07  \n",
       "1   Michelle La       140840  2.602096e+07  \n",
       "2  Emile Hirsch       551309  1.425027e+08  "
      ]
     },
     "execution_count": 36,
     "metadata": {},
     "output_type": "execute_result"
    }
   ],
   "source": [
    "# show cleaned dataset\n",
    "df_clean = pd.read_csv('imdb_top_1000_clean.csv')\n",
    "df_clean.head(3)"
   ]
  },
  {
   "cell_type": "markdown",
   "metadata": {},
   "source": [
    "# 5. Conclusion"
   ]
  },
  {
   "cell_type": "markdown",
   "metadata": {},
   "source": [
    "The focus of this analysis is to prepare our dataset for machine learning model. We have done the following:\n",
    "\n",
    "1. We have convert wrong data type columns to appropriate type.\n",
    "2. Impute null values\n",
    "3. impute outliers\n",
    "\n",
    "\n",
    "Now we have a clean dataset saved as `imdb_top_1000_clean.csv`. We can now start our analysis, univariate, bivariate, multivariate, feature selection and build a machine learning model.\n"
   ]
  },
  {
   "cell_type": "markdown",
   "metadata": {},
   "source": [
    "\\-fin"
   ]
  }
 ],
 "metadata": {
  "kernelspec": {
   "display_name": "Python 3 (ipykernel)",
   "language": "python",
   "name": "python3"
  },
  "language_info": {
   "codemirror_mode": {
    "name": "ipython",
    "version": 3
   },
   "file_extension": ".py",
   "mimetype": "text/x-python",
   "name": "python",
   "nbconvert_exporter": "python",
   "pygments_lexer": "ipython3",
   "version": "3.8.5"
  }
 },
 "nbformat": 4,
 "nbformat_minor": 4
}
