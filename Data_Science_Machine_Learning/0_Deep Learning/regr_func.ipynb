{
 "cells": [
  {
   "cell_type": "markdown",
   "id": "c197be44",
   "metadata": {},
   "source": [
    "# Deep Learning\n",
    "\n",
    "Regression"
   ]
  },
  {
   "cell_type": "code",
   "execution_count": 54,
   "id": "ed3d59cf",
   "metadata": {},
   "outputs": [],
   "source": [
    "import pandas as pd\n",
    "\n",
    "from sklearn.model_selection import train_test_split\n",
    "\n",
    "# from sklearn.compose import ColumnTransformer\n",
    "from sklearn.preprocessing import StandardScaler\n",
    "\n",
    "import tensorflow as tf\n",
    "from tensorflow.keras.models import Sequential\n",
    "from tensorflow.keras import layers\n",
    "from tensorflow.keras.layers import Dense, Activation\n",
    "from tensorflow.keras.optimizers import Adam\n",
    "from tensorflow.keras.callbacks import EarlyStopping\n",
    "\n",
    "from scikeras.wrappers import KerasClassifier, KerasRegressor\n",
    "from sklearn.model_selection import GridSearchCV\n",
    "from sklearn.metrics import mean_squared_error, make_scorer\n",
    "\n",
    "import matplotlib.pyplot as plt"
   ]
  },
  {
   "cell_type": "code",
   "execution_count": 31,
   "id": "9e94810b",
   "metadata": {},
   "outputs": [
    {
     "name": "stdout",
     "output_type": "stream",
     "text": [
      "(1338, 7)\n"
     ]
    },
    {
     "data": {
      "text/html": [
       "<div>\n",
       "<style scoped>\n",
       "    .dataframe tbody tr th:only-of-type {\n",
       "        vertical-align: middle;\n",
       "    }\n",
       "\n",
       "    .dataframe tbody tr th {\n",
       "        vertical-align: top;\n",
       "    }\n",
       "\n",
       "    .dataframe thead th {\n",
       "        text-align: right;\n",
       "    }\n",
       "</style>\n",
       "<table border=\"1\" class=\"dataframe\">\n",
       "  <thead>\n",
       "    <tr style=\"text-align: right;\">\n",
       "      <th></th>\n",
       "      <th>age</th>\n",
       "      <th>sex</th>\n",
       "      <th>bmi</th>\n",
       "      <th>children</th>\n",
       "      <th>smoker</th>\n",
       "      <th>region</th>\n",
       "      <th>charges</th>\n",
       "    </tr>\n",
       "  </thead>\n",
       "  <tbody>\n",
       "    <tr>\n",
       "      <th>0</th>\n",
       "      <td>19</td>\n",
       "      <td>1</td>\n",
       "      <td>27.90</td>\n",
       "      <td>0</td>\n",
       "      <td>1</td>\n",
       "      <td>southwest</td>\n",
       "      <td>16884.9240</td>\n",
       "    </tr>\n",
       "    <tr>\n",
       "      <th>1</th>\n",
       "      <td>18</td>\n",
       "      <td>0</td>\n",
       "      <td>33.77</td>\n",
       "      <td>1</td>\n",
       "      <td>0</td>\n",
       "      <td>southeast</td>\n",
       "      <td>1725.5523</td>\n",
       "    </tr>\n",
       "    <tr>\n",
       "      <th>2</th>\n",
       "      <td>28</td>\n",
       "      <td>0</td>\n",
       "      <td>33.00</td>\n",
       "      <td>3</td>\n",
       "      <td>0</td>\n",
       "      <td>southeast</td>\n",
       "      <td>4449.4620</td>\n",
       "    </tr>\n",
       "  </tbody>\n",
       "</table>\n",
       "</div>"
      ],
      "text/plain": [
       "   age  sex    bmi  children  smoker     region     charges\n",
       "0   19    1  27.90         0       1  southwest  16884.9240\n",
       "1   18    0  33.77         1       0  southeast   1725.5523\n",
       "2   28    0  33.00         3       0  southeast   4449.4620"
      ]
     },
     "execution_count": 31,
     "metadata": {},
     "output_type": "execute_result"
    }
   ],
   "source": [
    "df = pd.read_csv('insurance.csv') #load the dataset\n",
    "print(df.shape)\n",
    "df.head(3)"
   ]
  },
  {
   "cell_type": "code",
   "execution_count": 32,
   "id": "480dace9",
   "metadata": {},
   "outputs": [
    {
     "data": {
      "text/plain": [
       "array(['southwest', 'southeast', '0rthwest', '0rtheast'], dtype=object)"
      ]
     },
     "execution_count": 32,
     "metadata": {},
     "output_type": "execute_result"
    }
   ],
   "source": [
    "# inspect categorical features\n",
    "df.region.unique()"
   ]
  },
  {
   "cell_type": "code",
   "execution_count": 33,
   "id": "4e658652",
   "metadata": {},
   "outputs": [
    {
     "data": {
      "text/plain": [
       "array(['southwest', 'southeast', 'northwest', 'northeast'], dtype=object)"
      ]
     },
     "execution_count": 33,
     "metadata": {},
     "output_type": "execute_result"
    }
   ],
   "source": [
    "# clean categorical features\n",
    "df.region = df.region.replace('0', 'no', regex=True)\n",
    "df.region.unique()"
   ]
  },
  {
   "cell_type": "code",
   "execution_count": 34,
   "id": "bdad3392",
   "metadata": {},
   "outputs": [],
   "source": [
    "# Define X and y\n",
    "X = df.iloc[:,0:6]\n",
    "y = df.iloc[:,-1]"
   ]
  },
  {
   "cell_type": "code",
   "execution_count": 35,
   "id": "dc965645",
   "metadata": {},
   "outputs": [
    {
     "data": {
      "text/html": [
       "<div>\n",
       "<style scoped>\n",
       "    .dataframe tbody tr th:only-of-type {\n",
       "        vertical-align: middle;\n",
       "    }\n",
       "\n",
       "    .dataframe tbody tr th {\n",
       "        vertical-align: top;\n",
       "    }\n",
       "\n",
       "    .dataframe thead th {\n",
       "        text-align: right;\n",
       "    }\n",
       "</style>\n",
       "<table border=\"1\" class=\"dataframe\">\n",
       "  <thead>\n",
       "    <tr style=\"text-align: right;\">\n",
       "      <th></th>\n",
       "      <th>age</th>\n",
       "      <th>sex</th>\n",
       "      <th>bmi</th>\n",
       "      <th>children</th>\n",
       "      <th>smoker</th>\n",
       "      <th>region_northeast</th>\n",
       "      <th>region_northwest</th>\n",
       "      <th>region_southeast</th>\n",
       "      <th>region_southwest</th>\n",
       "    </tr>\n",
       "  </thead>\n",
       "  <tbody>\n",
       "    <tr>\n",
       "      <th>0</th>\n",
       "      <td>19</td>\n",
       "      <td>1</td>\n",
       "      <td>27.90</td>\n",
       "      <td>0</td>\n",
       "      <td>1</td>\n",
       "      <td>0</td>\n",
       "      <td>0</td>\n",
       "      <td>0</td>\n",
       "      <td>1</td>\n",
       "    </tr>\n",
       "    <tr>\n",
       "      <th>1</th>\n",
       "      <td>18</td>\n",
       "      <td>0</td>\n",
       "      <td>33.77</td>\n",
       "      <td>1</td>\n",
       "      <td>0</td>\n",
       "      <td>0</td>\n",
       "      <td>0</td>\n",
       "      <td>1</td>\n",
       "      <td>0</td>\n",
       "    </tr>\n",
       "  </tbody>\n",
       "</table>\n",
       "</div>"
      ],
      "text/plain": [
       "   age  sex    bmi  children  smoker  region_northeast  region_northwest  \\\n",
       "0   19    1  27.90         0       1                 0                 0   \n",
       "1   18    0  33.77         1       0                 0                 0   \n",
       "\n",
       "   region_southeast  region_southwest  \n",
       "0                 0                 1  \n",
       "1                 1                 0  "
      ]
     },
     "execution_count": 35,
     "metadata": {},
     "output_type": "execute_result"
    }
   ],
   "source": [
    "# one-hot encoding for categorical variables\n",
    "X = pd.get_dummies(X) \n",
    "X.head(2)"
   ]
  },
  {
   "cell_type": "code",
   "execution_count": 36,
   "id": "534ee997",
   "metadata": {},
   "outputs": [],
   "source": [
    "# Split data\n",
    "x_train, x_test, y_train, y_test = train_test_split(X, y, random_state = 42)"
   ]
  },
  {
   "cell_type": "code",
   "execution_count": 37,
   "id": "48d83c36",
   "metadata": {},
   "outputs": [],
   "source": [
    "# standardize\n",
    "scaler = StandardScaler()\n",
    "x_train = scaler.fit_transform(x_train)\n",
    "x_test = scaler.transform(x_test)"
   ]
  },
  {
   "cell_type": "markdown",
   "id": "8f2eb7b9",
   "metadata": {},
   "source": [
    "# Function For Designing Model\n",
    "Function that creates and returns your Keras sequential model (To use in skires wrappers)"
   ]
  },
  {
   "cell_type": "code",
   "execution_count": 38,
   "id": "47f6f3d1",
   "metadata": {},
   "outputs": [],
   "source": [
    "def design_model(features):\n",
    "  # ann model instance  \n",
    "  model_regr = Sequential()\n",
    "  \n",
    "  \n",
    "  #### INPUT LAYER>>>>\n",
    "  #adding the input layer\n",
    "  model_regr.add(Dense(units = X.shape[1] , activation = 'relu')) \n",
    "\n",
    "\n",
    "  #### HIDDEN LAYER1>>>>\n",
    "  # there are a numbers of activation functions such as softmax, sigmoid, \n",
    "  # but ReLU (relu) (Rectified Linear Unit) is very effective in many applications and we’ll use it here.\n",
    "  model_regr.add(Dense(128, activation = 'relu'))\n",
    "\n",
    "\n",
    "  #### OUTPUT LAYER>>>>\n",
    "  model_regr.add(Dense(1, activation = 'linear'))  \n",
    "\n",
    "\n",
    "  #### Optimizer\n",
    "  # WE have a lot of optimizers such as SGD (Stochastic Gradient Descent optimizer), Adam, RMSprop, and others.\n",
    "  # right now adam is the best one as its solved previous optmizers issues.\n",
    "  opt = Adam(learning_rate = 0.01)\n",
    "  # loss/cost \n",
    "  # MSE, MAE, Huber loss  \n",
    "  model_regr.compile(loss='mse',  metrics=['mae'], optimizer=opt)  \n",
    "    \n",
    "\n",
    "  return model_regr"
   ]
  },
  {
   "cell_type": "markdown",
   "id": "158ac4ff",
   "metadata": {},
   "source": [
    "# GridSearchCV"
   ]
  },
  {
   "cell_type": "code",
   "execution_count": 47,
   "id": "5c43b34d",
   "metadata": {},
   "outputs": [],
   "source": [
    "model = KerasRegressor(model = model_regr)"
   ]
  },
  {
   "cell_type": "code",
   "execution_count": 49,
   "id": "66339cf7",
   "metadata": {},
   "outputs": [],
   "source": [
    "# This is computational extensive, we will use small value here\n",
    "param_grid = dict(epochs = [50,100],\n",
    "                  batch_size = [1,10,50])"
   ]
  },
  {
   "cell_type": "code",
   "execution_count": 58,
   "id": "f44813e8",
   "metadata": {},
   "outputs": [
    {
     "name": "stdout",
     "output_type": "stream",
     "text": [
      "INFO:tensorflow:Assets written to: C:\\Users\\Toto\\AppData\\Local\\Temp\\tmp35mgvo3u\\assets\n",
      "INFO:tensorflow:Assets written to: C:\\Users\\Toto\\AppData\\Local\\Temp\\tmpws926myf\\assets\n",
      "INFO:tensorflow:Assets written to: C:\\Users\\Toto\\AppData\\Local\\Temp\\tmpx1vdj3_u\\assets\n",
      "INFO:tensorflow:Assets written to: C:\\Users\\Toto\\AppData\\Local\\Temp\\tmp4ixs9efr\\assets\n",
      "INFO:tensorflow:Assets written to: C:\\Users\\Toto\\AppData\\Local\\Temp\\tmps3m4sq29\\assets\n",
      "INFO:tensorflow:Assets written to: C:\\Users\\Toto\\AppData\\Local\\Temp\\tmphxxthjkb\\assets\n",
      "INFO:tensorflow:Assets written to: C:\\Users\\Toto\\AppData\\Local\\Temp\\tmp5y81y7ie\\assets\n",
      "INFO:tensorflow:Assets written to: C:\\Users\\Toto\\AppData\\Local\\Temp\\tmpf535ijfd\\assets\n",
      "INFO:tensorflow:Assets written to: C:\\Users\\Toto\\AppData\\Local\\Temp\\tmpg7dc7jzm\\assets\n",
      "INFO:tensorflow:Assets written to: C:\\Users\\Toto\\AppData\\Local\\Temp\\tmpgge44wz2\\assets\n",
      "INFO:tensorflow:Assets written to: C:\\Users\\Toto\\AppData\\Local\\Temp\\tmpvon3jjxu\\assets\n",
      "INFO:tensorflow:Assets written to: C:\\Users\\Toto\\AppData\\Local\\Temp\\tmpuhsgn10t\\assets\n",
      "INFO:tensorflow:Assets written to: C:\\Users\\Toto\\AppData\\Local\\Temp\\tmp44m4s4e2\\assets\n",
      "INFO:tensorflow:Assets written to: C:\\Users\\Toto\\AppData\\Local\\Temp\\tmpmj3z4784\\assets\n",
      "INFO:tensorflow:Assets written to: C:\\Users\\Toto\\AppData\\Local\\Temp\\tmputbm0eli\\assets\n",
      "INFO:tensorflow:Assets written to: C:\\Users\\Toto\\AppData\\Local\\Temp\\tmp9g0ew09h\\assets\n",
      "INFO:tensorflow:Assets written to: C:\\Users\\Toto\\AppData\\Local\\Temp\\tmprxl3l9zc\\assets\n",
      "INFO:tensorflow:Assets written to: C:\\Users\\Toto\\AppData\\Local\\Temp\\tmpcwlmjvtu\\assets\n",
      "INFO:tensorflow:Assets written to: C:\\Users\\Toto\\AppData\\Local\\Temp\\tmp84nao82_\\assets\n",
      "INFO:tensorflow:Assets written to: C:\\Users\\Toto\\AppData\\Local\\Temp\\tmpwz1065n4\\assets\n",
      "INFO:tensorflow:Assets written to: C:\\Users\\Toto\\AppData\\Local\\Temp\\tmph9suf31j\\assets\n",
      "INFO:tensorflow:Assets written to: C:\\Users\\Toto\\AppData\\Local\\Temp\\tmpo2bfii_8\\assets\n",
      "INFO:tensorflow:Assets written to: C:\\Users\\Toto\\AppData\\Local\\Temp\\tmp122jxnu4\\assets\n",
      "INFO:tensorflow:Assets written to: C:\\Users\\Toto\\AppData\\Local\\Temp\\tmpwvxi2v2v\\assets\n",
      "INFO:tensorflow:Assets written to: C:\\Users\\Toto\\AppData\\Local\\Temp\\tmpu9asr5q0\\assets\n",
      "INFO:tensorflow:Assets written to: C:\\Users\\Toto\\AppData\\Local\\Temp\\tmpi22la5z8\\assets\n",
      "INFO:tensorflow:Assets written to: C:\\Users\\Toto\\AppData\\Local\\Temp\\tmpx8lhauo4\\assets\n",
      "INFO:tensorflow:Assets written to: C:\\Users\\Toto\\AppData\\Local\\Temp\\tmpimzjrxzv\\assets\n",
      "INFO:tensorflow:Assets written to: C:\\Users\\Toto\\AppData\\Local\\Temp\\tmpbizxbfau\\assets\n",
      "INFO:tensorflow:Assets written to: C:\\Users\\Toto\\AppData\\Local\\Temp\\tmpedwm78de\\assets\n",
      "INFO:tensorflow:Assets written to: C:\\Users\\Toto\\AppData\\Local\\Temp\\tmp1dks7mbu\\assets\n",
      "INFO:tensorflow:Assets written to: C:\\Users\\Toto\\AppData\\Local\\Temp\\tmpou5r_ox4\\assets\n",
      "INFO:tensorflow:Assets written to: C:\\Users\\Toto\\AppData\\Local\\Temp\\tmp7wflt5ri\\assets\n",
      "INFO:tensorflow:Assets written to: C:\\Users\\Toto\\AppData\\Local\\Temp\\tmpdotxaj6f\\assets\n",
      "INFO:tensorflow:Assets written to: C:\\Users\\Toto\\AppData\\Local\\Temp\\tmpn3j49a91\\assets\n",
      "INFO:tensorflow:Assets written to: C:\\Users\\Toto\\AppData\\Local\\Temp\\tmphtfyfodc\\assets\n",
      "INFO:tensorflow:Assets written to: C:\\Users\\Toto\\AppData\\Local\\Temp\\tmpje9jumqa\\assets\n",
      "INFO:tensorflow:Assets written to: C:\\Users\\Toto\\AppData\\Local\\Temp\\tmp3u1hgx1h\\assets\n",
      "INFO:tensorflow:Assets written to: C:\\Users\\Toto\\AppData\\Local\\Temp\\tmpqkvypjo7\\assets\n",
      "Epoch 1/50\n",
      "21/21 [==============================] - 0s 1ms/step - loss: 21240916.0000 - mae: 2719.2363\n",
      "Epoch 2/50\n",
      "21/21 [==============================] - 0s 1ms/step - loss: 20970884.0000 - mae: 2676.9719\n",
      "Epoch 3/50\n",
      "21/21 [==============================] - 0s 1ms/step - loss: 21019850.0000 - mae: 2637.4390\n",
      "Epoch 4/50\n",
      "21/21 [==============================] - 0s 1ms/step - loss: 20872922.0000 - mae: 2727.5398\n",
      "Epoch 5/50\n",
      "21/21 [==============================] - 0s 1ms/step - loss: 20880030.0000 - mae: 2622.3086\n",
      "Epoch 6/50\n",
      "21/21 [==============================] - 0s 1ms/step - loss: 20848788.0000 - mae: 2625.8359\n",
      "Epoch 7/50\n",
      "21/21 [==============================] - 0s 1ms/step - loss: 20906832.0000 - mae: 2819.8259\n",
      "Epoch 8/50\n",
      "21/21 [==============================] - 0s 1ms/step - loss: 20901736.0000 - mae: 2600.7913\n",
      "Epoch 9/50\n",
      "21/21 [==============================] - 0s 1ms/step - loss: 20889056.0000 - mae: 2751.0442\n",
      "Epoch 10/50\n",
      "21/21 [==============================] - 0s 1ms/step - loss: 20772740.0000 - mae: 2615.4929\n",
      "Epoch 11/50\n",
      "21/21 [==============================] - 0s 1ms/step - loss: 20735552.0000 - mae: 2663.1938\n",
      "Epoch 12/50\n",
      "21/21 [==============================] - 0s 1ms/step - loss: 20751350.0000 - mae: 2611.0508\n",
      "Epoch 13/50\n",
      "21/21 [==============================] - 0s 1ms/step - loss: 20815142.0000 - mae: 2626.5637\n",
      "Epoch 14/50\n",
      "21/21 [==============================] - 0s 1ms/step - loss: 20788646.0000 - mae: 2607.8755\n",
      "Epoch 15/50\n",
      "21/21 [==============================] - 0s 1ms/step - loss: 20754688.0000 - mae: 2668.7546\n",
      "Epoch 16/50\n",
      "21/21 [==============================] - 0s 1ms/step - loss: 20676422.0000 - mae: 2605.9224\n",
      "Epoch 17/50\n",
      "21/21 [==============================] - 0s 1ms/step - loss: 20786810.0000 - mae: 2696.5962\n",
      "Epoch 18/50\n",
      "21/21 [==============================] - 0s 1ms/step - loss: 20738960.0000 - mae: 2610.4805\n",
      "Epoch 19/50\n",
      "21/21 [==============================] - 0s 1ms/step - loss: 20675222.0000 - mae: 2533.3740\n",
      "Epoch 20/50\n",
      "21/21 [==============================] - 0s 1ms/step - loss: 21001600.0000 - mae: 2804.3401\n",
      "Epoch 21/50\n",
      "21/21 [==============================] - 0s 1ms/step - loss: 20688930.0000 - mae: 2501.8198\n",
      "Epoch 22/50\n",
      "21/21 [==============================] - 0s 1ms/step - loss: 20719200.0000 - mae: 2697.1621\n",
      "Epoch 23/50\n",
      "21/21 [==============================] - 0s 1ms/step - loss: 20615862.0000 - mae: 2615.1582\n",
      "Epoch 24/50\n",
      "21/21 [==============================] - 0s 1ms/step - loss: 20622128.0000 - mae: 2651.5022\n",
      "Epoch 25/50\n",
      "21/21 [==============================] - 0s 1ms/step - loss: 20951932.0000 - mae: 2509.4373\n",
      "Epoch 26/50\n",
      "21/21 [==============================] - 0s 1ms/step - loss: 20850662.0000 - mae: 2837.4741\n",
      "Epoch 27/50\n",
      "21/21 [==============================] - 0s 1ms/step - loss: 20704268.0000 - mae: 2553.0078\n",
      "Epoch 28/50\n",
      "21/21 [==============================] - 0s 1ms/step - loss: 20759430.0000 - mae: 2816.2034\n",
      "Epoch 29/50\n",
      "21/21 [==============================] - 0s 1ms/step - loss: 21128218.0000 - mae: 2832.3447\n",
      "Epoch 30/50\n",
      "21/21 [==============================] - 0s 1ms/step - loss: 21063960.0000 - mae: 2507.0088\n",
      "Epoch 31/50\n",
      "21/21 [==============================] - 0s 1ms/step - loss: 20678422.0000 - mae: 2662.1646\n",
      "Epoch 32/50\n",
      "21/21 [==============================] - 0s 1ms/step - loss: 20587996.0000 - mae: 2583.9980\n",
      "Epoch 33/50\n",
      "21/21 [==============================] - 0s 1ms/step - loss: 20528508.0000 - mae: 2603.8091\n",
      "Epoch 34/50\n",
      "21/21 [==============================] - 0s 1ms/step - loss: 20570652.0000 - mae: 2606.1472\n",
      "Epoch 35/50\n",
      "21/21 [==============================] - 0s 1ms/step - loss: 20519708.0000 - mae: 2683.8342\n",
      "Epoch 36/50\n",
      "21/21 [==============================] - 0s 1ms/step - loss: 20651706.0000 - mae: 2751.3040\n",
      "Epoch 37/50\n",
      "21/21 [==============================] - 0s 1ms/step - loss: 20602660.0000 - mae: 2628.9731\n",
      "Epoch 38/50\n",
      "21/21 [==============================] - 0s 1ms/step - loss: 20590792.0000 - mae: 2625.2161\n",
      "Epoch 39/50\n",
      "21/21 [==============================] - 0s 950us/step - loss: 20508736.0000 - mae: 2596.0493\n",
      "Epoch 40/50\n",
      "21/21 [==============================] - 0s 1ms/step - loss: 20845430.0000 - mae: 2600.3738\n",
      "Epoch 41/50\n",
      "21/21 [==============================] - 0s 1ms/step - loss: 20529594.0000 - mae: 2707.2314\n",
      "Epoch 42/50\n",
      "21/21 [==============================] - 0s 1ms/step - loss: 20468562.0000 - mae: 2574.9980\n",
      "Epoch 43/50\n",
      "21/21 [==============================] - 0s 1ms/step - loss: 20436648.0000 - mae: 2644.2964\n",
      "Epoch 44/50\n",
      "21/21 [==============================] - 0s 1ms/step - loss: 20492102.0000 - mae: 2709.3940\n",
      "Epoch 45/50\n",
      "21/21 [==============================] - 0s 1ms/step - loss: 20644866.0000 - mae: 2575.8296\n",
      "Epoch 46/50\n",
      "21/21 [==============================] - 0s 1ms/step - loss: 20519422.0000 - mae: 2639.4131\n",
      "Epoch 47/50\n"
     ]
    },
    {
     "name": "stdout",
     "output_type": "stream",
     "text": [
      "21/21 [==============================] - 0s 950us/step - loss: 20425004.0000 - mae: 2614.6938\n",
      "Epoch 48/50\n",
      "21/21 [==============================] - 0s 1ms/step - loss: 21148274.0000 - mae: 2890.3711\n",
      "Epoch 49/50\n",
      "21/21 [==============================] - 0s 950us/step - loss: 20627218.0000 - mae: 2502.1807\n",
      "Epoch 50/50\n",
      "21/21 [==============================] - 0s 1ms/step - loss: 20389002.0000 - mae: 2658.7461\n"
     ]
    }
   ],
   "source": [
    "grid = GridSearchCV(estimator=model, \n",
    "                    param_grid=param_grid,\n",
    "                    n_jobs=-1, # use all processor cores of our machine (faster!!)\n",
    "                    scoring = 'r2',\n",
    "                    return_train_score = True,\n",
    "                    cv=3)\n",
    "\n",
    "grid_result = grid.fit(x_train, y_train)"
   ]
  },
  {
   "cell_type": "code",
   "execution_count": 59,
   "id": "6fef2cbb",
   "metadata": {},
   "outputs": [
    {
     "data": {
      "text/plain": [
       "(0.8364351104755063, {'batch_size': 50, 'epochs': 50})"
      ]
     },
     "execution_count": 59,
     "metadata": {},
     "output_type": "execute_result"
    }
   ],
   "source": [
    "grid_result.best_score_ , grid_result.best_params_"
   ]
  },
  {
   "cell_type": "markdown",
   "id": "dac80a46",
   "metadata": {},
   "source": [
    "# Normal Design Model\n",
    "Invoke The Function For Our Model Design"
   ]
  },
  {
   "cell_type": "code",
   "execution_count": 60,
   "id": "f16d0506",
   "metadata": {},
   "outputs": [],
   "source": [
    "model_regr = design_model(x_train)"
   ]
  },
  {
   "cell_type": "markdown",
   "id": "ca8e364e",
   "metadata": {},
   "source": [
    "#### Training Phase"
   ]
  },
  {
   "cell_type": "code",
   "execution_count": 61,
   "id": "4c589ea6",
   "metadata": {},
   "outputs": [],
   "source": [
    "# reference https://keras.io/api/callbacks/early_stopping/\n",
    "# add early stoping when theres no improvement\n",
    "stop = EarlyStopping(monitor='val_loss', \n",
    "                     mode='min', \n",
    "                     patience=30,\n",
    "                     verbose=1)"
   ]
  },
  {
   "cell_type": "code",
   "execution_count": 62,
   "id": "cb977e30",
   "metadata": {},
   "outputs": [
    {
     "name": "stdout",
     "output_type": "stream",
     "text": [
      "Epoch 1/50\n",
      "17/17 [==============================] - 0s 8ms/step - loss: 322632000.0000 - mae: 13396.2461 - val_loss: 313966016.0000 - val_mae: 12718.6826\n",
      "Epoch 2/50\n",
      "17/17 [==============================] - 0s 3ms/step - loss: 321403712.0000 - mae: 13357.3779 - val_loss: 311487136.0000 - val_mae: 12641.5312\n",
      "Epoch 3/50\n",
      "17/17 [==============================] - 0s 2ms/step - loss: 316875904.0000 - mae: 13221.4590 - val_loss: 303833216.0000 - val_mae: 12414.2363\n",
      "Epoch 4/50\n",
      "17/17 [==============================] - 0s 2ms/step - loss: 304344800.0000 - mae: 12857.4287 - val_loss: 286070976.0000 - val_mae: 11894.6426\n",
      "Epoch 5/50\n",
      "17/17 [==============================] - 0s 3ms/step - loss: 279039328.0000 - mae: 12132.4229 - val_loss: 254124864.0000 - val_mae: 10940.4648\n",
      "Epoch 6/50\n",
      "17/17 [==============================] - 0s 3ms/step - loss: 237672560.0000 - mae: 10873.5674 - val_loss: 206250672.0000 - val_mae: 9449.9893\n",
      "Epoch 7/50\n",
      "17/17 [==============================] - 0s 3ms/step - loss: 182029632.0000 - mae: 9119.4092 - val_loss: 150614704.0000 - val_mae: 7708.9321\n",
      "Epoch 8/50\n",
      "17/17 [==============================] - 0s 2ms/step - loss: 125471672.0000 - mae: 7349.1787 - val_loss: 102899752.0000 - val_mae: 6205.7666\n",
      "Epoch 9/50\n",
      "17/17 [==============================] - 0s 3ms/step - loss: 84584216.0000 - mae: 6124.2192 - val_loss: 70813832.0000 - val_mae: 5292.4824\n",
      "Epoch 10/50\n",
      "17/17 [==============================] - 0s 3ms/step - loss: 61752188.0000 - mae: 5406.6704 - val_loss: 55682376.0000 - val_mae: 4929.7720\n",
      "Epoch 11/50\n",
      "17/17 [==============================] - 0s 3ms/step - loss: 50231352.0000 - mae: 4991.0483 - val_loss: 47838956.0000 - val_mae: 4679.8315\n",
      "Epoch 12/50\n",
      "17/17 [==============================] - 0s 3ms/step - loss: 44046748.0000 - mae: 4798.4297 - val_loss: 42733828.0000 - val_mae: 4589.1235\n",
      "Epoch 13/50\n",
      "17/17 [==============================] - 0s 2ms/step - loss: 40100924.0000 - mae: 4615.9927 - val_loss: 39752468.0000 - val_mae: 4397.2544\n",
      "Epoch 14/50\n",
      "17/17 [==============================] - 0s 3ms/step - loss: 37875892.0000 - mae: 4462.0957 - val_loss: 37724876.0000 - val_mae: 4226.4082\n",
      "Epoch 15/50\n",
      "17/17 [==============================] - 0s 3ms/step - loss: 36535692.0000 - mae: 4340.1006 - val_loss: 36273568.0000 - val_mae: 4125.8599\n",
      "Epoch 16/50\n",
      "17/17 [==============================] - 0s 2ms/step - loss: 35530912.0000 - mae: 4231.0625 - val_loss: 35028720.0000 - val_mae: 4003.6577\n",
      "Epoch 17/50\n",
      "17/17 [==============================] - 0s 3ms/step - loss: 34757368.0000 - mae: 4178.5503 - val_loss: 34028724.0000 - val_mae: 3935.6445\n",
      "Epoch 18/50\n",
      "17/17 [==============================] - 0s 2ms/step - loss: 34352836.0000 - mae: 4131.3892 - val_loss: 33691312.0000 - val_mae: 3861.6311\n",
      "Epoch 19/50\n",
      "17/17 [==============================] - 0s 2ms/step - loss: 34073636.0000 - mae: 4062.6455 - val_loss: 33649444.0000 - val_mae: 3806.9695\n",
      "Epoch 20/50\n",
      "17/17 [==============================] - 0s 3ms/step - loss: 33983992.0000 - mae: 4032.2847 - val_loss: 33440230.0000 - val_mae: 3785.5530\n",
      "Epoch 21/50\n",
      "17/17 [==============================] - 0s 2ms/step - loss: 33846616.0000 - mae: 3997.7598 - val_loss: 33197394.0000 - val_mae: 3755.3237\n",
      "Epoch 22/50\n",
      "17/17 [==============================] - 0s 3ms/step - loss: 33726828.0000 - mae: 3996.2048 - val_loss: 32823568.0000 - val_mae: 3761.9514\n",
      "Epoch 23/50\n",
      "17/17 [==============================] - 0s 2ms/step - loss: 33761808.0000 - mae: 4052.8120 - val_loss: 33410376.0000 - val_mae: 3830.6724\n",
      "Epoch 24/50\n",
      "17/17 [==============================] - 0s 2ms/step - loss: 33650752.0000 - mae: 4027.6179 - val_loss: 33655944.0000 - val_mae: 3794.1147\n",
      "Epoch 25/50\n",
      "17/17 [==============================] - 0s 2ms/step - loss: 33630628.0000 - mae: 3972.8875 - val_loss: 33732120.0000 - val_mae: 3760.1230\n",
      "Epoch 26/50\n",
      "17/17 [==============================] - 0s 3ms/step - loss: 33419792.0000 - mae: 3989.2520 - val_loss: 33156588.0000 - val_mae: 3769.1658\n",
      "Epoch 27/50\n",
      "17/17 [==============================] - 0s 3ms/step - loss: 33539800.0000 - mae: 4023.8257 - val_loss: 32608488.0000 - val_mae: 3749.4609\n",
      "Epoch 28/50\n",
      "17/17 [==============================] - 0s 3ms/step - loss: 33337466.0000 - mae: 4003.1670 - val_loss: 32472332.0000 - val_mae: 3738.2283\n",
      "Epoch 29/50\n",
      "17/17 [==============================] - 0s 2ms/step - loss: 33147404.0000 - mae: 3969.5908 - val_loss: 33418202.0000 - val_mae: 3774.1814\n",
      "Epoch 30/50\n",
      "17/17 [==============================] - 0s 2ms/step - loss: 33294428.0000 - mae: 3951.3828 - val_loss: 33364042.0000 - val_mae: 3772.0496\n",
      "Epoch 31/50\n",
      "17/17 [==============================] - 0s 3ms/step - loss: 33127472.0000 - mae: 3973.9485 - val_loss: 32661310.0000 - val_mae: 3764.5398\n",
      "Epoch 32/50\n",
      "17/17 [==============================] - 0s 3ms/step - loss: 32964574.0000 - mae: 3974.5483 - val_loss: 32633160.0000 - val_mae: 3762.8474\n",
      "Epoch 33/50\n",
      "17/17 [==============================] - 0s 3ms/step - loss: 32892016.0000 - mae: 3969.7207 - val_loss: 32331456.0000 - val_mae: 3738.2327\n",
      "Epoch 34/50\n",
      "17/17 [==============================] - 0s 3ms/step - loss: 32825130.0000 - mae: 3954.6536 - val_loss: 32414936.0000 - val_mae: 3733.3010\n",
      "Epoch 35/50\n",
      "17/17 [==============================] - 0s 3ms/step - loss: 32896498.0000 - mae: 3932.2432 - val_loss: 32189822.0000 - val_mae: 3709.6179\n",
      "Epoch 36/50\n",
      "17/17 [==============================] - 0s 3ms/step - loss: 32801092.0000 - mae: 3926.1643 - val_loss: 32138164.0000 - val_mae: 3709.7507\n",
      "Epoch 37/50\n",
      "17/17 [==============================] - 0s 2ms/step - loss: 33123206.0000 - mae: 3928.9131 - val_loss: 33122390.0000 - val_mae: 3749.2117\n",
      "Epoch 38/50\n",
      "17/17 [==============================] - 0s 2ms/step - loss: 32720546.0000 - mae: 3939.9844 - val_loss: 32190048.0000 - val_mae: 3729.0173\n",
      "Epoch 39/50\n",
      "17/17 [==============================] - 0s 2ms/step - loss: 32781790.0000 - mae: 3981.5864 - val_loss: 31567348.0000 - val_mae: 3715.6436\n",
      "Epoch 40/50\n",
      "17/17 [==============================] - 0s 2ms/step - loss: 32704392.0000 - mae: 3943.0564 - val_loss: 32017818.0000 - val_mae: 3690.7922\n",
      "Epoch 41/50\n",
      "17/17 [==============================] - 0s 2ms/step - loss: 32737678.0000 - mae: 3939.2278 - val_loss: 31471670.0000 - val_mae: 3701.0491\n",
      "Epoch 42/50\n",
      "17/17 [==============================] - 0s 2ms/step - loss: 32477048.0000 - mae: 3911.3894 - val_loss: 31889658.0000 - val_mae: 3696.8955\n",
      "Epoch 43/50\n",
      "17/17 [==============================] - 0s 3ms/step - loss: 32368486.0000 - mae: 3879.2852 - val_loss: 31980794.0000 - val_mae: 3678.0850\n",
      "Epoch 44/50\n",
      "17/17 [==============================] - 0s 2ms/step - loss: 32281270.0000 - mae: 3868.2004 - val_loss: 31434858.0000 - val_mae: 3661.3330\n",
      "Epoch 45/50\n",
      "17/17 [==============================] - 0s 2ms/step - loss: 34211016.0000 - mae: 3994.4360 - val_loss: 31638276.0000 - val_mae: 3732.5352\n",
      "Epoch 46/50\n",
      "17/17 [==============================] - 0s 2ms/step - loss: 33150546.0000 - mae: 3868.7263 - val_loss: 31759218.0000 - val_mae: 3644.7920\n",
      "Epoch 47/50\n",
      "17/17 [==============================] - 0s 3ms/step - loss: 32831934.0000 - mae: 3825.6917 - val_loss: 33088202.0000 - val_mae: 3688.2700\n",
      "Epoch 48/50\n",
      "17/17 [==============================] - 0s 2ms/step - loss: 32455478.0000 - mae: 3830.4688 - val_loss: 32108942.0000 - val_mae: 3685.6213\n",
      "Epoch 49/50\n",
      "17/17 [==============================] - 0s 2ms/step - loss: 32068892.0000 - mae: 3833.9553 - val_loss: 31568758.0000 - val_mae: 3652.9705\n",
      "Epoch 50/50\n",
      "17/17 [==============================] - 0s 2ms/step - loss: 31926472.0000 - mae: 3829.6711 - val_loss: 31601114.0000 - val_mae: 3641.1467\n"
     ]
    }
   ],
   "source": [
    "# create a variable to store our fitted model\n",
    "h = model_regr.fit(x_train, y_train, \n",
    "               validation_split=0.2, \n",
    "               epochs=50, \n",
    "               batch_size=50,\n",
    "               verbose=1,\n",
    "               callbacks=[stop])"
   ]
  },
  {
   "cell_type": "markdown",
   "id": "cbbfef63",
   "metadata": {},
   "source": [
    "#### Model Summary"
   ]
  },
  {
   "cell_type": "code",
   "execution_count": 63,
   "id": "00112b73",
   "metadata": {
    "code_folding": []
   },
   "outputs": [
    {
     "name": "stdout",
     "output_type": "stream",
     "text": [
      "Model: \"sequential_2\"\n",
      "_________________________________________________________________\n",
      " Layer (type)                Output Shape              Param #   \n",
      "=================================================================\n",
      " dense_6 (Dense)             (None, 9)                 90        \n",
      "                                                                 \n",
      " dense_7 (Dense)             (None, 128)               1280      \n",
      "                                                                 \n",
      " dense_8 (Dense)             (None, 1)                 129       \n",
      "                                                                 \n",
      "=================================================================\n",
      "Total params: 1,499\n",
      "Trainable params: 1,499\n",
      "Non-trainable params: 0\n",
      "_________________________________________________________________\n"
     ]
    }
   ],
   "source": [
    "# check layer\n",
    "# model_regr.layers\n",
    "# view summary\n",
    "model_regr.summary()"
   ]
  },
  {
   "cell_type": "code",
   "execution_count": 64,
   "id": "e9196066",
   "metadata": {},
   "outputs": [
    {
     "data": {
      "text/plain": [
       "dict_keys(['loss', 'mae', 'val_loss', 'val_mae'])"
      ]
     },
     "execution_count": 64,
     "metadata": {},
     "output_type": "execute_result"
    }
   ],
   "source": [
    "h.history.keys()"
   ]
  },
  {
   "cell_type": "code",
   "execution_count": 65,
   "id": "2922c75c",
   "metadata": {},
   "outputs": [
    {
     "data": {
      "text/plain": [
       "Text(0, 0.5, 'MAE')"
      ]
     },
     "execution_count": 65,
     "metadata": {},
     "output_type": "execute_result"
    },
    {
     "data": {
      "image/png": "[encoded data removed]",
      "text/plain": [
       "<Figure size 1080x432 with 2 Axes>"
      ]
     },
     "metadata": {
      "needs_background": "light"
     },
     "output_type": "display_data"
    }
   ],
   "source": [
    "#plotting\n",
    "\n",
    "fig, axs = plt.subplots(1,2,\n",
    "                        figsize=(15, 6),\n",
    "                        gridspec_kw={'hspace': 0.5, 'wspace': 0.2}) \n",
    "(ax1, ax2) = axs\n",
    "ax1.plot(h.history['loss'], label='Train')\n",
    "ax1.plot(h.history['val_loss'], label='Validation')\n",
    "ax1.set_title('learning rate=' + str(0.01))\n",
    "ax1.legend(loc=\"upper right\")\n",
    "ax1.set_xlabel(\"# of epochs\")\n",
    "ax1.set_ylabel(\"loss (MSE)\")\n",
    "\n",
    "ax2.plot(h.history['mae'], label='Train')\n",
    "ax2.plot(h.history['val_mae'], label='Validation')\n",
    "ax2.set_title('learning rate=' + str(0.01))\n",
    "ax2.legend(loc=\"upper right\")\n",
    "ax2.set_xlabel(\"# of epochs\")\n",
    "ax2.set_ylabel(\"MAE\")"
   ]
  },
  {
   "cell_type": "markdown",
   "id": "b6bd0740",
   "metadata": {},
   "source": [
    "#### Evaluation"
   ]
  },
  {
   "cell_type": "code",
   "execution_count": 66,
   "id": "3f251a72",
   "metadata": {},
   "outputs": [
    {
     "name": "stdout",
     "output_type": "stream",
     "text": [
      "11/11 [==============================] - 0s 1ms/step - loss: 31650346.0000 - mae: 3928.0566\n"
     ]
    }
   ],
   "source": [
    "val_mse, val_mae = model_regr.evaluate(x_test, y_test, verbose = 1)"
   ]
  },
  {
   "cell_type": "code",
   "execution_count": null,
   "id": "2b1a1527",
   "metadata": {},
   "outputs": [],
   "source": []
  },
  {
   "cell_type": "code",
   "execution_count": null,
   "id": "a5767321",
   "metadata": {},
   "outputs": [],
   "source": []
  },
  {
   "cell_type": "code",
   "execution_count": null,
   "id": "555f2cc5",
   "metadata": {},
   "outputs": [],
   "source": []
  },
  {
   "cell_type": "code",
   "execution_count": null,
   "id": "a1ebf171",
   "metadata": {},
   "outputs": [],
   "source": []
  },
  {
   "cell_type": "code",
   "execution_count": null,
   "id": "97fbbd14",
   "metadata": {},
   "outputs": [],
   "source": []
  },
  {
   "cell_type": "code",
   "execution_count": null,
   "id": "28f9c8b3",
   "metadata": {},
   "outputs": [],
   "source": []
  },
  {
   "cell_type": "code",
   "execution_count": null,
   "id": "386346de",
   "metadata": {},
   "outputs": [],
   "source": []
  },
  {
   "cell_type": "markdown",
   "id": "2a9d9674",
   "metadata": {},
   "source": [
    "### Summary\n",
    "\n",
    "\n",
    "1. Preparing the data for learning:\n",
    "2. separating features from labels using array slicing\n",
    "3. determining the shape of your data\n",
    "4. preprocessing the categorical variables using one-hot encoding\n",
    "5. splitting the data into training and test sets\n",
    "6. scaling the numerical features\n",
    "7. Designing a Sequential model by chaining InputLayer() and the tf.keras.layers.Dense layers. InputLayer() was used as a placeholder for the input data. The output layer in this case needed one neuron since we need a prediction of a single value in the regression. And finally, hidden layers were added with the relu activation function to handle complex dependencies in the data.\n",
    "8. Choosing an optimizer using keras.optimizers with a specific learning rate hyperparameter.\n",
    "9. Training the model - using model.fit() to train the model on the training data and training labels.\n",
    "10. Setting the values for the learning hyperparameters: number of epochs and batch sizes.\n",
    "11. Evaluating the model using model.evaluate() on the test data.\n"
   ]
  }
 ],
 "metadata": {
  "kernelspec": {
   "display_name": "Python 3 (ipykernel)",
   "language": "python",
   "name": "python3"
  },
  "language_info": {
   "codemirror_mode": {
    "name": "ipython",
    "version": 3
   },
   "file_extension": ".py",
   "mimetype": "text/x-python",
   "name": "python",
   "nbconvert_exporter": "python",
   "pygments_lexer": "ipython3",
   "version": "3.8.5"
  }
 },
 "nbformat": 4,
 "nbformat_minor": 5
}
