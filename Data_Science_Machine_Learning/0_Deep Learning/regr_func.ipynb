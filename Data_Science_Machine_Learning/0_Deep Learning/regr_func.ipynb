{
 "cells": [
  {
   "cell_type": "markdown",
   "id": "c197be44",
   "metadata": {},
   "source": [
    "# Deep Learning\n",
    "\n",
    "Regression"
   ]
  },
  {
   "cell_type": "code",
   "execution_count": 30,
   "id": "ed3d59cf",
   "metadata": {},
   "outputs": [],
   "source": [
    "import pandas as pd\n",
    "import numpy as np\n",
    "\n",
    "from sklearn.model_selection import train_test_split\n",
    "\n",
    "# from sklearn.compose import ColumnTransformer\n",
    "from sklearn.preprocessing import StandardScaler\n",
    "\n",
    "import tensorflow as tf\n",
    "from tensorflow.keras.models import Sequential\n",
    "from tensorflow.keras import layers\n",
    "from tensorflow.keras.layers import Dense, Activation\n",
    "from tensorflow.keras.optimizers import Adam\n",
    "from tensorflow.keras.callbacks import EarlyStopping\n",
    "\n",
    "from scikeras.wrappers import KerasClassifier, KerasRegressor\n",
    "from sklearn.model_selection import GridSearchCV\n",
    "from sklearn.metrics import mean_squared_error, make_scorer\n",
    "\n",
    "import matplotlib.pyplot as plt"
   ]
  },
  {
   "cell_type": "code",
   "execution_count": 2,
   "id": "9e94810b",
   "metadata": {},
   "outputs": [
    {
     "name": "stdout",
     "output_type": "stream",
     "text": [
      "(1338, 7)\n"
     ]
    },
    {
     "data": {
      "text/html": [
       "<div>\n",
       "<style scoped>\n",
       "    .dataframe tbody tr th:only-of-type {\n",
       "        vertical-align: middle;\n",
       "    }\n",
       "\n",
       "    .dataframe tbody tr th {\n",
       "        vertical-align: top;\n",
       "    }\n",
       "\n",
       "    .dataframe thead th {\n",
       "        text-align: right;\n",
       "    }\n",
       "</style>\n",
       "<table border=\"1\" class=\"dataframe\">\n",
       "  <thead>\n",
       "    <tr style=\"text-align: right;\">\n",
       "      <th></th>\n",
       "      <th>age</th>\n",
       "      <th>sex</th>\n",
       "      <th>bmi</th>\n",
       "      <th>children</th>\n",
       "      <th>smoker</th>\n",
       "      <th>region</th>\n",
       "      <th>charges</th>\n",
       "    </tr>\n",
       "  </thead>\n",
       "  <tbody>\n",
       "    <tr>\n",
       "      <th>0</th>\n",
       "      <td>19</td>\n",
       "      <td>1</td>\n",
       "      <td>27.90</td>\n",
       "      <td>0</td>\n",
       "      <td>1</td>\n",
       "      <td>southwest</td>\n",
       "      <td>16884.9240</td>\n",
       "    </tr>\n",
       "    <tr>\n",
       "      <th>1</th>\n",
       "      <td>18</td>\n",
       "      <td>0</td>\n",
       "      <td>33.77</td>\n",
       "      <td>1</td>\n",
       "      <td>0</td>\n",
       "      <td>southeast</td>\n",
       "      <td>1725.5523</td>\n",
       "    </tr>\n",
       "    <tr>\n",
       "      <th>2</th>\n",
       "      <td>28</td>\n",
       "      <td>0</td>\n",
       "      <td>33.00</td>\n",
       "      <td>3</td>\n",
       "      <td>0</td>\n",
       "      <td>southeast</td>\n",
       "      <td>4449.4620</td>\n",
       "    </tr>\n",
       "  </tbody>\n",
       "</table>\n",
       "</div>"
      ],
      "text/plain": [
       "   age  sex    bmi  children  smoker     region     charges\n",
       "0   19    1  27.90         0       1  southwest  16884.9240\n",
       "1   18    0  33.77         1       0  southeast   1725.5523\n",
       "2   28    0  33.00         3       0  southeast   4449.4620"
      ]
     },
     "execution_count": 2,
     "metadata": {},
     "output_type": "execute_result"
    }
   ],
   "source": [
    "df = pd.read_csv('insurance.csv') #load the dataset\n",
    "print(df.shape)\n",
    "df.head(3)"
   ]
  },
  {
   "cell_type": "code",
   "execution_count": 3,
   "id": "480dace9",
   "metadata": {},
   "outputs": [
    {
     "data": {
      "text/plain": [
       "array(['southwest', 'southeast', '0rthwest', '0rtheast'], dtype=object)"
      ]
     },
     "execution_count": 3,
     "metadata": {},
     "output_type": "execute_result"
    }
   ],
   "source": [
    "# inspect categorical features\n",
    "df.region.unique()"
   ]
  },
  {
   "cell_type": "code",
   "execution_count": 4,
   "id": "4e658652",
   "metadata": {},
   "outputs": [
    {
     "data": {
      "text/plain": [
       "array(['southwest', 'southeast', 'northwest', 'northeast'], dtype=object)"
      ]
     },
     "execution_count": 4,
     "metadata": {},
     "output_type": "execute_result"
    }
   ],
   "source": [
    "# clean categorical features\n",
    "df.region = df.region.replace('0', 'no', regex=True)\n",
    "df.region.unique()"
   ]
  },
  {
   "cell_type": "code",
   "execution_count": 5,
   "id": "bdad3392",
   "metadata": {},
   "outputs": [],
   "source": [
    "# Define X and y\n",
    "X = df.iloc[:,0:6]\n",
    "y = df.iloc[:,-1]"
   ]
  },
  {
   "cell_type": "code",
   "execution_count": 6,
   "id": "dc965645",
   "metadata": {
    "scrolled": true
   },
   "outputs": [
    {
     "data": {
      "text/html": [
       "<div>\n",
       "<style scoped>\n",
       "    .dataframe tbody tr th:only-of-type {\n",
       "        vertical-align: middle;\n",
       "    }\n",
       "\n",
       "    .dataframe tbody tr th {\n",
       "        vertical-align: top;\n",
       "    }\n",
       "\n",
       "    .dataframe thead th {\n",
       "        text-align: right;\n",
       "    }\n",
       "</style>\n",
       "<table border=\"1\" class=\"dataframe\">\n",
       "  <thead>\n",
       "    <tr style=\"text-align: right;\">\n",
       "      <th></th>\n",
       "      <th>age</th>\n",
       "      <th>sex</th>\n",
       "      <th>bmi</th>\n",
       "      <th>children</th>\n",
       "      <th>smoker</th>\n",
       "      <th>region_northeast</th>\n",
       "      <th>region_northwest</th>\n",
       "      <th>region_southeast</th>\n",
       "      <th>region_southwest</th>\n",
       "    </tr>\n",
       "  </thead>\n",
       "  <tbody>\n",
       "    <tr>\n",
       "      <th>0</th>\n",
       "      <td>19</td>\n",
       "      <td>1</td>\n",
       "      <td>27.90</td>\n",
       "      <td>0</td>\n",
       "      <td>1</td>\n",
       "      <td>0</td>\n",
       "      <td>0</td>\n",
       "      <td>0</td>\n",
       "      <td>1</td>\n",
       "    </tr>\n",
       "    <tr>\n",
       "      <th>1</th>\n",
       "      <td>18</td>\n",
       "      <td>0</td>\n",
       "      <td>33.77</td>\n",
       "      <td>1</td>\n",
       "      <td>0</td>\n",
       "      <td>0</td>\n",
       "      <td>0</td>\n",
       "      <td>1</td>\n",
       "      <td>0</td>\n",
       "    </tr>\n",
       "  </tbody>\n",
       "</table>\n",
       "</div>"
      ],
      "text/plain": [
       "   age  sex    bmi  children  smoker  region_northeast  region_northwest  \\\n",
       "0   19    1  27.90         0       1                 0                 0   \n",
       "1   18    0  33.77         1       0                 0                 0   \n",
       "\n",
       "   region_southeast  region_southwest  \n",
       "0                 0                 1  \n",
       "1                 1                 0  "
      ]
     },
     "execution_count": 6,
     "metadata": {},
     "output_type": "execute_result"
    }
   ],
   "source": [
    "# one-hot encoding for categorical variables\n",
    "X = pd.get_dummies(X) \n",
    "X.head(2)"
   ]
  },
  {
   "cell_type": "markdown",
   "id": "f1f637e7",
   "metadata": {},
   "source": [
    "`Note:`\n",
    "\n",
    "Train,Test, Validation splits comes differently in terms of Neural Networks. Usually using traditional ML algorithm we do the process is to split a given data set into 70% train data set and 30% test data set (ideally). In the training phase, we fit the model on the training data. And now to evaluate the model (i.e., to check how well the model is able to predict on unseen data), we run the model against the test data and get the predicted results. Since we already know what the expected results are, we compare the predicted and the real results to get the accuracy of the model.\n",
    "If the accuracy is not up to the desired level, we repeat the above process (train, test, compare) until the desired accuracy is achieved.\n",
    "\n",
    "In Neural Networks approach, we do spliting our data set in train_test_plit. And In training/fitting phase we do spliting again. We split out training and validation_set. Then finally we will test our model using the testing set(unseen data) and compare the predicted result to the real result."
   ]
  },
  {
   "cell_type": "code",
   "execution_count": 7,
   "id": "534ee997",
   "metadata": {},
   "outputs": [
    {
     "name": "stdout",
     "output_type": "stream",
     "text": [
      "(1204, 9) (134, 9) (1204,) (134,)\n"
     ]
    }
   ],
   "source": [
    "# Split data\n",
    "x_train, x_test, y_train, y_test = train_test_split(X, y, \n",
    "                                                    test_size = 0.1, # 10%\n",
    "                                                    random_state = 42)\n",
    "\n",
    "print(x_train.shape, x_test.shape, y_train.shape, y_test.shape)"
   ]
  },
  {
   "cell_type": "code",
   "execution_count": 8,
   "id": "48d83c36",
   "metadata": {},
   "outputs": [],
   "source": [
    "# standardize\n",
    "scaler = StandardScaler()\n",
    "x_train = scaler.fit_transform(x_train)\n",
    "x_test = scaler.transform(x_test)"
   ]
  },
  {
   "cell_type": "markdown",
   "id": "dac80a46",
   "metadata": {},
   "source": [
    "# Designing Model"
   ]
  },
  {
   "cell_type": "code",
   "execution_count": 9,
   "id": "f16d0506",
   "metadata": {},
   "outputs": [],
   "source": [
    "# Creating a keras sequential object\n",
    "model_regr = Sequential()"
   ]
  },
  {
   "cell_type": "markdown",
   "id": "b9ab8b8e",
   "metadata": {},
   "source": [
    "### Define model"
   ]
  },
  {
   "cell_type": "code",
   "execution_count": 11,
   "id": "e80191e3",
   "metadata": {},
   "outputs": [],
   "source": [
    "############## INPUT LAYER ##########################################\n",
    "model_regr.add(Dense(units = X.shape[1] , activation = 'relu')) \n",
    "\n",
    "\n",
    "############## HIDDEN LAYER 1 ##########################################\n",
    "# `Note:`\n",
    "# How do we choose the number of hidden layers and the number of units per layer? That is a tough question and there \n",
    "# is no good answer. The rule of thumb is to start with one hidden layer and add as many units as we have features in the\n",
    "# dataset. However, this might not always work. We need to try things out and observe our learning curve.\n",
    "\n",
    "# there are a numbers of activation functions such as softmax, sigmoid, \n",
    "# but ReLU (relu) (Rectified Linear Unit) is very effective in many applications and we’ll use it here.\n",
    "model_regr.add(Dense(128, activation = 'relu'))\n",
    "\n",
    "############## OUTPUT LAYER ##########################################\n",
    "model_regr.add(Dense(1, activation = 'linear'))  "
   ]
  },
  {
   "cell_type": "markdown",
   "id": "fdc03b78",
   "metadata": {},
   "source": [
    "### OPTIMIZER"
   ]
  },
  {
   "cell_type": "code",
   "execution_count": 12,
   "id": "4b490db1",
   "metadata": {},
   "outputs": [],
   "source": [
    "# WE have a lot of optimizers such as SGD (Stochastic Gradient Descent optimizer), Adam, RMSprop, and others.\n",
    "# right now adam is the best one as its solved previous optmizers issues.\n",
    "opt = Adam(learning_rate = 0.01) # by default adam learning rate is 0.0.1"
   ]
  },
  {
   "cell_type": "markdown",
   "id": "875d4b5d",
   "metadata": {},
   "source": [
    "### COMPILE MODEL"
   ]
  },
  {
   "cell_type": "code",
   "execution_count": 13,
   "id": "be978be7",
   "metadata": {},
   "outputs": [],
   "source": [
    "# loss/cost \n",
    "# MSE, MAE, Huber loss  \n",
    "model_regr.compile(loss='mse',  metrics=['mae'], optimizer=opt)  "
   ]
  },
  {
   "cell_type": "markdown",
   "id": "2a1ebe02",
   "metadata": {},
   "source": [
    "### TRAINING PHASE/FIT THE MODEL"
   ]
  },
  {
   "cell_type": "markdown",
   "id": "3ae39aca",
   "metadata": {},
   "source": [
    "Add early stoping when theres no improvement."
   ]
  },
  {
   "cell_type": "code",
   "execution_count": 15,
   "id": "4c589ea6",
   "metadata": {},
   "outputs": [],
   "source": [
    "# reference https://keras.io/api/callbacks/early_stopping/\n",
    "stop = EarlyStopping(monitor='val_loss', # validation_split 20%\n",
    "                     mode='min', \n",
    "                     patience=30,\n",
    "                     verbose=1)"
   ]
  },
  {
   "cell_type": "markdown",
   "id": "ab3535a5",
   "metadata": {},
   "source": [
    "Here we define a validation_set to 20%. Spliting our training set in 80:20 ration"
   ]
  },
  {
   "cell_type": "code",
   "execution_count": 16,
   "id": "e5c10447",
   "metadata": {},
   "outputs": [
    {
     "name": "stdout",
     "output_type": "stream",
     "text": [
      "Epoch 1/100\n",
      "97/97 [==============================] - 3s 3ms/step - loss: 307522272.0000 - mae: 12863.0977 - val_loss: 242148224.0000 - val_mae: 10462.7979\n",
      "Epoch 2/100\n",
      "97/97 [==============================] - 0s 1ms/step - loss: 116783216.0000 - mae: 6962.8906 - val_loss: 43533432.0000 - val_mae: 4750.9727\n",
      "Epoch 3/100\n",
      "97/97 [==============================] - 0s 1ms/step - loss: 37929900.0000 - mae: 4493.9590 - val_loss: 34964136.0000 - val_mae: 3968.4207\n",
      "Epoch 4/100\n",
      "97/97 [==============================] - 0s 1ms/step - loss: 35227624.0000 - mae: 4152.6294 - val_loss: 33693660.0000 - val_mae: 3814.7644\n",
      "Epoch 5/100\n",
      "97/97 [==============================] - 0s 1ms/step - loss: 34540892.0000 - mae: 4110.4761 - val_loss: 33151080.0000 - val_mae: 3693.9111\n",
      "Epoch 6/100\n",
      "97/97 [==============================] - 0s 1ms/step - loss: 33898240.0000 - mae: 4024.7375 - val_loss: 32489582.0000 - val_mae: 3615.1245\n",
      "Epoch 7/100\n",
      "97/97 [==============================] - 0s 1ms/step - loss: 33528092.0000 - mae: 3954.3518 - val_loss: 32533946.0000 - val_mae: 3640.6428\n",
      "Epoch 8/100\n",
      "97/97 [==============================] - 0s 1ms/step - loss: 33268504.0000 - mae: 3963.8933 - val_loss: 32567446.0000 - val_mae: 3565.3318\n",
      "Epoch 9/100\n",
      "97/97 [==============================] - 0s 1ms/step - loss: 33204292.0000 - mae: 3936.1528 - val_loss: 31728714.0000 - val_mae: 3600.0945\n",
      "Epoch 10/100\n",
      "97/97 [==============================] - 0s 1ms/step - loss: 32648132.0000 - mae: 3932.3762 - val_loss: 31811766.0000 - val_mae: 3534.2585\n",
      "Epoch 11/100\n",
      "97/97 [==============================] - 0s 1ms/step - loss: 32733224.0000 - mae: 3875.4187 - val_loss: 32575214.0000 - val_mae: 3487.8972\n",
      "Epoch 12/100\n",
      "97/97 [==============================] - 0s 1ms/step - loss: 32233004.0000 - mae: 3862.1541 - val_loss: 31290538.0000 - val_mae: 3482.0491\n",
      "Epoch 13/100\n",
      "97/97 [==============================] - 0s 1ms/step - loss: 31947516.0000 - mae: 3827.5762 - val_loss: 31141510.0000 - val_mae: 3489.1907\n",
      "Epoch 14/100\n",
      "97/97 [==============================] - 0s 1ms/step - loss: 31556092.0000 - mae: 3808.5403 - val_loss: 31167858.0000 - val_mae: 3431.5969\n",
      "Epoch 15/100\n",
      "97/97 [==============================] - 0s 1ms/step - loss: 31143462.0000 - mae: 3761.6204 - val_loss: 30973244.0000 - val_mae: 3385.3506\n",
      "Epoch 16/100\n",
      "97/97 [==============================] - 0s 1ms/step - loss: 30662064.0000 - mae: 3686.3481 - val_loss: 30440458.0000 - val_mae: 3363.2307\n",
      "Epoch 17/100\n",
      "97/97 [==============================] - 0s 1ms/step - loss: 30213362.0000 - mae: 3701.7185 - val_loss: 29873622.0000 - val_mae: 3321.2239\n",
      "Epoch 18/100\n",
      "97/97 [==============================] - 0s 1ms/step - loss: 29935236.0000 - mae: 3562.8726 - val_loss: 29164884.0000 - val_mae: 3302.9001\n",
      "Epoch 19/100\n",
      "97/97 [==============================] - 0s 1ms/step - loss: 29352786.0000 - mae: 3558.5408 - val_loss: 29058530.0000 - val_mae: 3217.3684\n",
      "Epoch 20/100\n",
      "97/97 [==============================] - 0s 1ms/step - loss: 29123116.0000 - mae: 3534.8767 - val_loss: 28873582.0000 - val_mae: 3183.1091\n",
      "Epoch 21/100\n",
      "97/97 [==============================] - 0s 1ms/step - loss: 28413654.0000 - mae: 3476.2200 - val_loss: 28966350.0000 - val_mae: 3135.0820\n",
      "Epoch 22/100\n",
      "97/97 [==============================] - 0s 1ms/step - loss: 28160838.0000 - mae: 3441.8645 - val_loss: 28343834.0000 - val_mae: 3092.8909\n",
      "Epoch 23/100\n",
      "97/97 [==============================] - 0s 1ms/step - loss: 27705866.0000 - mae: 3348.8440 - val_loss: 27414912.0000 - val_mae: 3129.1597\n",
      "Epoch 24/100\n",
      "97/97 [==============================] - 0s 1ms/step - loss: 27391122.0000 - mae: 3354.4861 - val_loss: 27472646.0000 - val_mae: 3070.3025\n",
      "Epoch 25/100\n",
      "97/97 [==============================] - 0s 1ms/step - loss: 27135808.0000 - mae: 3341.0063 - val_loss: 26861444.0000 - val_mae: 3011.2351\n",
      "Epoch 26/100\n",
      "97/97 [==============================] - 0s 1ms/step - loss: 26941250.0000 - mae: 3206.9153 - val_loss: 26655432.0000 - val_mae: 3126.1321\n",
      "Epoch 27/100\n",
      "97/97 [==============================] - 0s 1ms/step - loss: 26541958.0000 - mae: 3309.9883 - val_loss: 26045786.0000 - val_mae: 3029.8950\n",
      "Epoch 28/100\n",
      "97/97 [==============================] - 0s 1ms/step - loss: 26336030.0000 - mae: 3236.9360 - val_loss: 26091414.0000 - val_mae: 3045.4661\n",
      "Epoch 29/100\n",
      "97/97 [==============================] - 0s 1ms/step - loss: 26064360.0000 - mae: 3157.9382 - val_loss: 25839454.0000 - val_mae: 3034.1443\n",
      "Epoch 30/100\n",
      "97/97 [==============================] - 0s 1ms/step - loss: 25767746.0000 - mae: 3153.2830 - val_loss: 25484756.0000 - val_mae: 3124.5928\n",
      "Epoch 31/100\n",
      "97/97 [==============================] - 0s 1ms/step - loss: 26037414.0000 - mae: 3210.7097 - val_loss: 25360608.0000 - val_mae: 3029.5659\n",
      "Epoch 32/100\n",
      "97/97 [==============================] - 0s 1ms/step - loss: 25539344.0000 - mae: 3120.4133 - val_loss: 25302692.0000 - val_mae: 2920.4954\n",
      "Epoch 33/100\n",
      "97/97 [==============================] - 0s 1ms/step - loss: 25575956.0000 - mae: 3137.4792 - val_loss: 25142086.0000 - val_mae: 2942.9492\n",
      "Epoch 34/100\n",
      "97/97 [==============================] - 0s 1ms/step - loss: 25161904.0000 - mae: 3155.8789 - val_loss: 24772886.0000 - val_mae: 2914.2217\n",
      "Epoch 35/100\n",
      "97/97 [==============================] - 0s 1ms/step - loss: 25043088.0000 - mae: 3095.3401 - val_loss: 25173836.0000 - val_mae: 2807.0859\n",
      "Epoch 36/100\n",
      "97/97 [==============================] - 0s 1ms/step - loss: 24852692.0000 - mae: 3043.2507 - val_loss: 26303958.0000 - val_mae: 2867.1455\n",
      "Epoch 37/100\n",
      "97/97 [==============================] - 0s 1ms/step - loss: 24740398.0000 - mae: 3008.8159 - val_loss: 24672794.0000 - val_mae: 3030.0132\n",
      "Epoch 38/100\n",
      "97/97 [==============================] - 0s 1ms/step - loss: 24756300.0000 - mae: 3093.5137 - val_loss: 25343228.0000 - val_mae: 2927.8225\n",
      "Epoch 39/100\n",
      "97/97 [==============================] - 0s 1ms/step - loss: 24580880.0000 - mae: 3017.4299 - val_loss: 24643644.0000 - val_mae: 2973.7681\n",
      "Epoch 40/100\n",
      "97/97 [==============================] - 0s 1ms/step - loss: 24597402.0000 - mae: 3063.1504 - val_loss: 24828260.0000 - val_mae: 2826.3704\n",
      "Epoch 41/100\n",
      "97/97 [==============================] - 0s 1ms/step - loss: 24369140.0000 - mae: 3053.1082 - val_loss: 25364468.0000 - val_mae: 2788.4614\n",
      "Epoch 42/100\n",
      "97/97 [==============================] - 0s 1ms/step - loss: 24252572.0000 - mae: 3014.1096 - val_loss: 24121572.0000 - val_mae: 2826.6118\n",
      "Epoch 43/100\n",
      "97/97 [==============================] - 0s 1ms/step - loss: 24385132.0000 - mae: 3041.0894 - val_loss: 24517642.0000 - val_mae: 2843.9055\n",
      "Epoch 44/100\n",
      "97/97 [==============================] - 0s 1ms/step - loss: 24036778.0000 - mae: 3023.9126 - val_loss: 23941576.0000 - val_mae: 2763.6199\n",
      "Epoch 45/100\n",
      "97/97 [==============================] - 0s 1ms/step - loss: 23904450.0000 - mae: 2964.0938 - val_loss: 24444392.0000 - val_mae: 2818.4084\n",
      "Epoch 46/100\n",
      "97/97 [==============================] - 0s 1ms/step - loss: 23824772.0000 - mae: 2991.2891 - val_loss: 24656540.0000 - val_mae: 2870.0552\n",
      "Epoch 47/100\n",
      "97/97 [==============================] - 0s 1ms/step - loss: 23893662.0000 - mae: 2962.9714 - val_loss: 24436878.0000 - val_mae: 2733.1174\n",
      "Epoch 48/100\n",
      "97/97 [==============================] - 0s 1ms/step - loss: 23785466.0000 - mae: 3012.9194 - val_loss: 24625622.0000 - val_mae: 2665.5776\n",
      "Epoch 49/100\n",
      "97/97 [==============================] - 0s 1ms/step - loss: 23584144.0000 - mae: 2955.4585 - val_loss: 24628962.0000 - val_mae: 2812.4873\n",
      "Epoch 50/100\n",
      "97/97 [==============================] - 0s 1ms/step - loss: 23462938.0000 - mae: 2955.9841 - val_loss: 23500966.0000 - val_mae: 2848.2776\n",
      "Epoch 51/100\n",
      "97/97 [==============================] - 0s 1ms/step - loss: 23692974.0000 - mae: 2989.8127 - val_loss: 23927316.0000 - val_mae: 2911.2510\n",
      "Epoch 52/100\n",
      "97/97 [==============================] - 0s 1ms/step - loss: 23454718.0000 - mae: 2913.6980 - val_loss: 24693672.0000 - val_mae: 2775.4441\n",
      "Epoch 53/100\n",
      "97/97 [==============================] - 0s 1ms/step - loss: 23349312.0000 - mae: 2928.3740 - val_loss: 23959006.0000 - val_mae: 2811.8984\n",
      "Epoch 54/100\n",
      "97/97 [==============================] - 0s 1ms/step - loss: 23491960.0000 - mae: 3011.1643 - val_loss: 23841550.0000 - val_mae: 2828.1648\n"
     ]
    },
    {
     "name": "stdout",
     "output_type": "stream",
     "text": [
      "Epoch 55/100\n",
      "97/97 [==============================] - 0s 1ms/step - loss: 23214004.0000 - mae: 2923.4319 - val_loss: 23864966.0000 - val_mae: 2978.9893\n",
      "Epoch 56/100\n",
      "97/97 [==============================] - 0s 1ms/step - loss: 23278158.0000 - mae: 3037.2712 - val_loss: 23831902.0000 - val_mae: 2793.9138\n",
      "Epoch 57/100\n",
      "97/97 [==============================] - 0s 1ms/step - loss: 23506644.0000 - mae: 2956.0615 - val_loss: 23726730.0000 - val_mae: 2694.5801\n",
      "Epoch 58/100\n",
      "97/97 [==============================] - 0s 1ms/step - loss: 23133592.0000 - mae: 2918.7847 - val_loss: 23681414.0000 - val_mae: 2779.7925\n",
      "Epoch 59/100\n",
      "97/97 [==============================] - 0s 1ms/step - loss: 23103846.0000 - mae: 2907.2810 - val_loss: 24711496.0000 - val_mae: 2744.6353\n",
      "Epoch 60/100\n",
      "97/97 [==============================] - 0s 1ms/step - loss: 23084416.0000 - mae: 2934.2361 - val_loss: 24926994.0000 - val_mae: 2670.5342\n",
      "Epoch 61/100\n",
      "97/97 [==============================] - 0s 1ms/step - loss: 23233082.0000 - mae: 2894.9666 - val_loss: 25706068.0000 - val_mae: 2712.7158\n",
      "Epoch 62/100\n",
      "97/97 [==============================] - 0s 1ms/step - loss: 23329670.0000 - mae: 2997.8560 - val_loss: 23529560.0000 - val_mae: 2748.9722\n",
      "Epoch 63/100\n",
      "97/97 [==============================] - 0s 1ms/step - loss: 23029982.0000 - mae: 2890.4250 - val_loss: 24227690.0000 - val_mae: 2824.0073\n",
      "Epoch 64/100\n",
      "97/97 [==============================] - 0s 1ms/step - loss: 23052424.0000 - mae: 2905.0708 - val_loss: 24304124.0000 - val_mae: 2837.7322\n",
      "Epoch 65/100\n",
      "97/97 [==============================] - 0s 1ms/step - loss: 23053710.0000 - mae: 2874.6147 - val_loss: 24699436.0000 - val_mae: 2833.6511\n",
      "Epoch 66/100\n",
      "97/97 [==============================] - 0s 1ms/step - loss: 23017430.0000 - mae: 2947.8552 - val_loss: 24396512.0000 - val_mae: 2852.2466\n",
      "Epoch 67/100\n",
      "97/97 [==============================] - 0s 1ms/step - loss: 23015432.0000 - mae: 3002.2085 - val_loss: 24851696.0000 - val_mae: 2643.6931\n",
      "Epoch 68/100\n",
      "97/97 [==============================] - 0s 1ms/step - loss: 22862840.0000 - mae: 2894.1196 - val_loss: 24304022.0000 - val_mae: 2759.6423\n",
      "Epoch 69/100\n",
      "97/97 [==============================] - 0s 1ms/step - loss: 22929044.0000 - mae: 2855.5740 - val_loss: 23360618.0000 - val_mae: 2871.4141\n",
      "Epoch 70/100\n",
      "97/97 [==============================] - 0s 1ms/step - loss: 23144224.0000 - mae: 2950.4963 - val_loss: 23979526.0000 - val_mae: 2799.1714\n",
      "Epoch 71/100\n",
      "97/97 [==============================] - 0s 1ms/step - loss: 22875868.0000 - mae: 2899.3977 - val_loss: 24730742.0000 - val_mae: 2675.3582\n",
      "Epoch 72/100\n",
      "97/97 [==============================] - 0s 1ms/step - loss: 23015586.0000 - mae: 2891.4507 - val_loss: 25089418.0000 - val_mae: 2813.2817\n",
      "Epoch 73/100\n",
      "97/97 [==============================] - 0s 1ms/step - loss: 22957668.0000 - mae: 2920.6638 - val_loss: 24260210.0000 - val_mae: 2695.9663\n",
      "Epoch 74/100\n",
      "97/97 [==============================] - 0s 1ms/step - loss: 22799148.0000 - mae: 2841.5942 - val_loss: 23684308.0000 - val_mae: 2910.0767\n",
      "Epoch 75/100\n",
      "97/97 [==============================] - 0s 1ms/step - loss: 22884298.0000 - mae: 2963.1350 - val_loss: 24984424.0000 - val_mae: 2746.0903\n",
      "Epoch 76/100\n",
      "97/97 [==============================] - 0s 1ms/step - loss: 22850724.0000 - mae: 2919.1174 - val_loss: 24784450.0000 - val_mae: 2811.4458\n",
      "Epoch 77/100\n",
      "97/97 [==============================] - 0s 1ms/step - loss: 22747830.0000 - mae: 2854.8010 - val_loss: 24225804.0000 - val_mae: 2885.1428\n",
      "Epoch 78/100\n",
      "97/97 [==============================] - 0s 1ms/step - loss: 22949034.0000 - mae: 2943.0447 - val_loss: 24519230.0000 - val_mae: 2742.5125\n",
      "Epoch 79/100\n",
      "97/97 [==============================] - 0s 1ms/step - loss: 22834446.0000 - mae: 2948.2607 - val_loss: 24233564.0000 - val_mae: 2689.6743\n",
      "Epoch 80/100\n",
      "97/97 [==============================] - 0s 1ms/step - loss: 22803444.0000 - mae: 2883.0713 - val_loss: 24239080.0000 - val_mae: 3038.3574\n",
      "Epoch 81/100\n",
      "97/97 [==============================] - 0s 1ms/step - loss: 22729842.0000 - mae: 2889.5073 - val_loss: 25442504.0000 - val_mae: 2625.6799\n",
      "Epoch 82/100\n",
      "97/97 [==============================] - 0s 1ms/step - loss: 22662784.0000 - mae: 2894.2588 - val_loss: 24268226.0000 - val_mae: 2756.9607\n",
      "Epoch 83/100\n",
      "97/97 [==============================] - 0s 1ms/step - loss: 22703806.0000 - mae: 2866.3459 - val_loss: 25240714.0000 - val_mae: 2667.8220\n",
      "Epoch 84/100\n",
      "97/97 [==============================] - 0s 1ms/step - loss: 22618850.0000 - mae: 2888.0640 - val_loss: 24736344.0000 - val_mae: 2692.1238\n",
      "Epoch 85/100\n",
      "97/97 [==============================] - 0s 1ms/step - loss: 22516122.0000 - mae: 2836.2622 - val_loss: 26579198.0000 - val_mae: 2849.3987\n",
      "Epoch 86/100\n",
      "97/97 [==============================] - 0s 1ms/step - loss: 22658666.0000 - mae: 2858.7434 - val_loss: 24073168.0000 - val_mae: 2807.8171\n",
      "Epoch 87/100\n",
      "97/97 [==============================] - 0s 1ms/step - loss: 22854160.0000 - mae: 2956.7920 - val_loss: 24557094.0000 - val_mae: 2859.9163\n",
      "Epoch 88/100\n",
      "97/97 [==============================] - 0s 1ms/step - loss: 22614932.0000 - mae: 2894.2917 - val_loss: 24786248.0000 - val_mae: 2730.5518\n",
      "Epoch 89/100\n",
      "97/97 [==============================] - 0s 1ms/step - loss: 22600076.0000 - mae: 2883.2322 - val_loss: 24489644.0000 - val_mae: 2722.9517\n",
      "Epoch 90/100\n",
      "97/97 [==============================] - 0s 1ms/step - loss: 22559502.0000 - mae: 2839.6768 - val_loss: 24885030.0000 - val_mae: 2839.0928\n",
      "Epoch 91/100\n",
      "97/97 [==============================] - 0s 1ms/step - loss: 22498584.0000 - mae: 2868.5396 - val_loss: 24943964.0000 - val_mae: 2735.6284\n",
      "Epoch 92/100\n",
      "97/97 [==============================] - 0s 1ms/step - loss: 22753418.0000 - mae: 2861.5498 - val_loss: 25365196.0000 - val_mae: 2771.8721\n",
      "Epoch 93/100\n",
      "97/97 [==============================] - 0s 2ms/step - loss: 22763566.0000 - mae: 2907.3728 - val_loss: 24573898.0000 - val_mae: 2780.4773\n",
      "Epoch 94/100\n",
      "97/97 [==============================] - 0s 2ms/step - loss: 22831116.0000 - mae: 2904.2080 - val_loss: 23998762.0000 - val_mae: 2720.2791\n",
      "Epoch 95/100\n",
      "97/97 [==============================] - 0s 1ms/step - loss: 22494412.0000 - mae: 2807.6584 - val_loss: 24664256.0000 - val_mae: 3072.6018\n",
      "Epoch 96/100\n",
      "97/97 [==============================] - 0s 1ms/step - loss: 22655050.0000 - mae: 2967.6357 - val_loss: 23974746.0000 - val_mae: 2860.2485\n",
      "Epoch 97/100\n",
      "97/97 [==============================] - 0s 1ms/step - loss: 22488394.0000 - mae: 2862.5486 - val_loss: 24739348.0000 - val_mae: 2740.7991\n",
      "Epoch 98/100\n",
      "97/97 [==============================] - 0s 1ms/step - loss: 22517264.0000 - mae: 2790.6077 - val_loss: 24865098.0000 - val_mae: 2849.3145\n",
      "Epoch 99/100\n",
      "97/97 [==============================] - 0s 1ms/step - loss: 22549440.0000 - mae: 2891.4526 - val_loss: 25641886.0000 - val_mae: 2789.6960\n",
      "Epoch 99: early stopping\n"
     ]
    }
   ],
   "source": [
    "h = model_regr.fit(x_train, y_train, \n",
    "               validation_split=0.2, \n",
    "               epochs=100, \n",
    "               batch_size=10,\n",
    "               verbose=1,\n",
    "               callbacks=[stop])"
   ]
  },
  {
   "cell_type": "markdown",
   "id": "cbbfef63",
   "metadata": {},
   "source": [
    "#### Model Summary"
   ]
  },
  {
   "cell_type": "code",
   "execution_count": 17,
   "id": "00112b73",
   "metadata": {
    "code_folding": []
   },
   "outputs": [
    {
     "name": "stdout",
     "output_type": "stream",
     "text": [
      "Model: \"sequential\"\n",
      "_________________________________________________________________\n",
      " Layer (type)                Output Shape              Param #   \n",
      "=================================================================\n",
      " dense (Dense)               (None, 9)                 90        \n",
      "                                                                 \n",
      " dense_1 (Dense)             (None, 128)               1280      \n",
      "                                                                 \n",
      " dense_2 (Dense)             (None, 1)                 129       \n",
      "                                                                 \n",
      "=================================================================\n",
      "Total params: 1,499\n",
      "Trainable params: 1,499\n",
      "Non-trainable params: 0\n",
      "_________________________________________________________________\n"
     ]
    }
   ],
   "source": [
    "# view summary\n",
    "model_regr.summary()"
   ]
  },
  {
   "cell_type": "code",
   "execution_count": 18,
   "id": "e9196066",
   "metadata": {},
   "outputs": [
    {
     "data": {
      "text/plain": [
       "dict_keys(['loss', 'mae', 'val_loss', 'val_mae'])"
      ]
     },
     "execution_count": 18,
     "metadata": {},
     "output_type": "execute_result"
    }
   ],
   "source": [
    "h.history.keys()"
   ]
  },
  {
   "cell_type": "code",
   "execution_count": 24,
   "id": "a23f72a9",
   "metadata": {},
   "outputs": [
    {
     "data": {
      "text/plain": [
       "99"
      ]
     },
     "execution_count": 24,
     "metadata": {},
     "output_type": "execute_result"
    }
   ],
   "source": [
    "len(h.history['mae'])"
   ]
  },
  {
   "cell_type": "code",
   "execution_count": 25,
   "id": "932c1485",
   "metadata": {},
   "outputs": [
    {
     "data": {
      "text/plain": [
       "99"
      ]
     },
     "execution_count": 25,
     "metadata": {},
     "output_type": "execute_result"
    }
   ],
   "source": [
    "len(h.history['mae'])"
   ]
  },
  {
   "cell_type": "code",
   "execution_count": 19,
   "id": "2922c75c",
   "metadata": {},
   "outputs": [
    {
     "data": {
      "text/plain": [
       "Text(0, 0.5, 'MAE')"
      ]
     },
     "execution_count": 19,
     "metadata": {},
     "output_type": "execute_result"
    },
    {
     "data": {
      "image/png": "[encoded data removed]",
      "text/plain": [
       "<Figure size 1080x432 with 2 Axes>"
      ]
     },
     "metadata": {
      "needs_background": "light"
     },
     "output_type": "display_data"
    }
   ],
   "source": [
    "#plotting\n",
    "\n",
    "fig, axs = plt.subplots(1,2,\n",
    "                        figsize=(15, 6),\n",
    "                        gridspec_kw={'hspace': 0.5, 'wspace': 0.2}) \n",
    "(ax1, ax2) = axs\n",
    "ax1.plot(h.history['loss'], label='Train')\n",
    "ax1.plot(h.history['val_loss'], label='Validation')\n",
    "ax1.set_title('learning rate=' + str(0.01))\n",
    "ax1.legend(loc=\"upper right\")\n",
    "ax1.set_xlabel(\"# of epochs\")\n",
    "ax1.set_ylabel(\"loss (MSE)\")\n",
    "\n",
    "ax2.plot(h.history['mae'], label='Train')\n",
    "ax2.plot(h.history['val_mae'], label='Validation')\n",
    "ax2.set_title('learning rate=' + str(0.01))\n",
    "ax2.legend(loc=\"upper right\")\n",
    "ax2.set_xlabel(\"# of epochs\")\n",
    "ax2.set_ylabel(\"MAE\")"
   ]
  },
  {
   "cell_type": "markdown",
   "id": "b6bd0740",
   "metadata": {},
   "source": [
    "#### Evaluation"
   ]
  },
  {
   "cell_type": "code",
   "execution_count": 26,
   "id": "3f251a72",
   "metadata": {},
   "outputs": [
    {
     "name": "stdout",
     "output_type": "stream",
     "text": [
      "5/5 [==============================] - 0s 1ms/step - loss: 19686920.0000 - mae: 2441.2908\n"
     ]
    }
   ],
   "source": [
    "val_mse, val_mae = model_regr.evaluate(x_test, y_test, verbose = 1)"
   ]
  },
  {
   "cell_type": "code",
   "execution_count": 27,
   "id": "2b1a1527",
   "metadata": {},
   "outputs": [
    {
     "name": "stdout",
     "output_type": "stream",
     "text": [
      "5/5 [==============================] - 2s 1ms/step\n"
     ]
    }
   ],
   "source": [
    "y_predict = model_regr.predict(x_test)"
   ]
  },
  {
   "cell_type": "markdown",
   "id": "9478c700",
   "metadata": {},
   "source": [
    "### Predicted vs. Actual Charges"
   ]
  },
  {
   "cell_type": "code",
   "execution_count": 32,
   "id": "a4fcaaa7",
   "metadata": {},
   "outputs": [
    {
     "data": {
      "text/html": [
       "<div>\n",
       "<style scoped>\n",
       "    .dataframe tbody tr th:only-of-type {\n",
       "        vertical-align: middle;\n",
       "    }\n",
       "\n",
       "    .dataframe tbody tr th {\n",
       "        vertical-align: top;\n",
       "    }\n",
       "\n",
       "    .dataframe thead th {\n",
       "        text-align: right;\n",
       "    }\n",
       "</style>\n",
       "<table border=\"1\" class=\"dataframe\">\n",
       "  <thead>\n",
       "    <tr style=\"text-align: right;\">\n",
       "      <th></th>\n",
       "      <th>Actual Charges</th>\n",
       "      <th>Predicted Charges</th>\n",
       "      <th>Difference</th>\n",
       "    </tr>\n",
       "  </thead>\n",
       "  <tbody>\n",
       "    <tr>\n",
       "      <th>0</th>\n",
       "      <td>9095.06825</td>\n",
       "      <td>10782.480469</td>\n",
       "      <td>1687.41</td>\n",
       "    </tr>\n",
       "    <tr>\n",
       "      <th>1</th>\n",
       "      <td>5272.17580</td>\n",
       "      <td>6419.902344</td>\n",
       "      <td>1147.73</td>\n",
       "    </tr>\n",
       "    <tr>\n",
       "      <th>2</th>\n",
       "      <td>29330.98315</td>\n",
       "      <td>32314.632812</td>\n",
       "      <td>2983.65</td>\n",
       "    </tr>\n",
       "    <tr>\n",
       "      <th>3</th>\n",
       "      <td>9301.89355</td>\n",
       "      <td>10176.330078</td>\n",
       "      <td>874.44</td>\n",
       "    </tr>\n",
       "    <tr>\n",
       "      <th>4</th>\n",
       "      <td>33750.29180</td>\n",
       "      <td>27592.048828</td>\n",
       "      <td>-6158.24</td>\n",
       "    </tr>\n",
       "  </tbody>\n",
       "</table>\n",
       "</div>"
      ],
      "text/plain": [
       "   Actual Charges  Predicted Charges  Difference\n",
       "0      9095.06825       10782.480469     1687.41\n",
       "1      5272.17580        6419.902344     1147.73\n",
       "2     29330.98315       32314.632812     2983.65\n",
       "3      9301.89355       10176.330078      874.44\n",
       "4     33750.29180       27592.048828    -6158.24"
      ]
     },
     "execution_count": 32,
     "metadata": {},
     "output_type": "execute_result"
    }
   ],
   "source": [
    "# show/hide code\n",
    "a = y_test.values.reshape(-1,1).flatten()\n",
    "b = y_predict.flatten()\n",
    "diff = (b - a)\n",
    "\n",
    "sim_data={\"Actual Charges\":a, 'Predicted Charges':b, 'Difference':np.round(diff,2)}\n",
    "\n",
    "sim_data=pd.DataFrame(sim_data)\n",
    "\n",
    "# Showing first 5 rows\n",
    "sim_data.head(5)"
   ]
  },
  {
   "cell_type": "markdown",
   "id": "afa17c7f",
   "metadata": {},
   "source": [
    "### Visualization"
   ]
  },
  {
   "cell_type": "code",
   "execution_count": 34,
   "id": "b678cec9",
   "metadata": {},
   "outputs": [
    {
     "data": {
      "text/plain": [
       "Text(0, 0.5, 'Predicted Charges')"
      ]
     },
     "execution_count": 34,
     "metadata": {},
     "output_type": "execute_result"
    },
    {
     "data": {
      "image/png": "[encoded data removed]",
      "text/plain": [
       "<Figure size 576x432 with 1 Axes>"
      ]
     },
     "metadata": {
      "needs_background": "light"
     },
     "output_type": "display_data"
    }
   ],
   "source": [
    "# visualization of actual vs. predicted charges\n",
    "plt.figure(figsize=(8, 6)) \n",
    "\n",
    "plt.scatter(y_test, y_predict, alpha=0.4, color = 'red')\n",
    "plt.title(\"Actual Vs. Predicted Charges\")\n",
    "plt.xlabel(\"Actual Charges\")\n",
    "plt.ylabel(\"Predicted Charges\")"
   ]
  },
  {
   "cell_type": "code",
   "execution_count": null,
   "id": "b5996049",
   "metadata": {},
   "outputs": [],
   "source": []
  },
  {
   "cell_type": "code",
   "execution_count": null,
   "id": "36e04f4d",
   "metadata": {},
   "outputs": [],
   "source": []
  },
  {
   "cell_type": "markdown",
   "id": "158ac4ff",
   "metadata": {},
   "source": [
    "# GridSearchCV"
   ]
  },
  {
   "cell_type": "markdown",
   "id": "8f2eb7b9",
   "metadata": {},
   "source": [
    "### Function For Designing Model\n",
    "Function that creates and returns your Keras sequential model (To use in skires wrappers)"
   ]
  },
  {
   "cell_type": "code",
   "execution_count": 35,
   "id": "47f6f3d1",
   "metadata": {},
   "outputs": [],
   "source": [
    "def design_model(features):\n",
    "  # ann model instance  \n",
    "  model_regr = Sequential()\n",
    "  \n",
    "  \n",
    "  #### INPUT LAYER>>>>\n",
    "  #adding the input layer\n",
    "  model_regr.add(Dense(units = X.shape[1] , activation = 'relu')) \n",
    "\n",
    "\n",
    "  #### HIDDEN LAYER1>>>>\n",
    "  # there are a numbers of activation functions such as softmax, sigmoid, \n",
    "  # but ReLU (relu) (Rectified Linear Unit) is very effective in many applications and we’ll use it here.\n",
    "  model_regr.add(Dense(128, activation = 'relu'))\n",
    "\n",
    "\n",
    "  #### OUTPUT LAYER>>>>\n",
    "  model_regr.add(Dense(1, activation = 'linear'))  \n",
    "\n",
    "\n",
    "  #### Optimizer\n",
    "  # WE have a lot of optimizers such as SGD (Stochastic Gradient Descent optimizer), Adam, RMSprop, and others.\n",
    "  # right now adam is the best one as its solved previous optmizers issues.\n",
    "  opt = Adam(learning_rate = 0.01)\n",
    "  # loss/cost \n",
    "  # MSE, MAE, Huber loss  \n",
    "  model_regr.compile(loss='mse',  metrics=['mae'], optimizer=opt)  \n",
    "    \n",
    "\n",
    "  return model_regr"
   ]
  },
  {
   "cell_type": "markdown",
   "id": "ffec5c2b",
   "metadata": {},
   "source": [
    "Invoke our fucntion and pass the x_train argument then save it in a variable."
   ]
  },
  {
   "cell_type": "code",
   "execution_count": 38,
   "id": "45d95368",
   "metadata": {},
   "outputs": [],
   "source": [
    "model_regr2 = design_model(x_train)"
   ]
  },
  {
   "cell_type": "markdown",
   "id": "e3848865",
   "metadata": {},
   "source": [
    "Fitting our training set to our `model_regr`"
   ]
  },
  {
   "cell_type": "markdown",
   "id": "9b4eb569",
   "metadata": {},
   "source": [
    "### Training Phase/Fit The Model"
   ]
  },
  {
   "cell_type": "code",
   "execution_count": 40,
   "id": "75ceea60",
   "metadata": {},
   "outputs": [
    {
     "name": "stdout",
     "output_type": "stream",
     "text": [
      "31/31 [==============================] - 0s 5ms/step - loss: 309223424.0000 - mae: 12940.2773 - val_loss: 289929280.0000 - val_mae: 11897.8164\n"
     ]
    },
    {
     "data": {
      "text/plain": [
       "<keras.callbacks.History at 0x14234df00a0>"
      ]
     },
     "execution_count": 40,
     "metadata": {},
     "output_type": "execute_result"
    }
   ],
   "source": [
    "model_regr2.fit(x_train, y_train, \n",
    "                validation_split=0.2, \n",
    "                verbose=1)"
   ]
  },
  {
   "cell_type": "markdown",
   "id": "37fc5d2b",
   "metadata": {},
   "source": [
    "To use KerasRegressor, we must define a function that creates and returns your Keras sequential model,(Above Function)\n",
    "then pass this function to the model argument when constructing the KerasClassifier class."
   ]
  },
  {
   "cell_type": "code",
   "execution_count": 43,
   "id": "5c43b34d",
   "metadata": {},
   "outputs": [],
   "source": [
    "model = KerasRegressor(model = model_regr2)"
   ]
  },
  {
   "cell_type": "markdown",
   "id": "75ff03ba",
   "metadata": {},
   "source": [
    "### Setting Up Hyperparameters"
   ]
  },
  {
   "cell_type": "markdown",
   "id": "8f7be4c4",
   "metadata": {},
   "source": [
    "This is computational extensive, we will use small value here.\n",
    "\n",
    "List of hyperparameters:\n",
    " 1. the learning rate\n",
    " 2. number of batches\n",
    " 3. number of epochs\n",
    " 4. number of units per hidden layer\n",
    " 5. activation functions."
   ]
  },
  {
   "cell_type": "code",
   "execution_count": 44,
   "id": "66339cf7",
   "metadata": {},
   "outputs": [],
   "source": [
    "param_grid = dict(epochs = [50,100],\n",
    "                  batch_size = [1,10,50])"
   ]
  },
  {
   "cell_type": "code",
   "execution_count": 45,
   "id": "f44813e8",
   "metadata": {},
   "outputs": [
    {
     "name": "stdout",
     "output_type": "stream",
     "text": [
      "INFO:tensorflow:Assets written to: C:\\Users\\Toto\\AppData\\Local\\Temp\\tmpe8rs3qgz\\assets\n",
      "INFO:tensorflow:Assets written to: C:\\Users\\Toto\\AppData\\Local\\Temp\\tmpnmgacech\\assets\n",
      "INFO:tensorflow:Assets written to: C:\\Users\\Toto\\AppData\\Local\\Temp\\tmp86kvi9ud\\assets\n",
      "INFO:tensorflow:Assets written to: C:\\Users\\Toto\\AppData\\Local\\Temp\\tmpi1pjnidb\\assets\n",
      "INFO:tensorflow:Assets written to: C:\\Users\\Toto\\AppData\\Local\\Temp\\tmpg4nlrjoq\\assets\n",
      "INFO:tensorflow:Assets written to: C:\\Users\\Toto\\AppData\\Local\\Temp\\tmp2uwrckwj\\assets\n",
      "INFO:tensorflow:Assets written to: C:\\Users\\Toto\\AppData\\Local\\Temp\\tmpuh1wkb6y\\assets\n",
      "INFO:tensorflow:Assets written to: C:\\Users\\Toto\\AppData\\Local\\Temp\\tmpq47_fk0h\\assets\n",
      "INFO:tensorflow:Assets written to: C:\\Users\\Toto\\AppData\\Local\\Temp\\tmpzy5plgyt\\assets\n",
      "INFO:tensorflow:Assets written to: C:\\Users\\Toto\\AppData\\Local\\Temp\\tmpkysctbv7\\assets\n",
      "INFO:tensorflow:Assets written to: C:\\Users\\Toto\\AppData\\Local\\Temp\\tmpcgd9f0nl\\assets\n",
      "INFO:tensorflow:Assets written to: C:\\Users\\Toto\\AppData\\Local\\Temp\\tmpe66xsblk\\assets\n",
      "INFO:tensorflow:Assets written to: C:\\Users\\Toto\\AppData\\Local\\Temp\\tmpatkggqj1\\assets\n",
      "INFO:tensorflow:Assets written to: C:\\Users\\Toto\\AppData\\Local\\Temp\\tmpjtmn4g70\\assets\n",
      "INFO:tensorflow:Assets written to: C:\\Users\\Toto\\AppData\\Local\\Temp\\tmp23mfm7i6\\assets\n",
      "INFO:tensorflow:Assets written to: C:\\Users\\Toto\\AppData\\Local\\Temp\\tmpompjjw9g\\assets\n",
      "INFO:tensorflow:Assets written to: C:\\Users\\Toto\\AppData\\Local\\Temp\\tmph418l4v9\\assets\n",
      "INFO:tensorflow:Assets written to: C:\\Users\\Toto\\AppData\\Local\\Temp\\tmpojcj5lyd\\assets\n",
      "INFO:tensorflow:Assets written to: C:\\Users\\Toto\\AppData\\Local\\Temp\\tmpujjplqpp\\assets\n",
      "INFO:tensorflow:Assets written to: C:\\Users\\Toto\\AppData\\Local\\Temp\\tmpu7burnni\\assets\n",
      "INFO:tensorflow:Assets written to: C:\\Users\\Toto\\AppData\\Local\\Temp\\tmpdzwmqxef\\assets\n",
      "INFO:tensorflow:Assets written to: C:\\Users\\Toto\\AppData\\Local\\Temp\\tmpi_l4lwlv\\assets\n",
      "INFO:tensorflow:Assets written to: C:\\Users\\Toto\\AppData\\Local\\Temp\\tmpo80lxgf2\\assets\n",
      "INFO:tensorflow:Assets written to: C:\\Users\\Toto\\AppData\\Local\\Temp\\tmpol6qfgje\\assets\n",
      "INFO:tensorflow:Assets written to: C:\\Users\\Toto\\AppData\\Local\\Temp\\tmpyj2mb57m\\assets\n",
      "INFO:tensorflow:Assets written to: C:\\Users\\Toto\\AppData\\Local\\Temp\\tmpfe7px2mz\\assets\n",
      "INFO:tensorflow:Assets written to: C:\\Users\\Toto\\AppData\\Local\\Temp\\tmpc7w8q4q9\\assets\n",
      "INFO:tensorflow:Assets written to: C:\\Users\\Toto\\AppData\\Local\\Temp\\tmpffkg19f7\\assets\n",
      "INFO:tensorflow:Assets written to: C:\\Users\\Toto\\AppData\\Local\\Temp\\tmp7f3zd8g4\\assets\n",
      "INFO:tensorflow:Assets written to: C:\\Users\\Toto\\AppData\\Local\\Temp\\tmpfaamq3bk\\assets\n",
      "INFO:tensorflow:Assets written to: C:\\Users\\Toto\\AppData\\Local\\Temp\\tmp2h05d83z\\assets\n",
      "INFO:tensorflow:Assets written to: C:\\Users\\Toto\\AppData\\Local\\Temp\\tmpfpydr4ff\\assets\n",
      "INFO:tensorflow:Assets written to: C:\\Users\\Toto\\AppData\\Local\\Temp\\tmpvwwetq0d\\assets\n",
      "INFO:tensorflow:Assets written to: C:\\Users\\Toto\\AppData\\Local\\Temp\\tmpygnjxzog\\assets\n",
      "INFO:tensorflow:Assets written to: C:\\Users\\Toto\\AppData\\Local\\Temp\\tmp6fqka6r8\\assets\n",
      "INFO:tensorflow:Assets written to: C:\\Users\\Toto\\AppData\\Local\\Temp\\tmpexbhodgd\\assets\n",
      "INFO:tensorflow:Assets written to: C:\\Users\\Toto\\AppData\\Local\\Temp\\tmpc33d4qc5\\assets\n",
      "INFO:tensorflow:Assets written to: C:\\Users\\Toto\\AppData\\Local\\Temp\\tmpm_es0wbt\\assets\n",
      "INFO:tensorflow:Assets written to: C:\\Users\\Toto\\AppData\\Local\\Temp\\tmpclfagg76\\assets\n",
      "Epoch 1/100\n",
      "1204/1204 [==============================] - 1s 815us/step - loss: 73357216.0000 - mae: 5452.2153\n",
      "Epoch 2/100\n",
      "1204/1204 [==============================] - 1s 794us/step - loss: 35112804.0000 - mae: 3995.2463\n",
      "Epoch 3/100\n",
      "1204/1204 [==============================] - 1s 791us/step - loss: 33356522.0000 - mae: 3907.5801\n",
      "Epoch 4/100\n",
      "1204/1204 [==============================] - 1s 808us/step - loss: 32102258.0000 - mae: 3716.0132\n",
      "Epoch 5/100\n",
      "1204/1204 [==============================] - 1s 787us/step - loss: 30849136.0000 - mae: 3521.0398\n",
      "Epoch 6/100\n",
      "1204/1204 [==============================] - 1s 788us/step - loss: 29115978.0000 - mae: 3397.9534\n",
      "Epoch 7/100\n",
      "1204/1204 [==============================] - 1s 804us/step - loss: 27610700.0000 - mae: 3213.9746\n",
      "Epoch 8/100\n",
      "1204/1204 [==============================] - 1s 791us/step - loss: 26339060.0000 - mae: 3164.3142\n",
      "Epoch 9/100\n",
      "1204/1204 [==============================] - 1s 787us/step - loss: 25570294.0000 - mae: 3046.1951\n",
      "Epoch 10/100\n",
      "1204/1204 [==============================] - 1s 790us/step - loss: 25666030.0000 - mae: 3070.7620\n",
      "Epoch 11/100\n",
      "1204/1204 [==============================] - 1s 800us/step - loss: 25011734.0000 - mae: 2964.6174\n",
      "Epoch 12/100\n",
      "1204/1204 [==============================] - 1s 827us/step - loss: 24913264.0000 - mae: 3025.1621\n",
      "Epoch 13/100\n",
      "1204/1204 [==============================] - 1s 854us/step - loss: 25091446.0000 - mae: 3004.5603\n",
      "Epoch 14/100\n",
      "1204/1204 [==============================] - 1s 791us/step - loss: 24506332.0000 - mae: 2963.5884\n",
      "Epoch 15/100\n",
      "1204/1204 [==============================] - 1s 792us/step - loss: 24612552.0000 - mae: 2980.2124\n",
      "Epoch 16/100\n",
      "1204/1204 [==============================] - 1s 792us/step - loss: 24590898.0000 - mae: 2964.7163\n",
      "Epoch 17/100\n",
      "1204/1204 [==============================] - 1s 795us/step - loss: 24138754.0000 - mae: 2946.6482\n",
      "Epoch 18/100\n",
      "1204/1204 [==============================] - 1s 802us/step - loss: 24522054.0000 - mae: 2975.5789\n",
      "Epoch 19/100\n",
      "1204/1204 [==============================] - 1s 800us/step - loss: 24372224.0000 - mae: 2931.0466\n",
      "Epoch 20/100\n",
      "1204/1204 [==============================] - 1s 799us/step - loss: 24118220.0000 - mae: 2930.5747\n",
      "Epoch 21/100\n",
      "1204/1204 [==============================] - 1s 789us/step - loss: 24024670.0000 - mae: 2905.1062\n",
      "Epoch 22/100\n",
      "1204/1204 [==============================] - 1s 789us/step - loss: 24498488.0000 - mae: 2982.4536\n",
      "Epoch 23/100\n",
      "1204/1204 [==============================] - 1s 792us/step - loss: 24330680.0000 - mae: 2920.7034\n",
      "Epoch 24/100\n",
      "1204/1204 [==============================] - 1s 803us/step - loss: 24372934.0000 - mae: 2995.2805\n",
      "Epoch 25/100\n",
      "1204/1204 [==============================] - 1s 788us/step - loss: 24203304.0000 - mae: 2924.0190\n",
      "Epoch 26/100\n",
      "1204/1204 [==============================] - 1s 802us/step - loss: 23973256.0000 - mae: 2901.1743\n",
      "Epoch 27/100\n",
      "1204/1204 [==============================] - 1s 792us/step - loss: 24080348.0000 - mae: 2951.9246\n",
      "Epoch 28/100\n",
      "1204/1204 [==============================] - 1s 811us/step - loss: 23983966.0000 - mae: 2933.4673\n",
      "Epoch 29/100\n",
      "1204/1204 [==============================] - 1s 817us/step - loss: 24316104.0000 - mae: 2936.3748\n",
      "Epoch 30/100\n",
      "1204/1204 [==============================] - 1s 811us/step - loss: 24056806.0000 - mae: 2932.6045\n",
      "Epoch 31/100\n",
      "1204/1204 [==============================] - 1s 805us/step - loss: 24102652.0000 - mae: 2927.8374\n",
      "Epoch 32/100\n",
      "1204/1204 [==============================] - 1s 805us/step - loss: 23939220.0000 - mae: 2932.4536\n",
      "Epoch 33/100\n",
      "1204/1204 [==============================] - 1s 787us/step - loss: 23991476.0000 - mae: 2884.8877\n",
      "Epoch 34/100\n",
      "1204/1204 [==============================] - 1s 798us/step - loss: 23593266.0000 - mae: 2934.6992\n",
      "Epoch 35/100\n",
      "1204/1204 [==============================] - 1s 781us/step - loss: 23995538.0000 - mae: 2905.5920\n",
      "Epoch 36/100\n",
      "1204/1204 [==============================] - 1s 807us/step - loss: 23790928.0000 - mae: 2851.7007\n",
      "Epoch 37/100\n",
      "1204/1204 [==============================] - 1s 806us/step - loss: 23761812.0000 - mae: 2928.0605\n",
      "Epoch 38/100\n",
      "1204/1204 [==============================] - 1s 782us/step - loss: 23777928.0000 - mae: 2891.0608\n",
      "Epoch 39/100\n",
      "1204/1204 [==============================] - 1s 792us/step - loss: 23077746.0000 - mae: 2831.3352\n",
      "Epoch 40/100\n",
      "1204/1204 [==============================] - 1s 792us/step - loss: 23915758.0000 - mae: 2902.3103\n",
      "Epoch 41/100\n",
      "1204/1204 [==============================] - 1s 783us/step - loss: 23558886.0000 - mae: 2901.9734\n",
      "Epoch 42/100\n",
      "1204/1204 [==============================] - 1s 806us/step - loss: 23606908.0000 - mae: 2943.7219\n",
      "Epoch 43/100\n",
      "1204/1204 [==============================] - 1s 808us/step - loss: 23755332.0000 - mae: 2867.9631\n",
      "Epoch 44/100\n"
     ]
    },
    {
     "name": "stdout",
     "output_type": "stream",
     "text": [
      "1204/1204 [==============================] - 1s 780us/step - loss: 23695836.0000 - mae: 2881.9966\n",
      "Epoch 45/100\n",
      "1204/1204 [==============================] - 1s 802us/step - loss: 23881438.0000 - mae: 2975.9783\n",
      "Epoch 46/100\n",
      "1204/1204 [==============================] - 1s 811us/step - loss: 23508826.0000 - mae: 2931.3577\n",
      "Epoch 47/100\n",
      "1204/1204 [==============================] - 1s 781us/step - loss: 23629864.0000 - mae: 2827.2256\n",
      "Epoch 48/100\n",
      "1204/1204 [==============================] - 1s 791us/step - loss: 23905580.0000 - mae: 2912.4146\n",
      "Epoch 49/100\n",
      "1204/1204 [==============================] - 1s 778us/step - loss: 23806574.0000 - mae: 2913.5784\n",
      "Epoch 50/100\n",
      "1204/1204 [==============================] - 1s 767us/step - loss: 24023214.0000 - mae: 2919.9800\n",
      "Epoch 51/100\n",
      "1204/1204 [==============================] - 1s 770us/step - loss: 23835378.0000 - mae: 2906.7744\n",
      "Epoch 52/100\n",
      "1204/1204 [==============================] - 1s 774us/step - loss: 23632646.0000 - mae: 2889.0735\n",
      "Epoch 53/100\n",
      "1204/1204 [==============================] - 1s 800us/step - loss: 23521718.0000 - mae: 2871.7744\n",
      "Epoch 54/100\n",
      "1204/1204 [==============================] - 1s 794us/step - loss: 23929088.0000 - mae: 2901.0554\n",
      "Epoch 55/100\n",
      "1204/1204 [==============================] - 1s 772us/step - loss: 23477204.0000 - mae: 2828.6946\n",
      "Epoch 56/100\n",
      "1204/1204 [==============================] - 1s 777us/step - loss: 23584136.0000 - mae: 2968.9377\n",
      "Epoch 57/100\n",
      "1204/1204 [==============================] - 1s 771us/step - loss: 23886094.0000 - mae: 2877.6389\n",
      "Epoch 58/100\n",
      "1204/1204 [==============================] - 1s 777us/step - loss: 23862666.0000 - mae: 2891.4546\n",
      "Epoch 59/100\n",
      "1204/1204 [==============================] - 1s 772us/step - loss: 23601234.0000 - mae: 2885.8269\n",
      "Epoch 60/100\n",
      "1204/1204 [==============================] - 1s 784us/step - loss: 23302070.0000 - mae: 2908.8472\n",
      "Epoch 61/100\n",
      "1204/1204 [==============================] - 1s 764us/step - loss: 23523862.0000 - mae: 2872.9075\n",
      "Epoch 62/100\n",
      "1204/1204 [==============================] - 1s 804us/step - loss: 23345264.0000 - mae: 2814.0784\n",
      "Epoch 63/100\n",
      "1204/1204 [==============================] - 1s 807us/step - loss: 23351496.0000 - mae: 2935.1018\n",
      "Epoch 64/100\n",
      "1204/1204 [==============================] - 1s 769us/step - loss: 23351786.0000 - mae: 2835.2417\n",
      "Epoch 65/100\n",
      "1204/1204 [==============================] - 1s 779us/step - loss: 23685274.0000 - mae: 2881.1416\n",
      "Epoch 66/100\n",
      "1204/1204 [==============================] - 1s 766us/step - loss: 23618130.0000 - mae: 2888.3909\n",
      "Epoch 67/100\n",
      "1204/1204 [==============================] - 1s 764us/step - loss: 23694246.0000 - mae: 2851.6848\n",
      "Epoch 68/100\n",
      "1204/1204 [==============================] - 1s 788us/step - loss: 23357162.0000 - mae: 2839.8970\n",
      "Epoch 69/100\n",
      "1204/1204 [==============================] - 1s 772us/step - loss: 22990842.0000 - mae: 2857.9272\n",
      "Epoch 70/100\n",
      "1204/1204 [==============================] - 1s 780us/step - loss: 23066672.0000 - mae: 2820.1562\n",
      "Epoch 71/100\n",
      "1204/1204 [==============================] - 1s 776us/step - loss: 23162464.0000 - mae: 2867.4827\n",
      "Epoch 72/100\n",
      "1204/1204 [==============================] - 1s 772us/step - loss: 23352708.0000 - mae: 2828.4045\n",
      "Epoch 73/100\n",
      "1204/1204 [==============================] - 1s 765us/step - loss: 23296446.0000 - mae: 2898.6360\n",
      "Epoch 74/100\n",
      "1204/1204 [==============================] - 1s 762us/step - loss: 23214618.0000 - mae: 2875.9441\n",
      "Epoch 75/100\n",
      "1204/1204 [==============================] - 1s 773us/step - loss: 22976996.0000 - mae: 2811.0815\n",
      "Epoch 76/100\n",
      "1204/1204 [==============================] - 1s 769us/step - loss: 23150310.0000 - mae: 2885.0244\n",
      "Epoch 77/100\n",
      "1204/1204 [==============================] - 1s 787us/step - loss: 23573800.0000 - mae: 2812.2744\n",
      "Epoch 78/100\n",
      "1204/1204 [==============================] - 1s 775us/step - loss: 22958358.0000 - mae: 2873.9265\n",
      "Epoch 79/100\n",
      "1204/1204 [==============================] - 1s 805us/step - loss: 22766754.0000 - mae: 2813.1616\n",
      "Epoch 80/100\n",
      "1204/1204 [==============================] - 1s 820us/step - loss: 23307612.0000 - mae: 2834.8950\n",
      "Epoch 81/100\n",
      "1204/1204 [==============================] - 1s 772us/step - loss: 22986854.0000 - mae: 2791.6396\n",
      "Epoch 82/100\n",
      "1204/1204 [==============================] - 1s 769us/step - loss: 22937212.0000 - mae: 2805.5637\n",
      "Epoch 83/100\n",
      "1204/1204 [==============================] - 1s 789us/step - loss: 22832224.0000 - mae: 2796.8921\n",
      "Epoch 84/100\n",
      "1204/1204 [==============================] - 1s 769us/step - loss: 22786172.0000 - mae: 2815.0466\n",
      "Epoch 85/100\n",
      "1204/1204 [==============================] - 1s 787us/step - loss: 22739144.0000 - mae: 2795.2410\n",
      "Epoch 86/100\n",
      "1204/1204 [==============================] - 1s 778us/step - loss: 22711206.0000 - mae: 2775.1567\n",
      "Epoch 87/100\n",
      "1204/1204 [==============================] - 1s 765us/step - loss: 22616630.0000 - mae: 2813.0872\n",
      "Epoch 88/100\n",
      "1204/1204 [==============================] - 1s 767us/step - loss: 22864278.0000 - mae: 2804.9023\n",
      "Epoch 89/100\n",
      "1204/1204 [==============================] - 1s 798us/step - loss: 22470138.0000 - mae: 2747.4265\n",
      "Epoch 90/100\n",
      "1204/1204 [==============================] - 1s 767us/step - loss: 22431802.0000 - mae: 2804.7048\n",
      "Epoch 91/100\n",
      "1204/1204 [==============================] - 1s 780us/step - loss: 22412348.0000 - mae: 2799.4585\n",
      "Epoch 92/100\n",
      "1204/1204 [==============================] - 1s 764us/step - loss: 22246626.0000 - mae: 2751.2976\n",
      "Epoch 93/100\n",
      "1204/1204 [==============================] - 1s 766us/step - loss: 22376978.0000 - mae: 2781.7805\n",
      "Epoch 94/100\n",
      "1204/1204 [==============================] - 1s 776us/step - loss: 22650454.0000 - mae: 2764.1792\n",
      "Epoch 95/100\n",
      "1204/1204 [==============================] - 1s 791us/step - loss: 22342854.0000 - mae: 2776.9382\n",
      "Epoch 96/100\n",
      "1204/1204 [==============================] - 1s 814us/step - loss: 22455476.0000 - mae: 2754.7568\n",
      "Epoch 97/100\n",
      "1204/1204 [==============================] - 1s 822us/step - loss: 22183772.0000 - mae: 2817.4065\n",
      "Epoch 98/100\n",
      "1204/1204 [==============================] - 1s 786us/step - loss: 22334790.0000 - mae: 2743.4761\n",
      "Epoch 99/100\n",
      "1204/1204 [==============================] - 1s 768us/step - loss: 21932470.0000 - mae: 2665.2351\n",
      "Epoch 100/100\n",
      "1204/1204 [==============================] - 1s 783us/step - loss: 22239028.0000 - mae: 2786.9651\n"
     ]
    }
   ],
   "source": [
    "grid = GridSearchCV(estimator=model, \n",
    "                    param_grid=param_grid,\n",
    "                    n_jobs=-1, # use all processor cores of our machine (faster!!)\n",
    "                    scoring = 'r2',\n",
    "                    return_train_score = True,\n",
    "                    cv=3)\n",
    "\n",
    "grid_result = grid.fit(x_train, y_train)"
   ]
  },
  {
   "cell_type": "code",
   "execution_count": null,
   "id": "6fef2cbb",
   "metadata": {},
   "outputs": [],
   "source": [
    "grid_result.best_score_ , grid_result.best_params_"
   ]
  },
  {
   "cell_type": "code",
   "execution_count": null,
   "id": "a5767321",
   "metadata": {},
   "outputs": [],
   "source": []
  },
  {
   "cell_type": "code",
   "execution_count": null,
   "id": "555f2cc5",
   "metadata": {},
   "outputs": [],
   "source": []
  },
  {
   "cell_type": "code",
   "execution_count": null,
   "id": "a1ebf171",
   "metadata": {},
   "outputs": [],
   "source": []
  },
  {
   "cell_type": "code",
   "execution_count": null,
   "id": "97fbbd14",
   "metadata": {},
   "outputs": [],
   "source": []
  },
  {
   "cell_type": "code",
   "execution_count": null,
   "id": "28f9c8b3",
   "metadata": {},
   "outputs": [],
   "source": []
  },
  {
   "cell_type": "code",
   "execution_count": null,
   "id": "386346de",
   "metadata": {},
   "outputs": [],
   "source": []
  },
  {
   "cell_type": "markdown",
   "id": "2a9d9674",
   "metadata": {},
   "source": [
    "### Summary\n",
    "\n",
    "\n",
    "1. Preparing the data for learning:\n",
    "2. separating features from labels using array slicing\n",
    "3. determining the shape of your data\n",
    "4. preprocessing the categorical variables using one-hot encoding\n",
    "5. splitting the data into training and test sets\n",
    "6. scaling the numerical features\n",
    "7. Designing a Sequential model by chaining InputLayer() and the tf.keras.layers.Dense layers. InputLayer() was used as a placeholder for the input data. The output layer in this case needed one neuron since we need a prediction of a single value in the regression. And finally, hidden layers were added with the relu activation function to handle complex dependencies in the data.\n",
    "8. Choosing an optimizer using keras.optimizers with a specific learning rate hyperparameter.\n",
    "9. Training the model - using model.fit() to train the model on the training data and training labels.\n",
    "10. Setting the values for the learning hyperparameters: number of epochs and batch sizes.\n",
    "11. Evaluating the model using model.evaluate() on the test data.\n"
   ]
  }
 ],
 "metadata": {
  "kernelspec": {
   "display_name": "Python 3 (ipykernel)",
   "language": "python",
   "name": "python3"
  },
  "language_info": {
   "codemirror_mode": {
    "name": "ipython",
    "version": 3
   },
   "file_extension": ".py",
   "mimetype": "text/x-python",
   "name": "python",
   "nbconvert_exporter": "python",
   "pygments_lexer": "ipython3",
   "version": "3.8.5"
  }
 },
 "nbformat": 4,
 "nbformat_minor": 5
}
