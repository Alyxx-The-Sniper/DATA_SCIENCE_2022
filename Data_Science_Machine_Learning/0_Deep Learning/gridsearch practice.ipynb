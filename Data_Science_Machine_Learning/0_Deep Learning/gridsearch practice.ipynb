{
 "cells": [
  {
   "cell_type": "code",
   "execution_count": 142,
   "id": "0ed5e34f",
   "metadata": {},
   "outputs": [],
   "source": [
    "import numpy as np\n",
    "import tensorflow as tf\n",
    "from sklearn.model_selection import GridSearchCV\n",
    "from tensorflow.keras.models import Sequential\n",
    "from tensorflow.keras.layers import Dense\n",
    "from scikeras.wrappers import KerasClassifier"
   ]
  },
  {
   "cell_type": "code",
   "execution_count": 143,
   "id": "a2a40ca4",
   "metadata": {},
   "outputs": [],
   "source": [
    "# load dataset\n",
    "dataset = np.loadtxt(\"https://raw.githubusercontent.com/jbrownlee/Datasets/master/pima-indians-diabetes.data.csv\", delimiter=\",\")"
   ]
  },
  {
   "cell_type": "code",
   "execution_count": 144,
   "id": "caa65e99",
   "metadata": {},
   "outputs": [],
   "source": [
    "# split into input (X) and output (Y) variables\n",
    "X = dataset[:,0:8]\n",
    "Y = dataset[:,8]"
   ]
  },
  {
   "cell_type": "code",
   "execution_count": 147,
   "id": "7ac03b6b",
   "metadata": {},
   "outputs": [],
   "source": [
    "# Function to create model, required for KerasClassifier\n",
    "def create_model():\n",
    "    # create model\n",
    "    model = Sequential()\n",
    "    model.add(Dense(12, input_shape=(8,), activation='relu'))\n",
    "    model.add(Dense(1, activation='sigmoid'))\n",
    "    # Compile model\n",
    "    model.compile(loss='binary_crossentropy', optimizer='adam', metrics=['accuracy'])\n",
    "    return model"
   ]
  },
  {
   "cell_type": "code",
   "execution_count": 148,
   "id": "295e7d83",
   "metadata": {},
   "outputs": [],
   "source": [
    "# fix random seed for reproducibility\n",
    "seed = 7\n",
    "tf.random.set_seed(seed)"
   ]
  },
  {
   "cell_type": "code",
   "execution_count": 149,
   "id": "27d98df0",
   "metadata": {},
   "outputs": [],
   "source": [
    "# create model\n",
    "model = KerasClassifier(model=create_model, verbose=0)"
   ]
  },
  {
   "cell_type": "code",
   "execution_count": null,
   "id": "2dff854f",
   "metadata": {},
   "outputs": [],
   "source": [
    "# define the grid search parameters\n",
    "batch_size = [10, 20, 40, 60, 80, 100]\n",
    "epochs = [10, 50, 100]\n",
    "param_grid = dict(batch_size=batch_size, epochs=epochs)\n",
    "grid = GridSearchCV(estimator=model, param_grid=param_grid, n_jobs=-1, cv=3)\n",
    "grid_result = grid.fit(X, Y)"
   ]
  },
  {
   "cell_type": "code",
   "execution_count": null,
   "id": "e927d164",
   "metadata": {},
   "outputs": [],
   "source": [
    "# summarize results\n",
    "print(\"Best: %f using %s\" % (grid_result.best_score_, grid_result.best_params_))\n",
    "means = grid_result.cv_results_['mean_test_score']\n",
    "stds = grid_result.cv_results_['std_test_score']\n",
    "params = grid_result.cv_results_['params']\n",
    "for mean, stdev, param in zip(means, stds, params):\n",
    "    print(\"%f (%f) with: %r\" % (mean, stdev, param))"
   ]
  },
  {
   "cell_type": "code",
   "execution_count": 19,
   "id": "8e3c78ef",
   "metadata": {},
   "outputs": [
    {
     "name": "stdout",
     "output_type": "stream",
     "text": [
      "tf.Tensor(\n",
      "[[ 2.359313 ]\n",
      " [ 0.1013025]\n",
      " [ 1.938796 ]\n",
      " [-0.4313997]\n",
      " [ 1.3619559]\n",
      " [-0.4581666]\n",
      " [ 1.0051461]\n",
      " [ 1.190316 ]\n",
      " [ 1.5289392]\n",
      " [ 1.007003 ]], shape=(10, 1), dtype=float32)\n"
     ]
    }
   ],
   "source": [
    "x_train = tf.random.normal((10,1), 1, 1, dtype=tf.float32)\n",
    "print(x_train)"
   ]
  },
  {
   "cell_type": "code",
   "execution_count": 140,
   "id": "8282c9d0",
   "metadata": {},
   "outputs": [
    {
     "data": {
      "text/plain": [
       "<tf.Tensor: shape=(10, 1), dtype=float32, numpy=\n",
       "array([[ 0.17036277],\n",
       "       [-0.82662714],\n",
       "       [ 1.1251936 ],\n",
       "       [ 2.1770082 ],\n",
       "       [-0.1696676 ],\n",
       "       [ 0.9906755 ],\n",
       "       [ 2.7336211 ],\n",
       "       [-0.03432238],\n",
       "       [ 1.1381068 ],\n",
       "       [ 0.08535814]], dtype=float32)>"
      ]
     },
     "execution_count": 140,
     "metadata": {},
     "output_type": "execute_result"
    }
   ],
   "source": [
    "tf.random.set_seed(3)\n",
    "first = tf.random.normal((10,1), 1, 1)\n",
    "first"
   ]
  },
  {
   "cell_type": "code",
   "execution_count": 104,
   "id": "abd81ece",
   "metadata": {},
   "outputs": [
    {
     "name": "stdout",
     "output_type": "stream",
     "text": [
      "tf.Tensor(\n",
      "[[ 0.17036277]\n",
      " [-0.82662714]\n",
      " [ 1.1251936 ]\n",
      " [ 2.1770082 ]\n",
      " [-0.1696676 ]\n",
      " [ 0.9906755 ]\n",
      " [ 2.7336211 ]\n",
      " [-0.03432238]\n",
      " [ 1.1381068 ]\n",
      " [ 0.08535814]], shape=(10, 1), dtype=float32)\n",
      "tf.Tensor(\n",
      "[[ 2.6663146 ]\n",
      " [ 1.7051975 ]\n",
      " [ 2.8652127 ]\n",
      " [ 1.834109  ]\n",
      " [-0.02303874]\n",
      " [ 1.2670431 ]\n",
      " [ 1.5003455 ]\n",
      " [ 1.0385396 ]\n",
      " [ 2.3715906 ]\n",
      " [-0.27997875]], shape=(10, 1), dtype=float32)\n"
     ]
    }
   ],
   "source": [
    "tf.random.set_seed(3)\n",
    "first = tf.random.normal((10,1), 1, 1, dtype=tf.float32)\n",
    "print(first)\n",
    "sec = tf.random.normal((10,1), 1, 1, dtype=tf.float32)\n",
    "print(sec)"
   ]
  },
  {
   "cell_type": "code",
   "execution_count": null,
   "id": "a2643a53",
   "metadata": {},
   "outputs": [],
   "source": []
  },
  {
   "cell_type": "code",
   "execution_count": null,
   "id": "464ca89a",
   "metadata": {},
   "outputs": [],
   "source": []
  },
  {
   "cell_type": "code",
   "execution_count": null,
   "id": "4decf5ae",
   "metadata": {},
   "outputs": [],
   "source": []
  },
  {
   "cell_type": "code",
   "execution_count": null,
   "id": "11dbbd04",
   "metadata": {},
   "outputs": [],
   "source": []
  },
  {
   "cell_type": "code",
   "execution_count": null,
   "id": "2a8e6661",
   "metadata": {},
   "outputs": [],
   "source": []
  },
  {
   "cell_type": "code",
   "execution_count": null,
   "id": "a2b8177f",
   "metadata": {},
   "outputs": [],
   "source": []
  },
  {
   "cell_type": "code",
   "execution_count": null,
   "id": "c653f1b4",
   "metadata": {},
   "outputs": [],
   "source": []
  }
 ],
 "metadata": {
  "kernelspec": {
   "display_name": "Python 3 (ipykernel)",
   "language": "python",
   "name": "python3"
  },
  "language_info": {
   "codemirror_mode": {
    "name": "ipython",
    "version": 3
   },
   "file_extension": ".py",
   "mimetype": "text/x-python",
   "name": "python",
   "nbconvert_exporter": "python",
   "pygments_lexer": "ipython3",
   "version": "3.8.13"
  }
 },
 "nbformat": 4,
 "nbformat_minor": 5
}
