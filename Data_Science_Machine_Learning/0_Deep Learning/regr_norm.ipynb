{
 "cells": [
  {
   "cell_type": "markdown",
   "id": "c197be44",
   "metadata": {},
   "source": [
    "# Deep Learning\n",
    "\n",
    "Regression"
   ]
  },
  {
   "cell_type": "code",
   "execution_count": 1,
   "id": "ed3d59cf",
   "metadata": {},
   "outputs": [
    {
     "name": "stderr",
     "output_type": "stream",
     "text": [
      "C:\\Users\\Toto\\anaconda3\\lib\\site-packages\\scipy\\__init__.py:146: UserWarning: A NumPy version >=1.16.5 and <1.23.0 is required for this version of SciPy (detected version 1.23.1\n",
      "  warnings.warn(f\"A NumPy version >={np_minversion} and <{np_maxversion}\"\n"
     ]
    }
   ],
   "source": [
    "import pandas as pd\n",
    "\n",
    "from sklearn.model_selection import train_test_split\n",
    "\n",
    "# from sklearn.compose import ColumnTransformer\n",
    "from sklearn.preprocessing import StandardScaler\n",
    "\n",
    "import tensorflow as tf\n",
    "from tensorflow.keras.models import Sequential\n",
    "from tensorflow.keras import layers\n",
    "from tensorflow.keras.layers import Dense, Activation\n",
    "from tensorflow.keras.optimizers import Adam\n",
    "from tensorflow.keras.callbacks import EarlyStopping\n",
    "\n",
    "import matplotlib.pyplot as plt"
   ]
  },
  {
   "cell_type": "code",
   "execution_count": 2,
   "id": "9e94810b",
   "metadata": {},
   "outputs": [
    {
     "name": "stdout",
     "output_type": "stream",
     "text": [
      "(1338, 7)\n"
     ]
    },
    {
     "data": {
      "text/html": [
       "<div>\n",
       "<style scoped>\n",
       "    .dataframe tbody tr th:only-of-type {\n",
       "        vertical-align: middle;\n",
       "    }\n",
       "\n",
       "    .dataframe tbody tr th {\n",
       "        vertical-align: top;\n",
       "    }\n",
       "\n",
       "    .dataframe thead th {\n",
       "        text-align: right;\n",
       "    }\n",
       "</style>\n",
       "<table border=\"1\" class=\"dataframe\">\n",
       "  <thead>\n",
       "    <tr style=\"text-align: right;\">\n",
       "      <th></th>\n",
       "      <th>age</th>\n",
       "      <th>sex</th>\n",
       "      <th>bmi</th>\n",
       "      <th>children</th>\n",
       "      <th>smoker</th>\n",
       "      <th>region</th>\n",
       "      <th>charges</th>\n",
       "    </tr>\n",
       "  </thead>\n",
       "  <tbody>\n",
       "    <tr>\n",
       "      <th>0</th>\n",
       "      <td>19</td>\n",
       "      <td>1</td>\n",
       "      <td>27.90</td>\n",
       "      <td>0</td>\n",
       "      <td>1</td>\n",
       "      <td>southwest</td>\n",
       "      <td>16884.9240</td>\n",
       "    </tr>\n",
       "    <tr>\n",
       "      <th>1</th>\n",
       "      <td>18</td>\n",
       "      <td>0</td>\n",
       "      <td>33.77</td>\n",
       "      <td>1</td>\n",
       "      <td>0</td>\n",
       "      <td>southeast</td>\n",
       "      <td>1725.5523</td>\n",
       "    </tr>\n",
       "    <tr>\n",
       "      <th>2</th>\n",
       "      <td>28</td>\n",
       "      <td>0</td>\n",
       "      <td>33.00</td>\n",
       "      <td>3</td>\n",
       "      <td>0</td>\n",
       "      <td>southeast</td>\n",
       "      <td>4449.4620</td>\n",
       "    </tr>\n",
       "  </tbody>\n",
       "</table>\n",
       "</div>"
      ],
      "text/plain": [
       "   age  sex    bmi  children  smoker     region     charges\n",
       "0   19    1  27.90         0       1  southwest  16884.9240\n",
       "1   18    0  33.77         1       0  southeast   1725.5523\n",
       "2   28    0  33.00         3       0  southeast   4449.4620"
      ]
     },
     "execution_count": 2,
     "metadata": {},
     "output_type": "execute_result"
    }
   ],
   "source": [
    "df = pd.read_csv('insurance.csv') #load the dataset\n",
    "print(df.shape)\n",
    "df.head(3)"
   ]
  },
  {
   "cell_type": "code",
   "execution_count": 3,
   "id": "480dace9",
   "metadata": {},
   "outputs": [
    {
     "data": {
      "text/plain": [
       "array(['southwest', 'southeast', '0rthwest', '0rtheast'], dtype=object)"
      ]
     },
     "execution_count": 3,
     "metadata": {},
     "output_type": "execute_result"
    }
   ],
   "source": [
    "# inspect categorical features\n",
    "df.region.unique()"
   ]
  },
  {
   "cell_type": "code",
   "execution_count": 4,
   "id": "4e658652",
   "metadata": {},
   "outputs": [
    {
     "data": {
      "text/plain": [
       "array(['southwest', 'southeast', 'northwest', 'northeast'], dtype=object)"
      ]
     },
     "execution_count": 4,
     "metadata": {},
     "output_type": "execute_result"
    }
   ],
   "source": [
    "# clean categorical features\n",
    "df.region = df.region.replace('0', 'no', regex=True)\n",
    "df.region.unique()"
   ]
  },
  {
   "cell_type": "code",
   "execution_count": 5,
   "id": "bdad3392",
   "metadata": {},
   "outputs": [],
   "source": [
    "# Define X and y\n",
    "X = df.iloc[:,0:6]\n",
    "y = df.iloc[:,-1]"
   ]
  },
  {
   "cell_type": "code",
   "execution_count": 6,
   "id": "dc965645",
   "metadata": {},
   "outputs": [
    {
     "data": {
      "text/html": [
       "<div>\n",
       "<style scoped>\n",
       "    .dataframe tbody tr th:only-of-type {\n",
       "        vertical-align: middle;\n",
       "    }\n",
       "\n",
       "    .dataframe tbody tr th {\n",
       "        vertical-align: top;\n",
       "    }\n",
       "\n",
       "    .dataframe thead th {\n",
       "        text-align: right;\n",
       "    }\n",
       "</style>\n",
       "<table border=\"1\" class=\"dataframe\">\n",
       "  <thead>\n",
       "    <tr style=\"text-align: right;\">\n",
       "      <th></th>\n",
       "      <th>age</th>\n",
       "      <th>sex</th>\n",
       "      <th>bmi</th>\n",
       "      <th>children</th>\n",
       "      <th>smoker</th>\n",
       "      <th>region_northeast</th>\n",
       "      <th>region_northwest</th>\n",
       "      <th>region_southeast</th>\n",
       "      <th>region_southwest</th>\n",
       "    </tr>\n",
       "  </thead>\n",
       "  <tbody>\n",
       "    <tr>\n",
       "      <th>0</th>\n",
       "      <td>19</td>\n",
       "      <td>1</td>\n",
       "      <td>27.90</td>\n",
       "      <td>0</td>\n",
       "      <td>1</td>\n",
       "      <td>0</td>\n",
       "      <td>0</td>\n",
       "      <td>0</td>\n",
       "      <td>1</td>\n",
       "    </tr>\n",
       "    <tr>\n",
       "      <th>1</th>\n",
       "      <td>18</td>\n",
       "      <td>0</td>\n",
       "      <td>33.77</td>\n",
       "      <td>1</td>\n",
       "      <td>0</td>\n",
       "      <td>0</td>\n",
       "      <td>0</td>\n",
       "      <td>1</td>\n",
       "      <td>0</td>\n",
       "    </tr>\n",
       "  </tbody>\n",
       "</table>\n",
       "</div>"
      ],
      "text/plain": [
       "   age  sex    bmi  children  smoker  region_northeast  region_northwest  \\\n",
       "0   19    1  27.90         0       1                 0                 0   \n",
       "1   18    0  33.77         1       0                 0                 0   \n",
       "\n",
       "   region_southeast  region_southwest  \n",
       "0                 0                 1  \n",
       "1                 1                 0  "
      ]
     },
     "execution_count": 6,
     "metadata": {},
     "output_type": "execute_result"
    }
   ],
   "source": [
    "# one-hot encoding for categorical variables\n",
    "X = pd.get_dummies(X) \n",
    "X.head(2)"
   ]
  },
  {
   "cell_type": "code",
   "execution_count": 7,
   "id": "534ee997",
   "metadata": {},
   "outputs": [],
   "source": [
    "# Split data\n",
    "x_train, x_test, y_train, y_test = train_test_split(X, y,\n",
    "                                                    test_size = 0.3,\n",
    "                                                    random_state = 42)"
   ]
  },
  {
   "cell_type": "code",
   "execution_count": 8,
   "id": "48d83c36",
   "metadata": {},
   "outputs": [],
   "source": [
    "# standardize\n",
    "scaler = StandardScaler()\n",
    "x_train = scaler.fit_transform(x_train)\n",
    "x_test = scaler.transform(x_test)"
   ]
  },
  {
   "cell_type": "markdown",
   "id": "8f2eb7b9",
   "metadata": {},
   "source": [
    "# Designing Model"
   ]
  },
  {
   "cell_type": "code",
   "execution_count": 9,
   "id": "7fea8644",
   "metadata": {},
   "outputs": [],
   "source": [
    "# Creating a Sequential object\n",
    "model_regr = Sequential()"
   ]
  },
  {
   "cell_type": "markdown",
   "id": "837aa03f",
   "metadata": {},
   "source": [
    "#### INPUT LAYER"
   ]
  },
  {
   "cell_type": "code",
   "execution_count": 10,
   "id": "f7b989ec",
   "metadata": {},
   "outputs": [],
   "source": [
    "#adding the input layer\n",
    "model_regr.add(Dense(units = X.shape[1] , activation = 'relu')) "
   ]
  },
  {
   "cell_type": "markdown",
   "id": "240c3c4d",
   "metadata": {},
   "source": [
    "#### HIDDEN LAYER 1\n",
    "`Note:`\n",
    "How do we choose the number of hidden layers and the number of units per layer? That is a tough question and there is no good answer. The rule of thumb is to start with one hidden layer and add as many units as we have features in the dataset. However, this might not always work. We need to try things out and observe our learning curve."
   ]
  },
  {
   "cell_type": "code",
   "execution_count": 11,
   "id": "f8437a06",
   "metadata": {},
   "outputs": [],
   "source": [
    "# there are a numbers of activation functions such as softmax, sigmoid, \n",
    "# but ReLU (relu) (Rectified Linear Unit) is very effective in many applications and we’ll use it here.\n",
    "model_regr.add(Dense(128, activation = 'relu'))"
   ]
  },
  {
   "cell_type": "markdown",
   "id": "552abe84",
   "metadata": {},
   "source": [
    "\n",
    "#### OUTPUT LAYER"
   ]
  },
  {
   "cell_type": "code",
   "execution_count": 12,
   "id": "e9c2cdee",
   "metadata": {},
   "outputs": [],
   "source": [
    "model_regr.add(Dense(1, activation = 'linear'))  "
   ]
  },
  {
   "cell_type": "markdown",
   "id": "6c70215c",
   "metadata": {},
   "source": [
    "#### OPTIMIZERS"
   ]
  },
  {
   "cell_type": "code",
   "execution_count": 13,
   "id": "537d0ec7",
   "metadata": {},
   "outputs": [],
   "source": [
    "# WE have a lot of optimizers such as SGD (Stochastic Gradient Descent optimizer), Adam, RMSprop, and others.\n",
    "# right now adam is the best one as its solved previous optmizers issues.\n",
    "opt = Adam(learning_rate = 0.01)"
   ]
  },
  {
   "cell_type": "markdown",
   "id": "8342f359",
   "metadata": {},
   "source": [
    "#### COMPPILE MODEL"
   ]
  },
  {
   "cell_type": "code",
   "execution_count": 14,
   "id": "47f6f3d1",
   "metadata": {},
   "outputs": [],
   "source": [
    "# loss/cost \n",
    "# MSE, MAE, Huber loss  \n",
    "model_regr.compile(loss='mse',  metrics=['mae'], optimizer=opt)  "
   ]
  },
  {
   "cell_type": "markdown",
   "id": "ca8e364e",
   "metadata": {},
   "source": [
    "# Training Phase"
   ]
  },
  {
   "cell_type": "code",
   "execution_count": 15,
   "id": "4c589ea6",
   "metadata": {},
   "outputs": [],
   "source": [
    "# reference https://keras.io/api/callbacks/early_stopping/\n",
    "# add early stoping when theres no improvement \n",
    "\n",
    "stop = EarlyStopping(monitor='val_loss', # note: validation_split is at 20%\n",
    "                     mode='min', \n",
    "                     patience=30, # Number of epochs with no improvement after which training will be stopped.\n",
    "                     verbose=1)"
   ]
  },
  {
   "cell_type": "code",
   "execution_count": 16,
   "id": "cb977e30",
   "metadata": {},
   "outputs": [
    {
     "name": "stdout",
     "output_type": "stream",
     "text": [
      "Epoch 1/500\n",
      "748/748 [==============================] - 1s 1ms/step - loss: 127233968.0000 - mae: 7250.1147 - val_loss: 36174052.0000 - val_mae: 4243.7695\n",
      "Epoch 2/500\n",
      "748/748 [==============================] - 1s 948us/step - loss: 38411632.0000 - mae: 4335.7466 - val_loss: 33876584.0000 - val_mae: 3733.4751\n",
      "Epoch 3/500\n",
      "748/748 [==============================] - 1s 953us/step - loss: 37139508.0000 - mae: 4096.1436 - val_loss: 33772468.0000 - val_mae: 3573.2424\n",
      "Epoch 4/500\n",
      "748/748 [==============================] - 1s 977us/step - loss: 35343520.0000 - mae: 3960.5671 - val_loss: 32800928.0000 - val_mae: 3632.3501\n",
      "Epoch 5/500\n",
      "748/748 [==============================] - 1s 969us/step - loss: 34397028.0000 - mae: 3918.5117 - val_loss: 31185004.0000 - val_mae: 3431.7837\n",
      "Epoch 6/500\n",
      "748/748 [==============================] - 1s 911us/step - loss: 33204478.0000 - mae: 3740.3967 - val_loss: 31468610.0000 - val_mae: 3494.4009\n",
      "Epoch 7/500\n",
      "748/748 [==============================] - 1s 969us/step - loss: 31446682.0000 - mae: 3654.9792 - val_loss: 28870858.0000 - val_mae: 3302.2288\n",
      "Epoch 8/500\n",
      "748/748 [==============================] - 1s 995us/step - loss: 30483098.0000 - mae: 3496.4048 - val_loss: 28861748.0000 - val_mae: 3048.0486\n",
      "Epoch 9/500\n",
      "748/748 [==============================] - 1s 917us/step - loss: 28967586.0000 - mae: 3343.1692 - val_loss: 27633862.0000 - val_mae: 3041.9221\n",
      "Epoch 10/500\n",
      "748/748 [==============================] - 1s 909us/step - loss: 28346026.0000 - mae: 3271.5654 - val_loss: 25659910.0000 - val_mae: 3174.5100\n",
      "Epoch 11/500\n",
      "748/748 [==============================] - 1s 905us/step - loss: 28209506.0000 - mae: 3291.8831 - val_loss: 25182804.0000 - val_mae: 2877.0396\n",
      "Epoch 12/500\n",
      "748/748 [==============================] - 1s 905us/step - loss: 27174890.0000 - mae: 3174.4592 - val_loss: 30181806.0000 - val_mae: 2946.8694\n",
      "Epoch 13/500\n",
      "748/748 [==============================] - 1s 944us/step - loss: 27254856.0000 - mae: 3194.4929 - val_loss: 24638948.0000 - val_mae: 3046.2996\n",
      "Epoch 14/500\n",
      "748/748 [==============================] - 1s 945us/step - loss: 26844344.0000 - mae: 3193.1008 - val_loss: 24804094.0000 - val_mae: 2882.6589\n",
      "Epoch 15/500\n",
      "748/748 [==============================] - 1s 923us/step - loss: 26447226.0000 - mae: 3180.6965 - val_loss: 24327346.0000 - val_mae: 2646.5039\n",
      "Epoch 16/500\n",
      "748/748 [==============================] - 1s 906us/step - loss: 27136110.0000 - mae: 3171.1538 - val_loss: 26339208.0000 - val_mae: 2710.1299\n",
      "Epoch 17/500\n",
      "748/748 [==============================] - 1s 923us/step - loss: 26289744.0000 - mae: 3168.4402 - val_loss: 24807920.0000 - val_mae: 2925.2593\n",
      "Epoch 18/500\n",
      "748/748 [==============================] - 1s 924us/step - loss: 26284594.0000 - mae: 3130.8259 - val_loss: 23468326.0000 - val_mae: 2735.4368\n",
      "Epoch 19/500\n",
      "748/748 [==============================] - 1s 904us/step - loss: 25963934.0000 - mae: 3094.2021 - val_loss: 24226748.0000 - val_mae: 3013.6045\n",
      "Epoch 20/500\n",
      "748/748 [==============================] - 1s 915us/step - loss: 26309714.0000 - mae: 3138.1338 - val_loss: 24042254.0000 - val_mae: 3319.1597\n",
      "Epoch 21/500\n",
      "748/748 [==============================] - 1s 945us/step - loss: 26203968.0000 - mae: 3164.7083 - val_loss: 24743560.0000 - val_mae: 3011.5063\n",
      "Epoch 22/500\n",
      "748/748 [==============================] - 1s 919us/step - loss: 26392702.0000 - mae: 3134.7817 - val_loss: 25289232.0000 - val_mae: 2763.6111\n",
      "Epoch 23/500\n",
      "748/748 [==============================] - 1s 937us/step - loss: 25941124.0000 - mae: 3096.0161 - val_loss: 24896158.0000 - val_mae: 2624.3289\n",
      "Epoch 24/500\n",
      "748/748 [==============================] - 1s 906us/step - loss: 25930376.0000 - mae: 3092.5098 - val_loss: 26028454.0000 - val_mae: 2734.3220\n",
      "Epoch 25/500\n",
      "748/748 [==============================] - 1s 940us/step - loss: 25561178.0000 - mae: 3063.6187 - val_loss: 24641294.0000 - val_mae: 2992.3979\n",
      "Epoch 26/500\n",
      "748/748 [==============================] - 1s 949us/step - loss: 25964040.0000 - mae: 3159.4612 - val_loss: 25298024.0000 - val_mae: 2849.7334\n",
      "Epoch 27/500\n",
      "748/748 [==============================] - 1s 987us/step - loss: 25478372.0000 - mae: 3018.0823 - val_loss: 25746806.0000 - val_mae: 3690.7148\n",
      "Epoch 28/500\n",
      "748/748 [==============================] - 1s 943us/step - loss: 25983642.0000 - mae: 3168.5227 - val_loss: 24441328.0000 - val_mae: 2887.9243\n",
      "Epoch 29/500\n",
      "748/748 [==============================] - 1s 955us/step - loss: 25491324.0000 - mae: 3128.9268 - val_loss: 23357236.0000 - val_mae: 2648.2759\n",
      "Epoch 30/500\n",
      "748/748 [==============================] - 1s 915us/step - loss: 25490386.0000 - mae: 3037.3625 - val_loss: 24958630.0000 - val_mae: 3138.9695\n",
      "Epoch 31/500\n",
      "748/748 [==============================] - 1s 928us/step - loss: 25235842.0000 - mae: 3052.2349 - val_loss: 25502892.0000 - val_mae: 2921.8799\n",
      "Epoch 32/500\n",
      "748/748 [==============================] - 1s 905us/step - loss: 25574846.0000 - mae: 3144.1528 - val_loss: 23956270.0000 - val_mae: 2741.0498\n",
      "Epoch 33/500\n",
      "748/748 [==============================] - 1s 920us/step - loss: 25118482.0000 - mae: 3072.6887 - val_loss: 23590062.0000 - val_mae: 2890.5706\n",
      "Epoch 34/500\n",
      "748/748 [==============================] - 1s 925us/step - loss: 25653768.0000 - mae: 3073.4395 - val_loss: 24114244.0000 - val_mae: 2939.3528\n",
      "Epoch 35/500\n",
      "748/748 [==============================] - 1s 905us/step - loss: 25370758.0000 - mae: 3044.2146 - val_loss: 23884844.0000 - val_mae: 3122.0237\n",
      "Epoch 36/500\n",
      "748/748 [==============================] - 1s 941us/step - loss: 25976178.0000 - mae: 3128.7102 - val_loss: 24437238.0000 - val_mae: 2639.8008\n",
      "Epoch 37/500\n",
      "748/748 [==============================] - 1s 924us/step - loss: 25460422.0000 - mae: 3105.4944 - val_loss: 22927652.0000 - val_mae: 2535.3018\n",
      "Epoch 38/500\n",
      "748/748 [==============================] - 1s 951us/step - loss: 25103228.0000 - mae: 3022.8276 - val_loss: 24560692.0000 - val_mae: 3243.2764\n",
      "Epoch 39/500\n",
      "748/748 [==============================] - 1s 908us/step - loss: 25504672.0000 - mae: 3014.8789 - val_loss: 24287580.0000 - val_mae: 3245.2002\n",
      "Epoch 40/500\n",
      "748/748 [==============================] - 1s 981us/step - loss: 25428546.0000 - mae: 3098.8958 - val_loss: 24001040.0000 - val_mae: 2996.5957\n",
      "Epoch 41/500\n",
      "748/748 [==============================] - 1s 905us/step - loss: 25050996.0000 - mae: 3095.1040 - val_loss: 23437332.0000 - val_mae: 2793.2563\n",
      "Epoch 42/500\n",
      "748/748 [==============================] - 1s 897us/step - loss: 25191022.0000 - mae: 3102.3086 - val_loss: 24978852.0000 - val_mae: 2574.2603\n",
      "Epoch 43/500\n",
      "748/748 [==============================] - 1s 908us/step - loss: 24878888.0000 - mae: 2971.8699 - val_loss: 22909402.0000 - val_mae: 2895.1929\n",
      "Epoch 44/500\n",
      "748/748 [==============================] - 1s 908us/step - loss: 25252258.0000 - mae: 3033.4817 - val_loss: 24028920.0000 - val_mae: 2753.0264\n",
      "Epoch 45/500\n",
      "748/748 [==============================] - 1s 909us/step - loss: 25417104.0000 - mae: 3030.5254 - val_loss: 23020928.0000 - val_mae: 2977.7373\n",
      "Epoch 46/500\n",
      "748/748 [==============================] - 1s 975us/step - loss: 25553700.0000 - mae: 3115.4890 - val_loss: 24590368.0000 - val_mae: 2619.6472\n",
      "Epoch 47/500\n",
      "748/748 [==============================] - 1s 955us/step - loss: 24948098.0000 - mae: 2994.8154 - val_loss: 25222646.0000 - val_mae: 2976.9075\n",
      "Epoch 48/500\n",
      "748/748 [==============================] - 1s 1ms/step - loss: 24927300.0000 - mae: 3047.3315 - val_loss: 24418780.0000 - val_mae: 2776.9956\n",
      "Epoch 49/500\n",
      "748/748 [==============================] - 1s 972us/step - loss: 25013232.0000 - mae: 3049.5681 - val_loss: 22805284.0000 - val_mae: 2848.9934\n",
      "Epoch 50/500\n",
      "748/748 [==============================] - 1s 983us/step - loss: 24787530.0000 - mae: 3028.7302 - val_loss: 23789162.0000 - val_mae: 2937.3154\n",
      "Epoch 51/500\n",
      "748/748 [==============================] - 1s 939us/step - loss: 25294120.0000 - mae: 3064.5188 - val_loss: 24083502.0000 - val_mae: 2800.6565\n",
      "Epoch 52/500\n",
      "748/748 [==============================] - 1s 968us/step - loss: 24571554.0000 - mae: 3003.3850 - val_loss: 23981652.0000 - val_mae: 2839.5020\n",
      "Epoch 53/500\n"
     ]
    },
    {
     "name": "stdout",
     "output_type": "stream",
     "text": [
      "748/748 [==============================] - 1s 1ms/step - loss: 25185170.0000 - mae: 3046.2385 - val_loss: 25013144.0000 - val_mae: 3023.4883\n",
      "Epoch 54/500\n",
      "748/748 [==============================] - 1s 923us/step - loss: 24491474.0000 - mae: 3003.3970 - val_loss: 24911768.0000 - val_mae: 3645.2378\n",
      "Epoch 55/500\n",
      "748/748 [==============================] - 1s 984us/step - loss: 24707234.0000 - mae: 3102.9861 - val_loss: 22984494.0000 - val_mae: 2568.9705\n",
      "Epoch 56/500\n",
      "748/748 [==============================] - 1s 1ms/step - loss: 24602844.0000 - mae: 3009.5781 - val_loss: 25217594.0000 - val_mae: 2736.0764\n",
      "Epoch 57/500\n",
      "748/748 [==============================] - 1s 931us/step - loss: 25081386.0000 - mae: 3001.5298 - val_loss: 22783610.0000 - val_mae: 2943.0076\n",
      "Epoch 58/500\n",
      "748/748 [==============================] - 1s 995us/step - loss: 24667038.0000 - mae: 3006.2380 - val_loss: 23955432.0000 - val_mae: 2953.9790\n",
      "Epoch 59/500\n",
      "748/748 [==============================] - 1s 908us/step - loss: 24759320.0000 - mae: 3013.5225 - val_loss: 23090664.0000 - val_mae: 2819.8955\n",
      "Epoch 60/500\n",
      "748/748 [==============================] - 1s 973us/step - loss: 24786902.0000 - mae: 3059.3684 - val_loss: 23549870.0000 - val_mae: 2756.2095\n",
      "Epoch 61/500\n",
      "748/748 [==============================] - 1s 975us/step - loss: 24347322.0000 - mae: 3009.4609 - val_loss: 23755254.0000 - val_mae: 2894.3723\n",
      "Epoch 62/500\n",
      "748/748 [==============================] - 1s 963us/step - loss: 24948744.0000 - mae: 2977.1294 - val_loss: 24745590.0000 - val_mae: 2678.6494\n",
      "Epoch 63/500\n",
      "748/748 [==============================] - 1s 890us/step - loss: 24340530.0000 - mae: 2965.2058 - val_loss: 24940874.0000 - val_mae: 2789.8438\n",
      "Epoch 64/500\n",
      "748/748 [==============================] - 1s 878us/step - loss: 24544024.0000 - mae: 2988.3335 - val_loss: 24336672.0000 - val_mae: 3387.0974\n",
      "Epoch 65/500\n",
      "748/748 [==============================] - 1s 901us/step - loss: 24172128.0000 - mae: 3024.4717 - val_loss: 24080016.0000 - val_mae: 2690.3638\n",
      "Epoch 66/500\n",
      "748/748 [==============================] - 1s 889us/step - loss: 24645574.0000 - mae: 3008.6836 - val_loss: 23376920.0000 - val_mae: 2873.5745\n",
      "Epoch 67/500\n",
      "748/748 [==============================] - 1s 888us/step - loss: 24515094.0000 - mae: 2969.3081 - val_loss: 23489202.0000 - val_mae: 2879.5232\n",
      "Epoch 68/500\n",
      "748/748 [==============================] - 1s 933us/step - loss: 23806056.0000 - mae: 2991.6199 - val_loss: 22990600.0000 - val_mae: 2851.4890\n",
      "Epoch 69/500\n",
      "748/748 [==============================] - 1s 979us/step - loss: 24602912.0000 - mae: 2971.6931 - val_loss: 23686308.0000 - val_mae: 2717.2798\n",
      "Epoch 70/500\n",
      "748/748 [==============================] - 1s 948us/step - loss: 24097786.0000 - mae: 2941.3091 - val_loss: 23866272.0000 - val_mae: 3231.1106\n",
      "Epoch 71/500\n",
      "748/748 [==============================] - 1s 935us/step - loss: 24651826.0000 - mae: 3047.2454 - val_loss: 24846072.0000 - val_mae: 2696.4404\n",
      "Epoch 72/500\n",
      "748/748 [==============================] - 1s 1ms/step - loss: 24072728.0000 - mae: 2985.0796 - val_loss: 24738478.0000 - val_mae: 2637.3398\n",
      "Epoch 73/500\n",
      "748/748 [==============================] - 1s 886us/step - loss: 23828132.0000 - mae: 2937.5872 - val_loss: 23512838.0000 - val_mae: 2847.9023\n",
      "Epoch 74/500\n",
      "748/748 [==============================] - 1s 885us/step - loss: 24259916.0000 - mae: 2962.1682 - val_loss: 23713572.0000 - val_mae: 2901.8743\n",
      "Epoch 75/500\n",
      "748/748 [==============================] - 1s 894us/step - loss: 23713548.0000 - mae: 2945.3044 - val_loss: 25403330.0000 - val_mae: 2869.1130\n",
      "Epoch 76/500\n",
      "748/748 [==============================] - 1s 877us/step - loss: 23620542.0000 - mae: 2930.5679 - val_loss: 25242354.0000 - val_mae: 2772.4917\n",
      "Epoch 77/500\n",
      "748/748 [==============================] - 1s 945us/step - loss: 24203236.0000 - mae: 2977.0310 - val_loss: 24566024.0000 - val_mae: 2690.2542\n",
      "Epoch 78/500\n",
      "748/748 [==============================] - 1s 912us/step - loss: 23995442.0000 - mae: 2897.6567 - val_loss: 23363842.0000 - val_mae: 2968.3667\n",
      "Epoch 79/500\n",
      "748/748 [==============================] - 1s 894us/step - loss: 23740564.0000 - mae: 2964.0537 - val_loss: 23687816.0000 - val_mae: 3027.0503\n",
      "Epoch 80/500\n",
      "748/748 [==============================] - 1s 897us/step - loss: 23845356.0000 - mae: 2950.7583 - val_loss: 23335658.0000 - val_mae: 2853.0908\n",
      "Epoch 81/500\n",
      "748/748 [==============================] - 1s 885us/step - loss: 24279500.0000 - mae: 2978.4363 - val_loss: 23603916.0000 - val_mae: 2925.7336\n",
      "Epoch 82/500\n",
      "748/748 [==============================] - 1s 889us/step - loss: 23736306.0000 - mae: 2944.3242 - val_loss: 23380218.0000 - val_mae: 2605.0662\n",
      "Epoch 83/500\n",
      "748/748 [==============================] - 1s 959us/step - loss: 24212308.0000 - mae: 2954.0151 - val_loss: 23705022.0000 - val_mae: 2760.0986\n",
      "Epoch 84/500\n",
      "748/748 [==============================] - 1s 915us/step - loss: 23523600.0000 - mae: 2909.5452 - val_loss: 24190146.0000 - val_mae: 2832.7944\n",
      "Epoch 85/500\n",
      "748/748 [==============================] - 1s 924us/step - loss: 23800186.0000 - mae: 2849.8325 - val_loss: 25032254.0000 - val_mae: 3441.8564\n",
      "Epoch 86/500\n",
      "748/748 [==============================] - 1s 915us/step - loss: 23699628.0000 - mae: 2973.6794 - val_loss: 23474366.0000 - val_mae: 2966.3604\n",
      "Epoch 87/500\n",
      "748/748 [==============================] - 1s 892us/step - loss: 23549320.0000 - mae: 2945.2561 - val_loss: 24058172.0000 - val_mae: 2863.7249\n",
      "Epoch 87: early stopping\n"
     ]
    }
   ],
   "source": [
    "# create a variable to store our fitted model\n",
    "h = model_regr.fit(x_train, y_train, \n",
    "                   validation_split=0.2, \n",
    "                   epochs=500, \n",
    "                   batch_size=1,\n",
    "                   verbose=1,\n",
    "                   callbacks=[stop])"
   ]
  },
  {
   "cell_type": "markdown",
   "id": "cbbfef63",
   "metadata": {},
   "source": [
    "#### Model Summary"
   ]
  },
  {
   "cell_type": "code",
   "execution_count": 17,
   "id": "00112b73",
   "metadata": {
    "code_folding": []
   },
   "outputs": [
    {
     "name": "stdout",
     "output_type": "stream",
     "text": [
      "Model: \"sequential\"\n",
      "_________________________________________________________________\n",
      " Layer (type)                Output Shape              Param #   \n",
      "=================================================================\n",
      " dense (Dense)               (1, 9)                    90        \n",
      "                                                                 \n",
      " dense_1 (Dense)             (1, 128)                  1280      \n",
      "                                                                 \n",
      " dense_2 (Dense)             (1, 1)                    129       \n",
      "                                                                 \n",
      "=================================================================\n",
      "Total params: 1,499\n",
      "Trainable params: 1,499\n",
      "Non-trainable params: 0\n",
      "_________________________________________________________________\n"
     ]
    }
   ],
   "source": [
    "# check layer\n",
    "# model_regr.layers\n",
    "# view summary\n",
    "model_regr.summary()"
   ]
  },
  {
   "cell_type": "markdown",
   "id": "e64b05cd",
   "metadata": {},
   "source": [
    "#### Visualize"
   ]
  },
  {
   "cell_type": "code",
   "execution_count": 18,
   "id": "e9196066",
   "metadata": {},
   "outputs": [
    {
     "data": {
      "text/plain": [
       "dict_keys(['loss', 'mae', 'val_loss', 'val_mae'])"
      ]
     },
     "execution_count": 18,
     "metadata": {},
     "output_type": "execute_result"
    }
   ],
   "source": [
    "h.history.keys()"
   ]
  },
  {
   "cell_type": "code",
   "execution_count": 19,
   "id": "2922c75c",
   "metadata": {},
   "outputs": [
    {
     "data": {
      "text/plain": [
       "Text(0, 0.5, 'MAE')"
      ]
     },
     "execution_count": 19,
     "metadata": {},
     "output_type": "execute_result"
    },
    {
     "data": {
      "image/png": "[encoded data removed]",
      "text/plain": [
       "<Figure size 1080x432 with 2 Axes>"
      ]
     },
     "metadata": {
      "needs_background": "light"
     },
     "output_type": "display_data"
    }
   ],
   "source": [
    "#plotting\n",
    "\n",
    "fig, axs = plt.subplots(1,2,\n",
    "                        figsize=(15, 6),\n",
    "                        gridspec_kw={'hspace': 0.5, 'wspace': 0.2}) \n",
    "(ax1, ax2) = axs\n",
    "ax1.plot(h.history['loss'], label='Train')\n",
    "ax1.plot(h.history['val_loss'], label='Validation')\n",
    "ax1.set_title('learning rate=' + str(0.01))\n",
    "ax1.legend(loc=\"upper right\")\n",
    "ax1.set_xlabel(\"# of epochs\")\n",
    "ax1.set_ylabel(\"loss (MSE)\")\n",
    "\n",
    "ax2.plot(h.history['mae'], label='Train')\n",
    "ax2.plot(h.history['val_mae'], label='Validation')\n",
    "ax2.set_title('learning rate=' + str(0.01))\n",
    "ax2.legend(loc=\"upper right\")\n",
    "ax2.set_xlabel(\"# of epochs\")\n",
    "ax2.set_ylabel(\"MAE\")"
   ]
  },
  {
   "cell_type": "markdown",
   "id": "b6bd0740",
   "metadata": {},
   "source": [
    "#### Evaluation"
   ]
  },
  {
   "cell_type": "code",
   "execution_count": 20,
   "id": "3f251a72",
   "metadata": {},
   "outputs": [
    {
     "name": "stdout",
     "output_type": "stream",
     "text": [
      "13/13 [==============================] - 0s 834us/step - loss: 21180778.0000 - mae: 2740.6729\n"
     ]
    }
   ],
   "source": [
    "val_mse, val_mae = model_regr.evaluate(x_test, y_test, verbose = 1)"
   ]
  },
  {
   "cell_type": "markdown",
   "id": "72083ceb",
   "metadata": {},
   "source": [
    "\n",
    "# Hyperparameter Tuning\n",
    "GridSearchCV\n",
    "\n",
    "To use GridSearchCV from scikit-learn for regression we need to first wrap our neural network model into a KerasRegressor:"
   ]
  },
  {
   "cell_type": "markdown",
   "id": "2a9d9674",
   "metadata": {},
   "source": [
    "### Summary\n",
    "\n",
    "\n",
    "1. Preparing the data for learning:\n",
    "2. separating features from labels using array slicing\n",
    "3. determining the shape of your data\n",
    "4. preprocessing the categorical variables using one-hot encoding\n",
    "5. splitting the data into training and test sets\n",
    "6. scaling the numerical features\n",
    "7. Designing a Sequential model by chaining InputLayer() and the tf.keras.layers.Dense layers. InputLayer() was used as a placeholder for the input data. The output layer in this case needed one neuron since we need a prediction of a single value in the regression. And finally, hidden layers were added with the relu activation function to handle complex dependencies in the data.\n",
    "8. Choosing an optimizer using keras.optimizers with a specific learning rate hyperparameter.\n",
    "9. Training the model - using model.fit() to train the model on the training data and training labels.\n",
    "10. Setting the values for the learning hyperparameters: number of epochs and batch sizes.\n",
    "11. Evaluating the model using model.evaluate() on the test data.\n"
   ]
  }
 ],
 "metadata": {
  "kernelspec": {
   "display_name": "Python 3 (ipykernel)",
   "language": "python",
   "name": "python3"
  },
  "language_info": {
   "codemirror_mode": {
    "name": "ipython",
    "version": 3
   },
   "file_extension": ".py",
   "mimetype": "text/x-python",
   "name": "python",
   "nbconvert_exporter": "python",
   "pygments_lexer": "ipython3",
   "version": "3.8.5"
  }
 },
 "nbformat": 4,
 "nbformat_minor": 5
}
