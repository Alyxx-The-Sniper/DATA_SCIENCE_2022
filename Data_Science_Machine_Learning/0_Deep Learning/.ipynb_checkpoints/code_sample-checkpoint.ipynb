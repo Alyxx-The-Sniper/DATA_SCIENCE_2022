{
 "cells": [
  {
   "cell_type": "code",
   "execution_count": 1,
   "id": "12b82275",
   "metadata": {},
   "outputs": [],
   "source": [
    "import tensorflow as tf\n",
    "from scikeras.wrappers import KerasClassifier\n",
    "from sklearn.model_selection import GridSearchCV\n",
    "\n",
    "\n",
    "import pandas as pd\n",
    "from sklearn.preprocessing import StandardScaler, LabelEncoder\n",
    "from sklearn.model_selection import train_test_split\n",
    "from collections import Counter\n",
    "from sklearn.compose import ColumnTransformer\n",
    "from tensorflow.keras.models import Sequential\n",
    "from tensorflow.keras.layers import Dense, InputLayer\n",
    "from sklearn.metrics import classification_report\n",
    "from tensorflow.keras.utils import to_categorical\n",
    "import numpy as np"
   ]
  },
  {
   "cell_type": "code",
   "execution_count": 2,
   "id": "fdc44dbd",
   "metadata": {},
   "outputs": [],
   "source": [
    "data = pd.read_csv('heart_failure.csv')\n",
    "# print(data.info())\n",
    "\n",
    "# print('Classes and number of values in the dataset',Counter(data['death_event']))\n",
    " \n",
    "y = data[\"death_event\"]\n",
    "x = data[['age','anaemia','creatinine_phosphokinase','diabetes','ejection_fraction','high_blood_pressure','platelets','serum_creatinine','serum_sodium','sex','smoking','time']]\n",
    "\n",
    "x  = pd.get_dummies(x)\n",
    "\n",
    "X_train, X_test, Y_train, Y_test = train_test_split(x, y, test_size = 0.3, random_state = 0)\n"
   ]
  },
  {
   "cell_type": "code",
   "execution_count": 3,
   "id": "4c465c45",
   "metadata": {},
   "outputs": [],
   "source": [
    "ct = ColumnTransformer([(\"numeric\", StandardScaler(), \n",
    "                        X_train.columns \n",
    "                        )])\n",
    "\n",
    "X_train = ct.fit_transform(X_train)\n",
    "# X_train\n",
    "X_test = ct.transform(X_test)\n",
    "# X_test"
   ]
  },
  {
   "cell_type": "code",
   "execution_count": 7,
   "id": "f296d771",
   "metadata": {},
   "outputs": [],
   "source": [
    "le= LabelEncoder()\n",
    "Y_train = le.fit_transform(Y_train.astype(str))\n",
    "Y_test = le.transform(Y_test.astype(str))\n",
    "\n",
    "# convert to 2d array\n",
    "Y_train = to_categorical(Y_train)\n",
    "Y_test = to_categorical(Y_test)"
   ]
  },
  {
   "cell_type": "code",
   "execution_count": 8,
   "id": "ce6774ff",
   "metadata": {},
   "outputs": [],
   "source": [
    "model = Sequential()\n",
    "model.add(InputLayer(input_shape=(X_train.shape[1],)))\n",
    "model.add(Dense(12, activation='relu'))\n",
    "model.add(Dense(2, activation='softmax'))\n",
    "model.compile(loss='categorical_crossentropy', optimizer='adam', metrics=['accuracy'])"
   ]
  },
  {
   "cell_type": "code",
   "execution_count": 9,
   "id": "be4da424",
   "metadata": {},
   "outputs": [
    {
     "name": "stdout",
     "output_type": "stream",
     "text": [
      "Epoch 1/50\n",
      "105/105 [==============================] - 0s 1ms/step - loss: 0.6143 - accuracy: 0.6411\n",
      "Epoch 2/50\n",
      "105/105 [==============================] - 0s 1ms/step - loss: 0.5269 - accuracy: 0.7177\n",
      "Epoch 3/50\n",
      "105/105 [==============================] - 0s 1ms/step - loss: 0.4773 - accuracy: 0.7799\n",
      "Epoch 4/50\n",
      "105/105 [==============================] - 0s 1ms/step - loss: 0.4416 - accuracy: 0.8182\n",
      "Epoch 5/50\n",
      "105/105 [==============================] - 0s 1ms/step - loss: 0.4171 - accuracy: 0.8230\n",
      "Epoch 6/50\n",
      "105/105 [==============================] - 0s 1ms/step - loss: 0.3962 - accuracy: 0.8421\n",
      "Epoch 7/50\n",
      "105/105 [==============================] - 0s 1ms/step - loss: 0.3832 - accuracy: 0.8612\n",
      "Epoch 8/50\n",
      "105/105 [==============================] - 0s 962us/step - loss: 0.3724 - accuracy: 0.8517\n",
      "Epoch 9/50\n",
      "105/105 [==============================] - 0s 971us/step - loss: 0.3608 - accuracy: 0.8612\n",
      "Epoch 10/50\n",
      "105/105 [==============================] - 0s 952us/step - loss: 0.3554 - accuracy: 0.8612\n",
      "Epoch 11/50\n",
      "105/105 [==============================] - 0s 943us/step - loss: 0.3467 - accuracy: 0.8660\n",
      "Epoch 12/50\n",
      "105/105 [==============================] - 0s 952us/step - loss: 0.3412 - accuracy: 0.8612\n",
      "Epoch 13/50\n",
      "105/105 [==============================] - 0s 943us/step - loss: 0.3344 - accuracy: 0.8708\n",
      "Epoch 14/50\n",
      "105/105 [==============================] - 0s 952us/step - loss: 0.3302 - accuracy: 0.8612\n",
      "Epoch 15/50\n",
      "105/105 [==============================] - 0s 981us/step - loss: 0.3268 - accuracy: 0.8660\n",
      "Epoch 16/50\n",
      "105/105 [==============================] - 0s 1ms/step - loss: 0.3220 - accuracy: 0.8708\n",
      "Epoch 17/50\n",
      "105/105 [==============================] - 0s 1ms/step - loss: 0.3176 - accuracy: 0.8708\n",
      "Epoch 18/50\n",
      "105/105 [==============================] - 0s 923us/step - loss: 0.3133 - accuracy: 0.8804\n",
      "Epoch 19/50\n",
      "105/105 [==============================] - 0s 943us/step - loss: 0.3130 - accuracy: 0.8660\n",
      "Epoch 20/50\n",
      "105/105 [==============================] - 0s 943us/step - loss: 0.3097 - accuracy: 0.8708\n",
      "Epoch 21/50\n",
      "105/105 [==============================] - 0s 971us/step - loss: 0.3048 - accuracy: 0.8756\n",
      "Epoch 22/50\n",
      "105/105 [==============================] - 0s 952us/step - loss: 0.3015 - accuracy: 0.8756\n",
      "Epoch 23/50\n",
      "105/105 [==============================] - 0s 981us/step - loss: 0.2978 - accuracy: 0.8852\n",
      "Epoch 24/50\n",
      "105/105 [==============================] - 0s 933us/step - loss: 0.2963 - accuracy: 0.8804\n",
      "Epoch 25/50\n",
      "105/105 [==============================] - 0s 991us/step - loss: 0.2940 - accuracy: 0.8708\n",
      "Epoch 26/50\n",
      "105/105 [==============================] - 0s 943us/step - loss: 0.2906 - accuracy: 0.8708\n",
      "Epoch 27/50\n",
      "105/105 [==============================] - 0s 971us/step - loss: 0.2884 - accuracy: 0.8852\n",
      "Epoch 28/50\n",
      "105/105 [==============================] - 0s 943us/step - loss: 0.2842 - accuracy: 0.8804\n",
      "Epoch 29/50\n",
      "105/105 [==============================] - 0s 943us/step - loss: 0.2839 - accuracy: 0.8804\n",
      "Epoch 30/50\n",
      "105/105 [==============================] - 0s 952us/step - loss: 0.2798 - accuracy: 0.8852\n",
      "Epoch 31/50\n",
      "105/105 [==============================] - 0s 952us/step - loss: 0.2789 - accuracy: 0.8804\n",
      "Epoch 32/50\n",
      "105/105 [==============================] - 0s 943us/step - loss: 0.2773 - accuracy: 0.8852\n",
      "Epoch 33/50\n",
      "105/105 [==============================] - 0s 1ms/step - loss: 0.2740 - accuracy: 0.8852\n",
      "Epoch 34/50\n",
      "105/105 [==============================] - 0s 1ms/step - loss: 0.2725 - accuracy: 0.8756\n",
      "Epoch 35/50\n",
      "105/105 [==============================] - 0s 952us/step - loss: 0.2719 - accuracy: 0.8804\n",
      "Epoch 36/50\n",
      "105/105 [==============================] - 0s 943us/step - loss: 0.2685 - accuracy: 0.8852\n",
      "Epoch 37/50\n",
      "105/105 [==============================] - 0s 952us/step - loss: 0.2683 - accuracy: 0.8900\n",
      "Epoch 38/50\n",
      "105/105 [==============================] - 0s 1ms/step - loss: 0.2646 - accuracy: 0.8852\n",
      "Epoch 39/50\n",
      "105/105 [==============================] - 0s 933us/step - loss: 0.2621 - accuracy: 0.8852\n",
      "Epoch 40/50\n",
      "105/105 [==============================] - 0s 943us/step - loss: 0.2610 - accuracy: 0.8947\n",
      "Epoch 41/50\n",
      "105/105 [==============================] - 0s 991us/step - loss: 0.2582 - accuracy: 0.8995\n",
      "Epoch 42/50\n",
      "105/105 [==============================] - 0s 952us/step - loss: 0.2573 - accuracy: 0.8995\n",
      "Epoch 43/50\n",
      "105/105 [==============================] - 0s 952us/step - loss: 0.2565 - accuracy: 0.8947\n",
      "Epoch 44/50\n",
      "105/105 [==============================] - 0s 1ms/step - loss: 0.2537 - accuracy: 0.8947\n",
      "Epoch 45/50\n",
      "105/105 [==============================] - 0s 1ms/step - loss: 0.2534 - accuracy: 0.9043\n",
      "Epoch 46/50\n",
      "105/105 [==============================] - 0s 991us/step - loss: 0.2529 - accuracy: 0.8852\n",
      "Epoch 47/50\n",
      "105/105 [==============================] - 0s 1ms/step - loss: 0.2508 - accuracy: 0.8947\n",
      "Epoch 48/50\n",
      "105/105 [==============================] - 0s 933us/step - loss: 0.2508 - accuracy: 0.8947\n",
      "Epoch 49/50\n",
      "105/105 [==============================] - 0s 962us/step - loss: 0.2485 - accuracy: 0.8947\n",
      "Epoch 50/50\n",
      "105/105 [==============================] - 0s 962us/step - loss: 0.2485 - accuracy: 0.8947\n"
     ]
    },
    {
     "data": {
      "text/plain": [
       "<keras.callbacks.History at 0x17d0382f5e0>"
      ]
     },
     "execution_count": 9,
     "metadata": {},
     "output_type": "execute_result"
    }
   ],
   "source": [
    "model.fit(X_train, Y_train, epochs = 50, batch_size = 2, verbose=1)"
   ]
  },
  {
   "cell_type": "code",
   "execution_count": 10,
   "id": "a44e2ea8",
   "metadata": {},
   "outputs": [
    {
     "name": "stdout",
     "output_type": "stream",
     "text": [
      "Loss 0.4357265532016754 Accuracy: 0.7888888716697693\n"
     ]
    }
   ],
   "source": [
    "loss, acc = model.evaluate(X_test, Y_test, verbose=0)\n",
    "print(\"Loss\", loss, \"Accuracy:\", acc)"
   ]
  },
  {
   "cell_type": "code",
   "execution_count": 14,
   "id": "90b97e30",
   "metadata": {},
   "outputs": [
    {
     "data": {
      "text/plain": [
       "array([0, 0, 1, 0, 0, 0, 1, 0, 1, 1, 0, 1, 0, 0, 1, 1, 0, 1, 0, 0, 0, 1,\n",
       "       1, 0, 1, 0, 0, 0, 0, 0, 0, 1, 1, 0, 0, 0, 0, 0, 0, 1, 0, 0, 0, 0,\n",
       "       1, 0, 0, 0, 0, 0, 0, 0, 0, 0, 1, 0, 0, 1, 0, 0, 1, 0, 0, 0, 0, 0,\n",
       "       0, 0, 1, 1, 0, 0, 0, 1, 0, 0, 1, 0, 0, 1, 0, 0, 0, 0, 0, 0, 0, 0,\n",
       "       0, 0], dtype=int64)"
      ]
     },
     "execution_count": 14,
     "metadata": {},
     "output_type": "execute_result"
    }
   ],
   "source": [
    "y_estimate = model.predict(X_test, verbose=0)\n",
    "y_estimate = np.argmax(y_estimate, axis=1)\n",
    "y_estimate"
   ]
  },
  {
   "cell_type": "code",
   "execution_count": 15,
   "id": "9e96a842",
   "metadata": {},
   "outputs": [
    {
     "data": {
      "text/plain": [
       "array([0, 0, 1, 0, 0, 0, 0, 0, 1, 0, 0, 1, 1, 1, 1, 1, 0, 0, 0, 0, 0, 0,\n",
       "       1, 0, 1, 0, 1, 0, 0, 0, 0, 1, 1, 0, 1, 1, 0, 1, 0, 1, 0, 0, 0, 1,\n",
       "       1, 0, 0, 0, 1, 1, 0, 0, 0, 0, 1, 1, 0, 1, 0, 0, 0, 0, 1, 0, 0, 0,\n",
       "       0, 0, 0, 1, 0, 0, 0, 1, 1, 0, 1, 0, 0, 0, 0, 0, 0, 0, 0, 0, 0, 0,\n",
       "       0, 0], dtype=int64)"
      ]
     },
     "execution_count": 15,
     "metadata": {},
     "output_type": "execute_result"
    }
   ],
   "source": [
    "y_true = np.argmax(Y_test, axis=1)\n",
    "y_true"
   ]
  },
  {
   "cell_type": "code",
   "execution_count": 16,
   "id": "c92b5ac4",
   "metadata": {},
   "outputs": [
    {
     "name": "stdout",
     "output_type": "stream",
     "text": [
      "              precision    recall  f1-score   support\n",
      "\n",
      "           0       0.82      0.89      0.85        62\n",
      "           1       0.70      0.57      0.63        28\n",
      "\n",
      "    accuracy                           0.79        90\n",
      "   macro avg       0.76      0.73      0.74        90\n",
      "weighted avg       0.78      0.79      0.78        90\n",
      "\n"
     ]
    }
   ],
   "source": [
    "print(classification_report(y_true, y_estimate))"
   ]
  },
  {
   "cell_type": "code",
   "execution_count": null,
   "id": "7a9819ae",
   "metadata": {},
   "outputs": [],
   "source": []
  },
  {
   "cell_type": "code",
   "execution_count": null,
   "id": "6524097f",
   "metadata": {},
   "outputs": [],
   "source": []
  },
  {
   "cell_type": "code",
   "execution_count": null,
   "id": "b74cd9d3",
   "metadata": {},
   "outputs": [],
   "source": []
  },
  {
   "cell_type": "code",
   "execution_count": null,
   "id": "b0c41413",
   "metadata": {},
   "outputs": [],
   "source": []
  },
  {
   "cell_type": "code",
   "execution_count": null,
   "id": "aedd4a6a",
   "metadata": {},
   "outputs": [],
   "source": []
  },
  {
   "cell_type": "code",
   "execution_count": null,
   "id": "459025e4",
   "metadata": {},
   "outputs": [],
   "source": []
  },
  {
   "cell_type": "code",
   "execution_count": null,
   "id": "8d2f422b",
   "metadata": {},
   "outputs": [],
   "source": []
  },
  {
   "cell_type": "code",
   "execution_count": null,
   "id": "c2878a4a",
   "metadata": {},
   "outputs": [],
   "source": []
  },
  {
   "cell_type": "code",
   "execution_count": null,
   "id": "29db7101",
   "metadata": {},
   "outputs": [],
   "source": []
  },
  {
   "cell_type": "code",
   "execution_count": null,
   "id": "200437d3",
   "metadata": {},
   "outputs": [],
   "source": []
  },
  {
   "cell_type": "code",
   "execution_count": null,
   "id": "ed2c9560",
   "metadata": {},
   "outputs": [],
   "source": []
  },
  {
   "cell_type": "code",
   "execution_count": null,
   "id": "1697d1b9",
   "metadata": {},
   "outputs": [],
   "source": []
  },
  {
   "cell_type": "code",
   "execution_count": null,
   "id": "ba1d804d",
   "metadata": {},
   "outputs": [],
   "source": []
  },
  {
   "cell_type": "code",
   "execution_count": null,
   "id": "180617c4",
   "metadata": {},
   "outputs": [],
   "source": []
  },
  {
   "cell_type": "code",
   "execution_count": null,
   "id": "355f6077",
   "metadata": {},
   "outputs": [],
   "source": []
  },
  {
   "cell_type": "code",
   "execution_count": null,
   "id": "25849576",
   "metadata": {},
   "outputs": [],
   "source": []
  },
  {
   "cell_type": "code",
   "execution_count": null,
   "id": "5da6fccb",
   "metadata": {},
   "outputs": [],
   "source": []
  },
  {
   "cell_type": "code",
   "execution_count": null,
   "id": "8680833e",
   "metadata": {},
   "outputs": [],
   "source": []
  },
  {
   "cell_type": "code",
   "execution_count": null,
   "id": "3200e028",
   "metadata": {},
   "outputs": [],
   "source": []
  },
  {
   "cell_type": "code",
   "execution_count": null,
   "id": "fcdeb8be",
   "metadata": {},
   "outputs": [],
   "source": []
  },
  {
   "cell_type": "code",
   "execution_count": null,
   "id": "abe6ad0a",
   "metadata": {},
   "outputs": [],
   "source": []
  },
  {
   "cell_type": "code",
   "execution_count": null,
   "id": "a11989a5",
   "metadata": {},
   "outputs": [],
   "source": []
  }
 ],
 "metadata": {
  "kernelspec": {
   "display_name": "Python 3 (ipykernel)",
   "language": "python",
   "name": "python3"
  },
  "language_info": {
   "codemirror_mode": {
    "name": "ipython",
    "version": 3
   },
   "file_extension": ".py",
   "mimetype": "text/x-python",
   "name": "python",
   "nbconvert_exporter": "python",
   "pygments_lexer": "ipython3",
   "version": "3.8.13"
  }
 },
 "nbformat": 4,
 "nbformat_minor": 5
}
