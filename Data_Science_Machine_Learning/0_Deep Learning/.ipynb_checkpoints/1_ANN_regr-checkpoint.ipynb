{
 "cells": [
  {
   "cell_type": "markdown",
   "id": "c197be44",
   "metadata": {},
   "source": [
    "# Deep Learning\n",
    "\n",
    "Regression"
   ]
  },
  {
   "cell_type": "code",
   "execution_count": 38,
   "id": "ed3d59cf",
   "metadata": {},
   "outputs": [],
   "source": [
    "import pandas as pd\n",
    "import numpy as np\n",
    "\n",
    "from sklearn.model_selection import train_test_split\n",
    "\n",
    "# from sklearn.compose import ColumnTransformer\n",
    "from sklearn.preprocessing import StandardScaler\n",
    "\n",
    "import tensorflow as tf\n",
    "from tensorflow.keras.models import Sequential\n",
    "from tensorflow.keras import layers\n",
    "from tensorflow.keras.layers import Dense, Activation\n",
    "from tensorflow.keras.optimizers import Adam\n",
    "from tensorflow.keras.callbacks import EarlyStopping\n",
    "\n",
    "from scikeras.wrappers import KerasClassifier, KerasRegressor\n",
    "from sklearn.model_selection import GridSearchCV\n",
    "from sklearn.metrics import mean_squared_error, make_scorer, r2_score\n",
    "\n",
    "import matplotlib.pyplot as plt"
   ]
  },
  {
   "cell_type": "code",
   "execution_count": 2,
   "id": "9e94810b",
   "metadata": {},
   "outputs": [
    {
     "name": "stdout",
     "output_type": "stream",
     "text": [
      "(1338, 7)\n"
     ]
    },
    {
     "data": {
      "text/html": [
       "<div>\n",
       "<style scoped>\n",
       "    .dataframe tbody tr th:only-of-type {\n",
       "        vertical-align: middle;\n",
       "    }\n",
       "\n",
       "    .dataframe tbody tr th {\n",
       "        vertical-align: top;\n",
       "    }\n",
       "\n",
       "    .dataframe thead th {\n",
       "        text-align: right;\n",
       "    }\n",
       "</style>\n",
       "<table border=\"1\" class=\"dataframe\">\n",
       "  <thead>\n",
       "    <tr style=\"text-align: right;\">\n",
       "      <th></th>\n",
       "      <th>age</th>\n",
       "      <th>sex</th>\n",
       "      <th>bmi</th>\n",
       "      <th>children</th>\n",
       "      <th>smoker</th>\n",
       "      <th>region</th>\n",
       "      <th>charges</th>\n",
       "    </tr>\n",
       "  </thead>\n",
       "  <tbody>\n",
       "    <tr>\n",
       "      <th>0</th>\n",
       "      <td>19</td>\n",
       "      <td>1</td>\n",
       "      <td>27.90</td>\n",
       "      <td>0</td>\n",
       "      <td>1</td>\n",
       "      <td>southwest</td>\n",
       "      <td>16884.9240</td>\n",
       "    </tr>\n",
       "    <tr>\n",
       "      <th>1</th>\n",
       "      <td>18</td>\n",
       "      <td>0</td>\n",
       "      <td>33.77</td>\n",
       "      <td>1</td>\n",
       "      <td>0</td>\n",
       "      <td>southeast</td>\n",
       "      <td>1725.5523</td>\n",
       "    </tr>\n",
       "    <tr>\n",
       "      <th>2</th>\n",
       "      <td>28</td>\n",
       "      <td>0</td>\n",
       "      <td>33.00</td>\n",
       "      <td>3</td>\n",
       "      <td>0</td>\n",
       "      <td>southeast</td>\n",
       "      <td>4449.4620</td>\n",
       "    </tr>\n",
       "  </tbody>\n",
       "</table>\n",
       "</div>"
      ],
      "text/plain": [
       "   age  sex    bmi  children  smoker     region     charges\n",
       "0   19    1  27.90         0       1  southwest  16884.9240\n",
       "1   18    0  33.77         1       0  southeast   1725.5523\n",
       "2   28    0  33.00         3       0  southeast   4449.4620"
      ]
     },
     "execution_count": 2,
     "metadata": {},
     "output_type": "execute_result"
    }
   ],
   "source": [
    "df = pd.read_csv('insurance.csv') #load the dataset\n",
    "print(df.shape)\n",
    "df.head(3)"
   ]
  },
  {
   "cell_type": "code",
   "execution_count": 3,
   "id": "480dace9",
   "metadata": {},
   "outputs": [
    {
     "data": {
      "text/plain": [
       "array(['southwest', 'southeast', '0rthwest', '0rtheast'], dtype=object)"
      ]
     },
     "execution_count": 3,
     "metadata": {},
     "output_type": "execute_result"
    }
   ],
   "source": [
    "# inspect categorical features\n",
    "df.region.unique()"
   ]
  },
  {
   "cell_type": "code",
   "execution_count": 4,
   "id": "4e658652",
   "metadata": {},
   "outputs": [
    {
     "data": {
      "text/plain": [
       "array(['southwest', 'southeast', 'northwest', 'northeast'], dtype=object)"
      ]
     },
     "execution_count": 4,
     "metadata": {},
     "output_type": "execute_result"
    }
   ],
   "source": [
    "# clean categorical features\n",
    "df.region = df.region.replace('0', 'no', regex=True)\n",
    "df.region.unique()"
   ]
  },
  {
   "cell_type": "code",
   "execution_count": 5,
   "id": "bdad3392",
   "metadata": {},
   "outputs": [],
   "source": [
    "# Define X and y\n",
    "X = df.iloc[:,0:6]\n",
    "y = df.iloc[:,-1]"
   ]
  },
  {
   "cell_type": "code",
   "execution_count": 6,
   "id": "dc965645",
   "metadata": {
    "scrolled": true
   },
   "outputs": [
    {
     "data": {
      "text/html": [
       "<div>\n",
       "<style scoped>\n",
       "    .dataframe tbody tr th:only-of-type {\n",
       "        vertical-align: middle;\n",
       "    }\n",
       "\n",
       "    .dataframe tbody tr th {\n",
       "        vertical-align: top;\n",
       "    }\n",
       "\n",
       "    .dataframe thead th {\n",
       "        text-align: right;\n",
       "    }\n",
       "</style>\n",
       "<table border=\"1\" class=\"dataframe\">\n",
       "  <thead>\n",
       "    <tr style=\"text-align: right;\">\n",
       "      <th></th>\n",
       "      <th>age</th>\n",
       "      <th>sex</th>\n",
       "      <th>bmi</th>\n",
       "      <th>children</th>\n",
       "      <th>smoker</th>\n",
       "      <th>region_northeast</th>\n",
       "      <th>region_northwest</th>\n",
       "      <th>region_southeast</th>\n",
       "      <th>region_southwest</th>\n",
       "    </tr>\n",
       "  </thead>\n",
       "  <tbody>\n",
       "    <tr>\n",
       "      <th>0</th>\n",
       "      <td>19</td>\n",
       "      <td>1</td>\n",
       "      <td>27.90</td>\n",
       "      <td>0</td>\n",
       "      <td>1</td>\n",
       "      <td>0</td>\n",
       "      <td>0</td>\n",
       "      <td>0</td>\n",
       "      <td>1</td>\n",
       "    </tr>\n",
       "    <tr>\n",
       "      <th>1</th>\n",
       "      <td>18</td>\n",
       "      <td>0</td>\n",
       "      <td>33.77</td>\n",
       "      <td>1</td>\n",
       "      <td>0</td>\n",
       "      <td>0</td>\n",
       "      <td>0</td>\n",
       "      <td>1</td>\n",
       "      <td>0</td>\n",
       "    </tr>\n",
       "  </tbody>\n",
       "</table>\n",
       "</div>"
      ],
      "text/plain": [
       "   age  sex    bmi  children  smoker  region_northeast  region_northwest  \\\n",
       "0   19    1  27.90         0       1                 0                 0   \n",
       "1   18    0  33.77         1       0                 0                 0   \n",
       "\n",
       "   region_southeast  region_southwest  \n",
       "0                 0                 1  \n",
       "1                 1                 0  "
      ]
     },
     "execution_count": 6,
     "metadata": {},
     "output_type": "execute_result"
    }
   ],
   "source": [
    "# one-hot encoding for categorical variables\n",
    "X = pd.get_dummies(X) \n",
    "X.head(2)"
   ]
  },
  {
   "cell_type": "markdown",
   "id": "f1f637e7",
   "metadata": {},
   "source": [
    "`Note:`\n",
    "\n",
    "Train,Test, Validation splits comes differently in terms of Neural Networks. Usually using traditional ML algorithm we do the process is to split a given data set into 70% train data set and 30% test data set (ideally). In the training phase, we fit the model on the training data. And now to evaluate the model (i.e., to check how well the model is able to predict on unseen data), we run the model against the test data and get the predicted results. Since we already know what the expected results are, we compare the predicted and the real results to get the accuracy of the model.\n",
    "If the accuracy is not up to the desired level, we repeat the above process (train, test, compare) until the desired accuracy is achieved.\n",
    "\n",
    "In Neural Networks approach, we do spliting our data set in train_test_plit. And In training/fitting phase we do spliting again. We split out training and validation_set. Then finally we will test our model using the testing set(unseen data) and compare the predicted result to the real result."
   ]
  },
  {
   "cell_type": "code",
   "execution_count": 7,
   "id": "534ee997",
   "metadata": {},
   "outputs": [
    {
     "name": "stdout",
     "output_type": "stream",
     "text": [
      "(1204, 9) (134, 9) (1204,) (134,)\n"
     ]
    }
   ],
   "source": [
    "# Split data\n",
    "x_train, x_test, y_train, y_test = train_test_split(X, y, \n",
    "                                                    test_size = 0.1, # 10%\n",
    "                                                    random_state = 42)\n",
    "\n",
    "print(x_train.shape, x_test.shape, y_train.shape, y_test.shape)"
   ]
  },
  {
   "cell_type": "code",
   "execution_count": 8,
   "id": "48d83c36",
   "metadata": {},
   "outputs": [],
   "source": [
    "# standardize\n",
    "scaler = StandardScaler()\n",
    "x_train = scaler.fit_transform(x_train)\n",
    "x_test = scaler.transform(x_test)"
   ]
  },
  {
   "cell_type": "markdown",
   "id": "dac80a46",
   "metadata": {},
   "source": [
    "# Designing Model"
   ]
  },
  {
   "cell_type": "code",
   "execution_count": 9,
   "id": "f16d0506",
   "metadata": {},
   "outputs": [],
   "source": [
    "# Creating a keras sequential object\n",
    "model_regr = Sequential()"
   ]
  },
  {
   "cell_type": "code",
   "execution_count": 11,
   "id": "e3b9947f",
   "metadata": {},
   "outputs": [],
   "source": [
    "# fix random seed for reproducibility\n",
    "seed = 7\n",
    "tf.random.set_seed(seed)"
   ]
  },
  {
   "cell_type": "markdown",
   "id": "b9ab8b8e",
   "metadata": {},
   "source": [
    "### Define Model"
   ]
  },
  {
   "cell_type": "code",
   "execution_count": 12,
   "id": "e80191e3",
   "metadata": {},
   "outputs": [],
   "source": [
    "############## INPUT LAYER ##########################################\n",
    "model_regr.add(Dense(units = X.shape[1] , activation = 'relu')) \n",
    "\n",
    "\n",
    "############## HIDDEN LAYER 1 ##########################################\n",
    "# `Note:`\n",
    "# How do we choose the number of hidden layers and the number of units per layer? That is a tough question and there \n",
    "# is no good answer. The rule of thumb is to start with one hidden layer and add as many units as we have features in the\n",
    "# dataset. However, this might not always work. We need to try things out and observe our learning curve.\n",
    "\n",
    "# there are a numbers of activation functions such as softmax, sigmoid, \n",
    "# but ReLU (relu) (Rectified Linear Unit) is very effective in many applications and we’ll use it here.\n",
    "model_regr.add(Dense(128, activation = 'relu'))\n",
    "# Adding dropout\n",
    "model_regr.add(layers.Dropout(0.1))\n",
    "\n",
    "############## OUTPUT LAYER ##########################################\n",
    "model_regr.add(Dense(1, activation = 'linear'))  "
   ]
  },
  {
   "cell_type": "markdown",
   "id": "fdc03b78",
   "metadata": {},
   "source": [
    "### OPTIMIZER"
   ]
  },
  {
   "cell_type": "code",
   "execution_count": 13,
   "id": "4b490db1",
   "metadata": {},
   "outputs": [],
   "source": [
    "# We have a lot of optimizers such as SGD (Stochastic Gradient Descent optimizer), Adam, RMSprop, and others.\n",
    "# right now adam is the best one as its solved previous optmizers issues.\n",
    "opt = Adam(learning_rate = 0.01) # by default adam learning rate is 0.0.1"
   ]
  },
  {
   "cell_type": "markdown",
   "id": "875d4b5d",
   "metadata": {},
   "source": [
    "### COMPILE MODEL"
   ]
  },
  {
   "cell_type": "code",
   "execution_count": 14,
   "id": "be978be7",
   "metadata": {},
   "outputs": [],
   "source": [
    "# loss/cost \n",
    "# MSE, MAE, Huber loss  \n",
    "model_regr.compile(loss='mse',  metrics=['mae'], optimizer=opt)  "
   ]
  },
  {
   "cell_type": "markdown",
   "id": "2a1ebe02",
   "metadata": {},
   "source": [
    "### TRAINING PHASE/FIT THE MODEL"
   ]
  },
  {
   "cell_type": "markdown",
   "id": "3ae39aca",
   "metadata": {},
   "source": [
    "Add early stoping when theres no improvement."
   ]
  },
  {
   "cell_type": "code",
   "execution_count": 15,
   "id": "4c589ea6",
   "metadata": {},
   "outputs": [],
   "source": [
    "# reference https://keras.io/api/callbacks/early_stopping/\n",
    "stop = EarlyStopping(monitor='val_loss', # validation_split 20%\n",
    "                     mode='min', \n",
    "                     patience=30,\n",
    "                     verbose=1)"
   ]
  },
  {
   "cell_type": "markdown",
   "id": "4d6297a0",
   "metadata": {},
   "source": [
    "Here we define a validation_set to 20%. Spliting our training set in 80:20 ratio"
   ]
  },
  {
   "cell_type": "code",
   "execution_count": 17,
   "id": "e5c10447",
   "metadata": {},
   "outputs": [
    {
     "name": "stdout",
     "output_type": "stream",
     "text": [
      "Epoch 1/100\n",
      "963/963 [==============================] - 1s 1ms/step - loss: 24820382.0000 - mae: 3025.9592 - val_loss: 23699988.0000 - val_mae: 2795.0173\n",
      "Epoch 2/100\n",
      "963/963 [==============================] - 1s 1ms/step - loss: 24592010.0000 - mae: 2984.0212 - val_loss: 25024636.0000 - val_mae: 2795.5161\n",
      "Epoch 3/100\n",
      "963/963 [==============================] - 1s 1ms/step - loss: 23590964.0000 - mae: 2938.5601 - val_loss: 25279652.0000 - val_mae: 2821.8726\n",
      "Epoch 4/100\n",
      "963/963 [==============================] - 1s 1ms/step - loss: 23438996.0000 - mae: 2953.0911 - val_loss: 28832708.0000 - val_mae: 2799.7874\n",
      "Epoch 5/100\n",
      "963/963 [==============================] - 1s 1ms/step - loss: 23336510.0000 - mae: 2917.9666 - val_loss: 25075002.0000 - val_mae: 2609.6379\n",
      "Epoch 6/100\n",
      "963/963 [==============================] - 1s 1ms/step - loss: 23326430.0000 - mae: 2856.7280 - val_loss: 28277488.0000 - val_mae: 2945.2722\n",
      "Epoch 7/100\n",
      "963/963 [==============================] - 1s 1ms/step - loss: 23284412.0000 - mae: 2859.7063 - val_loss: 25495702.0000 - val_mae: 2991.7505\n",
      "Epoch 8/100\n",
      "963/963 [==============================] - 1s 1ms/step - loss: 23439744.0000 - mae: 2950.1401 - val_loss: 24438658.0000 - val_mae: 2629.6587\n",
      "Epoch 9/100\n",
      "963/963 [==============================] - 1s 1ms/step - loss: 23209298.0000 - mae: 2896.7610 - val_loss: 25140536.0000 - val_mae: 3344.8198\n",
      "Epoch 10/100\n",
      "963/963 [==============================] - 1s 1ms/step - loss: 23828368.0000 - mae: 2909.0283 - val_loss: 24590646.0000 - val_mae: 3088.3650\n",
      "Epoch 11/100\n",
      "963/963 [==============================] - 1s 1ms/step - loss: 23413782.0000 - mae: 2868.9370 - val_loss: 25030046.0000 - val_mae: 3089.5681\n",
      "Epoch 12/100\n",
      "963/963 [==============================] - 1s 1ms/step - loss: 22822606.0000 - mae: 2950.5222 - val_loss: 24882256.0000 - val_mae: 2781.5342\n",
      "Epoch 13/100\n",
      "963/963 [==============================] - 1s 1ms/step - loss: 23230590.0000 - mae: 2891.2478 - val_loss: 26256176.0000 - val_mae: 2711.6692\n",
      "Epoch 14/100\n",
      "963/963 [==============================] - 1s 1ms/step - loss: 23325108.0000 - mae: 2837.2026 - val_loss: 26502694.0000 - val_mae: 3098.8127\n",
      "Epoch 15/100\n",
      "963/963 [==============================] - 1s 1ms/step - loss: 23484248.0000 - mae: 2940.6658 - val_loss: 26280012.0000 - val_mae: 2808.3884\n",
      "Epoch 16/100\n",
      "963/963 [==============================] - 1s 1ms/step - loss: 23182658.0000 - mae: 2887.8010 - val_loss: 25994230.0000 - val_mae: 3035.3823\n",
      "Epoch 17/100\n",
      "963/963 [==============================] - 1s 1ms/step - loss: 23074208.0000 - mae: 2940.6313 - val_loss: 24889220.0000 - val_mae: 2861.7175\n",
      "Epoch 18/100\n",
      "963/963 [==============================] - 1s 1ms/step - loss: 23021712.0000 - mae: 2909.3223 - val_loss: 24255024.0000 - val_mae: 2800.7407\n",
      "Epoch 19/100\n",
      "963/963 [==============================] - 1s 1ms/step - loss: 22917954.0000 - mae: 2830.5544 - val_loss: 24943964.0000 - val_mae: 2762.2905\n",
      "Epoch 20/100\n",
      "963/963 [==============================] - 1s 1ms/step - loss: 23171764.0000 - mae: 2879.8840 - val_loss: 26563168.0000 - val_mae: 3118.1350\n",
      "Epoch 21/100\n",
      "963/963 [==============================] - 1s 1ms/step - loss: 23216456.0000 - mae: 2956.4458 - val_loss: 29527684.0000 - val_mae: 2637.3047\n",
      "Epoch 22/100\n",
      "963/963 [==============================] - 1s 1ms/step - loss: 22674918.0000 - mae: 2822.9478 - val_loss: 25146116.0000 - val_mae: 2918.3240\n",
      "Epoch 23/100\n",
      "963/963 [==============================] - 1s 1ms/step - loss: 22753966.0000 - mae: 2833.7249 - val_loss: 26480434.0000 - val_mae: 2904.8215\n",
      "Epoch 24/100\n",
      "963/963 [==============================] - 1s 1ms/step - loss: 22535838.0000 - mae: 2812.3552 - val_loss: 26245236.0000 - val_mae: 3352.1018\n",
      "Epoch 25/100\n",
      "963/963 [==============================] - 1s 1ms/step - loss: 23082860.0000 - mae: 2923.8401 - val_loss: 24488826.0000 - val_mae: 2965.0085\n",
      "Epoch 26/100\n",
      "963/963 [==============================] - 1s 1ms/step - loss: 23102936.0000 - mae: 2838.2598 - val_loss: 25070846.0000 - val_mae: 3188.3704\n",
      "Epoch 27/100\n",
      "963/963 [==============================] - 1s 1ms/step - loss: 22976164.0000 - mae: 2928.8108 - val_loss: 24810466.0000 - val_mae: 2910.9744\n",
      "Epoch 28/100\n",
      "963/963 [==============================] - 1s 1ms/step - loss: 22590450.0000 - mae: 2867.4888 - val_loss: 27328338.0000 - val_mae: 2848.0779\n",
      "Epoch 29/100\n",
      "963/963 [==============================] - 1s 1ms/step - loss: 22003980.0000 - mae: 2839.7588 - val_loss: 24777080.0000 - val_mae: 2940.7532\n",
      "Epoch 30/100\n",
      "963/963 [==============================] - 1s 1ms/step - loss: 22969268.0000 - mae: 2902.2241 - val_loss: 28704644.0000 - val_mae: 2751.4783\n",
      "Epoch 31/100\n",
      "963/963 [==============================] - 1s 1ms/step - loss: 22555630.0000 - mae: 2852.0190 - val_loss: 25817746.0000 - val_mae: 2634.8242\n",
      "Epoch 31: early stopping\n"
     ]
    }
   ],
   "source": [
    "h = model_regr.fit(x_train, y_train, \n",
    "               validation_split=0.2, \n",
    "               epochs=100, \n",
    "               batch_size=1,\n",
    "               verbose=1,\n",
    "               callbacks=[stop])"
   ]
  },
  {
   "cell_type": "markdown",
   "id": "cbbfef63",
   "metadata": {},
   "source": [
    "#### Model Summary"
   ]
  },
  {
   "cell_type": "code",
   "execution_count": 18,
   "id": "00112b73",
   "metadata": {
    "code_folding": []
   },
   "outputs": [
    {
     "name": "stdout",
     "output_type": "stream",
     "text": [
      "Model: \"sequential\"\n",
      "_________________________________________________________________\n",
      " Layer (type)                Output Shape              Param #   \n",
      "=================================================================\n",
      " dense (Dense)               (None, 9)                 90        \n",
      "                                                                 \n",
      " dense_1 (Dense)             (None, 128)               1280      \n",
      "                                                                 \n",
      " dropout (Dropout)           (None, 128)               0         \n",
      "                                                                 \n",
      " dense_2 (Dense)             (None, 1)                 129       \n",
      "                                                                 \n",
      "=================================================================\n",
      "Total params: 1,499\n",
      "Trainable params: 1,499\n",
      "Non-trainable params: 0\n",
      "_________________________________________________________________\n"
     ]
    }
   ],
   "source": [
    "# view summary\n",
    "model_regr.summary()"
   ]
  },
  {
   "cell_type": "code",
   "execution_count": 19,
   "id": "e9196066",
   "metadata": {},
   "outputs": [
    {
     "data": {
      "text/plain": [
       "dict_keys(['loss', 'mae', 'val_loss', 'val_mae'])"
      ]
     },
     "execution_count": 19,
     "metadata": {},
     "output_type": "execute_result"
    }
   ],
   "source": [
    "h.history.keys()"
   ]
  },
  {
   "cell_type": "code",
   "execution_count": 22,
   "id": "2922c75c",
   "metadata": {},
   "outputs": [
    {
     "data": {
      "text/plain": [
       "Text(0, 0.5, 'MAE')"
      ]
     },
     "execution_count": 22,
     "metadata": {},
     "output_type": "execute_result"
    },
    {
     "data": {
      "image/png": "[encoded data removed]",
      "text/plain": [
       "<Figure size 1080x432 with 2 Axes>"
      ]
     },
     "metadata": {
      "needs_background": "light"
     },
     "output_type": "display_data"
    }
   ],
   "source": [
    "#plotting\n",
    "\n",
    "fig, axs = plt.subplots(1,2,\n",
    "                        figsize=(15, 6),\n",
    "                        gridspec_kw={'hspace': 0.5, 'wspace': 0.2}) \n",
    "(ax1, ax2) = axs\n",
    "ax1.plot(h.history['loss'], label='Train')\n",
    "ax1.plot(h.history['val_loss'], label='Validation')\n",
    "ax1.set_title('learning rate=' + str(0.01))\n",
    "ax1.legend(loc=\"upper right\")\n",
    "ax1.set_xlabel(\"# of epochs\")\n",
    "ax1.set_ylabel(\"loss (MSE)\")\n",
    "\n",
    "ax2.plot(h.history['mae'], label='Train')\n",
    "ax2.plot(h.history['val_mae'], label='Validation')\n",
    "ax2.set_title('learning rate=' + str(0.01))\n",
    "ax2.legend(loc=\"upper right\")\n",
    "ax2.set_xlabel(\"# of epochs\")\n",
    "ax2.set_ylabel(\"MAE\")"
   ]
  },
  {
   "cell_type": "markdown",
   "id": "b6bd0740",
   "metadata": {},
   "source": [
    "### Evaluation"
   ]
  },
  {
   "cell_type": "code",
   "execution_count": 23,
   "id": "3f251a72",
   "metadata": {},
   "outputs": [
    {
     "name": "stdout",
     "output_type": "stream",
     "text": [
      "5/5 [==============================] - 0s 1ms/step - loss: 19133180.0000 - mae: 2262.7266\n"
     ]
    }
   ],
   "source": [
    "val_mse, val_mae = model_regr.evaluate(x_test, y_test, verbose = 1)"
   ]
  },
  {
   "cell_type": "code",
   "execution_count": 24,
   "id": "2b1a1527",
   "metadata": {},
   "outputs": [
    {
     "name": "stdout",
     "output_type": "stream",
     "text": [
      "5/5 [==============================] - 0s 1ms/step\n"
     ]
    }
   ],
   "source": [
    "y_predict = model_regr.predict(x_test)"
   ]
  },
  {
   "cell_type": "code",
   "execution_count": 39,
   "id": "ca19d78f",
   "metadata": {},
   "outputs": [
    {
     "data": {
      "text/plain": [
       "0.8613088309056655"
      ]
     },
     "execution_count": 39,
     "metadata": {},
     "output_type": "execute_result"
    }
   ],
   "source": [
    "r2_score(y_test, y_predict) "
   ]
  },
  {
   "cell_type": "markdown",
   "id": "ce0d48c3",
   "metadata": {},
   "source": [
    "### Predicted vs. Actual Charges"
   ]
  },
  {
   "cell_type": "code",
   "execution_count": 28,
   "id": "b0b55e27",
   "metadata": {},
   "outputs": [
    {
     "data": {
      "text/html": [
       "<div>\n",
       "<style scoped>\n",
       "    .dataframe tbody tr th:only-of-type {\n",
       "        vertical-align: middle;\n",
       "    }\n",
       "\n",
       "    .dataframe tbody tr th {\n",
       "        vertical-align: top;\n",
       "    }\n",
       "\n",
       "    .dataframe thead th {\n",
       "        text-align: right;\n",
       "    }\n",
       "</style>\n",
       "<table border=\"1\" class=\"dataframe\">\n",
       "  <thead>\n",
       "    <tr style=\"text-align: right;\">\n",
       "      <th></th>\n",
       "      <th>Actual Charges</th>\n",
       "      <th>Predicted Charges</th>\n",
       "      <th>Difference</th>\n",
       "    </tr>\n",
       "  </thead>\n",
       "  <tbody>\n",
       "    <tr>\n",
       "      <th>0</th>\n",
       "      <td>9095.06825</td>\n",
       "      <td>11333.367188</td>\n",
       "      <td>2238.30</td>\n",
       "    </tr>\n",
       "    <tr>\n",
       "      <th>1</th>\n",
       "      <td>5272.17580</td>\n",
       "      <td>6162.547363</td>\n",
       "      <td>890.37</td>\n",
       "    </tr>\n",
       "    <tr>\n",
       "      <th>2</th>\n",
       "      <td>29330.98315</td>\n",
       "      <td>31177.480469</td>\n",
       "      <td>1846.50</td>\n",
       "    </tr>\n",
       "    <tr>\n",
       "      <th>3</th>\n",
       "      <td>9301.89355</td>\n",
       "      <td>8654.780273</td>\n",
       "      <td>-647.11</td>\n",
       "    </tr>\n",
       "    <tr>\n",
       "      <th>4</th>\n",
       "      <td>33750.29180</td>\n",
       "      <td>29927.000000</td>\n",
       "      <td>-3823.29</td>\n",
       "    </tr>\n",
       "  </tbody>\n",
       "</table>\n",
       "</div>"
      ],
      "text/plain": [
       "   Actual Charges  Predicted Charges  Difference\n",
       "0      9095.06825       11333.367188     2238.30\n",
       "1      5272.17580        6162.547363      890.37\n",
       "2     29330.98315       31177.480469     1846.50\n",
       "3      9301.89355        8654.780273     -647.11\n",
       "4     33750.29180       29927.000000    -3823.29"
      ]
     },
     "execution_count": 28,
     "metadata": {},
     "output_type": "execute_result"
    }
   ],
   "source": [
    "# show/hide code\n",
    "a = y_test.values.reshape(-1,1).flatten()\n",
    "b = y_predict.flatten()\n",
    "diff = (b - a)\n",
    "\n",
    "sim_data={\"Actual Charges\":a, 'Predicted Charges':b, 'Difference':np.round(diff,2)}\n",
    "\n",
    "sim_data=pd.DataFrame(sim_data)\n",
    "\n",
    "# Showing first 5 rows\n",
    "sim_data.head(5)"
   ]
  },
  {
   "cell_type": "markdown",
   "id": "af81046d",
   "metadata": {},
   "source": [
    "### Visualization"
   ]
  },
  {
   "cell_type": "code",
   "execution_count": 29,
   "id": "026ead0b",
   "metadata": {},
   "outputs": [
    {
     "data": {
      "text/plain": [
       "Text(0, 0.5, 'Predicted Charges')"
      ]
     },
     "execution_count": 29,
     "metadata": {},
     "output_type": "execute_result"
    },
    {
     "data": {
      "image/png": "[encoded data removed]",
      "text/plain": [
       "<Figure size 576x432 with 1 Axes>"
      ]
     },
     "metadata": {
      "needs_background": "light"
     },
     "output_type": "display_data"
    }
   ],
   "source": [
    "# visualization of actual vs. predicted charges\n",
    "plt.figure(figsize=(8, 6)) \n",
    "\n",
    "plt.scatter(y_test, y_predict, alpha=0.4, color = 'red')\n",
    "plt.title(\"Actual Vs. Predicted Charges\")\n",
    "plt.xlabel(\"Actual Charges\")\n",
    "plt.ylabel(\"Predicted Charges\")"
   ]
  },
  {
   "cell_type": "markdown",
   "id": "158ac4ff",
   "metadata": {},
   "source": [
    "# GridSearchCV\n",
    "Finding the optimal hypeparameters value"
   ]
  },
  {
   "cell_type": "markdown",
   "id": "8f2eb7b9",
   "metadata": {},
   "source": [
    "### Function For Designing Model\n",
    "Function that creates and returns your Keras sequential model (To use in skires wrappers)"
   ]
  },
  {
   "cell_type": "code",
   "execution_count": 30,
   "id": "47f6f3d1",
   "metadata": {},
   "outputs": [],
   "source": [
    "def design_model(features):\n",
    "  # ann model instance  \n",
    "  model_regr = Sequential()\n",
    "  \n",
    "  \n",
    "  #### INPUT LAYER>>>>\n",
    "  #adding the input layer\n",
    "  model_regr.add(Dense(units = X.shape[1] , activation = 'relu')) \n",
    "\n",
    "\n",
    "  #### HIDDEN LAYER1>>>>\n",
    "  # there are a numbers of activation functions such as softmax, sigmoid, \n",
    "  # but ReLU (relu) (Rectified Linear Unit) is very effective in many applications and we’ll use it here.\n",
    "  model_regr.add(Dense(128, activation = 'relu'))\n",
    "\n",
    "\n",
    "  #### OUTPUT LAYER>>>>\n",
    "  model_regr.add(Dense(1, activation = 'linear'))  \n",
    "\n",
    "\n",
    "  #### Optimizer\n",
    "  # WE have a lot of optimizers such as SGD (Stochastic Gradient Descent optimizer), Adam, RMSprop, and others.\n",
    "  # right now adam is the best one as its solved previous optmizers issues.\n",
    "  opt = Adam(learning_rate = 0.01)\n",
    "  # loss/cost \n",
    "  # MSE, MAE, Huber loss  \n",
    "  model_regr.compile(loss='mse',  metrics=['mae'], optimizer=opt)  \n",
    "    \n",
    "\n",
    "  return model_regr"
   ]
  },
  {
   "cell_type": "markdown",
   "id": "ffec5c2b",
   "metadata": {},
   "source": [
    "Invoke our fucntion and pass the x_train argument then save it in a variable."
   ]
  },
  {
   "cell_type": "code",
   "execution_count": 31,
   "id": "45d95368",
   "metadata": {},
   "outputs": [],
   "source": [
    "model_regr2 = design_model(x_train)"
   ]
  },
  {
   "cell_type": "markdown",
   "id": "e3848865",
   "metadata": {},
   "source": [
    "Fitting our training set to our `model_regr`"
   ]
  },
  {
   "cell_type": "markdown",
   "id": "e38a78e9",
   "metadata": {},
   "source": [
    "### Training Phase/Fit The Model"
   ]
  },
  {
   "cell_type": "code",
   "execution_count": 32,
   "id": "75ceea60",
   "metadata": {},
   "outputs": [
    {
     "name": "stdout",
     "output_type": "stream",
     "text": [
      "31/31 [==============================] - 0s 5ms/step - loss: 324299840.0000 - mae: 13392.2930 - val_loss: 321864480.0000 - val_mae: 12848.9375\n"
     ]
    },
    {
     "data": {
      "text/plain": [
       "<keras.callbacks.History at 0x16b2cbf81f0>"
      ]
     },
     "execution_count": 32,
     "metadata": {},
     "output_type": "execute_result"
    }
   ],
   "source": [
    "model_regr2.fit(x_train, y_train, \n",
    "                validation_split=0.2, \n",
    "                verbose=1)"
   ]
  },
  {
   "cell_type": "markdown",
   "id": "37fc5d2b",
   "metadata": {},
   "source": [
    "To use KerasRegressor, we must define a function that creates and returns your Keras sequential model,(Above Function)\n",
    "then pass this function to the model argument when constructing the KerasClassifier class."
   ]
  },
  {
   "cell_type": "code",
   "execution_count": 33,
   "id": "5c43b34d",
   "metadata": {},
   "outputs": [],
   "source": [
    "model = KerasRegressor(model = model_regr2)"
   ]
  },
  {
   "cell_type": "markdown",
   "id": "9c2dfa08",
   "metadata": {},
   "source": [
    "### Setting Up Hyperparameters"
   ]
  },
  {
   "cell_type": "markdown",
   "id": "8f7be4c4",
   "metadata": {},
   "source": [
    "This is computational extensive, we will use small value here.\n",
    "\n",
    "List of hyperparameters:\n",
    " 1. the learning rate\n",
    " 2. number of batches\n",
    " 3. number of epochs\n",
    " 4. number of units per hidden layer\n",
    " 5. activation functions."
   ]
  },
  {
   "cell_type": "code",
   "execution_count": 34,
   "id": "66339cf7",
   "metadata": {},
   "outputs": [],
   "source": [
    "param_grid = dict(epochs = [50,100],\n",
    "                  batch_size = [1,10,50])"
   ]
  },
  {
   "cell_type": "code",
   "execution_count": 35,
   "id": "f44813e8",
   "metadata": {},
   "outputs": [
    {
     "name": "stdout",
     "output_type": "stream",
     "text": [
      "INFO:tensorflow:Assets written to: C:\\Users\\Toto\\AppData\\Local\\Temp\\tmpt8ngp_np\\assets\n",
      "INFO:tensorflow:Assets written to: C:\\Users\\Toto\\AppData\\Local\\Temp\\tmp4ud6gjj_\\assets\n",
      "INFO:tensorflow:Assets written to: C:\\Users\\Toto\\AppData\\Local\\Temp\\tmp014i7xkg\\assets\n",
      "INFO:tensorflow:Assets written to: C:\\Users\\Toto\\AppData\\Local\\Temp\\tmpx6w6uner\\assets\n",
      "INFO:tensorflow:Assets written to: C:\\Users\\Toto\\AppData\\Local\\Temp\\tmp_wu39pjp\\assets\n",
      "INFO:tensorflow:Assets written to: C:\\Users\\Toto\\AppData\\Local\\Temp\\tmptstdxian\\assets\n",
      "INFO:tensorflow:Assets written to: C:\\Users\\Toto\\AppData\\Local\\Temp\\tmpe81x0hfl\\assets\n",
      "INFO:tensorflow:Assets written to: C:\\Users\\Toto\\AppData\\Local\\Temp\\tmprsjo91k7\\assets\n",
      "INFO:tensorflow:Assets written to: C:\\Users\\Toto\\AppData\\Local\\Temp\\tmpbz_seytx\\assets\n",
      "INFO:tensorflow:Assets written to: C:\\Users\\Toto\\AppData\\Local\\Temp\\tmp59mokznn\\assets\n",
      "INFO:tensorflow:Assets written to: C:\\Users\\Toto\\AppData\\Local\\Temp\\tmp0vycjdoo\\assets\n",
      "INFO:tensorflow:Assets written to: C:\\Users\\Toto\\AppData\\Local\\Temp\\tmpauqjd5uo\\assets\n",
      "INFO:tensorflow:Assets written to: C:\\Users\\Toto\\AppData\\Local\\Temp\\tmp4srr5w2j\\assets\n",
      "INFO:tensorflow:Assets written to: C:\\Users\\Toto\\AppData\\Local\\Temp\\tmpqvtbfn_r\\assets\n",
      "INFO:tensorflow:Assets written to: C:\\Users\\Toto\\AppData\\Local\\Temp\\tmpb8z5tm9w\\assets\n",
      "INFO:tensorflow:Assets written to: C:\\Users\\Toto\\AppData\\Local\\Temp\\tmpsb6w3e5n\\assets\n",
      "INFO:tensorflow:Assets written to: C:\\Users\\Toto\\AppData\\Local\\Temp\\tmp901m7if2\\assets\n",
      "INFO:tensorflow:Assets written to: C:\\Users\\Toto\\AppData\\Local\\Temp\\tmpikb6v6yg\\assets\n",
      "INFO:tensorflow:Assets written to: C:\\Users\\Toto\\AppData\\Local\\Temp\\tmpr8vc2wp6\\assets\n",
      "INFO:tensorflow:Assets written to: C:\\Users\\Toto\\AppData\\Local\\Temp\\tmp_jzjb8e5\\assets\n",
      "INFO:tensorflow:Assets written to: C:\\Users\\Toto\\AppData\\Local\\Temp\\tmp4jq46wof\\assets\n",
      "INFO:tensorflow:Assets written to: C:\\Users\\Toto\\AppData\\Local\\Temp\\tmpbzpez9km\\assets\n",
      "INFO:tensorflow:Assets written to: C:\\Users\\Toto\\AppData\\Local\\Temp\\tmp23a86sqe\\assets\n",
      "INFO:tensorflow:Assets written to: C:\\Users\\Toto\\AppData\\Local\\Temp\\tmp2acpu1oj\\assets\n",
      "INFO:tensorflow:Assets written to: C:\\Users\\Toto\\AppData\\Local\\Temp\\tmpy5wo4cu2\\assets\n",
      "INFO:tensorflow:Assets written to: C:\\Users\\Toto\\AppData\\Local\\Temp\\tmpbrnpkivu\\assets\n",
      "INFO:tensorflow:Assets written to: C:\\Users\\Toto\\AppData\\Local\\Temp\\tmp2iyki3j_\\assets\n",
      "INFO:tensorflow:Assets written to: C:\\Users\\Toto\\AppData\\Local\\Temp\\tmpych4mydd\\assets\n",
      "INFO:tensorflow:Assets written to: C:\\Users\\Toto\\AppData\\Local\\Temp\\tmpwuj07fqx\\assets\n",
      "INFO:tensorflow:Assets written to: C:\\Users\\Toto\\AppData\\Local\\Temp\\tmp1lobnuqz\\assets\n",
      "INFO:tensorflow:Assets written to: C:\\Users\\Toto\\AppData\\Local\\Temp\\tmpizl69rzz\\assets\n",
      "INFO:tensorflow:Assets written to: C:\\Users\\Toto\\AppData\\Local\\Temp\\tmpj1m4lazo\\assets\n",
      "INFO:tensorflow:Assets written to: C:\\Users\\Toto\\AppData\\Local\\Temp\\tmptmnt39h3\\assets\n",
      "INFO:tensorflow:Assets written to: C:\\Users\\Toto\\AppData\\Local\\Temp\\tmp33bb864q\\assets\n",
      "INFO:tensorflow:Assets written to: C:\\Users\\Toto\\AppData\\Local\\Temp\\tmp0r7plyw2\\assets\n",
      "INFO:tensorflow:Assets written to: C:\\Users\\Toto\\AppData\\Local\\Temp\\tmpi5_ki9qn\\assets\n",
      "INFO:tensorflow:Assets written to: C:\\Users\\Toto\\AppData\\Local\\Temp\\tmp12awfyir\\assets\n",
      "INFO:tensorflow:Assets written to: C:\\Users\\Toto\\AppData\\Local\\Temp\\tmpov5omnj5\\assets\n",
      "INFO:tensorflow:Assets written to: C:\\Users\\Toto\\AppData\\Local\\Temp\\tmp2ew5e965\\assets\n",
      "Epoch 1/50\n",
      "1204/1204 [==============================] - 1s 772us/step - loss: 83714888.0000 - mae: 5763.7383\n",
      "Epoch 2/50\n",
      "1204/1204 [==============================] - 1s 755us/step - loss: 34925964.0000 - mae: 4005.6404\n",
      "Epoch 3/50\n",
      "1204/1204 [==============================] - 1s 842us/step - loss: 33936448.0000 - mae: 3933.0286\n",
      "Epoch 4/50\n",
      "1204/1204 [==============================] - 1s 1ms/step - loss: 32063222.0000 - mae: 3741.8792\n",
      "Epoch 5/50\n",
      "1204/1204 [==============================] - 1s 1ms/step - loss: 28977326.0000 - mae: 3471.7214\n",
      "Epoch 6/50\n",
      "1204/1204 [==============================] - 1s 950us/step - loss: 27667766.0000 - mae: 3293.1799\n",
      "Epoch 7/50\n",
      "1204/1204 [==============================] - 1s 881us/step - loss: 27028686.0000 - mae: 3195.9702\n",
      "Epoch 8/50\n",
      "1204/1204 [==============================] - 1s 816us/step - loss: 26364616.0000 - mae: 3194.6504\n",
      "Epoch 9/50\n",
      "1204/1204 [==============================] - 1s 807us/step - loss: 26248950.0000 - mae: 3168.9216\n",
      "Epoch 10/50\n",
      "1204/1204 [==============================] - 1s 790us/step - loss: 25822742.0000 - mae: 3080.3860\n",
      "Epoch 11/50\n",
      "1204/1204 [==============================] - 1s 782us/step - loss: 25660718.0000 - mae: 3126.3123\n",
      "Epoch 12/50\n",
      "1204/1204 [==============================] - 1s 821us/step - loss: 25323094.0000 - mae: 3021.7090\n",
      "Epoch 13/50\n",
      "1204/1204 [==============================] - 1s 861us/step - loss: 25444856.0000 - mae: 3062.4341\n",
      "Epoch 14/50\n",
      "1204/1204 [==============================] - 1s 960us/step - loss: 25192286.0000 - mae: 3051.7729\n",
      "Epoch 15/50\n",
      "1204/1204 [==============================] - 1s 914us/step - loss: 25159888.0000 - mae: 3059.0525\n",
      "Epoch 16/50\n",
      "1204/1204 [==============================] - 1s 845us/step - loss: 25004152.0000 - mae: 3009.1716\n",
      "Epoch 17/50\n",
      "1204/1204 [==============================] - 1s 871us/step - loss: 24889100.0000 - mae: 3038.4617\n",
      "Epoch 18/50\n",
      "1204/1204 [==============================] - 1s 915us/step - loss: 24855522.0000 - mae: 3023.9329\n",
      "Epoch 19/50\n",
      "1204/1204 [==============================] - 1s 843us/step - loss: 24572626.0000 - mae: 3003.8389\n",
      "Epoch 20/50\n",
      "1204/1204 [==============================] - 1s 863us/step - loss: 24214670.0000 - mae: 2946.6523\n",
      "Epoch 21/50\n",
      "1204/1204 [==============================] - 1s 750us/step - loss: 25023318.0000 - mae: 2992.6150\n",
      "Epoch 22/50\n",
      "1204/1204 [==============================] - 1s 761us/step - loss: 24917096.0000 - mae: 3024.8191\n",
      "Epoch 23/50\n",
      "1204/1204 [==============================] - 1s 771us/step - loss: 24661428.0000 - mae: 2994.3105\n",
      "Epoch 24/50\n",
      "1204/1204 [==============================] - 1s 757us/step - loss: 24349348.0000 - mae: 2929.0461\n",
      "Epoch 25/50\n",
      "1204/1204 [==============================] - 1s 795us/step - loss: 24905950.0000 - mae: 3019.7354\n",
      "Epoch 26/50\n",
      "1204/1204 [==============================] - 1s 821us/step - loss: 24517968.0000 - mae: 2971.6086\n",
      "Epoch 27/50\n",
      "1204/1204 [==============================] - 1s 947us/step - loss: 24605394.0000 - mae: 3004.1167\n",
      "Epoch 28/50\n",
      "1204/1204 [==============================] - 1s 926us/step - loss: 24381110.0000 - mae: 2962.2493\n",
      "Epoch 29/50\n",
      "1204/1204 [==============================] - 1s 857us/step - loss: 24806432.0000 - mae: 3058.2744\n",
      "Epoch 30/50\n",
      "1204/1204 [==============================] - 1s 1ms/step - loss: 24461738.0000 - mae: 2959.0293\n",
      "Epoch 31/50\n",
      "1204/1204 [==============================] - 1s 1ms/step - loss: 24607322.0000 - mae: 2968.4607\n",
      "Epoch 32/50\n",
      "1204/1204 [==============================] - 1s 780us/step - loss: 24530872.0000 - mae: 2946.6799\n",
      "Epoch 33/50\n",
      "1204/1204 [==============================] - 1s 1ms/step - loss: 24428242.0000 - mae: 2988.8618\n",
      "Epoch 34/50\n",
      "1204/1204 [==============================] - 1s 920us/step - loss: 24753584.0000 - mae: 2957.7136\n",
      "Epoch 35/50\n",
      "1204/1204 [==============================] - 1s 855us/step - loss: 24608594.0000 - mae: 2983.6035\n",
      "Epoch 36/50\n",
      "1204/1204 [==============================] - 1s 837us/step - loss: 24456402.0000 - mae: 2936.0967\n",
      "Epoch 37/50\n",
      "1204/1204 [==============================] - 1s 1ms/step - loss: 24651754.0000 - mae: 3016.2598\n",
      "Epoch 38/50\n",
      "1204/1204 [==============================] - 1s 926us/step - loss: 24317964.0000 - mae: 2971.8589\n",
      "Epoch 39/50\n",
      "1204/1204 [==============================] - 1s 948us/step - loss: 24626224.0000 - mae: 2965.7119\n",
      "Epoch 40/50\n",
      "1204/1204 [==============================] - 1s 910us/step - loss: 24444422.0000 - mae: 2934.6831\n",
      "Epoch 41/50\n",
      "1204/1204 [==============================] - 1s 805us/step - loss: 24217526.0000 - mae: 2918.3743\n",
      "Epoch 42/50\n",
      "1204/1204 [==============================] - 1s 880us/step - loss: 24350068.0000 - mae: 2973.7014\n",
      "Epoch 43/50\n",
      "1204/1204 [==============================] - 1s 810us/step - loss: 24900454.0000 - mae: 3002.4814\n",
      "Epoch 44/50\n"
     ]
    },
    {
     "name": "stdout",
     "output_type": "stream",
     "text": [
      "1204/1204 [==============================] - 1s 898us/step - loss: 24307042.0000 - mae: 2970.2827\n",
      "Epoch 45/50\n",
      "1204/1204 [==============================] - 1s 871us/step - loss: 24267976.0000 - mae: 2936.3923\n",
      "Epoch 46/50\n",
      "1204/1204 [==============================] - 1s 883us/step - loss: 24272378.0000 - mae: 2957.2742\n",
      "Epoch 47/50\n",
      "1204/1204 [==============================] - 1s 878us/step - loss: 24445916.0000 - mae: 2925.5486\n",
      "Epoch 48/50\n",
      "1204/1204 [==============================] - 1s 866us/step - loss: 24264078.0000 - mae: 2944.6091\n",
      "Epoch 49/50\n",
      "1204/1204 [==============================] - 1s 872us/step - loss: 24204900.0000 - mae: 2973.1604\n",
      "Epoch 50/50\n",
      "1204/1204 [==============================] - 1s 887us/step - loss: 23774552.0000 - mae: 2900.9993\n"
     ]
    }
   ],
   "source": [
    "grid = GridSearchCV(estimator=model, \n",
    "                    param_grid=param_grid,\n",
    "                    n_jobs=-1, # use all processor cores of our machine (faster!!)\n",
    "                    scoring = 'r2',\n",
    "                    return_train_score = True,\n",
    "                    cv=3)\n",
    "\n",
    "grid_result = grid.fit(x_train, y_train)"
   ]
  },
  {
   "cell_type": "code",
   "execution_count": 36,
   "id": "6fef2cbb",
   "metadata": {},
   "outputs": [
    {
     "data": {
      "text/plain": [
       "(0.8295704291875609, {'batch_size': 1, 'epochs': 50})"
      ]
     },
     "execution_count": 36,
     "metadata": {},
     "output_type": "execute_result"
    }
   ],
   "source": [
    "grid_result.best_score_ , grid_result.best_params_"
   ]
  }
 ],
 "metadata": {
  "kernelspec": {
   "display_name": "Python 3 (ipykernel)",
   "language": "python",
   "name": "python3"
  },
  "language_info": {
   "codemirror_mode": {
    "name": "ipython",
    "version": 3
   },
   "file_extension": ".py",
   "mimetype": "text/x-python",
   "name": "python",
   "nbconvert_exporter": "python",
   "pygments_lexer": "ipython3",
   "version": "3.8.5"
  }
 },
 "nbformat": 4,
 "nbformat_minor": 5
}
