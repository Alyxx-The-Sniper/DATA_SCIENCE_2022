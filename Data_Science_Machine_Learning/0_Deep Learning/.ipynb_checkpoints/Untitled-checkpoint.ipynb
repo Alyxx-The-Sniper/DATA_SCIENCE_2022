{
 "cells": [
  {
   "cell_type": "markdown",
   "id": "c197be44",
   "metadata": {},
   "source": [
    "# Deep Learning\n",
    "\n",
    "Regression"
   ]
  },
  {
   "cell_type": "code",
   "execution_count": 1,
   "id": "ed3d59cf",
   "metadata": {},
   "outputs": [
    {
     "name": "stderr",
     "output_type": "stream",
     "text": [
      "C:\\Users\\Toto\\anaconda3\\lib\\site-packages\\scipy\\__init__.py:146: UserWarning: A NumPy version >=1.16.5 and <1.23.0 is required for this version of SciPy (detected version 1.23.1\n",
      "  warnings.warn(f\"A NumPy version >={np_minversion} and <{np_maxversion}\"\n"
     ]
    }
   ],
   "source": [
    "import pandas as pd\n",
    "\n",
    "from sklearn.model_selection import train_test_split\n",
    "\n",
    "# from sklearn.compose import ColumnTransformer\n",
    "from sklearn.preprocessing import StandardScaler\n",
    "\n",
    "import tensorflow as tf\n",
    "from tensorflow.keras.models import Sequential\n",
    "from tensorflow.keras import layers\n",
    "from tensorflow.keras.layers import Dense, Activation\n",
    "from tensorflow.keras.optimizers import Adam"
   ]
  },
  {
   "cell_type": "code",
   "execution_count": 2,
   "id": "9e94810b",
   "metadata": {},
   "outputs": [
    {
     "name": "stdout",
     "output_type": "stream",
     "text": [
      "(1338, 7)\n"
     ]
    },
    {
     "data": {
      "text/html": [
       "<div>\n",
       "<style scoped>\n",
       "    .dataframe tbody tr th:only-of-type {\n",
       "        vertical-align: middle;\n",
       "    }\n",
       "\n",
       "    .dataframe tbody tr th {\n",
       "        vertical-align: top;\n",
       "    }\n",
       "\n",
       "    .dataframe thead th {\n",
       "        text-align: right;\n",
       "    }\n",
       "</style>\n",
       "<table border=\"1\" class=\"dataframe\">\n",
       "  <thead>\n",
       "    <tr style=\"text-align: right;\">\n",
       "      <th></th>\n",
       "      <th>age</th>\n",
       "      <th>sex</th>\n",
       "      <th>bmi</th>\n",
       "      <th>children</th>\n",
       "      <th>smoker</th>\n",
       "      <th>region</th>\n",
       "      <th>charges</th>\n",
       "    </tr>\n",
       "  </thead>\n",
       "  <tbody>\n",
       "    <tr>\n",
       "      <th>0</th>\n",
       "      <td>19</td>\n",
       "      <td>1</td>\n",
       "      <td>27.90</td>\n",
       "      <td>0</td>\n",
       "      <td>1</td>\n",
       "      <td>southwest</td>\n",
       "      <td>16884.9240</td>\n",
       "    </tr>\n",
       "    <tr>\n",
       "      <th>1</th>\n",
       "      <td>18</td>\n",
       "      <td>0</td>\n",
       "      <td>33.77</td>\n",
       "      <td>1</td>\n",
       "      <td>0</td>\n",
       "      <td>southeast</td>\n",
       "      <td>1725.5523</td>\n",
       "    </tr>\n",
       "    <tr>\n",
       "      <th>2</th>\n",
       "      <td>28</td>\n",
       "      <td>0</td>\n",
       "      <td>33.00</td>\n",
       "      <td>3</td>\n",
       "      <td>0</td>\n",
       "      <td>southeast</td>\n",
       "      <td>4449.4620</td>\n",
       "    </tr>\n",
       "  </tbody>\n",
       "</table>\n",
       "</div>"
      ],
      "text/plain": [
       "   age  sex    bmi  children  smoker     region     charges\n",
       "0   19    1  27.90         0       1  southwest  16884.9240\n",
       "1   18    0  33.77         1       0  southeast   1725.5523\n",
       "2   28    0  33.00         3       0  southeast   4449.4620"
      ]
     },
     "execution_count": 2,
     "metadata": {},
     "output_type": "execute_result"
    }
   ],
   "source": [
    "df = pd.read_csv('insurance.csv') #load the dataset\n",
    "print(df.shape)\n",
    "df.head(3)"
   ]
  },
  {
   "cell_type": "code",
   "execution_count": 3,
   "id": "480dace9",
   "metadata": {},
   "outputs": [
    {
     "data": {
      "text/plain": [
       "array(['southwest', 'southeast', '0rthwest', '0rtheast'], dtype=object)"
      ]
     },
     "execution_count": 3,
     "metadata": {},
     "output_type": "execute_result"
    }
   ],
   "source": [
    "# inspect categorical features\n",
    "df.region.unique()"
   ]
  },
  {
   "cell_type": "code",
   "execution_count": 4,
   "id": "4e658652",
   "metadata": {},
   "outputs": [
    {
     "data": {
      "text/plain": [
       "array(['southwest', 'southeast', 'northwest', 'northeast'], dtype=object)"
      ]
     },
     "execution_count": 4,
     "metadata": {},
     "output_type": "execute_result"
    }
   ],
   "source": [
    "# clean categorical features\n",
    "df.region = df.region.replace('0', 'no', regex=True)\n",
    "df.region.unique()"
   ]
  },
  {
   "cell_type": "code",
   "execution_count": 5,
   "id": "bdad3392",
   "metadata": {},
   "outputs": [],
   "source": [
    "# Define X and y\n",
    "X = df.iloc[:,0:6]\n",
    "y = df.iloc[:,-1]"
   ]
  },
  {
   "cell_type": "code",
   "execution_count": 6,
   "id": "dc965645",
   "metadata": {},
   "outputs": [
    {
     "data": {
      "text/html": [
       "<div>\n",
       "<style scoped>\n",
       "    .dataframe tbody tr th:only-of-type {\n",
       "        vertical-align: middle;\n",
       "    }\n",
       "\n",
       "    .dataframe tbody tr th {\n",
       "        vertical-align: top;\n",
       "    }\n",
       "\n",
       "    .dataframe thead th {\n",
       "        text-align: right;\n",
       "    }\n",
       "</style>\n",
       "<table border=\"1\" class=\"dataframe\">\n",
       "  <thead>\n",
       "    <tr style=\"text-align: right;\">\n",
       "      <th></th>\n",
       "      <th>age</th>\n",
       "      <th>sex</th>\n",
       "      <th>bmi</th>\n",
       "      <th>children</th>\n",
       "      <th>smoker</th>\n",
       "      <th>region_northeast</th>\n",
       "      <th>region_northwest</th>\n",
       "      <th>region_southeast</th>\n",
       "      <th>region_southwest</th>\n",
       "    </tr>\n",
       "  </thead>\n",
       "  <tbody>\n",
       "    <tr>\n",
       "      <th>0</th>\n",
       "      <td>19</td>\n",
       "      <td>1</td>\n",
       "      <td>27.90</td>\n",
       "      <td>0</td>\n",
       "      <td>1</td>\n",
       "      <td>0</td>\n",
       "      <td>0</td>\n",
       "      <td>0</td>\n",
       "      <td>1</td>\n",
       "    </tr>\n",
       "    <tr>\n",
       "      <th>1</th>\n",
       "      <td>18</td>\n",
       "      <td>0</td>\n",
       "      <td>33.77</td>\n",
       "      <td>1</td>\n",
       "      <td>0</td>\n",
       "      <td>0</td>\n",
       "      <td>0</td>\n",
       "      <td>1</td>\n",
       "      <td>0</td>\n",
       "    </tr>\n",
       "  </tbody>\n",
       "</table>\n",
       "</div>"
      ],
      "text/plain": [
       "   age  sex    bmi  children  smoker  region_northeast  region_northwest  \\\n",
       "0   19    1  27.90         0       1                 0                 0   \n",
       "1   18    0  33.77         1       0                 0                 0   \n",
       "\n",
       "   region_southeast  region_southwest  \n",
       "0                 0                 1  \n",
       "1                 1                 0  "
      ]
     },
     "execution_count": 6,
     "metadata": {},
     "output_type": "execute_result"
    }
   ],
   "source": [
    "# one-hot encoding for categorical variables\n",
    "X = pd.get_dummies(X) \n",
    "X.head(2)"
   ]
  },
  {
   "cell_type": "code",
   "execution_count": 7,
   "id": "534ee997",
   "metadata": {},
   "outputs": [],
   "source": [
    "# Split data\n",
    "x_train, x_test, y_train, y_test = train_test_split(X, y,  test_size = 0.33, random_state = 42)"
   ]
  },
  {
   "cell_type": "code",
   "execution_count": 8,
   "id": "48d83c36",
   "metadata": {},
   "outputs": [],
   "source": [
    "# standardize\n",
    "scaler = StandardScaler()\n",
    "x_train = scaler.fit_transform(x_train)\n",
    "x_test = scaler.transform(x_test)"
   ]
  },
  {
   "cell_type": "markdown",
   "id": "8f2eb7b9",
   "metadata": {},
   "source": [
    "#### Function for designing model"
   ]
  },
  {
   "cell_type": "code",
   "execution_count": 11,
   "id": "2c557384",
   "metadata": {},
   "outputs": [
    {
     "data": {
      "text/plain": [
       "9"
      ]
     },
     "execution_count": 11,
     "metadata": {},
     "output_type": "execute_result"
    }
   ],
   "source": [
    "X.shape[1] "
   ]
  },
  {
   "cell_type": "code",
   "execution_count": 12,
   "id": "47f6f3d1",
   "metadata": {},
   "outputs": [],
   "source": [
    "def design_model(features):\n",
    "  # ann model instance  \n",
    "  model_regr = Sequential()\n",
    "  \n",
    "  \n",
    "  #### INPUT LAYER>>>>\n",
    "  #adding the input layer\n",
    "  model_regr.add(Dense(units = X.shape[1] , activation = 'relu')) \n",
    "\n",
    "\n",
    "  #### HIDDEN LAYER1>>>>\n",
    "  # there are a numbers of activation functions such as softmax, sigmoid, \n",
    "  # but ReLU (relu) (Rectified Linear Unit) is very effective in many applications and we’ll use it here.\n",
    "  model_regr.add(Dense(128, activation = 'relu'))\n",
    "\n",
    "\n",
    "  #### OUTPUT LAYER>>>>\n",
    "  model_regr.add(Dense(1, activation = 'linear'))  \n",
    "\n",
    "\n",
    "  #### Optimizer\n",
    "  # WE have a lot of optimizers such as SGD (Stochastic Gradient Descent optimizer), Adam, RMSprop, and others.\n",
    "  # right now adam is the best one as its solved previous optmizers issues.\n",
    "  opt = Adam(learning_rate = 0.01)\n",
    "  # loss/cost \n",
    "  # MSE, MAE, Huber loss  \n",
    "  model_regr.compile(loss='mse',  metrics=['mae'], optimizer=opt)  \n",
    "    \n",
    "\n",
    "  return model_regr"
   ]
  },
  {
   "cell_type": "markdown",
   "id": "7f2d2de2",
   "metadata": {},
   "source": [
    "#### Invoke The Function For Our Model Design"
   ]
  },
  {
   "cell_type": "code",
   "execution_count": 23,
   "id": "f16d0506",
   "metadata": {},
   "outputs": [],
   "source": [
    "model_regr = design_model(x_train)"
   ]
  },
  {
   "cell_type": "markdown",
   "id": "ca8e364e",
   "metadata": {},
   "source": [
    "#### Training Phase"
   ]
  },
  {
   "cell_type": "code",
   "execution_count": 24,
   "id": "cb977e30",
   "metadata": {},
   "outputs": [
    {
     "name": "stdout",
     "output_type": "stream",
     "text": [
      "Epoch 1/40\n",
      "896/896 [==============================] - 1s 748us/step - loss: 105929112.0000 - mae: 6408.8306\n",
      "Epoch 2/40\n",
      "896/896 [==============================] - 1s 724us/step - loss: 35615756.0000 - mae: 4039.1677\n",
      "Epoch 3/40\n",
      "896/896 [==============================] - 1s 754us/step - loss: 34418804.0000 - mae: 3900.8064\n",
      "Epoch 4/40\n",
      "896/896 [==============================] - 1s 715us/step - loss: 33247158.0000 - mae: 3702.7268\n",
      "Epoch 5/40\n",
      "896/896 [==============================] - 1s 741us/step - loss: 31975270.0000 - mae: 3599.3745\n",
      "Epoch 6/40\n",
      "896/896 [==============================] - 1s 755us/step - loss: 30900038.0000 - mae: 3433.9226\n",
      "Epoch 7/40\n",
      "896/896 [==============================] - 1s 761us/step - loss: 30300270.0000 - mae: 3454.2466\n",
      "Epoch 8/40\n",
      "896/896 [==============================] - 1s 744us/step - loss: 28288160.0000 - mae: 3192.6741\n",
      "Epoch 9/40\n",
      "896/896 [==============================] - 1s 722us/step - loss: 27993414.0000 - mae: 3247.1333\n",
      "Epoch 10/40\n",
      "896/896 [==============================] - 1s 739us/step - loss: 27198694.0000 - mae: 3126.0903\n",
      "Epoch 11/40\n",
      "896/896 [==============================] - 1s 724us/step - loss: 26620834.0000 - mae: 3095.1470\n",
      "Epoch 12/40\n",
      "896/896 [==============================] - 1s 729us/step - loss: 26156962.0000 - mae: 3071.9702\n",
      "Epoch 13/40\n",
      "896/896 [==============================] - 1s 739us/step - loss: 25778820.0000 - mae: 3079.0715\n",
      "Epoch 14/40\n",
      "896/896 [==============================] - 1s 732us/step - loss: 25862234.0000 - mae: 3003.9216\n",
      "Epoch 15/40\n",
      "896/896 [==============================] - 1s 792us/step - loss: 25529566.0000 - mae: 3101.2524\n",
      "Epoch 16/40\n",
      "896/896 [==============================] - 1s 740us/step - loss: 25210366.0000 - mae: 3035.8064\n",
      "Epoch 17/40\n",
      "896/896 [==============================] - 1s 732us/step - loss: 25444994.0000 - mae: 3033.8169\n",
      "Epoch 18/40\n",
      "896/896 [==============================] - 1s 753us/step - loss: 25189826.0000 - mae: 2963.3633\n",
      "Epoch 19/40\n",
      "896/896 [==============================] - 1s 741us/step - loss: 24903278.0000 - mae: 2991.2737\n",
      "Epoch 20/40\n",
      "896/896 [==============================] - 1s 753us/step - loss: 25171778.0000 - mae: 3032.4009\n",
      "Epoch 21/40\n",
      "896/896 [==============================] - 1s 740us/step - loss: 24963826.0000 - mae: 2996.5435\n",
      "Epoch 22/40\n",
      "896/896 [==============================] - 1s 741us/step - loss: 25026178.0000 - mae: 2994.4817\n",
      "Epoch 23/40\n",
      "896/896 [==============================] - 1s 745us/step - loss: 24934930.0000 - mae: 2991.1829\n",
      "Epoch 24/40\n",
      "896/896 [==============================] - 1s 734us/step - loss: 24525502.0000 - mae: 2948.4531\n",
      "Epoch 25/40\n",
      "896/896 [==============================] - 1s 738us/step - loss: 24447126.0000 - mae: 3007.9233\n",
      "Epoch 26/40\n",
      "896/896 [==============================] - 1s 732us/step - loss: 24651926.0000 - mae: 2963.7205\n",
      "Epoch 27/40\n",
      "896/896 [==============================] - 1s 770us/step - loss: 24412454.0000 - mae: 2946.6726\n",
      "Epoch 28/40\n",
      "896/896 [==============================] - 1s 742us/step - loss: 24362236.0000 - mae: 2926.2427\n",
      "Epoch 29/40\n",
      "896/896 [==============================] - 1s 776us/step - loss: 24493594.0000 - mae: 2986.1167\n",
      "Epoch 30/40\n",
      "896/896 [==============================] - 1s 800us/step - loss: 24452772.0000 - mae: 3044.7805\n",
      "Epoch 31/40\n",
      "896/896 [==============================] - 1s 777us/step - loss: 24740202.0000 - mae: 2973.1941\n",
      "Epoch 32/40\n",
      "896/896 [==============================] - 1s 757us/step - loss: 24714802.0000 - mae: 2959.2871\n",
      "Epoch 33/40\n",
      "896/896 [==============================] - 1s 742us/step - loss: 24077412.0000 - mae: 2898.5291\n",
      "Epoch 34/40\n",
      "896/896 [==============================] - 1s 745us/step - loss: 24327668.0000 - mae: 2936.6863\n",
      "Epoch 35/40\n",
      "896/896 [==============================] - 1s 758us/step - loss: 24250640.0000 - mae: 2938.7932\n",
      "Epoch 36/40\n",
      "896/896 [==============================] - 1s 743us/step - loss: 24361172.0000 - mae: 2966.0779\n",
      "Epoch 37/40\n",
      "896/896 [==============================] - 1s 740us/step - loss: 24227500.0000 - mae: 2940.7742\n",
      "Epoch 38/40\n",
      "896/896 [==============================] - 1s 736us/step - loss: 24399072.0000 - mae: 2986.8586\n",
      "Epoch 39/40\n",
      "896/896 [==============================] - 1s 754us/step - loss: 24440380.0000 - mae: 3002.9724\n",
      "Epoch 40/40\n",
      "896/896 [==============================] - 1s 739us/step - loss: 24291632.0000 - mae: 2911.5745\n"
     ]
    },
    {
     "data": {
      "text/plain": [
       "<keras.callbacks.History at 0x1ed61d21e20>"
      ]
     },
     "execution_count": 24,
     "metadata": {},
     "output_type": "execute_result"
    }
   ],
   "source": [
    "model_regr.fit(x_train, y_train, epochs=40, batch_size=1, verbose=1)"
   ]
  },
  {
   "cell_type": "markdown",
   "id": "63e49c1d",
   "metadata": {},
   "source": [
    "#### Model Summary"
   ]
  },
  {
   "cell_type": "code",
   "execution_count": 25,
   "id": "00112b73",
   "metadata": {
    "code_folding": []
   },
   "outputs": [
    {
     "name": "stdout",
     "output_type": "stream",
     "text": [
      "Model: \"sequential_4\"\n",
      "_________________________________________________________________\n",
      " Layer (type)                Output Shape              Param #   \n",
      "=================================================================\n",
      " dense_9 (Dense)             (1, 9)                    90        \n",
      "                                                                 \n",
      " dense_10 (Dense)            (1, 128)                  1280      \n",
      "                                                                 \n",
      " dense_11 (Dense)            (1, 1)                    129       \n",
      "                                                                 \n",
      "=================================================================\n",
      "Total params: 1,499\n",
      "Trainable params: 1,499\n",
      "Non-trainable params: 0\n",
      "_________________________________________________________________\n"
     ]
    }
   ],
   "source": [
    "# check layer\n",
    "# model_regr.layers\n",
    "# view summary\n",
    "model_regr.summary()"
   ]
  },
  {
   "cell_type": "markdown",
   "id": "10c070c9",
   "metadata": {},
   "source": [
    "#### Evaluation"
   ]
  },
  {
   "cell_type": "code",
   "execution_count": 26,
   "id": "3f251a72",
   "metadata": {},
   "outputs": [
    {
     "name": "stdout",
     "output_type": "stream",
     "text": [
      "14/14 [==============================] - 0s 846us/step - loss: 23246292.0000 - mae: 2857.2515\n"
     ]
    }
   ],
   "source": [
    "val_mse, val_mae = model_regr.evaluate(x_test, y_test, verbose = 1)"
   ]
  },
  {
   "cell_type": "markdown",
   "id": "2a9d9674",
   "metadata": {},
   "source": [
    "### Summary\n",
    "\n",
    "\n",
    "1. Preparing the data for learning:\n",
    "2. separating features from labels using array slicing\n",
    "3. determining the shape of your data\n",
    "4. preprocessing the categorical variables using one-hot encoding\n",
    "5. splitting the data into training and test sets\n",
    "6. scaling the numerical features\n",
    "7. Designing a Sequential model by chaining InputLayer() and the tf.keras.layers.Dense layers. InputLayer() was used as a placeholder for the input data. The output layer in this case needed one neuron since we need a prediction of a single value in the regression. And finally, hidden layers were added with the relu activation function to handle complex dependencies in the data.\n",
    "8. Choosing an optimizer using keras.optimizers with a specific learning rate hyperparameter.\n",
    "9. Training the model - using model.fit() to train the model on the training data and training labels.\n",
    "10. Setting the values for the learning hyperparameters: number of epochs and batch sizes.\n",
    "11. Evaluating the model using model.evaluate() on the test data.\n"
   ]
  }
 ],
 "metadata": {
  "kernelspec": {
   "display_name": "Python 3 (ipykernel)",
   "language": "python",
   "name": "python3"
  },
  "language_info": {
   "codemirror_mode": {
    "name": "ipython",
    "version": 3
   },
   "file_extension": ".py",
   "mimetype": "text/x-python",
   "name": "python",
   "nbconvert_exporter": "python",
   "pygments_lexer": "ipython3",
   "version": "3.8.5"
  }
 },
 "nbformat": 4,
 "nbformat_minor": 5
}
