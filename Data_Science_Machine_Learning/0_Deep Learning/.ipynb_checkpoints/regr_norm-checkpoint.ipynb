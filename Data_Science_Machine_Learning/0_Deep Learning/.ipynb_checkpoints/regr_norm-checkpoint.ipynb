{
 "cells": [
  {
   "cell_type": "markdown",
   "id": "c197be44",
   "metadata": {},
   "source": [
    "# Deep Learning\n",
    "\n",
    "Regression"
   ]
  },
  {
   "cell_type": "code",
   "execution_count": 1,
   "id": "ed3d59cf",
   "metadata": {},
   "outputs": [
    {
     "name": "stderr",
     "output_type": "stream",
     "text": [
      "C:\\Users\\Toto\\anaconda3\\lib\\site-packages\\scipy\\__init__.py:146: UserWarning: A NumPy version >=1.16.5 and <1.23.0 is required for this version of SciPy (detected version 1.23.1\n",
      "  warnings.warn(f\"A NumPy version >={np_minversion} and <{np_maxversion}\"\n"
     ]
    }
   ],
   "source": [
    "import pandas as pd\n",
    "\n",
    "from sklearn.model_selection import train_test_split\n",
    "\n",
    "# from sklearn.compose import ColumnTransformer\n",
    "from sklearn.preprocessing import StandardScaler\n",
    "\n",
    "import tensorflow as tf\n",
    "from tensorflow.keras.models import Sequential\n",
    "from tensorflow.keras import layers\n",
    "from tensorflow.keras.layers import Dense, Activation\n",
    "from tensorflow.keras.optimizers import Adam\n",
    "from tensorflow.keras.callbacks import EarlyStopping\n",
    "\n",
    "import matplotlib.pyplot as plt"
   ]
  },
  {
   "cell_type": "code",
   "execution_count": 2,
   "id": "9e94810b",
   "metadata": {},
   "outputs": [
    {
     "name": "stdout",
     "output_type": "stream",
     "text": [
      "(1338, 7)\n"
     ]
    },
    {
     "data": {
      "text/html": [
       "<div>\n",
       "<style scoped>\n",
       "    .dataframe tbody tr th:only-of-type {\n",
       "        vertical-align: middle;\n",
       "    }\n",
       "\n",
       "    .dataframe tbody tr th {\n",
       "        vertical-align: top;\n",
       "    }\n",
       "\n",
       "    .dataframe thead th {\n",
       "        text-align: right;\n",
       "    }\n",
       "</style>\n",
       "<table border=\"1\" class=\"dataframe\">\n",
       "  <thead>\n",
       "    <tr style=\"text-align: right;\">\n",
       "      <th></th>\n",
       "      <th>age</th>\n",
       "      <th>sex</th>\n",
       "      <th>bmi</th>\n",
       "      <th>children</th>\n",
       "      <th>smoker</th>\n",
       "      <th>region</th>\n",
       "      <th>charges</th>\n",
       "    </tr>\n",
       "  </thead>\n",
       "  <tbody>\n",
       "    <tr>\n",
       "      <th>0</th>\n",
       "      <td>19</td>\n",
       "      <td>1</td>\n",
       "      <td>27.90</td>\n",
       "      <td>0</td>\n",
       "      <td>1</td>\n",
       "      <td>southwest</td>\n",
       "      <td>16884.9240</td>\n",
       "    </tr>\n",
       "    <tr>\n",
       "      <th>1</th>\n",
       "      <td>18</td>\n",
       "      <td>0</td>\n",
       "      <td>33.77</td>\n",
       "      <td>1</td>\n",
       "      <td>0</td>\n",
       "      <td>southeast</td>\n",
       "      <td>1725.5523</td>\n",
       "    </tr>\n",
       "    <tr>\n",
       "      <th>2</th>\n",
       "      <td>28</td>\n",
       "      <td>0</td>\n",
       "      <td>33.00</td>\n",
       "      <td>3</td>\n",
       "      <td>0</td>\n",
       "      <td>southeast</td>\n",
       "      <td>4449.4620</td>\n",
       "    </tr>\n",
       "  </tbody>\n",
       "</table>\n",
       "</div>"
      ],
      "text/plain": [
       "   age  sex    bmi  children  smoker     region     charges\n",
       "0   19    1  27.90         0       1  southwest  16884.9240\n",
       "1   18    0  33.77         1       0  southeast   1725.5523\n",
       "2   28    0  33.00         3       0  southeast   4449.4620"
      ]
     },
     "execution_count": 2,
     "metadata": {},
     "output_type": "execute_result"
    }
   ],
   "source": [
    "df = pd.read_csv('insurance.csv') #load the dataset\n",
    "print(df.shape)\n",
    "df.head(3)"
   ]
  },
  {
   "cell_type": "code",
   "execution_count": 3,
   "id": "480dace9",
   "metadata": {},
   "outputs": [
    {
     "data": {
      "text/plain": [
       "array(['southwest', 'southeast', '0rthwest', '0rtheast'], dtype=object)"
      ]
     },
     "execution_count": 3,
     "metadata": {},
     "output_type": "execute_result"
    }
   ],
   "source": [
    "# inspect categorical features\n",
    "df.region.unique()"
   ]
  },
  {
   "cell_type": "code",
   "execution_count": 4,
   "id": "4e658652",
   "metadata": {},
   "outputs": [
    {
     "data": {
      "text/plain": [
       "array(['southwest', 'southeast', 'northwest', 'northeast'], dtype=object)"
      ]
     },
     "execution_count": 4,
     "metadata": {},
     "output_type": "execute_result"
    }
   ],
   "source": [
    "# clean categorical features\n",
    "df.region = df.region.replace('0', 'no', regex=True)\n",
    "df.region.unique()"
   ]
  },
  {
   "cell_type": "code",
   "execution_count": 5,
   "id": "bdad3392",
   "metadata": {},
   "outputs": [],
   "source": [
    "# Define X and y\n",
    "X = df.iloc[:,0:6]\n",
    "y = df.iloc[:,-1]"
   ]
  },
  {
   "cell_type": "code",
   "execution_count": 6,
   "id": "dc965645",
   "metadata": {},
   "outputs": [
    {
     "data": {
      "text/html": [
       "<div>\n",
       "<style scoped>\n",
       "    .dataframe tbody tr th:only-of-type {\n",
       "        vertical-align: middle;\n",
       "    }\n",
       "\n",
       "    .dataframe tbody tr th {\n",
       "        vertical-align: top;\n",
       "    }\n",
       "\n",
       "    .dataframe thead th {\n",
       "        text-align: right;\n",
       "    }\n",
       "</style>\n",
       "<table border=\"1\" class=\"dataframe\">\n",
       "  <thead>\n",
       "    <tr style=\"text-align: right;\">\n",
       "      <th></th>\n",
       "      <th>age</th>\n",
       "      <th>sex</th>\n",
       "      <th>bmi</th>\n",
       "      <th>children</th>\n",
       "      <th>smoker</th>\n",
       "      <th>region_northeast</th>\n",
       "      <th>region_northwest</th>\n",
       "      <th>region_southeast</th>\n",
       "      <th>region_southwest</th>\n",
       "    </tr>\n",
       "  </thead>\n",
       "  <tbody>\n",
       "    <tr>\n",
       "      <th>0</th>\n",
       "      <td>19</td>\n",
       "      <td>1</td>\n",
       "      <td>27.90</td>\n",
       "      <td>0</td>\n",
       "      <td>1</td>\n",
       "      <td>0</td>\n",
       "      <td>0</td>\n",
       "      <td>0</td>\n",
       "      <td>1</td>\n",
       "    </tr>\n",
       "    <tr>\n",
       "      <th>1</th>\n",
       "      <td>18</td>\n",
       "      <td>0</td>\n",
       "      <td>33.77</td>\n",
       "      <td>1</td>\n",
       "      <td>0</td>\n",
       "      <td>0</td>\n",
       "      <td>0</td>\n",
       "      <td>1</td>\n",
       "      <td>0</td>\n",
       "    </tr>\n",
       "  </tbody>\n",
       "</table>\n",
       "</div>"
      ],
      "text/plain": [
       "   age  sex    bmi  children  smoker  region_northeast  region_northwest  \\\n",
       "0   19    1  27.90         0       1                 0                 0   \n",
       "1   18    0  33.77         1       0                 0                 0   \n",
       "\n",
       "   region_southeast  region_southwest  \n",
       "0                 0                 1  \n",
       "1                 1                 0  "
      ]
     },
     "execution_count": 6,
     "metadata": {},
     "output_type": "execute_result"
    }
   ],
   "source": [
    "# one-hot encoding for categorical variables\n",
    "X = pd.get_dummies(X) \n",
    "X.head(2)"
   ]
  },
  {
   "cell_type": "code",
   "execution_count": 7,
   "id": "534ee997",
   "metadata": {},
   "outputs": [],
   "source": [
    "# Split data\n",
    "x_train, x_test, y_train, y_test = train_test_split(X, y,\n",
    "                                                    test_size = 0.3,\n",
    "                                                    random_state = 42)"
   ]
  },
  {
   "cell_type": "code",
   "execution_count": 8,
   "id": "48d83c36",
   "metadata": {},
   "outputs": [],
   "source": [
    "# standardize\n",
    "scaler = StandardScaler()\n",
    "x_train = scaler.fit_transform(x_train)\n",
    "x_test = scaler.transform(x_test)"
   ]
  },
  {
   "cell_type": "markdown",
   "id": "8f2eb7b9",
   "metadata": {},
   "source": [
    "# Designing Model"
   ]
  },
  {
   "cell_type": "code",
   "execution_count": 57,
   "id": "891e7d0a",
   "metadata": {},
   "outputs": [],
   "source": [
    "# Creating a Sequential object\n",
    "model_regr = Sequential()"
   ]
  },
  {
   "cell_type": "markdown",
   "id": "cb803dbe",
   "metadata": {},
   "source": [
    "#### INPUT LAYER"
   ]
  },
  {
   "cell_type": "code",
   "execution_count": 49,
   "id": "e40f8efb",
   "metadata": {},
   "outputs": [],
   "source": [
    "#adding the input layer\n",
    "model_regr.add(Dense(units = X.shape[1] , activation = 'relu')) "
   ]
  },
  {
   "cell_type": "markdown",
   "id": "32dd3d52",
   "metadata": {},
   "source": [
    "#### HIDDEN LAYER 1\n",
    "`Note:`\n",
    "How do we choose the number of hidden layers and the number of units per layer? That is a tough question and there is no good answer. The rule of thumb is to start with one hidden layer and add as many units as we have features in the dataset. However, this might not always work. We need to try things out and observe our learning curve."
   ]
  },
  {
   "cell_type": "code",
   "execution_count": 51,
   "id": "a596f46f",
   "metadata": {},
   "outputs": [],
   "source": [
    "# there are a numbers of activation functions such as softmax, sigmoid, \n",
    "# but ReLU (relu) (Rectified Linear Unit) is very effective in many applications and we’ll use it here.\n",
    "model_regr.add(Dense(128, activation = 'relu'))"
   ]
  },
  {
   "cell_type": "markdown",
   "id": "294a1d4d",
   "metadata": {},
   "source": [
    "\n",
    "#### OUTPUT LAYER"
   ]
  },
  {
   "cell_type": "code",
   "execution_count": 53,
   "id": "8739ed76",
   "metadata": {},
   "outputs": [],
   "source": [
    "model_regr.add(Dense(1, activation = 'linear'))  "
   ]
  },
  {
   "cell_type": "markdown",
   "id": "8e90a6f0",
   "metadata": {},
   "source": [
    "#### OPTIMIZERS"
   ]
  },
  {
   "cell_type": "code",
   "execution_count": 54,
   "id": "05cdcb6d",
   "metadata": {},
   "outputs": [],
   "source": [
    "# WE have a lot of optimizers such as SGD (Stochastic Gradient Descent optimizer), Adam, RMSprop, and others.\n",
    "# right now adam is the best one as its solved previous optmizers issues.\n",
    "opt = Adam(learning_rate = 0.01)"
   ]
  },
  {
   "cell_type": "markdown",
   "id": "aaa72519",
   "metadata": {},
   "source": [
    "#### COMPPILE MODEL"
   ]
  },
  {
   "cell_type": "code",
   "execution_count": 56,
   "id": "47f6f3d1",
   "metadata": {},
   "outputs": [],
   "source": [
    "# loss/cost \n",
    "# MSE, MAE, Huber loss  \n",
    "model_regr.compile(loss='mse',  metrics=['mae'], optimizer=opt)  "
   ]
  },
  {
   "cell_type": "markdown",
   "id": "ca8e364e",
   "metadata": {},
   "source": [
    "# Training Phase"
   ]
  },
  {
   "cell_type": "code",
   "execution_count": 45,
   "id": "4c589ea6",
   "metadata": {},
   "outputs": [],
   "source": [
    "# reference https://keras.io/api/callbacks/early_stopping/\n",
    "# add early stoping when theres no improvement \n",
    "\n",
    "stop = EarlyStopping(monitor='val_loss', # note: validation_split is at 20%\n",
    "                     mode='min', \n",
    "                     patience=30, # Number of epochs with no improvement after which training will be stopped.\n",
    "                     verbose=1)"
   ]
  },
  {
   "cell_type": "code",
   "execution_count": 46,
   "id": "cb977e30",
   "metadata": {},
   "outputs": [
    {
     "name": "stdout",
     "output_type": "stream",
     "text": [
      "Epoch 1/500\n",
      "748/748 [==============================] - 1s 947us/step - loss: 18968174.0000 - mae: 2612.4731 - val_loss: 23650242.0000 - val_mae: 2981.1323\n",
      "Epoch 2/500\n",
      "748/748 [==============================] - 1s 920us/step - loss: 19224252.0000 - mae: 2540.8611 - val_loss: 24032466.0000 - val_mae: 3018.3689\n",
      "Epoch 3/500\n",
      "748/748 [==============================] - 1s 977us/step - loss: 19027210.0000 - mae: 2595.1274 - val_loss: 24790836.0000 - val_mae: 2774.8477\n",
      "Epoch 4/500\n",
      "748/748 [==============================] - 1s 991us/step - loss: 19214274.0000 - mae: 2554.3689 - val_loss: 22964436.0000 - val_mae: 3062.1550\n",
      "Epoch 5/500\n",
      "748/748 [==============================] - 1s 915us/step - loss: 18832420.0000 - mae: 2561.8337 - val_loss: 24646334.0000 - val_mae: 3595.0901\n",
      "Epoch 6/500\n",
      "748/748 [==============================] - 1s 969us/step - loss: 18954154.0000 - mae: 2588.4573 - val_loss: 24943196.0000 - val_mae: 2775.4158\n",
      "Epoch 7/500\n",
      "748/748 [==============================] - 1s 936us/step - loss: 19110420.0000 - mae: 2599.2756 - val_loss: 23219930.0000 - val_mae: 2919.5176\n",
      "Epoch 8/500\n",
      "748/748 [==============================] - 1s 924us/step - loss: 19202400.0000 - mae: 2584.4644 - val_loss: 23115624.0000 - val_mae: 2834.8806\n",
      "Epoch 9/500\n",
      "748/748 [==============================] - 1s 927us/step - loss: 18723452.0000 - mae: 2573.6724 - val_loss: 23408692.0000 - val_mae: 2719.3564\n",
      "Epoch 10/500\n",
      "748/748 [==============================] - 1s 913us/step - loss: 19259284.0000 - mae: 2582.4277 - val_loss: 23714254.0000 - val_mae: 2901.4854\n",
      "Epoch 11/500\n",
      "748/748 [==============================] - 1s 947us/step - loss: 19008492.0000 - mae: 2601.2246 - val_loss: 24637968.0000 - val_mae: 2964.2251\n",
      "Epoch 12/500\n",
      "748/748 [==============================] - 1s 965us/step - loss: 18999118.0000 - mae: 2530.9453 - val_loss: 24311524.0000 - val_mae: 2969.5581\n",
      "Epoch 13/500\n",
      "748/748 [==============================] - 1s 1ms/step - loss: 18898406.0000 - mae: 2613.3457 - val_loss: 25174474.0000 - val_mae: 2636.3376\n",
      "Epoch 14/500\n",
      "748/748 [==============================] - 1s 1ms/step - loss: 18847118.0000 - mae: 2533.5908 - val_loss: 25791494.0000 - val_mae: 2966.3674\n",
      "Epoch 15/500\n",
      "748/748 [==============================] - 1s 952us/step - loss: 19006302.0000 - mae: 2545.6431 - val_loss: 23921332.0000 - val_mae: 3058.0596\n",
      "Epoch 16/500\n",
      "748/748 [==============================] - 1s 923us/step - loss: 18914380.0000 - mae: 2573.5569 - val_loss: 24677962.0000 - val_mae: 2726.1421\n",
      "Epoch 17/500\n",
      "748/748 [==============================] - 1s 917us/step - loss: 18682636.0000 - mae: 2514.0945 - val_loss: 24170518.0000 - val_mae: 3262.0071\n",
      "Epoch 18/500\n",
      "748/748 [==============================] - 1s 931us/step - loss: 18783676.0000 - mae: 2636.9319 - val_loss: 25083134.0000 - val_mae: 2584.0671\n",
      "Epoch 19/500\n",
      "748/748 [==============================] - 1s 929us/step - loss: 18615794.0000 - mae: 2565.2915 - val_loss: 24724902.0000 - val_mae: 2745.6355\n",
      "Epoch 20/500\n",
      "748/748 [==============================] - 1s 939us/step - loss: 18884008.0000 - mae: 2584.8579 - val_loss: 23259894.0000 - val_mae: 2919.0325\n",
      "Epoch 21/500\n",
      "748/748 [==============================] - 1s 923us/step - loss: 18484016.0000 - mae: 2553.2815 - val_loss: 23681582.0000 - val_mae: 2850.5266\n",
      "Epoch 22/500\n",
      "748/748 [==============================] - 1s 973us/step - loss: 18766586.0000 - mae: 2563.6467 - val_loss: 23493942.0000 - val_mae: 2925.4299\n",
      "Epoch 23/500\n",
      "748/748 [==============================] - 1s 929us/step - loss: 18646840.0000 - mae: 2570.7678 - val_loss: 24250676.0000 - val_mae: 2974.3799\n",
      "Epoch 24/500\n",
      "748/748 [==============================] - 1s 933us/step - loss: 18835696.0000 - mae: 2574.1946 - val_loss: 23013532.0000 - val_mae: 2900.7195\n",
      "Epoch 25/500\n",
      "748/748 [==============================] - 1s 925us/step - loss: 18684382.0000 - mae: 2546.7441 - val_loss: 23280590.0000 - val_mae: 2726.4341\n",
      "Epoch 26/500\n",
      "748/748 [==============================] - 1s 923us/step - loss: 18701484.0000 - mae: 2547.0200 - val_loss: 24828652.0000 - val_mae: 3019.4099\n",
      "Epoch 27/500\n",
      "748/748 [==============================] - 1s 947us/step - loss: 18700706.0000 - mae: 2621.6926 - val_loss: 23286444.0000 - val_mae: 2617.4331\n",
      "Epoch 28/500\n",
      "748/748 [==============================] - 1s 944us/step - loss: 18733340.0000 - mae: 2507.2437 - val_loss: 23492464.0000 - val_mae: 2841.2439\n",
      "Epoch 29/500\n",
      "748/748 [==============================] - 1s 939us/step - loss: 18553840.0000 - mae: 2506.4780 - val_loss: 22946244.0000 - val_mae: 2849.4761\n",
      "Epoch 30/500\n",
      "748/748 [==============================] - 1s 975us/step - loss: 18556392.0000 - mae: 2561.2761 - val_loss: 23744924.0000 - val_mae: 2983.9116\n",
      "Epoch 31/500\n",
      "748/748 [==============================] - 1s 951us/step - loss: 18414056.0000 - mae: 2493.9236 - val_loss: 24534044.0000 - val_mae: 3417.7341\n",
      "Epoch 32/500\n",
      "748/748 [==============================] - 1s 1ms/step - loss: 18620744.0000 - mae: 2554.8630 - val_loss: 23686400.0000 - val_mae: 2805.0486\n",
      "Epoch 33/500\n",
      "748/748 [==============================] - 1s 1ms/step - loss: 18578510.0000 - mae: 2547.6152 - val_loss: 23231932.0000 - val_mae: 2690.9856\n",
      "Epoch 34/500\n",
      "748/748 [==============================] - 1s 1ms/step - loss: 18184358.0000 - mae: 2517.3345 - val_loss: 24303836.0000 - val_mae: 3044.6992\n",
      "Epoch 35/500\n",
      "748/748 [==============================] - 1s 940us/step - loss: 18296702.0000 - mae: 2553.4216 - val_loss: 23236842.0000 - val_mae: 2606.2729\n",
      "Epoch 36/500\n",
      "748/748 [==============================] - 1s 953us/step - loss: 18358296.0000 - mae: 2514.5640 - val_loss: 23166078.0000 - val_mae: 2732.6692\n",
      "Epoch 37/500\n",
      "748/748 [==============================] - 1s 977us/step - loss: 18153248.0000 - mae: 2541.6912 - val_loss: 25474686.0000 - val_mae: 2720.2439\n",
      "Epoch 38/500\n",
      "748/748 [==============================] - 1s 911us/step - loss: 18765944.0000 - mae: 2523.5029 - val_loss: 23839550.0000 - val_mae: 2949.3660\n",
      "Epoch 39/500\n",
      "748/748 [==============================] - 1s 898us/step - loss: 18129654.0000 - mae: 2488.9058 - val_loss: 23700194.0000 - val_mae: 2905.0798\n",
      "Epoch 40/500\n",
      "748/748 [==============================] - 1s 955us/step - loss: 18302380.0000 - mae: 2552.4902 - val_loss: 23657510.0000 - val_mae: 3124.4883\n",
      "Epoch 41/500\n",
      "748/748 [==============================] - 1s 932us/step - loss: 18195096.0000 - mae: 2518.6523 - val_loss: 24474346.0000 - val_mae: 2714.6245\n",
      "Epoch 42/500\n",
      "748/748 [==============================] - 1s 924us/step - loss: 18207004.0000 - mae: 2515.6135 - val_loss: 23482126.0000 - val_mae: 2856.0269\n",
      "Epoch 43/500\n",
      "748/748 [==============================] - 1s 927us/step - loss: 18230534.0000 - mae: 2497.3186 - val_loss: 23567104.0000 - val_mae: 2693.4993\n",
      "Epoch 44/500\n",
      "748/748 [==============================] - 1s 919us/step - loss: 18161470.0000 - mae: 2546.1487 - val_loss: 25109804.0000 - val_mae: 2687.2341\n",
      "Epoch 45/500\n",
      "748/748 [==============================] - 1s 948us/step - loss: 18432168.0000 - mae: 2488.4917 - val_loss: 23101042.0000 - val_mae: 2997.9697\n",
      "Epoch 46/500\n",
      "748/748 [==============================] - 1s 925us/step - loss: 18292840.0000 - mae: 2527.4807 - val_loss: 25526182.0000 - val_mae: 2870.4172\n",
      "Epoch 47/500\n",
      "748/748 [==============================] - 1s 911us/step - loss: 17791378.0000 - mae: 2551.0972 - val_loss: 23492548.0000 - val_mae: 2852.3987\n",
      "Epoch 48/500\n",
      "748/748 [==============================] - 1s 902us/step - loss: 18347830.0000 - mae: 2503.6873 - val_loss: 23488182.0000 - val_mae: 2941.8030\n",
      "Epoch 49/500\n",
      "748/748 [==============================] - 1s 931us/step - loss: 18013840.0000 - mae: 2493.7412 - val_loss: 24329196.0000 - val_mae: 2896.7075\n",
      "Epoch 50/500\n",
      "748/748 [==============================] - 1s 1ms/step - loss: 18221572.0000 - mae: 2564.5479 - val_loss: 25900686.0000 - val_mae: 2703.5422\n",
      "Epoch 51/500\n",
      "748/748 [==============================] - 1s 911us/step - loss: 18083842.0000 - mae: 2487.2209 - val_loss: 24128136.0000 - val_mae: 3152.2205\n",
      "Epoch 52/500\n",
      "748/748 [==============================] - 1s 939us/step - loss: 17775458.0000 - mae: 2530.9119 - val_loss: 24572110.0000 - val_mae: 3183.8738\n",
      "Epoch 53/500\n"
     ]
    },
    {
     "name": "stdout",
     "output_type": "stream",
     "text": [
      "748/748 [==============================] - 1s 1ms/step - loss: 18201424.0000 - mae: 2508.1755 - val_loss: 23826214.0000 - val_mae: 2967.8428\n",
      "Epoch 54/500\n",
      "748/748 [==============================] - 1s 968us/step - loss: 18134350.0000 - mae: 2529.5408 - val_loss: 24374240.0000 - val_mae: 2707.2520\n",
      "Epoch 55/500\n",
      "748/748 [==============================] - 1s 977us/step - loss: 17946296.0000 - mae: 2477.2466 - val_loss: 24127848.0000 - val_mae: 3162.2610\n",
      "Epoch 56/500\n",
      "748/748 [==============================] - 1s 1ms/step - loss: 17927654.0000 - mae: 2558.7686 - val_loss: 25115874.0000 - val_mae: 2662.6167\n",
      "Epoch 57/500\n",
      "748/748 [==============================] - 1s 998us/step - loss: 18284984.0000 - mae: 2479.2200 - val_loss: 24079776.0000 - val_mae: 3089.9336\n",
      "Epoch 58/500\n",
      "748/748 [==============================] - 1s 1ms/step - loss: 17882054.0000 - mae: 2517.5754 - val_loss: 23795628.0000 - val_mae: 2906.0986\n",
      "Epoch 59/500\n",
      "748/748 [==============================] - 1s 916us/step - loss: 17893586.0000 - mae: 2567.2915 - val_loss: 24596768.0000 - val_mae: 2726.8328\n",
      "Epoch 59: early stopping\n"
     ]
    }
   ],
   "source": [
    "# create a variable to store our fitted model\n",
    "h = model_regr.fit(x_train, y_train, \n",
    "                   validation_split=0.2, \n",
    "                   epochs=500, \n",
    "                   batch_size=1,\n",
    "                   verbose=1,\n",
    "                   callbacks=[stop])"
   ]
  },
  {
   "cell_type": "markdown",
   "id": "cbbfef63",
   "metadata": {},
   "source": [
    "#### Model Summary"
   ]
  },
  {
   "cell_type": "code",
   "execution_count": 41,
   "id": "00112b73",
   "metadata": {
    "code_folding": []
   },
   "outputs": [
    {
     "name": "stdout",
     "output_type": "stream",
     "text": [
      "Model: \"sequential\"\n",
      "_________________________________________________________________\n",
      " Layer (type)                Output Shape              Param #   \n",
      "=================================================================\n",
      " dense (Dense)               (None, 9)                 90        \n",
      "                                                                 \n",
      " dense_1 (Dense)             (None, 128)               1280      \n",
      "                                                                 \n",
      " dense_2 (Dense)             (None, 1)                 129       \n",
      "                                                                 \n",
      "=================================================================\n",
      "Total params: 1,499\n",
      "Trainable params: 1,499\n",
      "Non-trainable params: 0\n",
      "_________________________________________________________________\n"
     ]
    }
   ],
   "source": [
    "# check layer\n",
    "# model_regr.layers\n",
    "# view summary\n",
    "model_regr.summary()"
   ]
  },
  {
   "cell_type": "markdown",
   "id": "108f18cd",
   "metadata": {},
   "source": [
    "#### Visualize"
   ]
  },
  {
   "cell_type": "code",
   "execution_count": 42,
   "id": "e9196066",
   "metadata": {},
   "outputs": [
    {
     "data": {
      "text/plain": [
       "dict_keys(['loss', 'mae', 'val_loss', 'val_mae'])"
      ]
     },
     "execution_count": 42,
     "metadata": {},
     "output_type": "execute_result"
    }
   ],
   "source": [
    "h.history.keys()"
   ]
  },
  {
   "cell_type": "code",
   "execution_count": 47,
   "id": "2922c75c",
   "metadata": {},
   "outputs": [
    {
     "data": {
      "text/plain": [
       "Text(0, 0.5, 'MAE')"
      ]
     },
     "execution_count": 47,
     "metadata": {},
     "output_type": "execute_result"
    },
    {
     "data": {
      "image/png": "[encoded data removed]",
      "text/plain": [
       "<Figure size 1080x432 with 2 Axes>"
      ]
     },
     "metadata": {
      "needs_background": "light"
     },
     "output_type": "display_data"
    }
   ],
   "source": [
    "#plotting\n",
    "\n",
    "fig, axs = plt.subplots(1,2,\n",
    "                        figsize=(15, 6),\n",
    "                        gridspec_kw={'hspace': 0.5, 'wspace': 0.2}) \n",
    "(ax1, ax2) = axs\n",
    "ax1.plot(h.history['loss'], label='Train')\n",
    "ax1.plot(h.history['val_loss'], label='Validation')\n",
    "ax1.set_title('learning rate=' + str(0.01))\n",
    "ax1.legend(loc=\"upper right\")\n",
    "ax1.set_xlabel(\"# of epochs\")\n",
    "ax1.set_ylabel(\"loss (MSE)\")\n",
    "\n",
    "ax2.plot(h.history['mae'], label='Train')\n",
    "ax2.plot(h.history['val_mae'], label='Validation')\n",
    "ax2.set_title('learning rate=' + str(0.01))\n",
    "ax2.legend(loc=\"upper right\")\n",
    "ax2.set_xlabel(\"# of epochs\")\n",
    "ax2.set_ylabel(\"MAE\")"
   ]
  },
  {
   "cell_type": "markdown",
   "id": "b6bd0740",
   "metadata": {},
   "source": [
    "#### Evaluation"
   ]
  },
  {
   "cell_type": "code",
   "execution_count": 38,
   "id": "3f251a72",
   "metadata": {},
   "outputs": [
    {
     "name": "stdout",
     "output_type": "stream",
     "text": [
      "13/13 [==============================] - 0s 1ms/step - loss: 20188972.0000 - mae: 2406.2551\n"
     ]
    }
   ],
   "source": [
    "val_mse, val_mae = model_regr.evaluate(x_test, y_test, verbose = 1)"
   ]
  },
  {
   "cell_type": "markdown",
   "id": "2a9d9674",
   "metadata": {},
   "source": [
    "### Summary\n",
    "\n",
    "\n",
    "1. Preparing the data for learning:\n",
    "2. separating features from labels using array slicing\n",
    "3. determining the shape of your data\n",
    "4. preprocessing the categorical variables using one-hot encoding\n",
    "5. splitting the data into training and test sets\n",
    "6. scaling the numerical features\n",
    "7. Designing a Sequential model by chaining InputLayer() and the tf.keras.layers.Dense layers. InputLayer() was used as a placeholder for the input data. The output layer in this case needed one neuron since we need a prediction of a single value in the regression. And finally, hidden layers were added with the relu activation function to handle complex dependencies in the data.\n",
    "8. Choosing an optimizer using keras.optimizers with a specific learning rate hyperparameter.\n",
    "9. Training the model - using model.fit() to train the model on the training data and training labels.\n",
    "10. Setting the values for the learning hyperparameters: number of epochs and batch sizes.\n",
    "11. Evaluating the model using model.evaluate() on the test data.\n"
   ]
  }
 ],
 "metadata": {
  "kernelspec": {
   "display_name": "Python 3 (ipykernel)",
   "language": "python",
   "name": "python3"
  },
  "language_info": {
   "codemirror_mode": {
    "name": "ipython",
    "version": 3
   },
   "file_extension": ".py",
   "mimetype": "text/x-python",
   "name": "python",
   "nbconvert_exporter": "python",
   "pygments_lexer": "ipython3",
   "version": "3.8.5"
  }
 },
 "nbformat": 4,
 "nbformat_minor": 5
}
