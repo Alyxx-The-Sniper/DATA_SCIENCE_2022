{
 "cells": [
  {
   "cell_type": "markdown",
   "id": "c197be44",
   "metadata": {},
   "source": [
    "# Deep Learning\n",
    "\n",
    "Regression"
   ]
  },
  {
   "cell_type": "code",
   "execution_count": 34,
   "id": "ed3d59cf",
   "metadata": {},
   "outputs": [],
   "source": [
    "import pandas as pd\n",
    "\n",
    "from sklearn.model_selection import train_test_split\n",
    "\n",
    "# from sklearn.compose import ColumnTransformer\n",
    "from sklearn.preprocessing import StandardScaler\n",
    "\n",
    "import tensorflow as tf\n",
    "from tensorflow.keras.models import Sequential\n",
    "from tensorflow.keras import layers\n",
    "from tensorflow.keras.layers import Dense, Activation\n",
    "from tensorflow.keras.optimizers import Adam\n",
    "from tensorflow.keras.callbacks import EarlyStopping\n",
    "\n",
    "import matplotlib.pyplot as plt"
   ]
  },
  {
   "cell_type": "code",
   "execution_count": 17,
   "id": "9e94810b",
   "metadata": {},
   "outputs": [
    {
     "name": "stdout",
     "output_type": "stream",
     "text": [
      "(1338, 7)\n"
     ]
    },
    {
     "data": {
      "text/html": [
       "<div>\n",
       "<style scoped>\n",
       "    .dataframe tbody tr th:only-of-type {\n",
       "        vertical-align: middle;\n",
       "    }\n",
       "\n",
       "    .dataframe tbody tr th {\n",
       "        vertical-align: top;\n",
       "    }\n",
       "\n",
       "    .dataframe thead th {\n",
       "        text-align: right;\n",
       "    }\n",
       "</style>\n",
       "<table border=\"1\" class=\"dataframe\">\n",
       "  <thead>\n",
       "    <tr style=\"text-align: right;\">\n",
       "      <th></th>\n",
       "      <th>age</th>\n",
       "      <th>sex</th>\n",
       "      <th>bmi</th>\n",
       "      <th>children</th>\n",
       "      <th>smoker</th>\n",
       "      <th>region</th>\n",
       "      <th>charges</th>\n",
       "    </tr>\n",
       "  </thead>\n",
       "  <tbody>\n",
       "    <tr>\n",
       "      <th>0</th>\n",
       "      <td>19</td>\n",
       "      <td>1</td>\n",
       "      <td>27.90</td>\n",
       "      <td>0</td>\n",
       "      <td>1</td>\n",
       "      <td>southwest</td>\n",
       "      <td>16884.9240</td>\n",
       "    </tr>\n",
       "    <tr>\n",
       "      <th>1</th>\n",
       "      <td>18</td>\n",
       "      <td>0</td>\n",
       "      <td>33.77</td>\n",
       "      <td>1</td>\n",
       "      <td>0</td>\n",
       "      <td>southeast</td>\n",
       "      <td>1725.5523</td>\n",
       "    </tr>\n",
       "    <tr>\n",
       "      <th>2</th>\n",
       "      <td>28</td>\n",
       "      <td>0</td>\n",
       "      <td>33.00</td>\n",
       "      <td>3</td>\n",
       "      <td>0</td>\n",
       "      <td>southeast</td>\n",
       "      <td>4449.4620</td>\n",
       "    </tr>\n",
       "  </tbody>\n",
       "</table>\n",
       "</div>"
      ],
      "text/plain": [
       "   age  sex    bmi  children  smoker     region     charges\n",
       "0   19    1  27.90         0       1  southwest  16884.9240\n",
       "1   18    0  33.77         1       0  southeast   1725.5523\n",
       "2   28    0  33.00         3       0  southeast   4449.4620"
      ]
     },
     "execution_count": 17,
     "metadata": {},
     "output_type": "execute_result"
    }
   ],
   "source": [
    "df = pd.read_csv('insurance.csv') #load the dataset\n",
    "print(df.shape)\n",
    "df.head(3)"
   ]
  },
  {
   "cell_type": "code",
   "execution_count": 18,
   "id": "480dace9",
   "metadata": {},
   "outputs": [
    {
     "data": {
      "text/plain": [
       "array(['southwest', 'southeast', '0rthwest', '0rtheast'], dtype=object)"
      ]
     },
     "execution_count": 18,
     "metadata": {},
     "output_type": "execute_result"
    }
   ],
   "source": [
    "# inspect categorical features\n",
    "df.region.unique()"
   ]
  },
  {
   "cell_type": "code",
   "execution_count": 19,
   "id": "4e658652",
   "metadata": {},
   "outputs": [
    {
     "data": {
      "text/plain": [
       "array(['southwest', 'southeast', 'northwest', 'northeast'], dtype=object)"
      ]
     },
     "execution_count": 19,
     "metadata": {},
     "output_type": "execute_result"
    }
   ],
   "source": [
    "# clean categorical features\n",
    "df.region = df.region.replace('0', 'no', regex=True)\n",
    "df.region.unique()"
   ]
  },
  {
   "cell_type": "code",
   "execution_count": 20,
   "id": "bdad3392",
   "metadata": {},
   "outputs": [],
   "source": [
    "# Define X and y\n",
    "X = df.iloc[:,0:6]\n",
    "y = df.iloc[:,-1]"
   ]
  },
  {
   "cell_type": "code",
   "execution_count": 21,
   "id": "dc965645",
   "metadata": {},
   "outputs": [
    {
     "data": {
      "text/html": [
       "<div>\n",
       "<style scoped>\n",
       "    .dataframe tbody tr th:only-of-type {\n",
       "        vertical-align: middle;\n",
       "    }\n",
       "\n",
       "    .dataframe tbody tr th {\n",
       "        vertical-align: top;\n",
       "    }\n",
       "\n",
       "    .dataframe thead th {\n",
       "        text-align: right;\n",
       "    }\n",
       "</style>\n",
       "<table border=\"1\" class=\"dataframe\">\n",
       "  <thead>\n",
       "    <tr style=\"text-align: right;\">\n",
       "      <th></th>\n",
       "      <th>age</th>\n",
       "      <th>sex</th>\n",
       "      <th>bmi</th>\n",
       "      <th>children</th>\n",
       "      <th>smoker</th>\n",
       "      <th>region_northeast</th>\n",
       "      <th>region_northwest</th>\n",
       "      <th>region_southeast</th>\n",
       "      <th>region_southwest</th>\n",
       "    </tr>\n",
       "  </thead>\n",
       "  <tbody>\n",
       "    <tr>\n",
       "      <th>0</th>\n",
       "      <td>19</td>\n",
       "      <td>1</td>\n",
       "      <td>27.90</td>\n",
       "      <td>0</td>\n",
       "      <td>1</td>\n",
       "      <td>0</td>\n",
       "      <td>0</td>\n",
       "      <td>0</td>\n",
       "      <td>1</td>\n",
       "    </tr>\n",
       "    <tr>\n",
       "      <th>1</th>\n",
       "      <td>18</td>\n",
       "      <td>0</td>\n",
       "      <td>33.77</td>\n",
       "      <td>1</td>\n",
       "      <td>0</td>\n",
       "      <td>0</td>\n",
       "      <td>0</td>\n",
       "      <td>1</td>\n",
       "      <td>0</td>\n",
       "    </tr>\n",
       "  </tbody>\n",
       "</table>\n",
       "</div>"
      ],
      "text/plain": [
       "   age  sex    bmi  children  smoker  region_northeast  region_northwest  \\\n",
       "0   19    1  27.90         0       1                 0                 0   \n",
       "1   18    0  33.77         1       0                 0                 0   \n",
       "\n",
       "   region_southeast  region_southwest  \n",
       "0                 0                 1  \n",
       "1                 1                 0  "
      ]
     },
     "execution_count": 21,
     "metadata": {},
     "output_type": "execute_result"
    }
   ],
   "source": [
    "# one-hot encoding for categorical variables\n",
    "X = pd.get_dummies(X) \n",
    "X.head(2)"
   ]
  },
  {
   "cell_type": "code",
   "execution_count": 22,
   "id": "534ee997",
   "metadata": {},
   "outputs": [],
   "source": [
    "# Split data\n",
    "x_train, x_test, y_train, y_test = train_test_split(X, y, random_state = 42)"
   ]
  },
  {
   "cell_type": "code",
   "execution_count": 23,
   "id": "48d83c36",
   "metadata": {},
   "outputs": [],
   "source": [
    "# standardize\n",
    "scaler = StandardScaler()\n",
    "x_train = scaler.fit_transform(x_train)\n",
    "x_test = scaler.transform(x_test)"
   ]
  },
  {
   "cell_type": "markdown",
   "id": "8f2eb7b9",
   "metadata": {},
   "source": [
    "# Function For Designing Model\n",
    "Function that creates and returns your Keras sequential model (To use in skires wrappers)"
   ]
  },
  {
   "cell_type": "code",
   "execution_count": 25,
   "id": "47f6f3d1",
   "metadata": {},
   "outputs": [],
   "source": [
    "def design_model(features):\n",
    "  # ann model instance  \n",
    "  model_regr = Sequential()\n",
    "  \n",
    "  \n",
    "  #### INPUT LAYER>>>>\n",
    "  #adding the input layer\n",
    "  model_regr.add(Dense(units = X.shape[1] , activation = 'relu')) \n",
    "\n",
    "\n",
    "  #### HIDDEN LAYER1>>>>\n",
    "  # there are a numbers of activation functions such as softmax, sigmoid, \n",
    "  # but ReLU (relu) (Rectified Linear Unit) is very effective in many applications and we’ll use it here.\n",
    "  model_regr.add(Dense(128, activation = 'relu'))\n",
    "\n",
    "\n",
    "  #### OUTPUT LAYER>>>>\n",
    "  model_regr.add(Dense(1, activation = 'linear'))  \n",
    "\n",
    "\n",
    "  #### Optimizer\n",
    "  # WE have a lot of optimizers such as SGD (Stochastic Gradient Descent optimizer), Adam, RMSprop, and others.\n",
    "  # right now adam is the best one as its solved previous optmizers issues.\n",
    "  opt = Adam(learning_rate = 0.01)\n",
    "  # loss/cost \n",
    "  # MSE, MAE, Huber loss  \n",
    "  model_regr.compile(loss='mse',  metrics=['mae'], optimizer=opt)  \n",
    "    \n",
    "\n",
    "  return model_regr"
   ]
  },
  {
   "cell_type": "markdown",
   "id": "dac80a46",
   "metadata": {},
   "source": [
    "#### Invoke The Function For Our Model Design"
   ]
  },
  {
   "cell_type": "code",
   "execution_count": 26,
   "id": "f16d0506",
   "metadata": {},
   "outputs": [],
   "source": [
    "model_regr = design_model(x_train)"
   ]
  },
  {
   "cell_type": "markdown",
   "id": "ca8e364e",
   "metadata": {},
   "source": [
    "#### Training Phase"
   ]
  },
  {
   "cell_type": "code",
   "execution_count": 27,
   "id": "4c589ea6",
   "metadata": {},
   "outputs": [],
   "source": [
    "# reference https://keras.io/api/callbacks/early_stopping/\n",
    "# add early stoping when theres no improvement\n",
    "stop = EarlyStopping(monitor='val_loss', \n",
    "                     mode='min', \n",
    "                     patience=40\n",
    "                     verbose=1)"
   ]
  },
  {
   "cell_type": "code",
   "execution_count": 29,
   "id": "cb977e30",
   "metadata": {},
   "outputs": [
    {
     "name": "stdout",
     "output_type": "stream",
     "text": [
      "Epoch 1/500\n",
      "802/802 [==============================] - 1s 958us/step - loss: 22635254.0000 - mae: 2820.1218 - val_loss: 25771368.0000 - val_mae: 3068.9500\n",
      "Epoch 2/500\n",
      "802/802 [==============================] - 1s 925us/step - loss: 23117620.0000 - mae: 2887.0361 - val_loss: 23657792.0000 - val_mae: 3088.5820\n",
      "Epoch 3/500\n",
      "802/802 [==============================] - 1s 948us/step - loss: 23608636.0000 - mae: 2928.8401 - val_loss: 24802460.0000 - val_mae: 2859.6311\n",
      "Epoch 4/500\n",
      "802/802 [==============================] - 1s 975us/step - loss: 23150334.0000 - mae: 2945.4377 - val_loss: 27151984.0000 - val_mae: 2747.1714\n",
      "Epoch 5/500\n",
      "802/802 [==============================] - 1s 986us/step - loss: 23276838.0000 - mae: 2887.2681 - val_loss: 24326490.0000 - val_mae: 2893.7246\n",
      "Epoch 6/500\n",
      "802/802 [==============================] - 1s 994us/step - loss: 22787690.0000 - mae: 2903.7261 - val_loss: 24519204.0000 - val_mae: 2846.2180\n",
      "Epoch 7/500\n",
      "802/802 [==============================] - 1s 955us/step - loss: 23308642.0000 - mae: 2902.0166 - val_loss: 24806540.0000 - val_mae: 2735.5366\n",
      "Epoch 8/500\n",
      "802/802 [==============================] - 1s 957us/step - loss: 22983808.0000 - mae: 2815.6938 - val_loss: 26230498.0000 - val_mae: 2859.1423\n",
      "Epoch 9/500\n",
      "802/802 [==============================] - 1s 925us/step - loss: 22891140.0000 - mae: 2909.8408 - val_loss: 23616846.0000 - val_mae: 2816.9602\n",
      "Epoch 10/500\n",
      "802/802 [==============================] - 1s 973us/step - loss: 22604492.0000 - mae: 2877.3926 - val_loss: 23917420.0000 - val_mae: 2889.9871\n",
      "Epoch 11/500\n",
      "802/802 [==============================] - 1s 895us/step - loss: 23099560.0000 - mae: 2868.4666 - val_loss: 25626102.0000 - val_mae: 2791.7571\n",
      "Epoch 12/500\n",
      "802/802 [==============================] - 1s 925us/step - loss: 22735094.0000 - mae: 2884.3804 - val_loss: 23331884.0000 - val_mae: 2883.3118\n",
      "Epoch 13/500\n",
      "802/802 [==============================] - 1s 904us/step - loss: 22770170.0000 - mae: 2865.9326 - val_loss: 24978478.0000 - val_mae: 2896.5183\n",
      "Epoch 14/500\n",
      "802/802 [==============================] - 1s 915us/step - loss: 22889368.0000 - mae: 2880.6157 - val_loss: 24154822.0000 - val_mae: 2857.9519\n",
      "Epoch 15/500\n",
      "802/802 [==============================] - 1s 998us/step - loss: 22436846.0000 - mae: 2780.2307 - val_loss: 25291388.0000 - val_mae: 3325.9236\n",
      "Epoch 16/500\n",
      "802/802 [==============================] - 1s 1ms/step - loss: 22916788.0000 - mae: 2905.3455 - val_loss: 24161342.0000 - val_mae: 3009.2690\n",
      "Epoch 17/500\n",
      "802/802 [==============================] - 1s 957us/step - loss: 22806982.0000 - mae: 2868.8230 - val_loss: 24312476.0000 - val_mae: 3158.1182\n",
      "Epoch 18/500\n",
      "802/802 [==============================] - 1s 930us/step - loss: 22551530.0000 - mae: 2906.2830 - val_loss: 24888718.0000 - val_mae: 2742.3855\n",
      "Epoch 19/500\n",
      "802/802 [==============================] - 1s 954us/step - loss: 22547846.0000 - mae: 2847.1116 - val_loss: 25641540.0000 - val_mae: 3023.4468\n",
      "Epoch 20/500\n",
      "802/802 [==============================] - 1s 960us/step - loss: 22695454.0000 - mae: 2920.9856 - val_loss: 25273458.0000 - val_mae: 2732.2275\n",
      "Epoch 21/500\n",
      "802/802 [==============================] - 1s 939us/step - loss: 22470904.0000 - mae: 2805.8491 - val_loss: 25512418.0000 - val_mae: 3152.4065\n",
      "Epoch 22/500\n",
      "802/802 [==============================] - 1s 957us/step - loss: 22334124.0000 - mae: 2891.6675 - val_loss: 25650492.0000 - val_mae: 2791.7561\n",
      "Epoch 23/500\n",
      "802/802 [==============================] - 1s 950us/step - loss: 22215156.0000 - mae: 2855.8975 - val_loss: 24550604.0000 - val_mae: 2946.3201\n",
      "Epoch 24/500\n",
      "802/802 [==============================] - 1s 957us/step - loss: 22340402.0000 - mae: 2800.4016 - val_loss: 23969076.0000 - val_mae: 3037.1624\n",
      "Epoch 25/500\n",
      "802/802 [==============================] - 1s 1ms/step - loss: 22362810.0000 - mae: 2854.3623 - val_loss: 25564632.0000 - val_mae: 2847.1548\n",
      "Epoch 26/500\n",
      "802/802 [==============================] - 1s 1ms/step - loss: 22033092.0000 - mae: 2837.2214 - val_loss: 25046140.0000 - val_mae: 3004.4644\n",
      "Epoch 27/500\n",
      "802/802 [==============================] - 1s 973us/step - loss: 22471110.0000 - mae: 2838.9719 - val_loss: 23890624.0000 - val_mae: 2773.7351\n",
      "Epoch 28/500\n",
      "802/802 [==============================] - 1s 945us/step - loss: 22292022.0000 - mae: 2773.1365 - val_loss: 23723828.0000 - val_mae: 2894.4338\n",
      "Epoch 29/500\n",
      "802/802 [==============================] - 1s 1ms/step - loss: 22302788.0000 - mae: 2825.3337 - val_loss: 24897944.0000 - val_mae: 2887.3091\n",
      "Epoch 30/500\n",
      "802/802 [==============================] - 1s 924us/step - loss: 22261892.0000 - mae: 2834.0425 - val_loss: 23941406.0000 - val_mae: 2875.5691\n",
      "Epoch 31/500\n",
      "802/802 [==============================] - 1s 912us/step - loss: 22350404.0000 - mae: 2849.9495 - val_loss: 24183816.0000 - val_mae: 2864.0613\n",
      "Epoch 32/500\n",
      "802/802 [==============================] - 1s 914us/step - loss: 22334374.0000 - mae: 2866.8345 - val_loss: 24565976.0000 - val_mae: 2709.5168\n",
      "Epoch 33/500\n",
      "802/802 [==============================] - 1s 920us/step - loss: 22073864.0000 - mae: 2771.4380 - val_loss: 26477850.0000 - val_mae: 3101.9861\n",
      "Epoch 34/500\n",
      "802/802 [==============================] - 1s 939us/step - loss: 22231600.0000 - mae: 2813.6851 - val_loss: 24706794.0000 - val_mae: 3246.8220\n",
      "Epoch 35/500\n",
      "802/802 [==============================] - 1s 1ms/step - loss: 21753876.0000 - mae: 2810.5171 - val_loss: 26877960.0000 - val_mae: 2934.0159\n",
      "Epoch 36/500\n",
      "802/802 [==============================] - 1s 939us/step - loss: 22175704.0000 - mae: 2818.1624 - val_loss: 26935912.0000 - val_mae: 2962.1614\n",
      "Epoch 37/500\n",
      "802/802 [==============================] - 1s 1ms/step - loss: 22133084.0000 - mae: 2803.0149 - val_loss: 24533310.0000 - val_mae: 2880.8264\n",
      "Epoch 38/500\n",
      "802/802 [==============================] - 1s 909us/step - loss: 21837014.0000 - mae: 2837.1719 - val_loss: 27099460.0000 - val_mae: 2902.2092\n",
      "Epoch 39/500\n",
      "802/802 [==============================] - 1s 927us/step - loss: 21660350.0000 - mae: 2769.0122 - val_loss: 29263398.0000 - val_mae: 2955.0056\n",
      "Epoch 40/500\n",
      "802/802 [==============================] - 1s 923us/step - loss: 22213744.0000 - mae: 2819.7410 - val_loss: 23829562.0000 - val_mae: 2993.3445\n",
      "Epoch 41/500\n",
      "802/802 [==============================] - 1s 948us/step - loss: 21830104.0000 - mae: 2849.7131 - val_loss: 25667070.0000 - val_mae: 2690.7229\n",
      "Epoch 42/500\n",
      "802/802 [==============================] - 1s 909us/step - loss: 21811918.0000 - mae: 2771.6174 - val_loss: 24234718.0000 - val_mae: 2712.0457\n",
      "Epoch 43/500\n",
      "802/802 [==============================] - 1s 900us/step - loss: 21694882.0000 - mae: 2738.2937 - val_loss: 26217222.0000 - val_mae: 3683.6064\n",
      "Epoch 44/500\n",
      "802/802 [==============================] - 1s 922us/step - loss: 22006718.0000 - mae: 2840.0146 - val_loss: 24837978.0000 - val_mae: 2891.2283\n",
      "Epoch 45/500\n",
      "802/802 [==============================] - 1s 929us/step - loss: 22065272.0000 - mae: 2804.8972 - val_loss: 23861164.0000 - val_mae: 3062.1729\n",
      "Epoch 46/500\n",
      "802/802 [==============================] - 1s 904us/step - loss: 21436262.0000 - mae: 2768.9617 - val_loss: 27045508.0000 - val_mae: 3198.7939\n",
      "Epoch 47/500\n",
      "802/802 [==============================] - 1s 899us/step - loss: 21914590.0000 - mae: 2829.4204 - val_loss: 26998516.0000 - val_mae: 2992.8169\n",
      "Epoch 48/500\n",
      "802/802 [==============================] - 1s 904us/step - loss: 21792622.0000 - mae: 2785.9585 - val_loss: 25481644.0000 - val_mae: 3055.2473\n",
      "Epoch 49/500\n",
      "802/802 [==============================] - 1s 929us/step - loss: 21251484.0000 - mae: 2827.5034 - val_loss: 24400364.0000 - val_mae: 2707.0496\n",
      "Epoch 50/500\n",
      "802/802 [==============================] - 1s 913us/step - loss: 21421934.0000 - mae: 2728.0217 - val_loss: 27071562.0000 - val_mae: 3197.3950\n",
      "Epoch 51/500\n",
      "802/802 [==============================] - 1s 939us/step - loss: 21501998.0000 - mae: 2749.9338 - val_loss: 25055914.0000 - val_mae: 3534.7686\n",
      "Epoch 52/500\n",
      "802/802 [==============================] - 1s 913us/step - loss: 21599520.0000 - mae: 2810.4866 - val_loss: 24430190.0000 - val_mae: 2889.1309\n"
     ]
    }
   ],
   "source": [
    "# create a variable to store our fitted model\n",
    "h = model_regr.fit(x_train, y_train, \n",
    "               validation_split=0.2, \n",
    "               epochs=500, \n",
    "               batch_size=1,\n",
    "               verbose=1,\n",
    "               callbacks=[stop])"
   ]
  },
  {
   "cell_type": "markdown",
   "id": "cbbfef63",
   "metadata": {},
   "source": [
    "#### Model Summary"
   ]
  },
  {
   "cell_type": "code",
   "execution_count": 32,
   "id": "00112b73",
   "metadata": {
    "code_folding": []
   },
   "outputs": [
    {
     "name": "stdout",
     "output_type": "stream",
     "text": [
      "Model: \"sequential_1\"\n",
      "_________________________________________________________________\n",
      " Layer (type)                Output Shape              Param #   \n",
      "=================================================================\n",
      " dense_3 (Dense)             (1, 9)                    90        \n",
      "                                                                 \n",
      " dense_4 (Dense)             (1, 128)                  1280      \n",
      "                                                                 \n",
      " dense_5 (Dense)             (1, 1)                    129       \n",
      "                                                                 \n",
      "=================================================================\n",
      "Total params: 1,499\n",
      "Trainable params: 1,499\n",
      "Non-trainable params: 0\n",
      "_________________________________________________________________\n"
     ]
    }
   ],
   "source": [
    "# check layer\n",
    "# model_regr.layers\n",
    "# view summary\n",
    "model_regr.summary()"
   ]
  },
  {
   "cell_type": "code",
   "execution_count": 31,
   "id": "e9196066",
   "metadata": {},
   "outputs": [
    {
     "data": {
      "text/plain": [
       "dict_keys(['loss', 'mae', 'val_loss', 'val_mae'])"
      ]
     },
     "execution_count": 31,
     "metadata": {},
     "output_type": "execute_result"
    }
   ],
   "source": [
    "h.history.keys()"
   ]
  },
  {
   "cell_type": "code",
   "execution_count": 35,
   "id": "2922c75c",
   "metadata": {},
   "outputs": [
    {
     "data": {
      "text/plain": [
       "Text(0, 0.5, 'MAE')"
      ]
     },
     "execution_count": 35,
     "metadata": {},
     "output_type": "execute_result"
    },
    {
     "data": {
      "image/png": "[encoded data removed]",
      "text/plain": [
       "<Figure size 1080x432 with 2 Axes>"
      ]
     },
     "metadata": {
      "needs_background": "light"
     },
     "output_type": "display_data"
    }
   ],
   "source": [
    "#plotting\n",
    "\n",
    "fig, axs = plt.subplots(1,2,\n",
    "                        figsize=(15, 6),\n",
    "                        gridspec_kw={'hspace': 0.5, 'wspace': 0.2}) \n",
    "(ax1, ax2) = axs\n",
    "ax1.plot(h.history['loss'], label='Train')\n",
    "ax1.plot(h.history['val_loss'], label='Validation')\n",
    "ax1.set_title('learning rate=' + str(0.01))\n",
    "ax1.legend(loc=\"upper right\")\n",
    "ax1.set_xlabel(\"# of epochs\")\n",
    "ax1.set_ylabel(\"loss (MSE)\")\n",
    "\n",
    "ax2.plot(h.history['mae'], label='Train')\n",
    "ax2.plot(h.history['val_mae'], label='Validation')\n",
    "ax2.set_title('learning rate=' + str(0.01))\n",
    "ax2.legend(loc=\"upper right\")\n",
    "ax2.set_xlabel(\"# of epochs\")\n",
    "ax2.set_ylabel(\"MAE\")"
   ]
  },
  {
   "cell_type": "markdown",
   "id": "b6bd0740",
   "metadata": {},
   "source": [
    "#### Evaluation"
   ]
  },
  {
   "cell_type": "code",
   "execution_count": 36,
   "id": "3f251a72",
   "metadata": {},
   "outputs": [
    {
     "name": "stdout",
     "output_type": "stream",
     "text": [
      "11/11 [==============================] - 0s 1ms/step - loss: 24078408.0000 - mae: 2768.2246\n"
     ]
    }
   ],
   "source": [
    "val_mse, val_mae = model_regr.evaluate(x_test, y_test, verbose = 1)"
   ]
  },
  {
   "cell_type": "markdown",
   "id": "158ac4ff",
   "metadata": {},
   "source": [
    "# GridSearchCV"
   ]
  },
  {
   "cell_type": "code",
   "execution_count": 39,
   "id": "3d0bed21",
   "metadata": {},
   "outputs": [
    {
     "ename": "ModuleNotFoundError",
     "evalue": "No module named 'scikeras'",
     "output_type": "error",
     "traceback": [
      "\u001b[1;31m---------------------------------------------------------------------------\u001b[0m",
      "\u001b[1;31mModuleNotFoundError\u001b[0m                       Traceback (most recent call last)",
      "Input \u001b[1;32mIn [39]\u001b[0m, in \u001b[0;36m<cell line: 1>\u001b[1;34m()\u001b[0m\n\u001b[1;32m----> 1\u001b[0m \u001b[38;5;28;01mfrom\u001b[39;00m \u001b[38;5;21;01mscikeras\u001b[39;00m\u001b[38;5;21;01m.\u001b[39;00m\u001b[38;5;21;01mwrappers\u001b[39;00m \u001b[38;5;28;01mimport\u001b[39;00m KerasClassifier, KerasRegressor\n",
      "\u001b[1;31mModuleNotFoundError\u001b[0m: No module named 'scikeras'"
     ]
    }
   ],
   "source": [
    "from scikeras.wrappers import KerasClassifier, KerasRegressor"
   ]
  },
  {
   "cell_type": "code",
   "execution_count": 37,
   "id": "5c43b34d",
   "metadata": {},
   "outputs": [
    {
     "ename": "NameError",
     "evalue": "name 'KerasRegressor' is not defined",
     "output_type": "error",
     "traceback": [
      "\u001b[1;31m---------------------------------------------------------------------------\u001b[0m",
      "\u001b[1;31mNameError\u001b[0m                                 Traceback (most recent call last)",
      "Input \u001b[1;32mIn [37]\u001b[0m, in \u001b[0;36m<cell line: 1>\u001b[1;34m()\u001b[0m\n\u001b[1;32m----> 1\u001b[0m model \u001b[38;5;241m=\u001b[39m \u001b[43mKerasRegressor\u001b[49m(build_fn \u001b[38;5;241m=\u001b[39m model_regr)\n",
      "\u001b[1;31mNameError\u001b[0m: name 'KerasRegressor' is not defined"
     ]
    }
   ],
   "source": [
    "model = KerasRegressor(build_fn = model_regr)"
   ]
  },
  {
   "cell_type": "code",
   "execution_count": null,
   "id": "f44813e8",
   "metadata": {},
   "outputs": [],
   "source": [
    "param_grid = dict(epochs=[10,20,30])\n",
    "\n",
    "grid = GridSearchCV(estimator=model, \n",
    "                    param_grid=param_grid,\n",
    "                    n_jobs=-1, # use all cores of our machine (faster!!)\n",
    "                    cv=3)\n",
    "\n",
    "grid_result = grid.fit(X, Y)"
   ]
  },
  {
   "cell_type": "code",
   "execution_count": null,
   "id": "6fef2cbb",
   "metadata": {},
   "outputs": [],
   "source": []
  },
  {
   "cell_type": "code",
   "execution_count": null,
   "id": "cb959f72",
   "metadata": {},
   "outputs": [],
   "source": []
  },
  {
   "cell_type": "code",
   "execution_count": null,
   "id": "2b1a1527",
   "metadata": {},
   "outputs": [],
   "source": []
  },
  {
   "cell_type": "code",
   "execution_count": null,
   "id": "a5767321",
   "metadata": {},
   "outputs": [],
   "source": []
  },
  {
   "cell_type": "code",
   "execution_count": null,
   "id": "555f2cc5",
   "metadata": {},
   "outputs": [],
   "source": []
  },
  {
   "cell_type": "code",
   "execution_count": null,
   "id": "a1ebf171",
   "metadata": {},
   "outputs": [],
   "source": []
  },
  {
   "cell_type": "code",
   "execution_count": null,
   "id": "97fbbd14",
   "metadata": {},
   "outputs": [],
   "source": []
  },
  {
   "cell_type": "code",
   "execution_count": null,
   "id": "28f9c8b3",
   "metadata": {},
   "outputs": [],
   "source": []
  },
  {
   "cell_type": "code",
   "execution_count": null,
   "id": "386346de",
   "metadata": {},
   "outputs": [],
   "source": []
  },
  {
   "cell_type": "markdown",
   "id": "2a9d9674",
   "metadata": {},
   "source": [
    "### Summary\n",
    "\n",
    "\n",
    "1. Preparing the data for learning:\n",
    "2. separating features from labels using array slicing\n",
    "3. determining the shape of your data\n",
    "4. preprocessing the categorical variables using one-hot encoding\n",
    "5. splitting the data into training and test sets\n",
    "6. scaling the numerical features\n",
    "7. Designing a Sequential model by chaining InputLayer() and the tf.keras.layers.Dense layers. InputLayer() was used as a placeholder for the input data. The output layer in this case needed one neuron since we need a prediction of a single value in the regression. And finally, hidden layers were added with the relu activation function to handle complex dependencies in the data.\n",
    "8. Choosing an optimizer using keras.optimizers with a specific learning rate hyperparameter.\n",
    "9. Training the model - using model.fit() to train the model on the training data and training labels.\n",
    "10. Setting the values for the learning hyperparameters: number of epochs and batch sizes.\n",
    "11. Evaluating the model using model.evaluate() on the test data.\n"
   ]
  }
 ],
 "metadata": {
  "kernelspec": {
   "display_name": "Python 3 (ipykernel)",
   "language": "python",
   "name": "python3"
  },
  "language_info": {
   "codemirror_mode": {
    "name": "ipython",
    "version": 3
   },
   "file_extension": ".py",
   "mimetype": "text/x-python",
   "name": "python",
   "nbconvert_exporter": "python",
   "pygments_lexer": "ipython3",
   "version": "3.8.5"
  }
 },
 "nbformat": 4,
 "nbformat_minor": 5
}
