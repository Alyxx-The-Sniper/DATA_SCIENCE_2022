{
 "cells": [
  {
   "cell_type": "markdown",
   "id": "b4a656f2",
   "metadata": {},
   "source": [
    "# Tennis_stats using Neural Network"
   ]
  },
  {
   "cell_type": "code",
   "execution_count": 1,
   "id": "63c286ed",
   "metadata": {},
   "outputs": [],
   "source": [
    "import pandas as pd\n",
    "import numpy as np\n",
    "\n",
    "from sklearn.model_selection import train_test_split\n",
    "\n",
    "# from sklearn.compose import ColumnTransformer\n",
    "from sklearn.preprocessing import StandardScaler\n",
    "\n",
    "import tensorflow as tf\n",
    "from tensorflow.keras.models import Sequential\n",
    "from tensorflow.keras import layers\n",
    "from tensorflow.keras.layers import Dense, Activation\n",
    "from tensorflow.keras.optimizers import Adam\n",
    "from tensorflow.keras.callbacks import EarlyStopping\n",
    "\n",
    "from scikeras.wrappers import KerasClassifier, KerasRegressor\n",
    "from sklearn.model_selection import GridSearchCV\n",
    "from sklearn.metrics import mean_squared_error, make_scorer, r2_score\n",
    "\n",
    "import matplotlib.pyplot as plt"
   ]
  },
  {
   "cell_type": "code",
   "execution_count": 16,
   "id": "2a07aa5f",
   "metadata": {},
   "outputs": [
    {
     "name": "stdout",
     "output_type": "stream",
     "text": [
      "(1721, 24)\n"
     ]
    },
    {
     "data": {
      "text/html": [
       "<div>\n",
       "<style scoped>\n",
       "    .dataframe tbody tr th:only-of-type {\n",
       "        vertical-align: middle;\n",
       "    }\n",
       "\n",
       "    .dataframe tbody tr th {\n",
       "        vertical-align: top;\n",
       "    }\n",
       "\n",
       "    .dataframe thead th {\n",
       "        text-align: right;\n",
       "    }\n",
       "</style>\n",
       "<table border=\"1\" class=\"dataframe\">\n",
       "  <thead>\n",
       "    <tr style=\"text-align: right;\">\n",
       "      <th></th>\n",
       "      <th>Player</th>\n",
       "      <th>Year</th>\n",
       "      <th>FirstServe</th>\n",
       "      <th>FirstServePointsWon</th>\n",
       "      <th>FirstServeReturnPointsWon</th>\n",
       "      <th>SecondServePointsWon</th>\n",
       "      <th>SecondServeReturnPointsWon</th>\n",
       "      <th>Aces</th>\n",
       "      <th>BreakPointsConverted</th>\n",
       "      <th>BreakPointsFaced</th>\n",
       "      <th>...</th>\n",
       "      <th>ReturnGamesWon</th>\n",
       "      <th>ReturnPointsWon</th>\n",
       "      <th>ServiceGamesPlayed</th>\n",
       "      <th>ServiceGamesWon</th>\n",
       "      <th>TotalPointsWon</th>\n",
       "      <th>TotalServicePointsWon</th>\n",
       "      <th>Wins</th>\n",
       "      <th>Losses</th>\n",
       "      <th>Winnings</th>\n",
       "      <th>Ranking</th>\n",
       "    </tr>\n",
       "  </thead>\n",
       "  <tbody>\n",
       "    <tr>\n",
       "      <th>0</th>\n",
       "      <td>Pedro Sousa</td>\n",
       "      <td>2016</td>\n",
       "      <td>0.88</td>\n",
       "      <td>0.50</td>\n",
       "      <td>0.38</td>\n",
       "      <td>0.50</td>\n",
       "      <td>0.39</td>\n",
       "      <td>0</td>\n",
       "      <td>0.14</td>\n",
       "      <td>7</td>\n",
       "      <td>...</td>\n",
       "      <td>0.11</td>\n",
       "      <td>0.38</td>\n",
       "      <td>8</td>\n",
       "      <td>0.50</td>\n",
       "      <td>0.43</td>\n",
       "      <td>0.50</td>\n",
       "      <td>1</td>\n",
       "      <td>2</td>\n",
       "      <td>39820</td>\n",
       "      <td>119</td>\n",
       "    </tr>\n",
       "    <tr>\n",
       "      <th>1</th>\n",
       "      <td>Roman Safiullin</td>\n",
       "      <td>2017</td>\n",
       "      <td>0.84</td>\n",
       "      <td>0.62</td>\n",
       "      <td>0.26</td>\n",
       "      <td>0.33</td>\n",
       "      <td>0.07</td>\n",
       "      <td>7</td>\n",
       "      <td>0.00</td>\n",
       "      <td>7</td>\n",
       "      <td>...</td>\n",
       "      <td>0.00</td>\n",
       "      <td>0.20</td>\n",
       "      <td>9</td>\n",
       "      <td>0.67</td>\n",
       "      <td>0.41</td>\n",
       "      <td>0.57</td>\n",
       "      <td>0</td>\n",
       "      <td>1</td>\n",
       "      <td>17334</td>\n",
       "      <td>381</td>\n",
       "    </tr>\n",
       "    <tr>\n",
       "      <th>2</th>\n",
       "      <td>Pedro Sousa</td>\n",
       "      <td>2017</td>\n",
       "      <td>0.83</td>\n",
       "      <td>0.60</td>\n",
       "      <td>0.28</td>\n",
       "      <td>0.53</td>\n",
       "      <td>0.44</td>\n",
       "      <td>2</td>\n",
       "      <td>0.38</td>\n",
       "      <td>10</td>\n",
       "      <td>...</td>\n",
       "      <td>0.16</td>\n",
       "      <td>0.34</td>\n",
       "      <td>17</td>\n",
       "      <td>0.65</td>\n",
       "      <td>0.45</td>\n",
       "      <td>0.59</td>\n",
       "      <td>4</td>\n",
       "      <td>1</td>\n",
       "      <td>109827</td>\n",
       "      <td>119</td>\n",
       "    </tr>\n",
       "  </tbody>\n",
       "</table>\n",
       "<p>3 rows × 24 columns</p>\n",
       "</div>"
      ],
      "text/plain": [
       "            Player  Year  FirstServe  FirstServePointsWon  \\\n",
       "0      Pedro Sousa  2016        0.88                 0.50   \n",
       "1  Roman Safiullin  2017        0.84                 0.62   \n",
       "2      Pedro Sousa  2017        0.83                 0.60   \n",
       "\n",
       "   FirstServeReturnPointsWon  SecondServePointsWon  \\\n",
       "0                       0.38                  0.50   \n",
       "1                       0.26                  0.33   \n",
       "2                       0.28                  0.53   \n",
       "\n",
       "   SecondServeReturnPointsWon  Aces  BreakPointsConverted  BreakPointsFaced  \\\n",
       "0                        0.39     0                  0.14                 7   \n",
       "1                        0.07     7                  0.00                 7   \n",
       "2                        0.44     2                  0.38                10   \n",
       "\n",
       "   ...  ReturnGamesWon  ReturnPointsWon  ServiceGamesPlayed  ServiceGamesWon  \\\n",
       "0  ...            0.11             0.38                   8             0.50   \n",
       "1  ...            0.00             0.20                   9             0.67   \n",
       "2  ...            0.16             0.34                  17             0.65   \n",
       "\n",
       "   TotalPointsWon  TotalServicePointsWon  Wins  Losses  Winnings  Ranking  \n",
       "0            0.43                   0.50     1       2     39820      119  \n",
       "1            0.41                   0.57     0       1     17334      381  \n",
       "2            0.45                   0.59     4       1    109827      119  \n",
       "\n",
       "[3 rows x 24 columns]"
      ]
     },
     "execution_count": 16,
     "metadata": {},
     "output_type": "execute_result"
    }
   ],
   "source": [
    "path = r\"C:\\Users\\Toto\\OneDrive\\GITHUB2\\DATA_SCIENCE\\DATA_SCIENCE\\Data_Science_Machine_Learning\\1_Machine Learning\\3_Linear_Regression\\tennis_stats.csv\"\n",
    "\n",
    "df = pd.read_csv(path) #load the dataset\n",
    "print(df.shape)\n",
    "df.head(3)"
   ]
  },
  {
   "cell_type": "code",
   "execution_count": 17,
   "id": "fba298b3",
   "metadata": {},
   "outputs": [],
   "source": [
    "y = df['Winnings']\n",
    "X = df.drop(columns=['Winnings', 'Player', 'Losses'])"
   ]
  },
  {
   "cell_type": "code",
   "execution_count": 18,
   "id": "d9dc5a62",
   "metadata": {},
   "outputs": [
    {
     "name": "stdout",
     "output_type": "stream",
     "text": [
      "(1204, 21) (517, 21) (1204,) (517,)\n"
     ]
    }
   ],
   "source": [
    "# Split data\n",
    "x_train, x_test, y_train, y_test = train_test_split(X, y, \n",
    "                                                    test_size = 0.3,\n",
    "                                                    random_state = 42)\n",
    "\n",
    "print(x_train.shape, x_test.shape, y_train.shape, y_test.shape)"
   ]
  },
  {
   "cell_type": "code",
   "execution_count": 19,
   "id": "7493aedd",
   "metadata": {},
   "outputs": [],
   "source": [
    "scaler = StandardScaler()\n",
    "x_train = scaler.fit_transform(x_train)\n",
    "x_test = scaler.transform(x_test)"
   ]
  },
  {
   "cell_type": "code",
   "execution_count": 20,
   "id": "0ff489d6",
   "metadata": {},
   "outputs": [],
   "source": [
    "# Creating a keras sequential object\n",
    "model_regr = Sequential()"
   ]
  },
  {
   "cell_type": "code",
   "execution_count": 21,
   "id": "dd157188",
   "metadata": {},
   "outputs": [],
   "source": [
    "# fix random seed for reproducibility\n",
    "seed = 7\n",
    "tf.random.set_seed(seed)"
   ]
  },
  {
   "cell_type": "code",
   "execution_count": 22,
   "id": "f6a0d777",
   "metadata": {},
   "outputs": [],
   "source": [
    "############## INPUT LAYER ##########################################\n",
    "model_regr.add(Dense(units = X.shape[1] , activation = 'relu')) \n",
    "\n",
    "\n",
    "############## HIDDEN LAYER 1 ##########################################\n",
    "# `Note:`\n",
    "# How do we choose the number of hidden layers and the number of units per layer? That is a tough question and there \n",
    "# is no good answer. The rule of thumb is to start with one hidden layer and add as many units as we have features in the\n",
    "# dataset. However, this might not always work. We need to try things out and observe our learning curve.\n",
    "\n",
    "# there are a numbers of activation functions such as softmax, sigmoid, \n",
    "# but ReLU (relu) (Rectified Linear Unit) is very effective in many applications and we’ll use it here.\n",
    "model_regr.add(Dense(128, activation = 'relu'))\n",
    "# Adding dropout\n",
    "model_regr.add(layers.Dropout(0.1))\n",
    "\n",
    "############## OUTPUT LAYER ##########################################\n",
    "model_regr.add(Dense(1, activation = 'linear'))  "
   ]
  },
  {
   "cell_type": "code",
   "execution_count": 23,
   "id": "36afd638",
   "metadata": {},
   "outputs": [],
   "source": [
    "# We have a lot of optimizers such as SGD (Stochastic Gradient Descent optimizer), Adam, RMSprop, and others.\n",
    "# right now adam is the best one as its solved previous optmizers issues.\n",
    "opt = Adam(learning_rate = 0.01) # by default adam learning rate is 0.0.1"
   ]
  },
  {
   "cell_type": "code",
   "execution_count": 24,
   "id": "f518b36e",
   "metadata": {},
   "outputs": [],
   "source": [
    "# loss/cost \n",
    "# MSE, MAE, Huber loss  \n",
    "model_regr.compile(loss='mse',  metrics=['mae'], optimizer=opt)  "
   ]
  },
  {
   "cell_type": "code",
   "execution_count": 25,
   "id": "953a96c7",
   "metadata": {},
   "outputs": [],
   "source": [
    "# reference https://keras.io/api/callbacks/early_stopping/\n",
    "stop = EarlyStopping(monitor='val_loss', # validation_split 20%\n",
    "                     mode='min', \n",
    "                     patience=30,\n",
    "                     verbose=1)"
   ]
  },
  {
   "cell_type": "code",
   "execution_count": 26,
   "id": "31576260",
   "metadata": {},
   "outputs": [
    {
     "name": "stdout",
     "output_type": "stream",
     "text": [
      "Epoch 1/100\n",
      "963/963 [==============================] - 2s 1ms/step - loss: 40113410048.0000 - mae: 119902.7031 - val_loss: 9038633984.0000 - val_mae: 70934.1719\n",
      "Epoch 2/100\n",
      "963/963 [==============================] - 1s 936us/step - loss: 10821378048.0000 - mae: 71398.1484 - val_loss: 7871839744.0000 - val_mae: 65619.4375\n",
      "Epoch 3/100\n",
      "963/963 [==============================] - 1s 974us/step - loss: 9535744000.0000 - mae: 66050.7500 - val_loss: 7548839424.0000 - val_mae: 63905.7852\n",
      "Epoch 4/100\n",
      "963/963 [==============================] - 1s 1ms/step - loss: 8769501184.0000 - mae: 62368.8320 - val_loss: 6943170560.0000 - val_mae: 62166.6250\n",
      "Epoch 5/100\n",
      "963/963 [==============================] - 1s 1ms/step - loss: 8211352064.0000 - mae: 60510.0078 - val_loss: 6803329536.0000 - val_mae: 60408.0469\n",
      "Epoch 6/100\n",
      "963/963 [==============================] - 1s 985us/step - loss: 7845779968.0000 - mae: 59090.1875 - val_loss: 6622462976.0000 - val_mae: 60105.2070\n",
      "Epoch 7/100\n",
      "963/963 [==============================] - 1s 937us/step - loss: 7681453056.0000 - mae: 58032.0117 - val_loss: 7000809472.0000 - val_mae: 59371.6172\n",
      "Epoch 8/100\n",
      "963/963 [==============================] - 1s 908us/step - loss: 7469509120.0000 - mae: 57464.8789 - val_loss: 6791239680.0000 - val_mae: 59031.7773\n",
      "Epoch 9/100\n",
      "963/963 [==============================] - 1s 894us/step - loss: 7435368960.0000 - mae: 57389.9727 - val_loss: 6314235392.0000 - val_mae: 58046.7227\n",
      "Epoch 10/100\n",
      "963/963 [==============================] - 1s 892us/step - loss: 6917040128.0000 - mae: 55643.3516 - val_loss: 6589504000.0000 - val_mae: 57605.4258\n",
      "Epoch 11/100\n",
      "963/963 [==============================] - 1s 899us/step - loss: 7428786688.0000 - mae: 57598.3828 - val_loss: 6358616064.0000 - val_mae: 57522.3750\n",
      "Epoch 12/100\n",
      "963/963 [==============================] - 1s 963us/step - loss: 6963771392.0000 - mae: 55409.1758 - val_loss: 6165785088.0000 - val_mae: 57600.7891\n",
      "Epoch 13/100\n",
      "963/963 [==============================] - 1s 958us/step - loss: 6941564416.0000 - mae: 55795.6445 - val_loss: 6181104640.0000 - val_mae: 56042.2461\n",
      "Epoch 14/100\n",
      "963/963 [==============================] - 1s 997us/step - loss: 6987339776.0000 - mae: 55495.7188 - val_loss: 6431928832.0000 - val_mae: 56473.2031\n",
      "Epoch 15/100\n",
      "963/963 [==============================] - 1s 979us/step - loss: 7115366400.0000 - mae: 55490.4648 - val_loss: 6094384640.0000 - val_mae: 56636.9531\n",
      "Epoch 16/100\n",
      "963/963 [==============================] - 1s 961us/step - loss: 6953466880.0000 - mae: 54706.5469 - val_loss: 7309744128.0000 - val_mae: 59178.0039\n",
      "Epoch 17/100\n",
      "963/963 [==============================] - 1s 985us/step - loss: 6990048768.0000 - mae: 55061.4023 - val_loss: 5980709888.0000 - val_mae: 55944.6016\n",
      "Epoch 18/100\n",
      "963/963 [==============================] - 1s 967us/step - loss: 6997240320.0000 - mae: 55362.7109 - val_loss: 5889088512.0000 - val_mae: 55099.0039\n",
      "Epoch 19/100\n",
      "963/963 [==============================] - 1s 941us/step - loss: 6708288000.0000 - mae: 54051.5938 - val_loss: 6126953984.0000 - val_mae: 55683.6719\n",
      "Epoch 20/100\n",
      "963/963 [==============================] - 1s 926us/step - loss: 7058643456.0000 - mae: 54706.2930 - val_loss: 5968611840.0000 - val_mae: 56512.1758\n",
      "Epoch 21/100\n",
      "963/963 [==============================] - 1s 973us/step - loss: 6623493632.0000 - mae: 53639.6172 - val_loss: 5874044928.0000 - val_mae: 56575.7031\n",
      "Epoch 22/100\n",
      "963/963 [==============================] - 1s 970us/step - loss: 6564775936.0000 - mae: 54374.8555 - val_loss: 7684871168.0000 - val_mae: 59990.6914\n",
      "Epoch 23/100\n",
      "963/963 [==============================] - 1s 924us/step - loss: 6624458752.0000 - mae: 53685.1289 - val_loss: 5914493952.0000 - val_mae: 55768.6172\n",
      "Epoch 24/100\n",
      "963/963 [==============================] - 1s 957us/step - loss: 6523830272.0000 - mae: 53213.7227 - val_loss: 5686325760.0000 - val_mae: 54837.7227\n",
      "Epoch 25/100\n",
      "963/963 [==============================] - 1s 937us/step - loss: 6987790848.0000 - mae: 53884.8047 - val_loss: 5893383168.0000 - val_mae: 54556.8047\n",
      "Epoch 26/100\n",
      "963/963 [==============================] - 1s 951us/step - loss: 6630265344.0000 - mae: 53197.1016 - val_loss: 6387344896.0000 - val_mae: 55056.0859\n",
      "Epoch 27/100\n",
      "963/963 [==============================] - 1s 928us/step - loss: 6704098816.0000 - mae: 53224.5312 - val_loss: 5980625920.0000 - val_mae: 55144.0312\n",
      "Epoch 28/100\n",
      "963/963 [==============================] - 1s 923us/step - loss: 6621041152.0000 - mae: 53298.8945 - val_loss: 5522277888.0000 - val_mae: 53351.2227\n",
      "Epoch 29/100\n",
      "963/963 [==============================] - 1s 927us/step - loss: 6360576512.0000 - mae: 51897.8750 - val_loss: 6326008832.0000 - val_mae: 54810.0820\n",
      "Epoch 30/100\n",
      "963/963 [==============================] - 1s 946us/step - loss: 6660916224.0000 - mae: 53204.2227 - val_loss: 5938609152.0000 - val_mae: 54213.1641\n",
      "Epoch 31/100\n",
      "963/963 [==============================] - 1s 935us/step - loss: 6517778944.0000 - mae: 52273.0352 - val_loss: 5590852096.0000 - val_mae: 53510.3945\n",
      "Epoch 32/100\n",
      "963/963 [==============================] - 1s 945us/step - loss: 6493321216.0000 - mae: 52443.9766 - val_loss: 5501702656.0000 - val_mae: 52639.0430\n",
      "Epoch 33/100\n",
      "963/963 [==============================] - 1s 922us/step - loss: 6312506368.0000 - mae: 51000.5312 - val_loss: 5468813824.0000 - val_mae: 51840.2695\n",
      "Epoch 34/100\n",
      "963/963 [==============================] - 1s 935us/step - loss: 6481529856.0000 - mae: 51639.1758 - val_loss: 5888586752.0000 - val_mae: 53032.7422\n",
      "Epoch 35/100\n",
      "963/963 [==============================] - 1s 923us/step - loss: 6468483072.0000 - mae: 52422.1836 - val_loss: 5597624320.0000 - val_mae: 52576.9805\n",
      "Epoch 36/100\n",
      "963/963 [==============================] - 1s 933us/step - loss: 6176231424.0000 - mae: 50436.0625 - val_loss: 5401948160.0000 - val_mae: 51225.8047\n",
      "Epoch 37/100\n",
      "963/963 [==============================] - 1s 923us/step - loss: 6212898304.0000 - mae: 50716.5234 - val_loss: 5685838336.0000 - val_mae: 53331.0000\n",
      "Epoch 38/100\n",
      "963/963 [==============================] - 1s 940us/step - loss: 6495245824.0000 - mae: 51860.1445 - val_loss: 5339054080.0000 - val_mae: 51371.4922\n",
      "Epoch 39/100\n",
      "963/963 [==============================] - 1s 972us/step - loss: 6420067840.0000 - mae: 51398.9922 - val_loss: 5993788928.0000 - val_mae: 52054.9180\n",
      "Epoch 40/100\n",
      "963/963 [==============================] - 1s 934us/step - loss: 6053053440.0000 - mae: 50277.9883 - val_loss: 5571629056.0000 - val_mae: 50687.8086\n",
      "Epoch 41/100\n",
      "963/963 [==============================] - 1s 916us/step - loss: 6201588736.0000 - mae: 50532.4023 - val_loss: 5333740032.0000 - val_mae: 51109.3516\n",
      "Epoch 42/100\n",
      "963/963 [==============================] - 1s 920us/step - loss: 6362307584.0000 - mae: 51089.8750 - val_loss: 6102396416.0000 - val_mae: 52069.5820\n",
      "Epoch 43/100\n",
      "963/963 [==============================] - 1s 924us/step - loss: 6387879424.0000 - mae: 50452.8047 - val_loss: 5289197056.0000 - val_mae: 49914.4727\n",
      "Epoch 44/100\n",
      "963/963 [==============================] - 1s 926us/step - loss: 6175707648.0000 - mae: 50486.2070 - val_loss: 5255971328.0000 - val_mae: 51070.7227\n",
      "Epoch 45/100\n",
      "963/963 [==============================] - 1s 928us/step - loss: 6325771776.0000 - mae: 51650.3125 - val_loss: 6214830592.0000 - val_mae: 52198.4453\n",
      "Epoch 46/100\n",
      "963/963 [==============================] - 1s 931us/step - loss: 6028957184.0000 - mae: 49601.3398 - val_loss: 5439291904.0000 - val_mae: 50364.0781\n",
      "Epoch 47/100\n",
      "963/963 [==============================] - 1s 909us/step - loss: 6123269120.0000 - mae: 49841.8281 - val_loss: 5480207872.0000 - val_mae: 49896.4688\n",
      "Epoch 48/100\n",
      "963/963 [==============================] - 1s 917us/step - loss: 6134989312.0000 - mae: 49795.9492 - val_loss: 5189693952.0000 - val_mae: 49804.9219\n",
      "Epoch 49/100\n",
      "963/963 [==============================] - 1s 940us/step - loss: 6184886784.0000 - mae: 49900.4375 - val_loss: 5413811712.0000 - val_mae: 50401.7305\n",
      "Epoch 50/100\n",
      "963/963 [==============================] - 1s 936us/step - loss: 6171801600.0000 - mae: 49467.6992 - val_loss: 5218974720.0000 - val_mae: 49693.1445\n",
      "Epoch 51/100\n",
      "963/963 [==============================] - 1s 950us/step - loss: 6080644096.0000 - mae: 49935.1953 - val_loss: 5220500480.0000 - val_mae: 50980.3164\n",
      "Epoch 52/100\n",
      "963/963 [==============================] - 1s 898us/step - loss: 6189088256.0000 - mae: 50770.8086 - val_loss: 5239265280.0000 - val_mae: 49582.6211\n",
      "Epoch 53/100\n",
      "963/963 [==============================] - 1s 899us/step - loss: 6193708544.0000 - mae: 50680.9531 - val_loss: 5613581824.0000 - val_mae: 49768.7812\n",
      "Epoch 54/100\n",
      "963/963 [==============================] - 1s 910us/step - loss: 6251819008.0000 - mae: 49614.5977 - val_loss: 5319878144.0000 - val_mae: 48978.7344\n",
      "Epoch 55/100\n",
      "963/963 [==============================] - 1s 917us/step - loss: 6374966784.0000 - mae: 50629.2188 - val_loss: 5647788032.0000 - val_mae: 50403.2422\n",
      "Epoch 56/100\n",
      "963/963 [==============================] - 1s 934us/step - loss: 6306703872.0000 - mae: 50771.9141 - val_loss: 5156519936.0000 - val_mae: 48747.2578\n",
      "Epoch 57/100\n",
      "963/963 [==============================] - 1s 935us/step - loss: 5880061440.0000 - mae: 49017.4258 - val_loss: 5196429824.0000 - val_mae: 50297.4883\n",
      "Epoch 58/100\n",
      "963/963 [==============================] - 1s 921us/step - loss: 6130113536.0000 - mae: 49816.1406 - val_loss: 5112326144.0000 - val_mae: 49840.1641\n",
      "Epoch 59/100\n",
      "963/963 [==============================] - 1s 911us/step - loss: 6291789312.0000 - mae: 50121.9180 - val_loss: 5248653824.0000 - val_mae: 50658.3477\n",
      "Epoch 60/100\n",
      "963/963 [==============================] - 1s 902us/step - loss: 6059283456.0000 - mae: 49852.3477 - val_loss: 5255516672.0000 - val_mae: 49442.5898\n",
      "Epoch 61/100\n",
      "963/963 [==============================] - 1s 905us/step - loss: 5916544512.0000 - mae: 49417.0117 - val_loss: 5289841664.0000 - val_mae: 51172.0156\n",
      "Epoch 62/100\n",
      "963/963 [==============================] - 1s 910us/step - loss: 6025299456.0000 - mae: 49395.1094 - val_loss: 5306255872.0000 - val_mae: 49267.5742\n",
      "Epoch 63/100\n",
      "963/963 [==============================] - 1s 905us/step - loss: 6019667968.0000 - mae: 49601.3555 - val_loss: 5205616640.0000 - val_mae: 49621.3477\n",
      "Epoch 64/100\n",
      "963/963 [==============================] - 1s 898us/step - loss: 6143690752.0000 - mae: 49808.6680 - val_loss: 5112467456.0000 - val_mae: 48629.5273\n",
      "Epoch 65/100\n",
      "963/963 [==============================] - 1s 901us/step - loss: 5784319488.0000 - mae: 47965.0039 - val_loss: 5074790912.0000 - val_mae: 49223.4766\n",
      "Epoch 66/100\n",
      "963/963 [==============================] - 1s 892us/step - loss: 5896224768.0000 - mae: 48679.5820 - val_loss: 5269121024.0000 - val_mae: 50306.2734\n",
      "Epoch 67/100\n",
      "963/963 [==============================] - 1s 896us/step - loss: 5959652352.0000 - mae: 49087.1406 - val_loss: 6230739456.0000 - val_mae: 51556.8008\n",
      "Epoch 68/100\n",
      "963/963 [==============================] - 1s 917us/step - loss: 6001643008.0000 - mae: 48984.5078 - val_loss: 5184684032.0000 - val_mae: 49521.7578\n",
      "Epoch 69/100\n",
      "963/963 [==============================] - 1s 904us/step - loss: 6020410880.0000 - mae: 49287.3906 - val_loss: 5759296512.0000 - val_mae: 50247.1445\n",
      "Epoch 70/100\n",
      "963/963 [==============================] - 1s 895us/step - loss: 6126639104.0000 - mae: 49949.2695 - val_loss: 5299318272.0000 - val_mae: 49217.4688\n",
      "Epoch 71/100\n",
      "963/963 [==============================] - 1s 898us/step - loss: 5961029120.0000 - mae: 49271.7383 - val_loss: 5903351808.0000 - val_mae: 49666.5742\n",
      "Epoch 72/100\n",
      "963/963 [==============================] - 1s 905us/step - loss: 6253606912.0000 - mae: 50026.1680 - val_loss: 5444061184.0000 - val_mae: 49108.6133\n",
      "Epoch 73/100\n",
      "963/963 [==============================] - 1s 912us/step - loss: 6016856576.0000 - mae: 49418.6484 - val_loss: 5075969024.0000 - val_mae: 49123.0898\n",
      "Epoch 74/100\n",
      "963/963 [==============================] - 1s 947us/step - loss: 6014242304.0000 - mae: 50000.2461 - val_loss: 5512323072.0000 - val_mae: 49891.3945\n",
      "Epoch 75/100\n",
      "963/963 [==============================] - 1s 945us/step - loss: 5852657664.0000 - mae: 48558.0781 - val_loss: 5081497088.0000 - val_mae: 48560.3711\n",
      "Epoch 76/100\n",
      "963/963 [==============================] - 1s 954us/step - loss: 5867422720.0000 - mae: 49303.3008 - val_loss: 5173912576.0000 - val_mae: 49693.8516\n",
      "Epoch 77/100\n",
      "963/963 [==============================] - 1s 931us/step - loss: 5823510016.0000 - mae: 48225.1328 - val_loss: 5504911872.0000 - val_mae: 49025.4219\n",
      "Epoch 78/100\n",
      "963/963 [==============================] - 1s 916us/step - loss: 6033724416.0000 - mae: 48723.1523 - val_loss: 5212628992.0000 - val_mae: 49825.9102\n",
      "Epoch 79/100\n",
      "963/963 [==============================] - 1s 920us/step - loss: 6098819584.0000 - mae: 48663.1328 - val_loss: 5428979712.0000 - val_mae: 49367.5234\n",
      "Epoch 80/100\n",
      "963/963 [==============================] - 1s 930us/step - loss: 5955750400.0000 - mae: 48833.5508 - val_loss: 5180466176.0000 - val_mae: 48921.9609\n",
      "Epoch 81/100\n",
      "963/963 [==============================] - 1s 915us/step - loss: 5868515328.0000 - mae: 49347.5000 - val_loss: 5185988096.0000 - val_mae: 49857.3828\n",
      "Epoch 82/100\n",
      "963/963 [==============================] - 1s 934us/step - loss: 5955132928.0000 - mae: 49026.7109 - val_loss: 5076365312.0000 - val_mae: 48308.1250\n",
      "Epoch 83/100\n",
      "963/963 [==============================] - 1s 920us/step - loss: 5848933888.0000 - mae: 48076.1836 - val_loss: 5228934656.0000 - val_mae: 48248.1836\n",
      "Epoch 84/100\n",
      "963/963 [==============================] - 1s 922us/step - loss: 5787419136.0000 - mae: 48172.5508 - val_loss: 5377181184.0000 - val_mae: 49025.5508\n",
      "Epoch 85/100\n",
      "963/963 [==============================] - 1s 918us/step - loss: 5852187136.0000 - mae: 48695.2773 - val_loss: 5219897344.0000 - val_mae: 49977.9375\n",
      "Epoch 86/100\n",
      "963/963 [==============================] - 1s 926us/step - loss: 5977107968.0000 - mae: 48988.3828 - val_loss: 5193759232.0000 - val_mae: 49540.9883\n",
      "Epoch 87/100\n",
      "963/963 [==============================] - 1s 986us/step - loss: 5877425664.0000 - mae: 49037.8125 - val_loss: 5862710272.0000 - val_mae: 49893.4766\n",
      "Epoch 88/100\n",
      "963/963 [==============================] - 1s 1ms/step - loss: 6100197376.0000 - mae: 49635.5391 - val_loss: 5095556096.0000 - val_mae: 48229.2539\n",
      "Epoch 89/100\n",
      "963/963 [==============================] - 1s 1ms/step - loss: 5960826880.0000 - mae: 48655.7266 - val_loss: 5868426240.0000 - val_mae: 49743.4805\n",
      "Epoch 90/100\n",
      "963/963 [==============================] - 1s 956us/step - loss: 5937728512.0000 - mae: 48243.3750 - val_loss: 5133002752.0000 - val_mae: 48861.2109\n",
      "Epoch 91/100\n",
      "963/963 [==============================] - 1s 928us/step - loss: 6044755456.0000 - mae: 48988.5977 - val_loss: 6440834048.0000 - val_mae: 51590.1172\n",
      "Epoch 92/100\n",
      "963/963 [==============================] - 1s 937us/step - loss: 5820374016.0000 - mae: 49398.7695 - val_loss: 5118675968.0000 - val_mae: 48648.6914\n",
      "Epoch 93/100\n",
      "963/963 [==============================] - 1s 941us/step - loss: 5617708032.0000 - mae: 47364.2031 - val_loss: 5926840320.0000 - val_mae: 50291.3203\n",
      "Epoch 94/100\n",
      "963/963 [==============================] - 1s 897us/step - loss: 5744649216.0000 - mae: 48102.3477 - val_loss: 5118086656.0000 - val_mae: 48367.7695\n",
      "Epoch 95/100\n",
      "963/963 [==============================] - 1s 884us/step - loss: 5860043776.0000 - mae: 48948.5664 - val_loss: 5189424128.0000 - val_mae: 49332.9492\n",
      "Epoch 95: early stopping\n"
     ]
    }
   ],
   "source": [
    "h = model_regr.fit(x_train, y_train, \n",
    "               validation_split=0.2, \n",
    "               epochs=100, \n",
    "               batch_size=1,\n",
    "               verbose=1,\n",
    "               callbacks=[stop])"
   ]
  },
  {
   "cell_type": "code",
   "execution_count": 27,
   "id": "45274d8a",
   "metadata": {},
   "outputs": [
    {
     "name": "stdout",
     "output_type": "stream",
     "text": [
      "Model: \"sequential\"\n",
      "_________________________________________________________________\n",
      " Layer (type)                Output Shape              Param #   \n",
      "=================================================================\n",
      " dense (Dense)               (1, 21)                   462       \n",
      "                                                                 \n",
      " dense_1 (Dense)             (1, 128)                  2816      \n",
      "                                                                 \n",
      " dropout (Dropout)           (1, 128)                  0         \n",
      "                                                                 \n",
      " dense_2 (Dense)             (1, 1)                    129       \n",
      "                                                                 \n",
      "=================================================================\n",
      "Total params: 3,407\n",
      "Trainable params: 3,407\n",
      "Non-trainable params: 0\n",
      "_________________________________________________________________\n"
     ]
    }
   ],
   "source": [
    "# view summary\n",
    "model_regr.summary()"
   ]
  },
  {
   "cell_type": "code",
   "execution_count": 28,
   "id": "e73dc43f",
   "metadata": {},
   "outputs": [
    {
     "data": {
      "text/plain": [
       "dict_keys(['loss', 'mae', 'val_loss', 'val_mae'])"
      ]
     },
     "execution_count": 28,
     "metadata": {},
     "output_type": "execute_result"
    }
   ],
   "source": [
    "h.history.keys()"
   ]
  },
  {
   "cell_type": "code",
   "execution_count": 29,
   "id": "0034577c",
   "metadata": {},
   "outputs": [
    {
     "data": {
      "text/plain": [
       "Text(0, 0.5, 'MAE')"
      ]
     },
     "execution_count": 29,
     "metadata": {},
     "output_type": "execute_result"
    },
    {
     "data": {
      "image/png": "[encoded data removed]",
      "text/plain": [
       "<Figure size 1080x432 with 2 Axes>"
      ]
     },
     "metadata": {
      "needs_background": "light"
     },
     "output_type": "display_data"
    }
   ],
   "source": [
    "#plotting\n",
    "\n",
    "fig, axs = plt.subplots(1,2,\n",
    "                        figsize=(15, 6),\n",
    "                        gridspec_kw={'hspace': 0.5, 'wspace': 0.2}) \n",
    "(ax1, ax2) = axs\n",
    "ax1.plot(h.history['loss'], label='Train')\n",
    "ax1.plot(h.history['val_loss'], label='Validation')\n",
    "ax1.set_title('learning rate=' + str(0.01))\n",
    "ax1.legend(loc=\"upper right\")\n",
    "ax1.set_xlabel(\"# of epochs\")\n",
    "ax1.set_ylabel(\"loss (MSE)\")\n",
    "\n",
    "ax2.plot(h.history['mae'], label='Train')\n",
    "ax2.plot(h.history['val_mae'], label='Validation')\n",
    "ax2.set_title('learning rate=' + str(0.01))\n",
    "ax2.legend(loc=\"upper right\")\n",
    "ax2.set_xlabel(\"# of epochs\")\n",
    "ax2.set_ylabel(\"MAE\")"
   ]
  },
  {
   "cell_type": "code",
   "execution_count": 30,
   "id": "f770d474",
   "metadata": {},
   "outputs": [
    {
     "name": "stdout",
     "output_type": "stream",
     "text": [
      "17/17 [==============================] - 0s 875us/step - loss: 5577205760.0000 - mae: 50377.3359\n"
     ]
    }
   ],
   "source": [
    "val_mse, val_mae = model_regr.evaluate(x_test, y_test, verbose = 1)"
   ]
  },
  {
   "cell_type": "code",
   "execution_count": 31,
   "id": "a01b7ae1",
   "metadata": {},
   "outputs": [
    {
     "name": "stdout",
     "output_type": "stream",
     "text": [
      "17/17 [==============================] - 0s 797us/step\n"
     ]
    }
   ],
   "source": [
    "y_predict = model_regr.predict(x_test)"
   ]
  },
  {
   "cell_type": "code",
   "execution_count": 32,
   "id": "78f12262",
   "metadata": {},
   "outputs": [
    {
     "data": {
      "text/plain": [
       "0.9175373086383221"
      ]
     },
     "execution_count": 32,
     "metadata": {},
     "output_type": "execute_result"
    }
   ],
   "source": [
    "r2_score(y_test, y_predict) "
   ]
  },
  {
   "cell_type": "code",
   "execution_count": 33,
   "id": "bf6e7e11",
   "metadata": {},
   "outputs": [
    {
     "data": {
      "text/html": [
       "<div>\n",
       "<style scoped>\n",
       "    .dataframe tbody tr th:only-of-type {\n",
       "        vertical-align: middle;\n",
       "    }\n",
       "\n",
       "    .dataframe tbody tr th {\n",
       "        vertical-align: top;\n",
       "    }\n",
       "\n",
       "    .dataframe thead th {\n",
       "        text-align: right;\n",
       "    }\n",
       "</style>\n",
       "<table border=\"1\" class=\"dataframe\">\n",
       "  <thead>\n",
       "    <tr style=\"text-align: right;\">\n",
       "      <th></th>\n",
       "      <th>Actual Charges</th>\n",
       "      <th>Predicted Charges</th>\n",
       "      <th>Difference</th>\n",
       "    </tr>\n",
       "  </thead>\n",
       "  <tbody>\n",
       "    <tr>\n",
       "      <th>0</th>\n",
       "      <td>249549</td>\n",
       "      <td>206694.015625</td>\n",
       "      <td>-42854.98</td>\n",
       "    </tr>\n",
       "    <tr>\n",
       "      <th>1</th>\n",
       "      <td>385894</td>\n",
       "      <td>381486.656250</td>\n",
       "      <td>-4407.34</td>\n",
       "    </tr>\n",
       "    <tr>\n",
       "      <th>2</th>\n",
       "      <td>26789</td>\n",
       "      <td>45152.796875</td>\n",
       "      <td>18363.80</td>\n",
       "    </tr>\n",
       "    <tr>\n",
       "      <th>3</th>\n",
       "      <td>58955</td>\n",
       "      <td>37307.972656</td>\n",
       "      <td>-21647.03</td>\n",
       "    </tr>\n",
       "    <tr>\n",
       "      <th>4</th>\n",
       "      <td>55827</td>\n",
       "      <td>116238.875000</td>\n",
       "      <td>60411.88</td>\n",
       "    </tr>\n",
       "  </tbody>\n",
       "</table>\n",
       "</div>"
      ],
      "text/plain": [
       "   Actual Charges  Predicted Charges  Difference\n",
       "0          249549      206694.015625   -42854.98\n",
       "1          385894      381486.656250    -4407.34\n",
       "2           26789       45152.796875    18363.80\n",
       "3           58955       37307.972656   -21647.03\n",
       "4           55827      116238.875000    60411.88"
      ]
     },
     "execution_count": 33,
     "metadata": {},
     "output_type": "execute_result"
    }
   ],
   "source": [
    "# show/hide code\n",
    "a = y_test.values.reshape(-1,1).flatten()\n",
    "b = y_predict.flatten()\n",
    "diff = (b - a)\n",
    "\n",
    "sim_data={\"Actual Charges\":a, 'Predicted Charges':b, 'Difference':np.round(diff,2)}\n",
    "\n",
    "sim_data=pd.DataFrame(sim_data)\n",
    "\n",
    "# Showing first 5 rows\n",
    "sim_data.head(5)"
   ]
  },
  {
   "cell_type": "code",
   "execution_count": 34,
   "id": "93b1f60d",
   "metadata": {},
   "outputs": [
    {
     "data": {
      "text/plain": [
       "Text(0, 0.5, 'Predicted Charges')"
      ]
     },
     "execution_count": 34,
     "metadata": {},
     "output_type": "execute_result"
    },
    {
     "data": {
      "image/png": "[encoded data removed]",
      "text/plain": [
       "<Figure size 576x432 with 1 Axes>"
      ]
     },
     "metadata": {
      "needs_background": "light"
     },
     "output_type": "display_data"
    }
   ],
   "source": [
    "# visualization of actual vs. predicted charges\n",
    "plt.figure(figsize=(8, 6)) \n",
    "\n",
    "plt.scatter(y_test, y_predict, alpha=0.4, color = 'red')\n",
    "plt.title(\"Actual Vs. Predicted Charges\")\n",
    "plt.xlabel(\"Actual Charges\")\n",
    "plt.ylabel(\"Predicted Charges\")"
   ]
  },
  {
   "cell_type": "code",
   "execution_count": null,
   "id": "bf88676d",
   "metadata": {},
   "outputs": [],
   "source": []
  },
  {
   "cell_type": "code",
   "execution_count": null,
   "id": "12ca23e6",
   "metadata": {},
   "outputs": [],
   "source": []
  },
  {
   "cell_type": "code",
   "execution_count": null,
   "id": "0270261b",
   "metadata": {},
   "outputs": [],
   "source": []
  },
  {
   "cell_type": "code",
   "execution_count": null,
   "id": "30af8257",
   "metadata": {},
   "outputs": [],
   "source": []
  },
  {
   "cell_type": "code",
   "execution_count": null,
   "id": "4df3e2d6",
   "metadata": {},
   "outputs": [],
   "source": []
  },
  {
   "cell_type": "code",
   "execution_count": null,
   "id": "86b27f55",
   "metadata": {},
   "outputs": [],
   "source": []
  }
 ],
 "metadata": {
  "kernelspec": {
   "display_name": "Python 3 (ipykernel)",
   "language": "python",
   "name": "python3"
  },
  "language_info": {
   "codemirror_mode": {
    "name": "ipython",
    "version": 3
   },
   "file_extension": ".py",
   "mimetype": "text/x-python",
   "name": "python",
   "nbconvert_exporter": "python",
   "pygments_lexer": "ipython3",
   "version": "3.8.5"
  }
 },
 "nbformat": 4,
 "nbformat_minor": 5
}
