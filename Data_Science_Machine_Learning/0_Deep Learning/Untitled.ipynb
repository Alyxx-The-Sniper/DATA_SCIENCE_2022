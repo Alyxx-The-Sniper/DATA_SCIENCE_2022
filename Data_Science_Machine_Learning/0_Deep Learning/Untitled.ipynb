{
 "cells": [
  {
   "cell_type": "markdown",
   "id": "c197be44",
   "metadata": {},
   "source": [
    "# Deep Learning\n",
    "\n",
    "Regression"
   ]
  },
  {
   "cell_type": "code",
   "execution_count": 69,
   "id": "ed3d59cf",
   "metadata": {},
   "outputs": [],
   "source": [
    "import pandas as pd\n",
    "\n",
    "from sklearn.model_selection import train_test_split\n",
    "\n",
    "# from sklearn.compose import ColumnTransformer\n",
    "from sklearn.preprocessing import StandardScaler\n",
    "\n",
    "import tensorflow as tf\n",
    "from tensorflow.keras.models import Sequential\n",
    "from tensorflow.keras import layers\n",
    "from tensorflow.keras.layers import Dense, Activation\n",
    "from tensorflow.keras.optimizers import Adam"
   ]
  },
  {
   "cell_type": "code",
   "execution_count": 2,
   "id": "9e94810b",
   "metadata": {},
   "outputs": [
    {
     "name": "stdout",
     "output_type": "stream",
     "text": [
      "(1338, 7)\n"
     ]
    },
    {
     "data": {
      "text/html": [
       "<div>\n",
       "<style scoped>\n",
       "    .dataframe tbody tr th:only-of-type {\n",
       "        vertical-align: middle;\n",
       "    }\n",
       "\n",
       "    .dataframe tbody tr th {\n",
       "        vertical-align: top;\n",
       "    }\n",
       "\n",
       "    .dataframe thead th {\n",
       "        text-align: right;\n",
       "    }\n",
       "</style>\n",
       "<table border=\"1\" class=\"dataframe\">\n",
       "  <thead>\n",
       "    <tr style=\"text-align: right;\">\n",
       "      <th></th>\n",
       "      <th>age</th>\n",
       "      <th>sex</th>\n",
       "      <th>bmi</th>\n",
       "      <th>children</th>\n",
       "      <th>smoker</th>\n",
       "      <th>region</th>\n",
       "      <th>charges</th>\n",
       "    </tr>\n",
       "  </thead>\n",
       "  <tbody>\n",
       "    <tr>\n",
       "      <th>0</th>\n",
       "      <td>19</td>\n",
       "      <td>1</td>\n",
       "      <td>27.90</td>\n",
       "      <td>0</td>\n",
       "      <td>1</td>\n",
       "      <td>southwest</td>\n",
       "      <td>16884.9240</td>\n",
       "    </tr>\n",
       "    <tr>\n",
       "      <th>1</th>\n",
       "      <td>18</td>\n",
       "      <td>0</td>\n",
       "      <td>33.77</td>\n",
       "      <td>1</td>\n",
       "      <td>0</td>\n",
       "      <td>southeast</td>\n",
       "      <td>1725.5523</td>\n",
       "    </tr>\n",
       "    <tr>\n",
       "      <th>2</th>\n",
       "      <td>28</td>\n",
       "      <td>0</td>\n",
       "      <td>33.00</td>\n",
       "      <td>3</td>\n",
       "      <td>0</td>\n",
       "      <td>southeast</td>\n",
       "      <td>4449.4620</td>\n",
       "    </tr>\n",
       "  </tbody>\n",
       "</table>\n",
       "</div>"
      ],
      "text/plain": [
       "   age  sex    bmi  children  smoker     region     charges\n",
       "0   19    1  27.90         0       1  southwest  16884.9240\n",
       "1   18    0  33.77         1       0  southeast   1725.5523\n",
       "2   28    0  33.00         3       0  southeast   4449.4620"
      ]
     },
     "execution_count": 2,
     "metadata": {},
     "output_type": "execute_result"
    }
   ],
   "source": [
    "df = pd.read_csv('insurance.csv') #load the dataset\n",
    "print(df.shape)\n",
    "df.head(3)"
   ]
  },
  {
   "cell_type": "code",
   "execution_count": 3,
   "id": "480dace9",
   "metadata": {},
   "outputs": [
    {
     "data": {
      "text/plain": [
       "array(['southwest', 'southeast', '0rthwest', '0rtheast'], dtype=object)"
      ]
     },
     "execution_count": 3,
     "metadata": {},
     "output_type": "execute_result"
    }
   ],
   "source": [
    "# inspect categorical features\n",
    "df.region.unique()"
   ]
  },
  {
   "cell_type": "code",
   "execution_count": 4,
   "id": "4e658652",
   "metadata": {},
   "outputs": [
    {
     "data": {
      "text/plain": [
       "array(['southwest', 'southeast', 'northwest', 'northeast'], dtype=object)"
      ]
     },
     "execution_count": 4,
     "metadata": {},
     "output_type": "execute_result"
    }
   ],
   "source": [
    "# cleaqn categorical features\n",
    "df.region = df.region.replace('0', 'no', regex=True)\n",
    "df.region.unique()"
   ]
  },
  {
   "cell_type": "code",
   "execution_count": 5,
   "id": "bdad3392",
   "metadata": {},
   "outputs": [],
   "source": [
    "# Define X and y\n",
    "X = df.iloc[:,0:6]\n",
    "y = df.iloc[:,-1]"
   ]
  },
  {
   "cell_type": "code",
   "execution_count": 6,
   "id": "dc965645",
   "metadata": {},
   "outputs": [
    {
     "data": {
      "text/html": [
       "<div>\n",
       "<style scoped>\n",
       "    .dataframe tbody tr th:only-of-type {\n",
       "        vertical-align: middle;\n",
       "    }\n",
       "\n",
       "    .dataframe tbody tr th {\n",
       "        vertical-align: top;\n",
       "    }\n",
       "\n",
       "    .dataframe thead th {\n",
       "        text-align: right;\n",
       "    }\n",
       "</style>\n",
       "<table border=\"1\" class=\"dataframe\">\n",
       "  <thead>\n",
       "    <tr style=\"text-align: right;\">\n",
       "      <th></th>\n",
       "      <th>age</th>\n",
       "      <th>sex</th>\n",
       "      <th>bmi</th>\n",
       "      <th>children</th>\n",
       "      <th>smoker</th>\n",
       "      <th>region_northeast</th>\n",
       "      <th>region_northwest</th>\n",
       "      <th>region_southeast</th>\n",
       "      <th>region_southwest</th>\n",
       "    </tr>\n",
       "  </thead>\n",
       "  <tbody>\n",
       "    <tr>\n",
       "      <th>0</th>\n",
       "      <td>19</td>\n",
       "      <td>1</td>\n",
       "      <td>27.90</td>\n",
       "      <td>0</td>\n",
       "      <td>1</td>\n",
       "      <td>0</td>\n",
       "      <td>0</td>\n",
       "      <td>0</td>\n",
       "      <td>1</td>\n",
       "    </tr>\n",
       "    <tr>\n",
       "      <th>1</th>\n",
       "      <td>18</td>\n",
       "      <td>0</td>\n",
       "      <td>33.77</td>\n",
       "      <td>1</td>\n",
       "      <td>0</td>\n",
       "      <td>0</td>\n",
       "      <td>0</td>\n",
       "      <td>1</td>\n",
       "      <td>0</td>\n",
       "    </tr>\n",
       "  </tbody>\n",
       "</table>\n",
       "</div>"
      ],
      "text/plain": [
       "   age  sex    bmi  children  smoker  region_northeast  region_northwest  \\\n",
       "0   19    1  27.90         0       1                 0                 0   \n",
       "1   18    0  33.77         1       0                 0                 0   \n",
       "\n",
       "   region_southeast  region_southwest  \n",
       "0                 0                 1  \n",
       "1                 1                 0  "
      ]
     },
     "execution_count": 6,
     "metadata": {},
     "output_type": "execute_result"
    }
   ],
   "source": [
    "# one-hot encoding for categorical variables\n",
    "X = pd.get_dummies(X) \n",
    "X.head(2)"
   ]
  },
  {
   "cell_type": "code",
   "execution_count": 48,
   "id": "534ee997",
   "metadata": {},
   "outputs": [],
   "source": [
    "# Split data\n",
    "x_train, x_test, y_train, y_test = train_test_split(X, y,  test_size = 0.33, random_state = 42)"
   ]
  },
  {
   "cell_type": "code",
   "execution_count": 49,
   "id": "48d83c36",
   "metadata": {},
   "outputs": [],
   "source": [
    "# standardize\n",
    "scaler = StandardScaler()\n",
    "x_train = scaler.fit_transform(x_train)\n",
    "x_test = scaler.transform(x_test)"
   ]
  },
  {
   "cell_type": "markdown",
   "id": "8f2eb7b9",
   "metadata": {},
   "source": [
    "#### Function for designing model"
   ]
  },
  {
   "cell_type": "code",
   "execution_count": 72,
   "id": "47f6f3d1",
   "metadata": {},
   "outputs": [],
   "source": [
    "def design_model(features):\n",
    "  # ann model instance  \n",
    "  model_regr = Sequential()\n",
    "  \n",
    "  \n",
    "  #### INPUT LAYER>>>>\n",
    "  #adding the input layer\n",
    "  model_regr.add(Dense(unit = X.shape[1] , activation = 'relu')) \n",
    "\n",
    "\n",
    "  #### HIDDEN LAYER1>>>>\n",
    "  # here are a number of activation functions such as softmax, sigmoid, \n",
    "  # but ReLU (relu) (Rectified Linear Unit) is very effective in many applications and we’ll use it here.\n",
    "  model_regr.add(Dense(128, activation = 'relu'))\n",
    "\n",
    "\n",
    "  #### OUTPUT LAYER>>>>\n",
    "  model_regr.add(Dense(1))  \n",
    "\n",
    "\n",
    "  #### Optimizer\n",
    "  # WE have a lot of optimizers such as SGD (Stochastic Gradient Descent optimizer), Adam, RMSprop, and others.\n",
    "  # right now adam is the best one as its solved previous optmizers issues.\n",
    "  opt = Adam(learning_rate = 0.01)\n",
    "  # loss/cost \n",
    "  # MSE, MAE, Huber loss  \n",
    "  model_regr.compile(loss='mse',  metrics=['mae'], optimizer=opt)  \n",
    "    \n",
    "\n",
    "  return model_regr"
   ]
  },
  {
   "cell_type": "code",
   "execution_count": 73,
   "id": "f16d0506",
   "metadata": {},
   "outputs": [
    {
     "ename": "TypeError",
     "evalue": "__init__() missing 1 required positional argument: 'units'",
     "output_type": "error",
     "traceback": [
      "\u001b[1;31m---------------------------------------------------------------------------\u001b[0m",
      "\u001b[1;31mTypeError\u001b[0m                                 Traceback (most recent call last)",
      "Input \u001b[1;32mIn [73]\u001b[0m, in \u001b[0;36m<cell line: 2>\u001b[1;34m()\u001b[0m\n\u001b[0;32m      1\u001b[0m \u001b[38;5;66;03m#invoke the function for our model design\u001b[39;00m\n\u001b[1;32m----> 2\u001b[0m model_regr \u001b[38;5;241m=\u001b[39m \u001b[43mdesign_model\u001b[49m\u001b[43m(\u001b[49m\u001b[43mx_train\u001b[49m\u001b[43m)\u001b[49m\n",
      "Input \u001b[1;32mIn [72]\u001b[0m, in \u001b[0;36mdesign_model\u001b[1;34m(features)\u001b[0m\n\u001b[0;32m      3\u001b[0m model_regr \u001b[38;5;241m=\u001b[39m Sequential()\n\u001b[0;32m      6\u001b[0m \u001b[38;5;66;03m#### INPUT LAYER>>>>\u001b[39;00m\n\u001b[0;32m      7\u001b[0m \u001b[38;5;66;03m#adding the input layer\u001b[39;00m\n\u001b[1;32m----> 8\u001b[0m model_regr\u001b[38;5;241m.\u001b[39madd(\u001b[43mDense\u001b[49m\u001b[43m(\u001b[49m\u001b[43munit\u001b[49m\u001b[43m \u001b[49m\u001b[38;5;241;43m=\u001b[39;49m\u001b[43m \u001b[49m\u001b[43mX\u001b[49m\u001b[38;5;241;43m.\u001b[39;49m\u001b[43mshape\u001b[49m\u001b[43m[\u001b[49m\u001b[38;5;241;43m1\u001b[39;49m\u001b[43m]\u001b[49m\u001b[43m \u001b[49m\u001b[43m,\u001b[49m\u001b[43m \u001b[49m\u001b[43mactivation\u001b[49m\u001b[43m \u001b[49m\u001b[38;5;241;43m=\u001b[39;49m\u001b[43m \u001b[49m\u001b[38;5;124;43m'\u001b[39;49m\u001b[38;5;124;43mrelu\u001b[39;49m\u001b[38;5;124;43m'\u001b[39;49m\u001b[43m)\u001b[49m) \n\u001b[0;32m     11\u001b[0m \u001b[38;5;66;03m#### HIDDEN LAYER1>>>>\u001b[39;00m\n\u001b[0;32m     12\u001b[0m \u001b[38;5;66;03m# here are a number of activation functions such as softmax, sigmoid, \u001b[39;00m\n\u001b[0;32m     13\u001b[0m \u001b[38;5;66;03m# but ReLU (relu) (Rectified Linear Unit) is very effective in many applications and we’ll use it here.\u001b[39;00m\n\u001b[0;32m     14\u001b[0m model_regr\u001b[38;5;241m.\u001b[39madd(Dense(\u001b[38;5;241m128\u001b[39m, activation \u001b[38;5;241m=\u001b[39m \u001b[38;5;124m'\u001b[39m\u001b[38;5;124mrelu\u001b[39m\u001b[38;5;124m'\u001b[39m))\n",
      "File \u001b[1;32m~\\anaconda3\\lib\\site-packages\\keras\\dtensor\\utils.py:95\u001b[0m, in \u001b[0;36mallow_initializer_layout.<locals>._wrap_function\u001b[1;34m(layer_instance, *args, **kwargs)\u001b[0m\n\u001b[0;32m     92\u001b[0m     \u001b[38;5;28;01mif\u001b[39;00m layout:\n\u001b[0;32m     93\u001b[0m       layout_args[variable_name \u001b[38;5;241m+\u001b[39m \u001b[38;5;124m\"\u001b[39m\u001b[38;5;124m_layout\u001b[39m\u001b[38;5;124m\"\u001b[39m] \u001b[38;5;241m=\u001b[39m layout\n\u001b[1;32m---> 95\u001b[0m \u001b[43minit_method\u001b[49m\u001b[43m(\u001b[49m\u001b[43mlayer_instance\u001b[49m\u001b[43m,\u001b[49m\u001b[43m \u001b[49m\u001b[38;5;241;43m*\u001b[39;49m\u001b[43margs\u001b[49m\u001b[43m,\u001b[49m\u001b[43m \u001b[49m\u001b[38;5;241;43m*\u001b[39;49m\u001b[38;5;241;43m*\u001b[39;49m\u001b[43mkwargs\u001b[49m\u001b[43m)\u001b[49m\n\u001b[0;32m     97\u001b[0m \u001b[38;5;66;03m# Inject the layout parameter after the invocation of __init__()\u001b[39;00m\n\u001b[0;32m     98\u001b[0m \u001b[38;5;28;01mfor\u001b[39;00m layout_param_name, layout \u001b[38;5;129;01min\u001b[39;00m layout_args\u001b[38;5;241m.\u001b[39mitems():\n",
      "\u001b[1;31mTypeError\u001b[0m: __init__() missing 1 required positional argument: 'units'"
     ]
    }
   ],
   "source": [
    "#invoke the function for our model design\n",
    "model_regr = design_model(x_train)"
   ]
  },
  {
   "cell_type": "code",
   "execution_count": 52,
   "id": "00112b73",
   "metadata": {
    "code_folding": [
     0
    ]
   },
   "outputs": [],
   "source": [
    "# check layer\n",
    "# model_regr.layers\n",
    "# view summary\n",
    "# model_regr.summary()"
   ]
  },
  {
   "cell_type": "markdown",
   "id": "ca8e364e",
   "metadata": {},
   "source": [
    "#### Training Phase"
   ]
  },
  {
   "cell_type": "code",
   "execution_count": 57,
   "id": "cb977e30",
   "metadata": {},
   "outputs": [
    {
     "name": "stdout",
     "output_type": "stream",
     "text": [
      "Epoch 1/40\n",
      "896/896 [==============================] - 1s 716us/step - loss: 99215304.0000 - mae: 6740.6240\n",
      "Epoch 2/40\n",
      "896/896 [==============================] - 1s 782us/step - loss: 36552996.0000 - mae: 4142.8745\n",
      "Epoch 3/40\n",
      "896/896 [==============================] - 1s 754us/step - loss: 34650936.0000 - mae: 3961.1719\n",
      "Epoch 4/40\n",
      "896/896 [==============================] - 1s 805us/step - loss: 32925046.0000 - mae: 3783.2898\n",
      "Epoch 5/40\n",
      "896/896 [==============================] - 1s 768us/step - loss: 31329756.0000 - mae: 3605.2480\n",
      "Epoch 6/40\n",
      "896/896 [==============================] - 1s 812us/step - loss: 30371472.0000 - mae: 3466.3860\n",
      "Epoch 7/40\n",
      "896/896 [==============================] - 1s 721us/step - loss: 28799318.0000 - mae: 3397.2727\n",
      "Epoch 8/40\n",
      "896/896 [==============================] - 1s 733us/step - loss: 27889328.0000 - mae: 3220.7385\n",
      "Epoch 9/40\n",
      "896/896 [==============================] - 1s 740us/step - loss: 27702096.0000 - mae: 3230.6140\n",
      "Epoch 10/40\n",
      "896/896 [==============================] - 1s 736us/step - loss: 26505060.0000 - mae: 3086.6379\n",
      "Epoch 11/40\n",
      "896/896 [==============================] - 1s 743us/step - loss: 26396522.0000 - mae: 3149.3108\n",
      "Epoch 12/40\n",
      "896/896 [==============================] - 1s 732us/step - loss: 26157468.0000 - mae: 3059.8101\n",
      "Epoch 13/40\n",
      "896/896 [==============================] - 1s 736us/step - loss: 25358336.0000 - mae: 3028.9187\n",
      "Epoch 14/40\n",
      "896/896 [==============================] - 1s 760us/step - loss: 25673550.0000 - mae: 3019.3535\n",
      "Epoch 15/40\n",
      "896/896 [==============================] - 1s 752us/step - loss: 25270272.0000 - mae: 3021.2961\n",
      "Epoch 16/40\n",
      "896/896 [==============================] - 1s 734us/step - loss: 24699210.0000 - mae: 3051.3215\n",
      "Epoch 17/40\n",
      "896/896 [==============================] - 1s 723us/step - loss: 25402398.0000 - mae: 3012.2576\n",
      "Epoch 18/40\n",
      "896/896 [==============================] - 1s 724us/step - loss: 25046042.0000 - mae: 3029.0022\n",
      "Epoch 19/40\n",
      "896/896 [==============================] - 1s 725us/step - loss: 24879228.0000 - mae: 3009.8965\n",
      "Epoch 20/40\n",
      "896/896 [==============================] - 1s 802us/step - loss: 24801066.0000 - mae: 3032.3157\n",
      "Epoch 21/40\n",
      "896/896 [==============================] - 1s 771us/step - loss: 24124182.0000 - mae: 2898.1296\n",
      "Epoch 22/40\n",
      "896/896 [==============================] - 1s 783us/step - loss: 24396834.0000 - mae: 2984.4465\n",
      "Epoch 23/40\n",
      "896/896 [==============================] - 1s 750us/step - loss: 24357374.0000 - mae: 2964.1252\n",
      "Epoch 24/40\n",
      "896/896 [==============================] - 1s 735us/step - loss: 23900644.0000 - mae: 2871.5369\n",
      "Epoch 25/40\n",
      "896/896 [==============================] - 1s 730us/step - loss: 23443130.0000 - mae: 2888.9861\n",
      "Epoch 26/40\n",
      "896/896 [==============================] - 1s 734us/step - loss: 23495750.0000 - mae: 2930.9585\n",
      "Epoch 27/40\n",
      "896/896 [==============================] - 1s 729us/step - loss: 23563554.0000 - mae: 2911.0823\n",
      "Epoch 28/40\n",
      "896/896 [==============================] - 1s 789us/step - loss: 23262700.0000 - mae: 2847.6523\n",
      "Epoch 29/40\n",
      "896/896 [==============================] - 1s 752us/step - loss: 23228110.0000 - mae: 2882.7693\n",
      "Epoch 30/40\n",
      "896/896 [==============================] - 1s 757us/step - loss: 23114980.0000 - mae: 2821.5466\n",
      "Epoch 31/40\n",
      "896/896 [==============================] - 1s 748us/step - loss: 22861804.0000 - mae: 2876.6362\n",
      "Epoch 32/40\n",
      "896/896 [==============================] - 1s 744us/step - loss: 22491818.0000 - mae: 2754.2332\n",
      "Epoch 33/40\n",
      "896/896 [==============================] - 1s 754us/step - loss: 22424422.0000 - mae: 2740.8606\n",
      "Epoch 34/40\n",
      "896/896 [==============================] - 1s 766us/step - loss: 22270578.0000 - mae: 2825.5386\n",
      "Epoch 35/40\n",
      "896/896 [==============================] - 1s 763us/step - loss: 22165684.0000 - mae: 2770.9534\n",
      "Epoch 36/40\n",
      "896/896 [==============================] - 1s 723us/step - loss: 21840614.0000 - mae: 2669.5200\n",
      "Epoch 37/40\n",
      "896/896 [==============================] - 1s 722us/step - loss: 22101328.0000 - mae: 2773.2507\n",
      "Epoch 38/40\n",
      "896/896 [==============================] - 1s 741us/step - loss: 21805168.0000 - mae: 2679.4937\n",
      "Epoch 39/40\n",
      "896/896 [==============================] - 1s 738us/step - loss: 21920642.0000 - mae: 2716.1301\n",
      "Epoch 40/40\n",
      "896/896 [==============================] - 1s 745us/step - loss: 21742174.0000 - mae: 2726.9084\n"
     ]
    },
    {
     "data": {
      "text/plain": [
       "<keras.callbacks.History at 0x1e4ba710cd0>"
      ]
     },
     "execution_count": 57,
     "metadata": {},
     "output_type": "execute_result"
    }
   ],
   "source": [
    "model_regr.fit(x_train, y_train, epochs=40, batch_size=1, verbose=1)"
   ]
  },
  {
   "cell_type": "code",
   "execution_count": 58,
   "id": "3f251a72",
   "metadata": {},
   "outputs": [
    {
     "name": "stdout",
     "output_type": "stream",
     "text": [
      "14/14 [==============================] - 0s 846us/step - loss: 20192246.0000 - mae: 2340.3699\n"
     ]
    }
   ],
   "source": [
    "val_mse, val_mae = model_regr.evaluate(x_test, y_test, verbose = 1)"
   ]
  },
  {
   "cell_type": "code",
   "execution_count": null,
   "id": "0acfc69e",
   "metadata": {},
   "outputs": [],
   "source": []
  },
  {
   "cell_type": "code",
   "execution_count": null,
   "id": "eb8651bf",
   "metadata": {},
   "outputs": [],
   "source": []
  },
  {
   "cell_type": "code",
   "execution_count": null,
   "id": "ab93e9c5",
   "metadata": {},
   "outputs": [],
   "source": []
  },
  {
   "cell_type": "code",
   "execution_count": null,
   "id": "c5560675",
   "metadata": {},
   "outputs": [],
   "source": []
  },
  {
   "cell_type": "code",
   "execution_count": null,
   "id": "c12c53b0",
   "metadata": {},
   "outputs": [],
   "source": []
  },
  {
   "cell_type": "code",
   "execution_count": null,
   "id": "1fcc50e9",
   "metadata": {},
   "outputs": [],
   "source": []
  },
  {
   "cell_type": "markdown",
   "id": "2a9d9674",
   "metadata": {},
   "source": [
    "### Summary\n",
    "\n",
    "\n",
    "1. Preparing the data for learning:\n",
    "2. separating features from labels using array slicing\n",
    "3. determining the shape of your data\n",
    "4. preprocessing the categorical variables using one-hot encoding\n",
    "5. splitting the data into training and test sets\n",
    "6. scaling the numerical features\n",
    "7. Designing a Sequential model by chaining InputLayer() and the tf.keras.layers.Dense layers. InputLayer() was used as a placeholder for the input data. The output layer in this case needed one neuron since we need a prediction of a single value in the regression. And finally, hidden layers were added with the relu activation function to handle complex dependencies in the data.\n",
    "8. Choosing an optimizer using keras.optimizers with a specific learning rate hyperparameter.\n",
    "9. Training the model - using model.fit() to train the model on the training data and training labels.\n",
    "10. Setting the values for the learning hyperparameters: number of epochs and batch sizes.\n",
    "11. Evaluating the model using model.evaluate() on the test data.\n",
    "\n",
    "You might be wondering, what do I do with the plethora of hyperparameters? Or why if I use different random states I receive different results? Plus, how I can guarantee that my good performance isn’t just good luck?\n",
    "\n",
    "And you are right! This is not the full story. In machine learning, we tweak the hyperparameters using a better evaluation methodology — something we’ll cover next."
   ]
  }
 ],
 "metadata": {
  "kernelspec": {
   "display_name": "Python 3 (ipykernel)",
   "language": "python",
   "name": "python3"
  },
  "language_info": {
   "codemirror_mode": {
    "name": "ipython",
    "version": 3
   },
   "file_extension": ".py",
   "mimetype": "text/x-python",
   "name": "python",
   "nbconvert_exporter": "python",
   "pygments_lexer": "ipython3",
   "version": "3.8.5"
  }
 },
 "nbformat": 4,
 "nbformat_minor": 5
}
