{
 "cells": [
  {
   "cell_type": "markdown",
   "metadata": {},
   "source": [
    "### One T Test Hypothesis Testing"
   ]
  },
  {
   "cell_type": "markdown",
   "metadata": {},
   "source": [
    "\n",
    "Comparing a <font color='red'> sample average </font> to a hypothetical population average"
   ]
  },
  {
   "cell_type": "markdown",
   "metadata": {},
   "source": [
    "Example # 1\n",
    "\n",
    "Suppose that a product manager `wants online BuyPie orders to cost around 1000 Rupees on average`. In the past day, 50 people made an online purchase and the `average payment per order was less than 1000 Rupees(980)`. \n",
    "\n",
    "Are people really spending less than 1000 Rupees on average? \n",
    "\n",
    "Or is this the result of chance and a small sample size?\n"
   ]
  },
  {
   "cell_type": "markdown",
   "metadata": {},
   "source": [
    "`• Null: The average cost of a BuyPie order is 1000 Rupees`\n",
    "\n",
    "`• Alternative: The average cost of a BuyPie order is not 1000 Rupees.`\n",
    "<font color=\"red\"> is not 1000 Rupees(Two tail Test/ 2 side P-value)</font>\n"
   ]
  },
  {
   "cell_type": "code",
   "execution_count": 1,
   "metadata": {},
   "outputs": [],
   "source": [
    "import numpy as np\n",
    "from scipy.stats import ttest_1samp\n",
    "import matplotlib.pyplot as plt\n",
    "# import seaborn as sns\n"
   ]
  },
  {
   "cell_type": "markdown",
   "metadata": {},
   "source": [
    "`Printing then mean for the past day`"
   ]
  },
  {
   "cell_type": "code",
   "execution_count": 5,
   "metadata": {},
   "outputs": [
    {
     "name": "stdout",
     "output_type": "stream",
     "text": [
      "980.0\n"
     ]
    },
    {
     "data": {
      "text/plain": [
       "array([ 978., 1080.,  999.,  855., 1105.,  961.,  899., 1061.,  880.,\n",
       "       1455.,  505.,  936., 1024.,  982.,  840.,  930.,  829.,  504.,\n",
       "        955., 1380., 1361., 1130.,  946.,  973., 1076., 1131.,  810.,\n",
       "        734., 1275.,  867.,  962.,  865.,  709., 1216.,  735.,  768.,\n",
       "        757., 1060.,  715.,  839.,  999., 1259., 1194., 1082., 1129.,\n",
       "       1255.,  931., 1236.,  921.,  907.])"
      ]
     },
     "execution_count": 5,
     "metadata": {},
     "output_type": "execute_result"
    }
   ],
   "source": [
    "prices = np.genfromtxt(\"prices.csv\")\n",
    "prices_mean = np.mean(prices)\n",
    "print(prices_mean)\n",
    "prices"
   ]
  },
  {
   "cell_type": "code",
   "execution_count": 4,
   "metadata": {},
   "outputs": [
    {
     "data": {
      "text/plain": [
       "0.4920744804182786"
      ]
     },
     "execution_count": 4,
     "metadata": {},
     "output_type": "execute_result"
    }
   ],
   "source": [
    "# use ttest_1samp to calculate pval\n",
    "# The function uses your sample distribution to determine the sample size and estimate the amount of variation in the population\n",
    "# It will compute the sample mean(prices avg last week) vs our asumption mean which is 1000.\n",
    "# Auto create a simulated hypothesis and get its mean value then compare it to our sample mean.\n",
    "tstat, pval = ttest_1samp(prices, 1000  )\n",
    "pval"
   ]
  },
  {
   "cell_type": "markdown",
   "metadata": {},
   "source": [
    "`Ploting a histogram of prices and check whether the values are (approximately) normally distributed`"
   ]
  },
  {
   "cell_type": "code",
   "execution_count": 6,
   "metadata": {},
   "outputs": [
    {
     "data": {
      "image/png": "[encoded data removed]",
      "text/plain": [
       "<Figure size 432x288 with 1 Axes>"
      ]
     },
     "metadata": {
      "needs_background": "light"
     },
     "output_type": "display_data"
    }
   ],
   "source": [
    "plt.hist(prices)\n",
    "plt.show()"
   ]
  },
  {
   "cell_type": "markdown",
   "metadata": {},
   "source": [
    "# Conclusion:"
   ]
  },
  {
   "cell_type": "markdown",
   "metadata": {},
   "source": [
    "Our P-val of 49% (greater than 5%) says that we should accept our null hypothesis. \n",
    "\n",
    "There is no significant different between our sample mean and our assumption mean thus the average of 980.00 is just happened by chance."
   ]
  }
 ],
 "metadata": {
  "kernelspec": {
   "display_name": "Python 3 (ipykernel)",
   "language": "python",
   "name": "python3"
  },
  "language_info": {
   "codemirror_mode": {
    "name": "ipython",
    "version": 3
   },
   "file_extension": ".py",
   "mimetype": "text/x-python",
   "name": "python",
   "nbconvert_exporter": "python",
   "pygments_lexer": "ipython3",
   "version": "3.8.13"
  }
 },
 "nbformat": 4,
 "nbformat_minor": 4
}
