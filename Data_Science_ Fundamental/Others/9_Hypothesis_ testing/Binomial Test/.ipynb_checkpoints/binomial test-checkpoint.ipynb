{
 "cells": [
  {
   "cell_type": "markdown",
   "metadata": {},
   "source": [
    "## BINOMIAL TEST\n",
    "Used for <font color='red'>Binary Categorical Data</font> to compare a <font color='red'> sample frequency </font> to an expected population-level probability"
   ]
  },
  {
   "cell_type": "markdown",
   "metadata": {},
   "source": [
    "Example:\n",
    "\n",
    "Live-it-LIVE.com — a website that sells all the necessary props and costumes to recreate iconic movie scenes at home!\t\t\n",
    "The marketing department at Live-it-LIVE reports that, during this time of year, `about 10% of visitors` to Live-it-LIVE.com make a purchase.\t\t\t\t\t\t\n",
    "\t\t\t\t\t\t\n",
    "The monthly report shows every visitor to the site and whether or not they made a purchase. The checkout page had a small bug this month, so the business department `wants to know whether the purchase rate dipped below expectation`. They’ve asked us to investigate this question.\t\t\t\t\t\t\n",
    "\t\t\t\t\t\t\n",
    "In order to run a hypothesis test to address this, we’ll first need to know two things from the data:\t\n",
    "\n",
    "1. The number of people who visited the website\t\t\t\t\t\t\n",
    "2. The number of people who made a purchase on the website\t\t\t\t\t\t\n"
   ]
  },
  {
   "cell_type": "markdown",
   "metadata": {},
   "source": [
    " • `Null:` We observed that only 41 visitors (8.2%) out of 500 made a purchase. This is below our expected 10%. but this is only happened by chance and there's is no significant difference.\n",
    "\n",
    " • `Alternative:` Visitor making a purchase was not 10%. Significantly different.\n"
   ]
  },
  {
   "cell_type": "code",
   "execution_count": 3,
   "metadata": {},
   "outputs": [
    {
     "data": {
      "text/html": [
       "<div>\n",
       "<style scoped>\n",
       "    .dataframe tbody tr th:only-of-type {\n",
       "        vertical-align: middle;\n",
       "    }\n",
       "\n",
       "    .dataframe tbody tr th {\n",
       "        vertical-align: top;\n",
       "    }\n",
       "\n",
       "    .dataframe thead th {\n",
       "        text-align: right;\n",
       "    }\n",
       "</style>\n",
       "<table border=\"1\" class=\"dataframe\">\n",
       "  <thead>\n",
       "    <tr style=\"text-align: right;\">\n",
       "      <th></th>\n",
       "      <th>timestamp</th>\n",
       "      <th>purchase</th>\n",
       "      <th>item</th>\n",
       "    </tr>\n",
       "  </thead>\n",
       "  <tbody>\n",
       "    <tr>\n",
       "      <th>0</th>\n",
       "      <td>2020-01-17 17:23:06</td>\n",
       "      <td>y</td>\n",
       "      <td>cue cards - love actually</td>\n",
       "    </tr>\n",
       "    <tr>\n",
       "      <th>1</th>\n",
       "      <td>2020-01-25 17:09:39</td>\n",
       "      <td>n</td>\n",
       "      <td>NaN</td>\n",
       "    </tr>\n",
       "    <tr>\n",
       "      <th>2</th>\n",
       "      <td>2020-01-25 05:22:01</td>\n",
       "      <td>n</td>\n",
       "      <td>NaN</td>\n",
       "    </tr>\n",
       "    <tr>\n",
       "      <th>3</th>\n",
       "      <td>2020-01-18 04:33:40</td>\n",
       "      <td>y</td>\n",
       "      <td>t-rex - jurassic park</td>\n",
       "    </tr>\n",
       "    <tr>\n",
       "      <th>4</th>\n",
       "      <td>2020-01-24 17:24:52</td>\n",
       "      <td>n</td>\n",
       "      <td>NaN</td>\n",
       "    </tr>\n",
       "  </tbody>\n",
       "</table>\n",
       "</div>"
      ],
      "text/plain": [
       "             timestamp purchase                       item\n",
       "0  2020-01-17 17:23:06        y  cue cards - love actually\n",
       "1  2020-01-25 17:09:39        n                        NaN\n",
       "2  2020-01-25 05:22:01        n                        NaN\n",
       "3  2020-01-18 04:33:40        y      t-rex - jurassic park\n",
       "4  2020-01-24 17:24:52        n                        NaN"
      ]
     },
     "execution_count": 3,
     "metadata": {},
     "output_type": "execute_result"
    }
   ],
   "source": [
    "import pandas as pd\n",
    "import numpy as np\n",
    "import matplotlib.pyplot as plt\n",
    "\n",
    "monthly_report = pd.read_csv('monthly_report.csv')\n",
    "monthly_report.head()"
   ]
  },
  {
   "cell_type": "code",
   "execution_count": 4,
   "metadata": {},
   "outputs": [
    {
     "data": {
      "text/plain": [
       "array(['y', 'n'], dtype=object)"
      ]
     },
     "execution_count": 4,
     "metadata": {},
     "output_type": "execute_result"
    }
   ],
   "source": [
    "monthly_report.purchase.unique()"
   ]
  },
  {
   "cell_type": "markdown",
   "metadata": {},
   "source": [
    "### `Checking the number of people who visited the website`"
   ]
  },
  {
   "cell_type": "code",
   "execution_count": 48,
   "metadata": {},
   "outputs": [
    {
     "data": {
      "text/plain": [
       "500"
      ]
     },
     "execution_count": 48,
     "metadata": {},
     "output_type": "execute_result"
    }
   ],
   "source": [
    "num_visit = len(monthly_report)\n",
    "num_visit"
   ]
  },
  {
   "cell_type": "markdown",
   "metadata": {},
   "source": [
    "### `Checking the number of people who made a purchase on the website`"
   ]
  },
  {
   "cell_type": "code",
   "execution_count": 49,
   "metadata": {},
   "outputs": [
    {
     "data": {
      "text/plain": [
       "41"
      ]
     },
     "execution_count": 49,
     "metadata": {},
     "output_type": "execute_result"
    }
   ],
   "source": [
    "num_purchased = np.sum(monthly_report.purchase == 'y')\n",
    "num_purchased"
   ]
  },
  {
   "cell_type": "markdown",
   "metadata": {},
   "source": [
    "## Creating a simulation to test out hypothesis"
   ]
  },
  {
   "cell_type": "markdown",
   "metadata": {},
   "source": [
    "### We simulate a 500 sample population and list down the number of who made a purchase. 10% is encoded to get a y (yes). Repeat this 10000 times.  Put the result in a list\n",
    "\n",
    "Example.\n",
    "\n",
    "trial 1 = 49 made a purchase\n",
    "\n",
    "trial 2 = 70 made a purchase\n",
    "\n",
    "and so on...\n",
    "list = [49,70,....]"
   ]
  },
  {
   "cell_type": "code",
   "execution_count": 29,
   "metadata": {},
   "outputs": [
    {
     "data": {
      "text/plain": [
       "[59, 64, 44, 45, 66, 45, 65, 57, 46, 44]"
      ]
     },
     "execution_count": 29,
     "metadata": {},
     "output_type": "execute_result"
    }
   ],
   "source": [
    "# null_outcomes, this is a list of all visitors who made a purchase ('y') \n",
    "null_outcomes = []\n",
    "\n",
    "# We use random.choise between 'y' and 'n' with 10% probability of getting a 'y'.\n",
    "# our sample size is 500 (simulated visitors)\n",
    "# repeat this 10000 times\n",
    "for i in range(10000):\n",
    "  simulated_monthly_visitors = np.random.choice(['y', 'n'], size=500, p=[0.1, 0.9])\n",
    "  num_purchased = np.sum(simulated_monthly_visitors == 'y')\n",
    "  null_outcomes.append(num_purchased)\n",
    "\n",
    "# Showing the first 10 results\n",
    "null_outcomes[0:10]"
   ]
  },
  {
   "cell_type": "markdown",
   "metadata": {},
   "source": [
    "## Inspecting the Null Distribution"
   ]
  },
  {
   "cell_type": "code",
   "execution_count": 30,
   "metadata": {},
   "outputs": [
    {
     "data": {
      "text/plain": [
       "75"
      ]
     },
     "execution_count": 30,
     "metadata": {},
     "output_type": "execute_result"
    }
   ],
   "source": [
    "#calculate the minimum and maximum values in null_outcomes\n",
    "null_max = np.max(null_outcomes)\n",
    "null_max"
   ]
  },
  {
   "cell_type": "code",
   "execution_count": 31,
   "metadata": {},
   "outputs": [
    {
     "data": {
      "text/plain": [
       "26"
      ]
     },
     "execution_count": 31,
     "metadata": {},
     "output_type": "execute_result"
    }
   ],
   "source": [
    "null_min = np.min(null_outcomes)\n",
    "null_min"
   ]
  },
  {
   "cell_type": "code",
   "execution_count": 32,
   "metadata": {},
   "outputs": [
    {
     "data": {
      "image/png": "[encoded data removed]",
      "text/plain": [
       "<Figure size 432x288 with 1 Axes>"
      ]
     },
     "metadata": {
      "needs_background": "light"
     },
     "output_type": "display_data"
    }
   ],
   "source": [
    "# our observed num_purchased is 41 vs our null outcomes\n",
    "plt.hist(null_outcomes)\n",
    "plt.axvline(41, color = 'r')\n",
    "plt.show()"
   ]
  },
  {
   "cell_type": "markdown",
   "metadata": {},
   "source": [
    "## Confidence Intervals (95%)"
   ]
  },
  {
   "cell_type": "code",
   "execution_count": 33,
   "metadata": {},
   "outputs": [
    {
     "data": {
      "text/plain": [
       "array([37., 63.])"
      ]
     },
     "execution_count": 33,
     "metadata": {},
     "output_type": "execute_result"
    }
   ],
   "source": [
    "# we subract the remaining 5% from both side of our null outcomes distributuin\n",
    "np.percentile(null_outcomes, [2.5,97.5])"
   ]
  },
  {
   "cell_type": "markdown",
   "metadata": {},
   "source": [
    "With 95% Confidence Interval our frequency should be in between 37 and 63, We got observed purchase of 41. "
   ]
  },
  {
   "cell_type": "markdown",
   "metadata": {},
   "source": [
    "# Conclusion:"
   ]
  },
  {
   "cell_type": "markdown",
   "metadata": {},
   "source": [
    "We are 95% confident that if each visitor has a 10% chance of making a purchase, a random sample of 500 visitors will make between 37 and 63 purchases. There is no significant diference and we will accept our null hypothesis. \n"
   ]
  },
  {
   "cell_type": "markdown",
   "metadata": {},
   "source": [
    "### Extra's"
   ]
  },
  {
   "cell_type": "markdown",
   "metadata": {},
   "source": [
    " <font color='red'> One-Sided P-Value </font>"
   ]
  },
  {
   "cell_type": "markdown",
   "metadata": {},
   "source": [
    "We estimated that the probability of observing 41 or fewer purchase is about 9.82%."
   ]
  },
  {
   "cell_type": "markdown",
   "metadata": {},
   "source": [
    "`calculating the proportion of values in null_outcomes that are less than or equal to 41`"
   ]
  },
  {
   "cell_type": "code",
   "execution_count": 43,
   "metadata": {},
   "outputs": [
    {
     "data": {
      "text/plain": [
       "9.82"
      ]
     },
     "execution_count": 43,
     "metadata": {},
     "output_type": "execute_result"
    }
   ],
   "source": [
    "# Turn into array\n",
    "null_outcomes = np.array(null_outcomes)\n",
    "p_one_value = np.sum(null_outcomes <= 41) / len(null_outcomes)\n",
    "p_one_value * 100"
   ]
  },
  {
   "cell_type": "markdown",
   "metadata": {},
   "source": [
    "How about observation of buying less than 37? Higher than 63?"
   ]
  },
  {
   "cell_type": "markdown",
   "metadata": {},
   "source": [
    "We estimated that the probability of observing fewer 37 purchase is about 1.76% and 2.22% for higher than 63."
   ]
  },
  {
   "cell_type": "code",
   "execution_count": 57,
   "metadata": {},
   "outputs": [
    {
     "data": {
      "text/plain": [
       "1.76"
      ]
     },
     "execution_count": 57,
     "metadata": {},
     "output_type": "execute_result"
    }
   ],
   "source": [
    "p_one_value_37 = np.sum(null_outcomes < 37) / len(null_outcomes)\n",
    "p_one_value_37 * 100"
   ]
  },
  {
   "cell_type": "code",
   "execution_count": 59,
   "metadata": {},
   "outputs": [
    {
     "data": {
      "text/plain": [
       "2.22"
      ]
     },
     "execution_count": 59,
     "metadata": {},
     "output_type": "execute_result"
    }
   ],
   "source": [
    "p_one_value_63 = np.sum(null_outcomes > 63) / len(null_outcomes)\n",
    "p_one_value_63 * 100"
   ]
  },
  {
   "cell_type": "markdown",
   "metadata": {},
   "source": [
    " <font color='red'> Two-Sided P-Value </font>"
   ]
  },
  {
   "cell_type": "markdown",
   "metadata": {},
   "source": [
    "Remember that our expected frequency is 10% of 500 samples which is 50."
   ]
  },
  {
   "cell_type": "code",
   "execution_count": 66,
   "metadata": {},
   "outputs": [
    {
     "data": {
      "text/plain": [
       "20.349999999999998"
      ]
     },
     "execution_count": 66,
     "metadata": {},
     "output_type": "execute_result"
    }
   ],
   "source": [
    "# Our expectation frequency is 50 and obrserved frequency is 41, 50-41 is 9(difference from left). \n",
    "# We need to add another 9 from 41 to get the value from right side of the distribution. We will get 59\n",
    "p_two_value = np.sum((null_outcomes <= 41) | (null_outcomes >= 59))/len(null_outcomes)\n",
    "p_two_value * 100"
   ]
  },
  {
   "cell_type": "markdown",
   "metadata": {},
   "source": [
    "\n",
    " <font color='red'> Using binom_test function from scipy.stats</font>\n"
   ]
  },
  {
   "cell_type": "markdown",
   "metadata": {},
   "source": [
    "Compare this result from the above one and two P-value computation."
   ]
  },
  {
   "cell_type": "code",
   "execution_count": 67,
   "metadata": {},
   "outputs": [],
   "source": [
    "from scipy.stats import binom_test"
   ]
  },
  {
   "cell_type": "code",
   "execution_count": 69,
   "metadata": {},
   "outputs": [
    {
     "data": {
      "text/plain": [
       "20.45639770067831"
      ]
     },
     "execution_count": 69,
     "metadata": {},
     "output_type": "execute_result"
    }
   ],
   "source": [
    "p_value_2sided = binom_test(41, n=500, p=0.1, alternative='two-sided')\n",
    "p_value_2sided * 100"
   ]
  },
  {
   "cell_type": "code",
   "execution_count": 70,
   "metadata": {},
   "outputs": [
    {
     "data": {
      "text/plain": [
       "10.011352697564881"
      ]
     },
     "execution_count": 70,
     "metadata": {},
     "output_type": "execute_result"
    }
   ],
   "source": [
    "p_value_1sided = binom_test(41, n=500, p=0.1, alternative = 'less')\n",
    "p_value_1sided * 100"
   ]
  },
  {
   "cell_type": "markdown",
   "metadata": {},
   "source": [
    "# Important Reminder:\n",
    "\n",
    "`All hypothesis tests start with a null and alternative hypothesis`\n",
    "\n",
    "`Outcomes of a hypothesis test that might be reported include:`\n",
    "\n",
    " - `confidence intervals`\n",
    " - `p-values`\n",
    " \n",
    "`A hypothesis test can be simulated by:`\n",
    "\n",
    " - `taking repeated random samples where the null hypothesis is assumed to be true\n",
    "    using those simulated samples to generate a null distribution`\n",
    " - `comparing an observed sample statistic to that null distribution`"
   ]
  }
 ],
 "metadata": {
  "kernelspec": {
   "display_name": "Python 3",
   "language": "python",
   "name": "python3"
  },
  "language_info": {
   "codemirror_mode": {
    "name": "ipython",
    "version": 3
   },
   "file_extension": ".py",
   "mimetype": "text/x-python",
   "name": "python",
   "nbconvert_exporter": "python",
   "pygments_lexer": "ipython3",
   "version": "3.8.5"
  }
 },
 "nbformat": 4,
 "nbformat_minor": 4
}
