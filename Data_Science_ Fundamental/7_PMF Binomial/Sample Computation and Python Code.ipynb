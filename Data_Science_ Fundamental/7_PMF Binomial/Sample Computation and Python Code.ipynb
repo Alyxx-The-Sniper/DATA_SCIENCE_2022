{
 "cells": [
  {
   "cell_type": "markdown",
   "metadata": {},
   "source": [
    "## `Probability Mass Distribution (PMF)`\n",
    "\n"
   ]
  },
  {
   "cell_type": "markdown",
   "metadata": {},
   "source": [
    "(Binomial Distribution)"
   ]
  },
  {
   "cell_type": "markdown",
   "metadata": {},
   "source": [
    "Condition:\n",
    "\n",
    "1.\n",
    "2\n",
    "3\n",
    "4\n",
    "\n",
    "\n"
   ]
  },
  {
   "cell_type": "markdown",
   "metadata": {},
   "source": [
    "## `Sample #1` \n",
    " - We want to calculate the probability of testing 3 persons positive with COVID in a population of 10 persons. Let say the success rate of testing is 50%.\n",
    " - `50% because our choises are Positive or Negative only`"
   ]
  },
  {
   "cell_type": "raw",
   "metadata": {},
   "source": [
    "Formula:\n",
    "P(x) =    n!   \n",
    "       ________  p^x  q^n-x\n",
    "       (n-x)!x!"
   ]
  },
  {
   "cell_type": "raw",
   "metadata": {},
   "source": [
    "x = 3   (3 persons positive with COVID, something we want to observed)\n",
    "n = 10  (population of 10 persons, number of trials)\n",
    "p = 0.5 (success rate)\n",
    "q = 0.5 (fairlure rate\n",
    "\n",
    "note:\n",
    "q = 1 - p (if we sum of these 2 it always equal to 1)\n",
    "q = 1 - 0.5\n",
    "q = 0.5"
   ]
  },
  {
   "cell_type": "markdown",
   "metadata": {},
   "source": [
    "P(3) =   10*9*8*7*6*5*4*3*2*1  \n",
    "       _______________________   0.5^3   0.5^(10-3)\n",
    "            (10-3)! 3! "
   ]
  },
  {
   "cell_type": "markdown",
   "metadata": {},
   "source": [
    "     =       3628800\n",
    "       _______________________   0.125   0.0078125\n",
    "              30240\n",
    "            \n",
    "     "
   ]
  },
  {
   "cell_type": "markdown",
   "metadata": {},
   "source": [
    "    =  (120) (0.125) (0.0078125)"
   ]
  },
  {
   "cell_type": "markdown",
   "metadata": {},
   "source": [
    "### `P(3) = 0.1171875`"
   ]
  },
  {
   "cell_type": "markdown",
   "metadata": {},
   "source": [
    "#### `There is 11.72% that we can have 3 positive results over 10 population given that we have 50% chance on testing.`\n"
   ]
  },
  {
   "cell_type": "markdown",
   "metadata": {},
   "source": []
  },
  {
   "cell_type": "markdown",
   "metadata": {},
   "source": []
  },
  {
   "cell_type": "markdown",
   "metadata": {},
   "source": []
  },
  {
   "cell_type": "markdown",
   "metadata": {},
   "source": [
    "## `Sample #2`\n",
    "\n",
    "- We have a Quiz, a 1-10 question with multiple choises of A,B,C,D. Supposed that we dont know the answer to these questions and we will only take a quess answering. What is the probability of getting a passing score of 6?\n",
    "\n",
    "- `Our success rate for this is p=25%, because we have 4 choises making it 1/4.`"
   ]
  },
  {
   "cell_type": "raw",
   "metadata": {},
   "source": [
    "x = 6   \n",
    "n = 10  \n",
    "p = 0.25\n",
    "q = 0.75 "
   ]
  },
  {
   "cell_type": "raw",
   "metadata": {},
   "source": [
    "P(6) =          10!  \n",
    "       _______________________   0.25^6   0.75^(10-6)\n",
    "            (10-6)! 6! "
   ]
  },
  {
   "cell_type": "markdown",
   "metadata": {},
   "source": [
    "     =       3628800\n",
    "       _______________________   0.00024414062  0.31640625\n",
    "              17280\n",
    "            \n",
    "     "
   ]
  },
  {
   "cell_type": "markdown",
   "metadata": {},
   "source": [
    "    =  (210) (0.00024414062) (0.31640625)"
   ]
  },
  {
   "cell_type": "markdown",
   "metadata": {},
   "source": [
    "### `P(3) = 0.01622200012`"
   ]
  },
  {
   "cell_type": "markdown",
   "metadata": {},
   "source": [
    "#### `There is 1.62% that we can get 6 scores correctly over 10 questions that has 4 multiple choises`"
   ]
  },
  {
   "cell_type": "markdown",
   "metadata": {},
   "source": []
  },
  {
   "cell_type": "markdown",
   "metadata": {},
   "source": [
    "# Code in Python"
   ]
  },
  {
   "cell_type": "raw",
   "metadata": {},
   "source": [
    "import scipy.stats as stats\n",
    "\n",
    "# value of interest\n",
    "x = 6\n",
    "\n",
    "# sample size\n",
    "# change this\n",
    "# number of trial\n",
    "n = 10\n",
    "\n",
    "# success rate\n",
    "p = 0.5\n",
    "\n",
    "# calculate probability\n",
    "prob_1 = stats.binom.pmf(x, n, p)\n",
    "print(prob_1)\n"
   ]
  },
  {
   "cell_type": "raw",
   "metadata": {},
   "source": [
    "import scipy.stats as stats\t\n",
    "\t\n",
    "# probability of observing between 4 to 6 heads from 10 coin flips\t\n",
    "a =  stats.binom.pmf(4, n=10, p=0.5)\t\n",
    "b =  stats.binom.pmf(5, n=10, p=0.5)\t\n",
    "c =  stats.binom.pmf(6, n=10, p=0.5)\t\n",
    "prob_1 = a + b + c \t\n",
    "print(prob_1)\t\n",
    "\t\n",
    "\t\n",
    "#Use the 1 minus the sum of some values of stats.binom.pmf() method to set prob_2 to the probability \t\n",
    "of observing more than 2 heads from 10 coin flips.\t\n",
    "more_than_equal_two = [0,1,2]\t\n",
    "d = stats.binom.pmf(0, n=10, p=0.5)\t\n",
    "e = stats.binom.pmf(1, n=10, p=0.5)\t\n",
    "f = stats.binom.pmf(2, n=10, p=0.5)\t\n",
    "d_e_f = d + e + f \t\n",
    "\t\n",
    "prob_2 = 1 - d_e_f\t\n",
    "print(prob_2)\t\n"
   ]
  },
  {
   "cell_type": "code",
   "execution_count": null,
   "metadata": {},
   "outputs": [],
   "source": []
  },
  {
   "cell_type": "code",
   "execution_count": null,
   "metadata": {},
   "outputs": [],
   "source": []
  },
  {
   "cell_type": "code",
   "execution_count": null,
   "metadata": {},
   "outputs": [],
   "source": []
  },
  {
   "cell_type": "code",
   "execution_count": null,
   "metadata": {},
   "outputs": [],
   "source": []
  },
  {
   "cell_type": "code",
   "execution_count": null,
   "metadata": {},
   "outputs": [],
   "source": []
  },
  {
   "cell_type": "code",
   "execution_count": null,
   "metadata": {},
   "outputs": [],
   "source": []
  }
 ],
 "metadata": {
  "kernelspec": {
   "display_name": "Python 3",
   "language": "python",
   "name": "python3"
  },
  "language_info": {
   "codemirror_mode": {
    "name": "ipython",
    "version": 3
   },
   "file_extension": ".py",
   "mimetype": "text/x-python",
   "name": "python",
   "nbconvert_exporter": "python",
   "pygments_lexer": "ipython3",
   "version": "3.8.5"
  }
 },
 "nbformat": 4,
 "nbformat_minor": 4
}
