{
 "cells": [
  {
   "cell_type": "markdown",
   "metadata": {},
   "source": [
    "# Baye's Theorem \n",
    "\n"
   ]
  },
  {
   "cell_type": "markdown",
   "metadata": {},
   "source": [
    "Example#1"
   ]
  },
  {
   "cell_type": "markdown",
   "metadata": {},
   "source": [
    "A particular study showed that 12% of men will likey develop prostate cancer at some point of their lives. A man with prostate cancer has a 95% chance of a positive result from a medical screening exam. A man without prostate cancer has a 6% chance of getting a false positive result."
   ]
  },
  {
   "cell_type": "markdown",
   "metadata": {},
   "source": [
    "### Q1\n",
    "What is the probability that a man has prostate cancer given that he has a positive result?"
   ]
  },
  {
   "cell_type": "markdown",
   "metadata": {},
   "source": [
    "`p(PC|+)` = probability of prostate cancer given tested positive"
   ]
  },
  {
   "attachments": {
    "100.png": {
     "image/png": "[encoded data removed]"
    }
   },
   "cell_type": "markdown",
   "metadata": {},
   "source": [
    "![100.png](attachment:100.png)"
   ]
  },
  {
   "cell_type": "raw",
   "metadata": {},
   "source": [
    "Bayes Formula:\n",
    "\n",
    "P(B∣A)=   P(A∣B) *  P(A) \n",
    "         ________________\n",
    "             P(B)"
   ]
  },
  {
   "cell_type": "markdown",
   "metadata": {},
   "source": [
    "It is important to note that on the right side of the equation, we have the term P(B|A). This is the probability that event B will happen given that event A has already happened. This is very different from P(A|B), which is the probability we are trying to solve for. The order matters!"
   ]
  },
  {
   "cell_type": "raw",
   "metadata": {},
   "source": [
    "Using baye's formula:\n",
    "\n",
    "p(PC|+) =    p(PC) * p(+|PC)\n",
    "            _________________\n",
    "                p(+)"
   ]
  },
  {
   "cell_type": "markdown",
   "metadata": {},
   "source": [
    "        =    .12  * .95\n",
    "            ____________\n",
    "                p(+)"
   ]
  },
  {
   "cell_type": "markdown",
   "metadata": {},
   "source": [
    "        =      .114\n",
    "            ____________\n",
    "                p(+)"
   ]
  },
  {
   "cell_type": "markdown",
   "metadata": {},
   "source": [
    "`Lets get the p(+)`\n",
    "It is the sum of p(PC and +) and p(No PC and +)\n"
   ]
  },
  {
   "cell_type": "raw",
   "metadata": {},
   "source": [
    "p(+) = p(PC and +)  +   p(No PC and +)\n",
    "     = .114 + .0528\n",
    "     = .1668"
   ]
  },
  {
   "cell_type": "markdown",
   "metadata": {},
   "source": [
    "`Now we have p(+), lets continue our baye's formula`"
   ]
  },
  {
   "cell_type": "markdown",
   "metadata": {},
   "source": [
    "        =      .114\n",
    "            ____________\n",
    "               .1668"
   ]
  },
  {
   "cell_type": "markdown",
   "metadata": {},
   "source": [
    "### `p(PC|+) =  0.6834`"
   ]
  },
  {
   "cell_type": "markdown",
   "metadata": {},
   "source": [
    " `The probability of that person who has prostate cancer given he is tested positive is .6834.`"
   ]
  },
  {
   "cell_type": "code",
   "execution_count": null,
   "metadata": {},
   "outputs": [],
   "source": []
  },
  {
   "cell_type": "markdown",
   "metadata": {},
   "source": [
    "# `Question: 2`"
   ]
  },
  {
   "cell_type": "markdown",
   "metadata": {},
   "source": [
    "`p(No PC|+) , probability of No Prostate Cancer but tested positive`"
   ]
  },
  {
   "cell_type": "raw",
   "metadata": {},
   "source": [
    "p(No PC|+) =   p(No PC) * p(+|No PC)\n",
    "           _______________________\n",
    "                  P(+)"
   ]
  },
  {
   "cell_type": "markdown",
   "metadata": {},
   "source": [
    "           =   .88 * .06\n",
    "           _______________________\n",
    "                 .1668"
   ]
  },
  {
   "cell_type": "markdown",
   "metadata": {},
   "source": [
    "           =   .0528\n",
    "           _______________________\n",
    "               .1668"
   ]
  },
  {
   "cell_type": "markdown",
   "metadata": {},
   "source": [
    "### `p(No PC|+) = 0.3165`"
   ]
  },
  {
   "cell_type": "markdown",
   "metadata": {},
   "source": [
    "`Remarks: p(PC|+) + p(No PC|+) = 1`"
   ]
  },
  {
   "cell_type": "code",
   "execution_count": null,
   "metadata": {},
   "outputs": [],
   "source": []
  },
  {
   "cell_type": "code",
   "execution_count": null,
   "metadata": {},
   "outputs": [],
   "source": []
  },
  {
   "cell_type": "code",
   "execution_count": null,
   "metadata": {},
   "outputs": [],
   "source": []
  },
  {
   "cell_type": "markdown",
   "metadata": {},
   "source": [
    "# `Question: 3`"
   ]
  },
  {
   "cell_type": "markdown",
   "metadata": {},
   "source": [
    "`p(PC|-), probability of with Prostate Cancer but has negative result `"
   ]
  },
  {
   "cell_type": "raw",
   "metadata": {},
   "source": [
    "p(PC|-) = p(PC) * p(-|PC)\n",
    "         _________________\n",
    "              p(-)"
   ]
  },
  {
   "cell_type": "markdown",
   "metadata": {},
   "source": [
    "        = .12 * .05\n",
    "         _________________\n",
    "              p(-)"
   ]
  },
  {
   "cell_type": "markdown",
   "metadata": {},
   "source": [
    "`Lets get the p(-)`"
   ]
  },
  {
   "cell_type": "raw",
   "metadata": {},
   "source": [
    "p(-) = p(PC and -) + p(No PC and -)\n",
    "     = .006 + .8272\n",
    "     = .8332"
   ]
  },
  {
   "cell_type": "markdown",
   "metadata": {},
   "source": [
    "      =   .006\n",
    "         ________\n",
    "          .8332    "
   ]
  },
  {
   "cell_type": "markdown",
   "metadata": {},
   "source": [
    "### `p(PC|-) =  0.0072`"
   ]
  },
  {
   "cell_type": "markdown",
   "metadata": {},
   "source": []
  },
  {
   "cell_type": "markdown",
   "metadata": {},
   "source": []
  },
  {
   "cell_type": "markdown",
   "metadata": {},
   "source": [
    "# `Question: 4`"
   ]
  },
  {
   "cell_type": "markdown",
   "metadata": {},
   "source": [
    "`p(No PC|-), probability of No Prostate Cancer given that tested negative`"
   ]
  },
  {
   "cell_type": "raw",
   "metadata": {},
   "source": [
    "p(No PC|-) = p(No PC) * p(-|No PC)\n",
    "            _________________\n",
    "                 p(-)"
   ]
  },
  {
   "cell_type": "markdown",
   "metadata": {},
   "source": [
    "        = .88 * .94\n",
    "         _________________\n",
    "              .8332"
   ]
  },
  {
   "cell_type": "markdown",
   "metadata": {},
   "source": [
    "### `p(No PC|-) =  0.9972`"
   ]
  },
  {
   "cell_type": "markdown",
   "metadata": {},
   "source": [
    "### `Remarks: p(PC|-)  + p(No PC|-) = 1`"
   ]
  }
 ],
 "metadata": {
  "kernelspec": {
   "display_name": "Python 3 (ipykernel)",
   "language": "python",
   "name": "python3"
  },
  "language_info": {
   "codemirror_mode": {
    "name": "ipython",
    "version": 3
   },
   "file_extension": ".py",
   "mimetype": "text/x-python",
   "name": "python",
   "nbconvert_exporter": "python",
   "pygments_lexer": "ipython3",
   "version": "3.8.5"
  }
 },
 "nbformat": 4,
 "nbformat_minor": 4
}
