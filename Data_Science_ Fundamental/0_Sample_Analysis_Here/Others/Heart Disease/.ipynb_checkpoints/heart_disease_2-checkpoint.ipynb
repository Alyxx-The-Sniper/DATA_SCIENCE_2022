{
 "cells": [
  {
   "cell_type": "markdown",
   "metadata": {},
   "source": [
    "# Heart Disease Research Part II"
   ]
  },
  {
   "cell_type": "markdown",
   "metadata": {},
   "source": [
    "`Details:`\n",
    "\n",
    "\n",
    "- `age`: age in years\n",
    "- `sex`: sex assigned at birth; 'male' or 'female'\n",
    "- `trestbps`: resting blood pressure in mm Hg\n",
    "- `chol`: serum cholesterol in mg/dl\n",
    "- `cp`: chest pain type ('typical angina', 'atypical angina', 'non-anginal pain', or 'asymptomatic')\n",
    "- `exang`: whether the patient experiences exercise-induced angina (1: yes; 0: no)\n",
    "- `fbs`: whether the patient’s fasting blood sugar is >120 mg/dl (1: yes; 0: no)\n",
    "- `thalach`: maximum heart rate achieved in exercise test\n",
    "- `heart_disease`: whether the patient is found to have heart disease ('presence': diagnosed with heart disease; 'absence': no heart disease)"
   ]
  },
  {
   "cell_type": "code",
   "execution_count": 2,
   "metadata": {},
   "outputs": [],
   "source": [
    "import pandas as pd\n",
    "import numpy as np\n",
    "import matplotlib.pyplot as plt \n",
    "import seaborn as sns\n",
    "from scipy.stats import ttest_ind\n",
    "from scipy.stats import f_oneway\n",
    "from statsmodels.stats.multicomp import pairwise_tukeyhsd\n",
    "from scipy.stats import chi2_contingency"
   ]
  },
  {
   "cell_type": "code",
   "execution_count": 4,
   "metadata": {},
   "outputs": [
    {
     "data": {
      "text/html": [
       "<div>\n",
       "<style scoped>\n",
       "    .dataframe tbody tr th:only-of-type {\n",
       "        vertical-align: middle;\n",
       "    }\n",
       "\n",
       "    .dataframe tbody tr th {\n",
       "        vertical-align: top;\n",
       "    }\n",
       "\n",
       "    .dataframe thead th {\n",
       "        text-align: right;\n",
       "    }\n",
       "</style>\n",
       "<table border=\"1\" class=\"dataframe\">\n",
       "  <thead>\n",
       "    <tr style=\"text-align: right;\">\n",
       "      <th></th>\n",
       "      <th>age</th>\n",
       "      <th>sex</th>\n",
       "      <th>trestbps</th>\n",
       "      <th>chol</th>\n",
       "      <th>cp</th>\n",
       "      <th>exang</th>\n",
       "      <th>fbs</th>\n",
       "      <th>thalach</th>\n",
       "      <th>heart_disease</th>\n",
       "    </tr>\n",
       "  </thead>\n",
       "  <tbody>\n",
       "    <tr>\n",
       "      <th>0</th>\n",
       "      <td>63.0</td>\n",
       "      <td>male</td>\n",
       "      <td>145.0</td>\n",
       "      <td>233.0</td>\n",
       "      <td>typical angina</td>\n",
       "      <td>0.0</td>\n",
       "      <td>1.0</td>\n",
       "      <td>150.0</td>\n",
       "      <td>absence</td>\n",
       "    </tr>\n",
       "    <tr>\n",
       "      <th>1</th>\n",
       "      <td>67.0</td>\n",
       "      <td>male</td>\n",
       "      <td>160.0</td>\n",
       "      <td>286.0</td>\n",
       "      <td>asymptomatic</td>\n",
       "      <td>1.0</td>\n",
       "      <td>0.0</td>\n",
       "      <td>108.0</td>\n",
       "      <td>presence</td>\n",
       "    </tr>\n",
       "    <tr>\n",
       "      <th>2</th>\n",
       "      <td>67.0</td>\n",
       "      <td>male</td>\n",
       "      <td>120.0</td>\n",
       "      <td>229.0</td>\n",
       "      <td>asymptomatic</td>\n",
       "      <td>1.0</td>\n",
       "      <td>0.0</td>\n",
       "      <td>129.0</td>\n",
       "      <td>presence</td>\n",
       "    </tr>\n",
       "    <tr>\n",
       "      <th>3</th>\n",
       "      <td>37.0</td>\n",
       "      <td>male</td>\n",
       "      <td>130.0</td>\n",
       "      <td>250.0</td>\n",
       "      <td>non-anginal pain</td>\n",
       "      <td>0.0</td>\n",
       "      <td>0.0</td>\n",
       "      <td>187.0</td>\n",
       "      <td>absence</td>\n",
       "    </tr>\n",
       "    <tr>\n",
       "      <th>4</th>\n",
       "      <td>41.0</td>\n",
       "      <td>female</td>\n",
       "      <td>130.0</td>\n",
       "      <td>204.0</td>\n",
       "      <td>atypical angina</td>\n",
       "      <td>0.0</td>\n",
       "      <td>0.0</td>\n",
       "      <td>172.0</td>\n",
       "      <td>absence</td>\n",
       "    </tr>\n",
       "  </tbody>\n",
       "</table>\n",
       "</div>"
      ],
      "text/plain": [
       "    age     sex  trestbps   chol                cp  exang  fbs  thalach  \\\n",
       "0  63.0    male     145.0  233.0    typical angina    0.0  1.0    150.0   \n",
       "1  67.0    male     160.0  286.0      asymptomatic    1.0  0.0    108.0   \n",
       "2  67.0    male     120.0  229.0      asymptomatic    1.0  0.0    129.0   \n",
       "3  37.0    male     130.0  250.0  non-anginal pain    0.0  0.0    187.0   \n",
       "4  41.0  female     130.0  204.0   atypical angina    0.0  0.0    172.0   \n",
       "\n",
       "  heart_disease  \n",
       "0       absence  \n",
       "1      presence  \n",
       "2      presence  \n",
       "3       absence  \n",
       "4       absence  "
      ]
     },
     "execution_count": 4,
     "metadata": {},
     "output_type": "execute_result"
    }
   ],
   "source": [
    "heart = pd.read_csv('heart_disease_2.csv')\n",
    "heart.head()"
   ]
  },
  {
   "cell_type": "markdown",
   "metadata": {},
   "source": [
    "### Investigation. Is thalach associated with heart disease?"
   ]
  },
  {
   "cell_type": "code",
   "execution_count": 15,
   "metadata": {},
   "outputs": [
    {
     "data": {
      "text/html": [
       "<div>\n",
       "<style scoped>\n",
       "    .dataframe tbody tr th:only-of-type {\n",
       "        vertical-align: middle;\n",
       "    }\n",
       "\n",
       "    .dataframe tbody tr th {\n",
       "        vertical-align: top;\n",
       "    }\n",
       "\n",
       "    .dataframe thead th {\n",
       "        text-align: right;\n",
       "    }\n",
       "</style>\n",
       "<table border=\"1\" class=\"dataframe\">\n",
       "  <thead>\n",
       "    <tr style=\"text-align: right;\">\n",
       "      <th></th>\n",
       "      <th>age</th>\n",
       "      <th>trestbps</th>\n",
       "      <th>chol</th>\n",
       "      <th>exang</th>\n",
       "      <th>fbs</th>\n",
       "      <th>thalach</th>\n",
       "    </tr>\n",
       "    <tr>\n",
       "      <th>heart_disease</th>\n",
       "      <th></th>\n",
       "      <th></th>\n",
       "      <th></th>\n",
       "      <th></th>\n",
       "      <th></th>\n",
       "      <th></th>\n",
       "    </tr>\n",
       "  </thead>\n",
       "  <tbody>\n",
       "    <tr>\n",
       "      <th>absence</th>\n",
       "      <td>52.585366</td>\n",
       "      <td>129.250000</td>\n",
       "      <td>242.640244</td>\n",
       "      <td>0.140244</td>\n",
       "      <td>0.140244</td>\n",
       "      <td>158.378049</td>\n",
       "    </tr>\n",
       "    <tr>\n",
       "      <th>presence</th>\n",
       "      <td>56.625899</td>\n",
       "      <td>134.568345</td>\n",
       "      <td>251.474820</td>\n",
       "      <td>0.546763</td>\n",
       "      <td>0.158273</td>\n",
       "      <td>139.258993</td>\n",
       "    </tr>\n",
       "  </tbody>\n",
       "</table>\n",
       "</div>"
      ],
      "text/plain": [
       "                     age    trestbps        chol     exang       fbs  \\\n",
       "heart_disease                                                          \n",
       "absence        52.585366  129.250000  242.640244  0.140244  0.140244   \n",
       "presence       56.625899  134.568345  251.474820  0.546763  0.158273   \n",
       "\n",
       "                  thalach  \n",
       "heart_disease              \n",
       "absence        158.378049  \n",
       "presence       139.258993  "
      ]
     },
     "execution_count": 15,
     "metadata": {},
     "output_type": "execute_result"
    }
   ],
   "source": [
    "# Check mean difference betwwen with heart disease and without heart disease\n",
    "heart.groupby('heart_disease').mean()"
   ]
  },
  {
   "cell_type": "code",
   "execution_count": 42,
   "metadata": {},
   "outputs": [
    {
     "data": {
      "image/png": "[encoded data removed]",
      "text/plain": [
       "<Figure size 432x288 with 1 Axes>"
      ]
     },
     "metadata": {
      "needs_background": "light"
     },
     "output_type": "display_data"
    },
    {
     "data": {
      "text/plain": [
       "<Figure size 432x288 with 0 Axes>"
      ]
     },
     "metadata": {},
     "output_type": "display_data"
    }
   ],
   "source": [
    "sns.boxplot(x='heart_disease', y='thalach', data=heart)\n",
    "plt.show()\n",
    "plt.clf()"
   ]
  },
  {
   "cell_type": "code",
   "execution_count": 5,
   "metadata": {},
   "outputs": [],
   "source": [
    "# seperate 'thalach' value with heart disease and without heart disease\n",
    "thalach_hd = heart.thalach[heart['heart_disease'] == 'presence']\n",
    "thalach_no_hd = heart.thalach[heart['heart_disease'] == 'absence']"
   ]
  },
  {
   "cell_type": "code",
   "execution_count": 6,
   "metadata": {},
   "outputs": [
    {
     "name": "stdout",
     "output_type": "stream",
     "text": [
      "19.11905597473242\n",
      "19.0\n"
     ]
    }
   ],
   "source": [
    "# difference in mean and meadian\n",
    "print(np.mean(thalach_no_hd) - np.mean(thalach_hd))\n",
    "print(np.median(thalach_no_hd) - np.median(thalach_hd))"
   ]
  },
  {
   "cell_type": "markdown",
   "metadata": {},
   "source": [
    "### Hypothesis Testing, Two Sample T Test (comparing popultion mean)\n",
    "\n",
    "Null: Avg thalach value is not significantly differennt from person with heart  disease and without heart disease\n",
    "\n",
    "Alternative: The avg thalach of a person w/ HD is not equal to w/o HD."
   ]
  },
  {
   "cell_type": "markdown",
   "metadata": {},
   "source": [
    "### Check standard devation ratio first\n",
    "Generally, a ratio between 0.9 and 1.1 should suffice."
   ]
  },
  {
   "cell_type": "code",
   "execution_count": 40,
   "metadata": {},
   "outputs": [
    {
     "name": "stdout",
     "output_type": "stream",
     "text": [
      "1.1761378584838222\n"
     ]
    }
   ],
   "source": [
    "ratio = np.std(thalach_hd) / np.std(thalach_no_hd)\n",
    "print(ratio)"
   ]
  },
  {
   "cell_type": "code",
   "execution_count": 41,
   "metadata": {},
   "outputs": [
    {
     "name": "stdout",
     "output_type": "stream",
     "text": [
      "3.456964908430172e-14\n",
      "0.00000000000003456965\n"
     ]
    }
   ],
   "source": [
    "tstat, pval =ttest_ind(thalach_no_hd,thalach_hd)\n",
    "print(pval)\n",
    "print('{:.20f}'.format(pval))\n",
    "# Reject the null hypothesis"
   ]
  },
  {
   "cell_type": "markdown",
   "metadata": {},
   "source": [
    "## Further Analysis\n",
    "Creating a simulation to test out hypothesis"
   ]
  },
  {
   "cell_type": "markdown",
   "metadata": {},
   "source": [
    "Pending... WIP"
   ]
  },
  {
   "cell_type": "code",
   "execution_count": null,
   "metadata": {},
   "outputs": [],
   "source": []
  },
  {
   "cell_type": "code",
   "execution_count": null,
   "metadata": {},
   "outputs": [],
   "source": []
  },
  {
   "cell_type": "code",
   "execution_count": null,
   "metadata": {},
   "outputs": [],
   "source": []
  },
  {
   "cell_type": "markdown",
   "metadata": {},
   "source": [
    "## Conclusion"
   ]
  },
  {
   "cell_type": "markdown",
   "metadata": {},
   "source": [
    "Rejecting the null hypothesis.\n",
    "\n",
    "Person with LOW thalach value (Maximum heart rate during exercise) tend to have a heart disease."
   ]
  },
  {
   "cell_type": "markdown",
   "metadata": {},
   "source": [
    "### Investigating  age,trestpbs,chol if associated with heart disease"
   ]
  },
  {
   "cell_type": "code",
   "execution_count": 22,
   "metadata": {},
   "outputs": [
    {
     "data": {
      "text/plain": [
       "Text(0.5, 1.0, 'Chol vs. Heart Disease')"
      ]
     },
     "execution_count": 22,
     "metadata": {},
     "output_type": "execute_result"
    },
    {
     "data": {
      "image/png": "[encoded data removed]",
      "text/plain": [
       "<Figure size 1080x432 with 3 Axes>"
      ]
     },
     "metadata": {
      "needs_background": "light"
     },
     "output_type": "display_data"
    }
   ],
   "source": [
    "plt.figure(figsize=(15, 6)) \n",
    "\n",
    "# age vs heart disease\n",
    "ax1 = plt.subplot(1,3,1)\n",
    "sns.boxplot(x='heart_disease', y='age', data=heart)\n",
    "plt.title('Age vs. Heart Disease')\n",
    "\n",
    "# trestpbs vs heart disease\n",
    "ax2 = plt.subplot(1,3,2)\n",
    "sns.boxplot(x='heart_disease', y='trestbps', data=heart)\n",
    "plt.title('Trestpbs vs. Heart Disease')\n",
    "\n",
    "# chol vs heart disease\n",
    "ax3 = plt.subplot(1,3,3)\n",
    "sns.boxplot(x='heart_disease', y='chol', data=heart)\n",
    "plt.title('Chol vs. Heart Disease')"
   ]
  },
  {
   "cell_type": "markdown",
   "metadata": {},
   "source": [
    "### Setting up variables"
   ]
  },
  {
   "cell_type": "code",
   "execution_count": 26,
   "metadata": {},
   "outputs": [],
   "source": [
    "# 'age' value with heart disease and no heart disease\n",
    "age_hd = heart.age[heart['heart_disease'] == 'presence']\n",
    "age_no_hd = heart.age[heart['heart_disease'] == 'absence']\n",
    "\n",
    "# 'trestpbs' value with heart disease and no heart disease\n",
    "trestbps_hd = heart.trestbps[heart['heart_disease'] == 'presence']\n",
    "trestbps_no_hd = heart.trestbps[heart['heart_disease'] == 'absence']\n",
    "\n",
    "# 'chol' value with heart disease and no heart disease\n",
    "chol_hd = heart.chol[heart['heart_disease'] == 'presence']\n",
    "chol_no_hd = heart.chol[heart['heart_disease'] == 'absence']"
   ]
  },
  {
   "cell_type": "markdown",
   "metadata": {},
   "source": [
    "### Check standard devation ratio first\n",
    "Generally, a ratio between 0.9 and 1.1 should suffice."
   ]
  },
  {
   "cell_type": "code",
   "execution_count": 28,
   "metadata": {},
   "outputs": [
    {
     "name": "stdout",
     "output_type": "stream",
     "text": [
      "0.83411177228032 1.1576034590571467 0.9252280050863391\n"
     ]
    }
   ],
   "source": [
    "ratio_age = np.std(age_hd) / np.std(age_no_hd)\n",
    "ratio_trestbps = np.std(trestbps_hd) / np.std(trestbps_no_hd)\n",
    "ratio_chol = np.std(chol_hd) / np.std(chol_no_hd)\n",
    "print(ratio_age, ratio_trestbps, ratio_chol )"
   ]
  },
  {
   "cell_type": "markdown",
   "metadata": {},
   "source": [
    "### Hypothesis Testing, Two Sample T Test"
   ]
  },
  {
   "cell_type": "code",
   "execution_count": 38,
   "metadata": {},
   "outputs": [
    {
     "name": "stdout",
     "output_type": "stream",
     "text": [
      "Age vs Heart Disease P-val:\n",
      "0.00008955636917529706\n",
      "\n",
      "Trestbps vs Heart Disease P-val:\n",
      "0.00854826892859492787\n",
      "\n",
      "Chol vs Heart Disease P-val:\n",
      "0.13914167020436526978\n"
     ]
    }
   ],
   "source": [
    "tstat, pval =ttest_ind(age_no_hd,age_hd)\n",
    "print('Age vs Heart Disease P-val:' + '\\n{:.20f}'.format(pval))\n",
    "\n",
    "tstat, pval =ttest_ind(trestbps_no_hd, trestbps_hd)\n",
    "print('\\nTrestbps vs Heart Disease P-val:' + '\\n{:.20f}'.format(pval))\n",
    "\n",
    "tstat, pval =ttest_ind(chol_no_hd, chol_hd)\n",
    "print('\\nChol vs Heart Disease P-val:' + '\\n{:.20f}'.format(pval))"
   ]
  },
  {
   "cell_type": "markdown",
   "metadata": {},
   "source": [
    "- Age vs Heart Disease: Significantly associated with heart disease.\n",
    "- Trestpbs vs Heart Disease: Significantly associated with heart disease.\n",
    "- Chol vs Heart Disease: chol is not significantly associated with heart disease."
   ]
  },
  {
   "cell_type": "markdown",
   "metadata": {},
   "source": [
    "### Association between Thalach(max heart rate at exercise) and the type of chestpain (cp)."
   ]
  },
  {
   "cell_type": "code",
   "execution_count": 43,
   "metadata": {},
   "outputs": [
    {
     "data": {
      "text/plain": [
       "array(['typical angina', 'asymptomatic', 'non-anginal pain',\n",
       "       'atypical angina'], dtype=object)"
      ]
     },
     "execution_count": 43,
     "metadata": {},
     "output_type": "execute_result"
    }
   ],
   "source": [
    "heart.cp.unique()"
   ]
  },
  {
   "cell_type": "code",
   "execution_count": 57,
   "metadata": {},
   "outputs": [
    {
     "data": {
      "text/plain": [
       "<AxesSubplot:xlabel='cp', ylabel='thalach'>"
      ]
     },
     "execution_count": 57,
     "metadata": {},
     "output_type": "execute_result"
    },
    {
     "data": {
      "image/png": "[encoded data removed]",
      "text/plain": [
       "<Figure size 1080x576 with 1 Axes>"
      ]
     },
     "metadata": {
      "needs_background": "light"
     },
     "output_type": "display_data"
    }
   ],
   "source": [
    "# Non binary/Categorical vs Quantitative variables (Anova and Turkey)\n",
    "plt.figure(figsize=(15, 8)) \n",
    "sns.boxplot(x='cp', y='thalach', data=heart )"
   ]
  },
  {
   "cell_type": "code",
   "execution_count": 18,
   "metadata": {},
   "outputs": [],
   "source": [
    "# store the data\n",
    "thalach_typical_angina = heart.thalach[heart.cp == 'typical angina']\n",
    "thalach_asymptomatic = heart.thalach[heart.cp == 'asymptomatic']\n",
    "thalach_non_anginal_pain = heart.thalach[heart.cp == 'non-anginal pain']\n",
    "thalach_atypical_angina = heart.thalach[heart.cp == 'atypical angina']"
   ]
  },
  {
   "cell_type": "code",
   "execution_count": null,
   "metadata": {},
   "outputs": [],
   "source": []
  },
  {
   "cell_type": "code",
   "execution_count": 19,
   "metadata": {},
   "outputs": [
    {
     "name": "stdout",
     "output_type": "stream",
     "text": [
      "303\n",
      "303\n"
     ]
    }
   ],
   "source": [
    "# Double checking quantities\n",
    "# Sum all\n",
    "print(len(thalach_asymptomatic) +\n",
    "      len(thalach_atypical_angina) +\n",
    "      len(thalach_non_anginal_pain) +\n",
    "      len(thalach_typical_angina))\n",
    "\n",
    "# must equal\n",
    "print(len(heart.cp))"
   ]
  },
  {
   "cell_type": "markdown",
   "metadata": {},
   "source": [
    "### Hypothesis Testing, ANOVA (Non binary/Categorical vs Quantitative variables)"
   ]
  },
  {
   "cell_type": "markdown",
   "metadata": {},
   "source": [
    "- Null: People with typical angina, non-anginal pain, atypical angina, and asymptomatic people all have the same average thalach.\n",
    "- Alternative: People with typical angina, non-anginal pain, atypical angina, and asymptomatic people do not all have the same average thalach."
   ]
  },
  {
   "cell_type": "markdown",
   "metadata": {},
   "source": [
    "Be careful looking at P-val, if we look closely we can see `e-10` at the end. if we miss this, we will assume that the null hypothesis is True."
   ]
  },
  {
   "cell_type": "code",
   "execution_count": 21,
   "metadata": {},
   "outputs": [
    {
     "name": "stdout",
     "output_type": "stream",
     "text": [
      "1.9065505247705008e-10\n",
      "0.00000000019065505248\n"
     ]
    }
   ],
   "source": [
    "fstat, pval = f_oneway(thalach_typical_angina,\n",
    "                       thalach_asymptomatic,\n",
    "                       thalach_non_anginal_pain,\n",
    "                       thalach_atypical_angina)\n",
    "print(pval)\n",
    "print('{:.20f}'.format(pval))"
   ]
  },
  {
   "cell_type": "markdown",
   "metadata": {},
   "source": [
    "##### If the p-value is below our significance threshold, we can conclude that at least one pair of our groups earned significantly different scores on average however, we won’t know which pair until we investigate further!"
   ]
  },
  {
   "cell_type": "markdown",
   "metadata": {},
   "source": [
    "- True = reject null / significant\n",
    "- False = accept null / NOT significant"
   ]
  },
  {
   "cell_type": "code",
   "execution_count": 88,
   "metadata": {},
   "outputs": [
    {
     "name": "stdout",
     "output_type": "stream",
     "text": [
      "           Multiple Comparison of Means - Tukey HSD, FWER=0.05           \n",
      "=========================================================================\n",
      "     group1           group2      meandiff p-adj   lower    upper  reject\n",
      "-------------------------------------------------------------------------\n",
      "    asymptomatic  atypical angina  21.7394  0.001  12.7439  30.735   True\n",
      "    asymptomatic non-anginal pain  14.7264  0.001    7.258 22.1948   True\n",
      "    asymptomatic   typical angina   15.276 0.0081   2.9702 27.5817   True\n",
      " atypical angina non-anginal pain   -7.013 0.2481 -16.7591   2.733  False\n",
      " atypical angina   typical angina  -6.4635 0.6069 -20.2707  7.3438  False\n",
      "non-anginal pain   typical angina   0.5495    0.9  -12.315 13.4141  False\n",
      "-------------------------------------------------------------------------\n"
     ]
    }
   ],
   "source": [
    "tukey_results =  pairwise_tukeyhsd(heart.thalach, heart.cp, 0.05)\n",
    "print(tukey_results)"
   ]
  },
  {
   "cell_type": "markdown",
   "metadata": {},
   "source": [
    "1. asymptomatic and atypical angina: Reject null\n",
    "2. asymptomatic and non-anginal pain: Reject null\n",
    "3. asymptomatic and typical angina: Reject null \n",
    "4. atypical angina and non-anginal pain: Accept null \n",
    "5. atypical angina and typical angina: Accept null \n",
    "6. non-anginal pain and typical angina: Accept null"
   ]
  },
  {
   "cell_type": "markdown",
   "metadata": {},
   "source": [
    "People who are 'asymptomatic' seem to have a lower maximum heart rate (associated with heart disease) than people who have other kinds of chest pain."
   ]
  },
  {
   "cell_type": "markdown",
   "metadata": {},
   "source": [
    "## Investigating the relationship between the kind of chest pain a person experiences and whether or not they have heart disease\n"
   ]
  },
  {
   "cell_type": "code",
   "execution_count": 99,
   "metadata": {},
   "outputs": [
    {
     "data": {
      "text/html": [
       "<div>\n",
       "<style scoped>\n",
       "    .dataframe tbody tr th:only-of-type {\n",
       "        vertical-align: middle;\n",
       "    }\n",
       "\n",
       "    .dataframe tbody tr th {\n",
       "        vertical-align: top;\n",
       "    }\n",
       "\n",
       "    .dataframe thead th {\n",
       "        text-align: right;\n",
       "    }\n",
       "</style>\n",
       "<table border=\"1\" class=\"dataframe\">\n",
       "  <thead>\n",
       "    <tr style=\"text-align: right;\">\n",
       "      <th>cp</th>\n",
       "      <th>asymptomatic</th>\n",
       "      <th>atypical angina</th>\n",
       "      <th>non-anginal pain</th>\n",
       "      <th>typical angina</th>\n",
       "    </tr>\n",
       "    <tr>\n",
       "      <th>heart_disease</th>\n",
       "      <th></th>\n",
       "      <th></th>\n",
       "      <th></th>\n",
       "      <th></th>\n",
       "    </tr>\n",
       "  </thead>\n",
       "  <tbody>\n",
       "    <tr>\n",
       "      <th>absence</th>\n",
       "      <td>39</td>\n",
       "      <td>41</td>\n",
       "      <td>68</td>\n",
       "      <td>16</td>\n",
       "    </tr>\n",
       "    <tr>\n",
       "      <th>presence</th>\n",
       "      <td>105</td>\n",
       "      <td>9</td>\n",
       "      <td>18</td>\n",
       "      <td>7</td>\n",
       "    </tr>\n",
       "  </tbody>\n",
       "</table>\n",
       "</div>"
      ],
      "text/plain": [
       "cp             asymptomatic  atypical angina  non-anginal pain  typical angina\n",
       "heart_disease                                                                 \n",
       "absence                  39               41                68              16\n",
       "presence                105                9                18               7"
      ]
     },
     "execution_count": 99,
     "metadata": {},
     "output_type": "execute_result"
    }
   ],
   "source": [
    "# Categories of both variables must be mutually exclusive\n",
    "Contingency_table = pd.crosstab(heart.heart_disease, heart.cp)\n",
    "Contingency_table"
   ]
  },
  {
   "cell_type": "markdown",
   "metadata": {},
   "source": [
    "### Hypothesis Testing, Chi square test (two categorical varibles)"
   ]
  },
  {
   "cell_type": "markdown",
   "metadata": {},
   "source": [
    "- Null: There is NOT an association between chest pain type and whether or not someone is diagnosed with heart disease.\n",
    "- Alternative: There is an association between chest pain type and whether or not someone is diagnosed with heart disease."
   ]
  },
  {
   "cell_type": "code",
   "execution_count": 101,
   "metadata": {},
   "outputs": [
    {
     "data": {
      "text/plain": [
       "1.2517106007837527e-17"
      ]
     },
     "execution_count": 101,
     "metadata": {},
     "output_type": "execute_result"
    }
   ],
   "source": [
    "chi2, pval, dof, expected = chi2_contingency(Contingency_table)\n",
    "pval"
   ]
  },
  {
   "cell_type": "markdown",
   "metadata": {},
   "source": [
    "We will accept the null hypothesis which means that there is no association between chest pain type and whether or not someone is diagnosed with heart disease. There's is no significant different if have or have not a heart disease anyone can get any type of chest pain."
   ]
  },
  {
   "cell_type": "code",
   "execution_count": null,
   "metadata": {},
   "outputs": [],
   "source": []
  },
  {
   "cell_type": "code",
   "execution_count": null,
   "metadata": {},
   "outputs": [],
   "source": []
  },
  {
   "cell_type": "code",
   "execution_count": null,
   "metadata": {},
   "outputs": [],
   "source": []
  },
  {
   "cell_type": "code",
   "execution_count": null,
   "metadata": {},
   "outputs": [],
   "source": []
  },
  {
   "cell_type": "code",
   "execution_count": null,
   "metadata": {},
   "outputs": [],
   "source": []
  },
  {
   "cell_type": "code",
   "execution_count": null,
   "metadata": {},
   "outputs": [],
   "source": []
  }
 ],
 "metadata": {
  "kernelspec": {
   "display_name": "Python 3",
   "language": "python",
   "name": "python3"
  },
  "language_info": {
   "codemirror_mode": {
    "name": "ipython",
    "version": 3
   },
   "file_extension": ".py",
   "mimetype": "text/x-python",
   "name": "python",
   "nbconvert_exporter": "python",
   "pygments_lexer": "ipython3",
   "version": "3.8.5"
  }
 },
 "nbformat": 4,
 "nbformat_minor": 4
}
