{
 "cells": [
  {
   "cell_type": "markdown",
   "id": "a09ae725",
   "metadata": {},
   "source": [
    "# SQL codes for reference"
   ]
  },
  {
   "cell_type": "markdown",
   "id": "92ea8df7",
   "metadata": {},
   "source": [
    "data source: [highschool and cencus sql data](https://drive.google.com/file/d/1xCvxGsDU84gopbf6OMkS3JY0GgwJvtdj/view?usp=sharing)"
   ]
  },
  {
   "cell_type": "markdown",
   "id": "762b40e8",
   "metadata": {},
   "source": [
    "### 1. How many public high schools are in each zip code? "
   ]
  },
  {
   "cell_type": "raw",
   "id": "63b31e4b",
   "metadata": {},
   "source": [
    "select zip_code, count(school_id)\n",
    "from HS_table\n",
    "GROUP by zip_code\n",
    "order by zip_code ASC;"
   ]
  },
  {
   "cell_type": "markdown",
   "id": "3d7ff565",
   "metadata": {},
   "source": [
    "### 2. How many public high schools are in each state?"
   ]
  },
  {
   "cell_type": "raw",
   "id": "bb4b7e33",
   "metadata": {},
   "source": [
    "select state_code, count(school_id)\n",
    "from HS_table\n",
    "GROUP by state_code\n",
    "order by state_code ASC;"
   ]
  },
  {
   "cell_type": "markdown",
   "id": "12d5d614",
   "metadata": {},
   "source": [
    "### 3. Trying to get the min/max value for locale_code, but i'm getting a null value for max found out that there's a NULL ROWS  \n",
    "\n",
    "Locate null values in rows"
   ]
  },
  {
   "cell_type": "raw",
   "id": "d6cf6d07",
   "metadata": {},
   "source": [
    "SELECT school_id, school_name, locale_code\n",
    "FROM HS_table\n",
    "WHERE locale_code like 'n%';"
   ]
  },
  {
   "cell_type": "markdown",
   "id": "32ff8886",
   "metadata": {},
   "source": [
    "### 4. We can search the nulls in local_code of these school_name and replace it but will not do it for now. I will just drop it."
   ]
  },
  {
   "cell_type": "raw",
   "id": "ca415e68",
   "metadata": {},
   "source": [
    "UPDATE HS_table\n",
    "set locale_code = NULL\n",
    "WHERE locale_code = 'NULL';"
   ]
  },
  {
   "cell_type": "markdown",
   "id": "74764131",
   "metadata": {},
   "source": [
    "### 5. Now we can querry min and max "
   ]
  },
  {
   "cell_type": "raw",
   "id": "7a66d874",
   "metadata": {},
   "source": [
    "SELECT min(locale_code), max(locale_code) as maxumim\n",
    "FROM HS_table;"
   ]
  },
  {
   "cell_type": "markdown",
   "id": "aa7ed703",
   "metadata": {},
   "source": [
    "### 6. The locale_code column in the high school data corresponds to `various levels of urbanization`.  Using the CASE statement to display the corresponding locale_text and locale_size in our query result."
   ]
  },
  {
   "cell_type": "raw",
   "id": "c7358c3e",
   "metadata": {},
   "source": [
    "SELECT  school_name, locale_code,\n",
    "-- \n",
    "-- Urbanization level\n",
    "CASE \n",
    "WHEN locale_code <= 13 THEN 'City'\n",
    "WHEN locale_code <= 23 THEN 'Suburb'\n",
    "-- \n",
    "WHEN locale_code <= 33 THEN 'Town'\n",
    "WHEN locale_code <= 43 THEN 'Rural'\n",
    "END AS 'Urbanization_level',\n",
    "-- \n",
    "--   \n",
    "--  Note: that all locale_codes ends with interger 1,2 ,and 3.\n",
    "-- \n",
    "--  Substring for `City and Suburb`\n",
    "CASE WHEN  locale_code <=23 THEN\n",
    "-- last 2 incdeces \n",
    "CASE substr(locale_code, 2, 2) \n",
    "WHEN '1' THEN 'Large'\n",
    "WHEN '2' THEN 'Midsize'\n",
    "WHEN '3' THEN 'Small'\n",
    "END \n",
    "-- \n",
    "-- substring for town and rural\n",
    "WHEN locale_code >=31 THEN \n",
    "CASE substr(locale_code, 2, 2)\n",
    "WHEN '1' THEN 'Fringe'\n",
    "WHEN '2' THEN 'Distant'\n",
    "WHEN '3' THEN 'Remote'\n",
    "ELSE 'No data'\n",
    "END\n",
    "-- \n",
    "END AS 'Size'\n",
    "-- \n",
    "-- \n",
    "FROM HS_table;"
   ]
  },
  {
   "cell_type": "markdown",
   "id": "b5e63407",
   "metadata": {},
   "source": [
    "### 7. What is the minimum, maximum, and average median_household_income of the nation?"
   ]
  },
  {
   "cell_type": "raw",
   "id": "dd5763e6",
   "metadata": {},
   "source": [
    "-- Note: replace null value first \n",
    "UPDATE census_table\n",
    "SET median_household_income = NULL\n",
    "WHERE median_household_income = 'NULL';\n",
    "-- \n",
    "SELECT avg(median_household_income) as average,\n",
    "       min(median_household_income) as minimum,\n",
    "       max(median_household_income) as maximum\n",
    "FROM census_table;"
   ]
  },
  {
   "cell_type": "markdown",
   "id": "39c83b2c",
   "metadata": {},
   "source": [
    "### 8. What is the minimum, maximum, and average median_household_income for each state?"
   ]
  },
  {
   "cell_type": "raw",
   "id": "3b7de83c",
   "metadata": {},
   "source": [
    "SELECT state_code,\n",
    "     avg(median_household_income) as average,\n",
    "     min(median_household_income) as minimum,\n",
    " \t max(median_household_income) as maximum\n",
    "FROM census_table\n",
    "GROUP by state_code\n",
    ";"
   ]
  },
  {
   "cell_type": "markdown",
   "id": "fc24ac7a",
   "metadata": {},
   "source": [
    "# SQL (Join and With)"
   ]
  },
  {
   "cell_type": "markdown",
   "id": "abc7226d",
   "metadata": {},
   "source": [
    "### Do characteristics of the zip-code area, such as median household income, influence students’ performance in high school?\n",
    "\n",
    "Divide the median_household_income into income ranges (e.g., <\\\\$50k, \\\\$50k-\\\\$100k, $100k+) and find the average exam scores for each.\n",
    "\n",
    "left join two tables by zip_code"
   ]
  },
  {
   "cell_type": "raw",
   "id": "f313b97e",
   "metadata": {},
   "source": [
    "SELECT       \n",
    "-- 1 \t   \t   \n",
    "CASE \n",
    "WHEN median_household_income <50000 THEN '$50k less than'\n",
    "WHEN median_household_income >= 50000 AND median_household_income <= 100000 THEN '$50-100k'\n",
    "WHEN median_household_income > 100000 THEN '$100k above'\n",
    "ELSE 'No data available'\n",
    "END AS 'Income bracket',\n",
    "-- 2\n",
    "ROUND(AVG(pct_proficient_math),0)    AS 'AVG pct_proficient_math ',\n",
    "-- 3\n",
    "ROUND(AVG(pct_proficient_reading),0) AS 'AVG pct_proficient_reading'\n",
    "-- \n",
    "FROM census_table\n",
    "LEFT JOIN HS_table\n",
    "on census_table.zip_code = HS_table.zip_code\n",
    "-- \n",
    "GROUP by 1\n",
    "order by 1\n",
    ";"
   ]
  },
  {
   "cell_type": "markdown",
   "id": "92694da7",
   "metadata": {},
   "source": [
    "### On average, do students perform better on the math or reading exam? \n",
    "Find the number of states where students do better on the math exam, and vice versa."
   ]
  },
  {
   "cell_type": "raw",
   "id": "7259ce3a",
   "metadata": {},
   "source": [
    "-- ### TEMPORARY TABLE ###\n",
    "WITH temp_table as (\n",
    "SELECT \n",
    "--1\n",
    "state_code, \n",
    "--2\n",
    "ROUND(AVG(pct_proficient_math), 0) AS 'Math Results', \n",
    "--3\n",
    "ROUND (AVG(pct_proficient_reading), 0) AS 'Reading Results', \n",
    "--4\n",
    "CASE \n",
    "WHEN ROUND(AVG(pct_proficient_math), 0) > ROUND(AVG(pct_proficient_reading), 0) THEN 'Math'\n",
    "WHEN ROUND (AVG(pct_proficient_reading), 0) > ROUND(AVG(pct_proficient_math), 0) THEN 'Reading'\n",
    "ELSE 'No Exam Data'\n",
    "END AS 'Highest_Subject'\n",
    "--\n",
    "FROM HS_table\n",
    "GROUP by 1)\n",
    "\n",
    "\n",
    "-- ### QUERY from TEMPORARY TABLE  ### \n",
    "SELECT \n",
    "Highest_Subject,\n",
    "COUNT(*) as 'state_code count'\n",
    " \n",
    "FROM temp_table\n",
    "GROUP by Highest_Subject\n",
    "ORDER by 2 DESC\n",
    ";\n"
   ]
  },
  {
   "cell_type": "markdown",
   "id": "eb2cbbfd",
   "metadata": {},
   "source": [
    "### What is the average proficiency on state assessment exams for each zip code, and how do they compare to other zip codes in the same state?"
   ]
  },
  {
   "cell_type": "raw",
   "id": "ebf484b1",
   "metadata": {},
   "source": [
    "-- ### TEMPORARY TABLE 2  ### \n",
    "WITH temp_table2 AS (\n",
    "SELECT \n",
    " HS_table.state_code as 'State', \n",
    " ROUND(AVG(pct_proficient_math), 0) AS 'State_Math_Avg', \n",
    " ROUND (AVG(pct_proficient_reading), 0) AS 'State_Reading_Avg', \n",
    " MAX(pct_proficient_math) AS 'Max Math Score', MIN(pct_proficient_math) AS 'Min Math Score',\n",
    " MAX(pct_proficient_reading) AS 'Max Reading Score', MIN(pct_proficient_reading) AS 'Min Reading Score'\n",
    "\n",
    "FROM HS_table\n",
    "GROUP BY 1)\n",
    "\n",
    "-- ### QUERY on TEMPORARY TABLE 2 ###\t \n",
    "SELECT \n",
    " temp_table2.State, \n",
    " HS_table.zip_code,\n",
    " temp_table2.State_Math_Avg,\n",
    " ROUND(AVG(pct_proficient_math), 0) AS 'Zip_Math_Avg', \n",
    " temp_table2.State_Reading_Avg, \n",
    " ROUND(AVG(pct_proficient_reading), 0) AS 'Zip_Reading_Avg'\n",
    "-- \n",
    "FROM HS_table\n",
    "JOIN temp_table2\n",
    "ON HS_table.state_code = temp_table2.state\n",
    "GROUP BY 2; \n",
    "-- "
   ]
  },
  {
   "cell_type": "markdown",
   "id": "ec2017a1",
   "metadata": {},
   "source": [
    "# Window"
   ]
  },
  {
   "cell_type": "raw",
   "id": "399f460f",
   "metadata": {},
   "source": [
    "# normal code\n",
    "-- 1 groupby sum\n",
    "SELECT state_code, \n",
    "\t   city, \n",
    "\t   sum(pct_asian) \n",
    "\n",
    "FROM HS_table\n",
    "GROUP by state_code, city\n",
    ";"
   ]
  },
  {
   "cell_type": "raw",
   "id": "2a3b6cce",
   "metadata": {},
   "source": [
    "# window\n",
    "-- 2 window function \n",
    "SELECT state_code, \n",
    "\t   city, \n",
    "\t   sum(pct_asian) OVER (PARTITION by state_code) as pct_asian_total_per_state\n",
    "\n",
    "FROM HS_table\n",
    ";"
   ]
  },
  {
   "cell_type": "raw",
   "id": "ac795291",
   "metadata": {},
   "source": [
    "-- 3 cumulative sum\n",
    "SELECT \n",
    "\t   school_id,\n",
    "\t   state_code, \n",
    "\t   city,\n",
    "\t   pct_asian,\n",
    "\t   sum(pct_asian) over (order by school_id) as cumulative_sum,\n",
    "\t   avg(pct_asian) over (order by school_id) as cumulative_avg,\n",
    "\t   count(pct_asian) over (order by school_id) as cumulative_count\n",
    "\n",
    "from HS_table\n",
    ";"
   ]
  },
  {
   "cell_type": "code",
   "execution_count": null,
   "id": "70cb0bbd",
   "metadata": {},
   "outputs": [],
   "source": []
  },
  {
   "cell_type": "code",
   "execution_count": null,
   "id": "3b223c76",
   "metadata": {},
   "outputs": [],
   "source": []
  },
  {
   "cell_type": "code",
   "execution_count": null,
   "id": "bccdb01f",
   "metadata": {},
   "outputs": [],
   "source": []
  }
 ],
 "metadata": {
  "kernelspec": {
   "display_name": "Python 3 (ipykernel)",
   "language": "python",
   "name": "python3"
  },
  "language_info": {
   "codemirror_mode": {
    "name": "ipython",
    "version": 3
   },
   "file_extension": ".py",
   "mimetype": "text/x-python",
   "name": "python",
   "nbconvert_exporter": "python",
   "pygments_lexer": "ipython3",
   "version": "3.8.13"
  }
 },
 "nbformat": 4,
 "nbformat_minor": 5
}
