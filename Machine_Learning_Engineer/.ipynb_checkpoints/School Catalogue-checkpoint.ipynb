{
 "cells": [
  {
   "cell_type": "markdown",
   "id": "e82853e1",
   "metadata": {},
   "source": [
    "# School Catalogue"
   ]
  },
  {
   "cell_type": "code",
   "execution_count": 27,
   "id": "bca972be",
   "metadata": {},
   "outputs": [],
   "source": [
    "class School:\n",
    "  def __init__(self, name, level, numberOfStudents):\n",
    "    self.name=name\n",
    "    self.level=level\n",
    "    self.numberOfStudents=numberOfStudents\n",
    "\n",
    "  ## getter\n",
    "  def get_name(self):\n",
    "    return self.name\n",
    "\n",
    "  def get_level(self):\n",
    "    return self.level\n",
    "\n",
    "  def get_numberOfStudents(self):\n",
    "    return self.numberOfStudents\n",
    "\n",
    "  # setter\n",
    "  def set_numberOfStudents(self, num_students):\n",
    "    self.numberOfStudents=num_students\n",
    "\n",
    "  def __repr__(self):\n",
    "    return ('A {} school named {} with {} students'. format(self.level, self.name, self.numberOfStudents))"
   ]
  },
  {
   "cell_type": "markdown",
   "id": "a49f6776",
   "metadata": {},
   "source": [
    "### Code Test"
   ]
  },
  {
   "cell_type": "code",
   "execution_count": 28,
   "id": "a5b5c486",
   "metadata": {},
   "outputs": [],
   "source": [
    "a = School('ANHS', 'HIGH', 100)"
   ]
  },
  {
   "cell_type": "code",
   "execution_count": 29,
   "id": "69869b69",
   "metadata": {},
   "outputs": [
    {
     "data": {
      "text/plain": [
       "A HIGH school named ANHS with 100 students"
      ]
     },
     "execution_count": 29,
     "metadata": {},
     "output_type": "execute_result"
    }
   ],
   "source": [
    "# repr\n",
    "a"
   ]
  },
  {
   "cell_type": "code",
   "execution_count": 31,
   "id": "f403cd9a",
   "metadata": {},
   "outputs": [],
   "source": [
    "# dir(a)"
   ]
  },
  {
   "cell_type": "code",
   "execution_count": 33,
   "id": "57616dd1",
   "metadata": {},
   "outputs": [
    {
     "data": {
      "text/plain": [
       "'ANHS'"
      ]
     },
     "execution_count": 33,
     "metadata": {},
     "output_type": "execute_result"
    }
   ],
   "source": [
    "a.get_name()"
   ]
  },
  {
   "cell_type": "code",
   "execution_count": 34,
   "id": "74d0f4eb",
   "metadata": {},
   "outputs": [
    {
     "data": {
      "text/plain": [
       "'HIGH'"
      ]
     },
     "execution_count": 34,
     "metadata": {},
     "output_type": "execute_result"
    }
   ],
   "source": [
    "a.get_level()"
   ]
  },
  {
   "cell_type": "code",
   "execution_count": 36,
   "id": "73a06841",
   "metadata": {},
   "outputs": [
    {
     "data": {
      "text/plain": [
       "100"
      ]
     },
     "execution_count": 36,
     "metadata": {},
     "output_type": "execute_result"
    }
   ],
   "source": [
    "a.get_numberOfStudents()"
   ]
  },
  {
   "cell_type": "code",
   "execution_count": 38,
   "id": "987fd49e",
   "metadata": {},
   "outputs": [],
   "source": [
    "a.set_numberOfStudents(999)"
   ]
  },
  {
   "cell_type": "code",
   "execution_count": 39,
   "id": "b7b4f581",
   "metadata": {},
   "outputs": [
    {
     "data": {
      "text/plain": [
       "999"
      ]
     },
     "execution_count": 39,
     "metadata": {},
     "output_type": "execute_result"
    }
   ],
   "source": [
    "a.get_numberOfStudents()"
   ]
  },
  {
   "cell_type": "markdown",
   "id": "f23c3a8e",
   "metadata": {},
   "source": [
    "***"
   ]
  },
  {
   "cell_type": "code",
   "execution_count": null,
   "id": "ceee3bdc",
   "metadata": {},
   "outputs": [],
   "source": []
  },
  {
   "cell_type": "code",
   "execution_count": null,
   "id": "b4c2bc84",
   "metadata": {},
   "outputs": [],
   "source": []
  },
  {
   "cell_type": "code",
   "execution_count": null,
   "id": "1397a915",
   "metadata": {},
   "outputs": [],
   "source": []
  },
  {
   "cell_type": "code",
   "execution_count": null,
   "id": "03094c69",
   "metadata": {},
   "outputs": [],
   "source": []
  },
  {
   "cell_type": "code",
   "execution_count": null,
   "id": "30686cd9",
   "metadata": {},
   "outputs": [],
   "source": []
  },
  {
   "cell_type": "code",
   "execution_count": null,
   "id": "e828c586",
   "metadata": {},
   "outputs": [],
   "source": []
  },
  {
   "cell_type": "code",
   "execution_count": null,
   "id": "f9e8882a",
   "metadata": {},
   "outputs": [],
   "source": []
  },
  {
   "cell_type": "code",
   "execution_count": null,
   "id": "4b4e1c56",
   "metadata": {},
   "outputs": [],
   "source": []
  },
  {
   "cell_type": "code",
   "execution_count": null,
   "id": "14a00df5",
   "metadata": {},
   "outputs": [],
   "source": []
  },
  {
   "cell_type": "code",
   "execution_count": null,
   "id": "ffeb54b1",
   "metadata": {},
   "outputs": [],
   "source": []
  },
  {
   "cell_type": "code",
   "execution_count": null,
   "id": "30389569",
   "metadata": {},
   "outputs": [],
   "source": []
  },
  {
   "cell_type": "code",
   "execution_count": null,
   "id": "809621b4",
   "metadata": {},
   "outputs": [],
   "source": []
  },
  {
   "cell_type": "code",
   "execution_count": null,
   "id": "8c1cffbb",
   "metadata": {},
   "outputs": [],
   "source": []
  }
 ],
 "metadata": {
  "kernelspec": {
   "display_name": "Python 3 (ipykernel)",
   "language": "python",
   "name": "python3"
  },
  "language_info": {
   "codemirror_mode": {
    "name": "ipython",
    "version": 3
   },
   "file_extension": ".py",
   "mimetype": "text/x-python",
   "name": "python",
   "nbconvert_exporter": "python",
   "pygments_lexer": "ipython3",
   "version": "3.8.13"
  }
 },
 "nbformat": 4,
 "nbformat_minor": 5
}
