{
 "cells": [
  {
   "cell_type": "markdown",
   "id": "84247b4f",
   "metadata": {},
   "source": [
    "# Corey Schafer"
   ]
  },
  {
   "cell_type": "markdown",
   "id": "e78e047b",
   "metadata": {},
   "source": [
    "***"
   ]
  },
  {
   "cell_type": "markdown",
   "id": "43f788be",
   "metadata": {},
   "source": [
    "### Classes and Instance"
   ]
  },
  {
   "cell_type": "code",
   "execution_count": null,
   "id": "65eb217d",
   "metadata": {},
   "outputs": [],
   "source": [
    "class Employee:\n",
    "    pass"
   ]
  },
  {
   "cell_type": "code",
   "execution_count": null,
   "id": "3fe2a692",
   "metadata": {},
   "outputs": [],
   "source": [
    "# class instance\n",
    "emp1=Employee()\n",
    "emp2=Employee()"
   ]
  },
  {
   "cell_type": "code",
   "execution_count": null,
   "id": "e3b81b28",
   "metadata": {},
   "outputs": [],
   "source": [
    "# Instance Variable are unique to each instance \n",
    "# each of these instance has attributes that unique to them\n",
    "\n",
    "emp1.first='alyx'\n",
    "emp1.last='mandario'\n",
    "emp1.email='alyxmandario@gmail.com'\n",
    "emp1.pay=20000\n",
    "\n",
    "emp2.first='vane'\n",
    "emp2.last='ruby'\n",
    "emp2.email='vaneruby@gmail.com'\n",
    "emp2.pay=30000\n",
    "\n",
    "# we dont have to do this alot of code everytime. We gonna use special __init__ method"
   ]
  },
  {
   "cell_type": "code",
   "execution_count": null,
   "id": "72db7325",
   "metadata": {},
   "outputs": [],
   "source": [
    "emp1.__dict__"
   ]
  },
  {
   "cell_type": "code",
   "execution_count": null,
   "id": "2b172f7f",
   "metadata": {},
   "outputs": [],
   "source": [
    "class Employee:\n",
    "    \n",
    "    # when we create method inside a class, they receive the instance as the first arguments automatically and by \n",
    "    # onvention we call the that instance \"self\".\n",
    "    # __init__ method run evertime we create an instance    \n",
    "    def __init__(self, first, last, pay): \n",
    "        self.first=first\n",
    "        self.last=last\n",
    "        self.pay=pay\n",
    "        self.email=first + '.' + last + '@company.com'\n",
    "    \n",
    "    # method (perform some kind of action)\n",
    "    # display fullname\n",
    "    def fullname(self):\n",
    "        return '{} {}'.format(self.first, self.last)\n",
    "    "
   ]
  },
  {
   "cell_type": "code",
   "execution_count": null,
   "id": "762e0686",
   "metadata": {},
   "outputs": [],
   "source": [
    "# Now we can arguments to our class instance \n",
    "# emp1 will be pass as self in our Employee class\n",
    "emp1=Employee('alyx', 'mandario', 20000) # first/last/pay\n",
    "emp2=Employee('vane', 'ruby', 30000)"
   ]
  },
  {
   "cell_type": "code",
   "execution_count": null,
   "id": "e2260214",
   "metadata": {},
   "outputs": [],
   "source": [
    "# call atrribute\n",
    "emp1.email"
   ]
  },
  {
   "cell_type": "code",
   "execution_count": null,
   "id": "1d485350",
   "metadata": {},
   "outputs": [],
   "source": [
    "# call method\n",
    "emp1.fullname()"
   ]
  },
  {
   "cell_type": "markdown",
   "id": "0dfe0a66",
   "metadata": {},
   "source": [
    "### Class variable\n",
    "Variable that are shared among all instances of a class"
   ]
  },
  {
   "cell_type": "code",
   "execution_count": null,
   "id": "4042c4c6",
   "metadata": {},
   "outputs": [],
   "source": [
    "# what data we want to be shared among of our class employee\n",
    "# lets say all instance have a yearly bonus that are equal to all employee (50% pay bunos for example)\n",
    "  \n",
    "class Employee:\n",
    "    \n",
    "    \n",
    "    #class variable\n",
    "    raise_pct = 1.5\n",
    "    \n",
    "    # keep track of number of employee\n",
    "    num_emp = 0 \n",
    "    \n",
    "    # when we create method inside a class, they receive the instance as the first arguments automatically and by \n",
    "    # onvention we call the that instance \"self\".\n",
    "    def __init__(self, first, last, pay): \n",
    "        self.first=first\n",
    "        self.last=last\n",
    "        self.pay=pay\n",
    "        self.email=first + '.' + last + '@company.com'\n",
    "        \n",
    "        # access Employee class\n",
    "        Employee.num_emp += 1\n",
    "        \n",
    "        \n",
    "        \n",
    "    # method (perform some kind of action)\n",
    "    # display fullname\n",
    "    def fullname(self):\n",
    "        return '{} {}'.format(self.first, self.last)\n",
    "    \n",
    "    \n",
    "    \n",
    "    \n",
    "    # compute 50% raise bunos (update the pay to raise_pct value)\n",
    "    def raise_amount(self):\n",
    "        self.pay=int(self.pay * self.raise_pct)"
   ]
  },
  {
   "cell_type": "code",
   "execution_count": null,
   "id": "3d163bca",
   "metadata": {},
   "outputs": [],
   "source": [
    "emp1=Employee('alyx', 'mandario', 20000) # first/last/pay\n",
    "emp2=Employee('vane', 'ruby', 30000)"
   ]
  },
  {
   "cell_type": "code",
   "execution_count": null,
   "id": "620c0de7",
   "metadata": {},
   "outputs": [],
   "source": [
    "# orignal pay\n",
    "print(emp1.pay)\n",
    "\n",
    "# apply raise_amount method\n",
    "emp1.raise_amount()\n",
    "\n",
    "# updated pat\n",
    "print(emp1.pay)"
   ]
  },
  {
   "cell_type": "code",
   "execution_count": null,
   "id": "45bd582f",
   "metadata": {},
   "outputs": [],
   "source": [
    "# check raise_oct for the employee class and each individual instance\n",
    "print(Employee.raise_pct)\n",
    "print(emp1.raise_pct)\n",
    "print(emp2.raise_pct)\n",
    "\n",
    "# they all have the same raise_pct"
   ]
  },
  {
   "cell_type": "code",
   "execution_count": null,
   "id": "e4708254",
   "metadata": {},
   "outputs": [],
   "source": [
    "# change raise_pct for particular instance\n",
    "\n",
    "# raise_pct to 100%\n",
    "emp2.raise_pct = 2"
   ]
  },
  {
   "cell_type": "code",
   "execution_count": null,
   "id": "bcb0fcc9",
   "metadata": {},
   "outputs": [],
   "source": [
    "print(Employee.raise_pct)\n",
    "print(emp1.raise_pct)\n",
    "print(emp2.raise_pct)"
   ]
  },
  {
   "cell_type": "code",
   "execution_count": null,
   "id": "ffb68c01",
   "metadata": {},
   "outputs": [],
   "source": [
    "emp2.raise_amount()\n",
    "print(emp2.pay)"
   ]
  },
  {
   "cell_type": "code",
   "execution_count": null,
   "id": "aa47d39e",
   "metadata": {},
   "outputs": [],
   "source": [
    "# raise_pct to 100% to all instances(Employee class)\n",
    "Employee.raise_pct = 2"
   ]
  },
  {
   "cell_type": "code",
   "execution_count": null,
   "id": "c404a724",
   "metadata": {},
   "outputs": [],
   "source": [
    "print(Employee.raise_pct)\n",
    "print(emp1.raise_pct)\n",
    "print(emp2.raise_pct)"
   ]
  },
  {
   "cell_type": "code",
   "execution_count": null,
   "id": "646f9032",
   "metadata": {},
   "outputs": [],
   "source": [
    "# number of employee\n",
    "Employee.num_emp"
   ]
  },
  {
   "cell_type": "markdown",
   "id": "4c36a3b6",
   "metadata": {},
   "source": [
    "### @property\n",
    "- access method as like attributes"
   ]
  },
  {
   "cell_type": "code",
   "execution_count": null,
   "id": "5427044e",
   "metadata": {},
   "outputs": [],
   "source": [
    "class Employee:\n",
    "    def __init__(self, first, last, pay): \n",
    "        self.first=first\n",
    "        self.last=last\n",
    "        self.pay=pay\n",
    "        self.email=first + '.' + last + '@company.com'\n",
    "\n",
    "\n",
    "    def fullname(self):\n",
    "        return '{} {}'.format(self.first, self.last)"
   ]
  },
  {
   "cell_type": "code",
   "execution_count": 3,
   "id": "e0064845",
   "metadata": {},
   "outputs": [],
   "source": [
    "emp3=Employee('cat', 'kat', 30000)"
   ]
  },
  {
   "cell_type": "code",
   "execution_count": null,
   "id": "b1534c41",
   "metadata": {},
   "outputs": [],
   "source": [
    "emp3.fullname()"
   ]
  },
  {
   "cell_type": "code",
   "execution_count": null,
   "id": "b317c817",
   "metadata": {},
   "outputs": [],
   "source": [
    "emp3.fullname"
   ]
  },
  {
   "cell_type": "code",
   "execution_count": 5,
   "id": "fa4553f0",
   "metadata": {},
   "outputs": [],
   "source": [
    "class Employee:\n",
    "    def __init__(self, first, last, pay): \n",
    "        self.first=first\n",
    "        self.last=last\n",
    "        self.pay=pay\n",
    "        self.email=first + '.' + last + '@company.com'\n",
    "\n",
    "    @property\n",
    "    def fullname(self):\n",
    "        return '{} {}'.format(self.first, self.last)"
   ]
  },
  {
   "cell_type": "code",
   "execution_count": 6,
   "id": "1dc13c63",
   "metadata": {},
   "outputs": [],
   "source": [
    "emp3=Employee('cat', 'kat', 30000)"
   ]
  },
  {
   "cell_type": "code",
   "execution_count": 8,
   "id": "2e5ca69a",
   "metadata": {},
   "outputs": [
    {
     "data": {
      "text/plain": [
       "'cat kat'"
      ]
     },
     "execution_count": 8,
     "metadata": {},
     "output_type": "execute_result"
    }
   ],
   "source": [
    "emp3.fullname"
   ]
  },
  {
   "cell_type": "markdown",
   "id": "bd5bf1c2",
   "metadata": {},
   "source": [
    "### Functional Programing\n",
    "First Class Citezen"
   ]
  },
  {
   "cell_type": "code",
   "execution_count": 9,
   "id": "c65e2077",
   "metadata": {},
   "outputs": [],
   "source": [
    "def add(x, y):\n",
    "  return x + y\n",
    " \n",
    "def sub(x, y):\n",
    "  return x - y\n",
    " \n",
    "def times3(a, b, function):\n",
    "  return 3 * function(a, b)\n",
    " \n",
    "add_then_times3 = times3(2, 4, add) # 18\n",
    "sub_then_times3 = times3(2, 4, sub) # -6"
   ]
  },
  {
   "cell_type": "code",
   "execution_count": 11,
   "id": "1a499455",
   "metadata": {},
   "outputs": [
    {
     "data": {
      "text/plain": [
       "15"
      ]
     },
     "execution_count": 11,
     "metadata": {},
     "output_type": "execute_result"
    }
   ],
   "source": [
    "times3(2,3, add)"
   ]
  },
  {
   "cell_type": "markdown",
   "id": "1bec9fb6",
   "metadata": {},
   "source": [
    "### Tuple "
   ]
  },
  {
   "cell_type": "code",
   "execution_count": 12,
   "id": "6fc84a04",
   "metadata": {},
   "outputs": [],
   "source": [
    "student  = ((\"Scott\", 28, 'A'), (\"Nicole\", 26, 'B'), (\"John\", 29, 'D')) "
   ]
  },
  {
   "cell_type": "code",
   "execution_count": 13,
   "id": "527b6ba8",
   "metadata": {},
   "outputs": [],
   "source": [
    "from collections import namedtuple\n",
    " \n",
    "# Create a class called student\n",
    "student = namedtuple(\"student\", [\"name\", \"age\", \"grade\"]) \n",
    " \n",
    "# Create tuples for the three students\n",
    " \n",
    "scott = student(\"Scott\", 28, 'A')\n",
    "nicole = student(\"Nicole\", 26, 'B')\n",
    "john = student(\"John\", 29, 'D')"
   ]
  },
  {
   "cell_type": "code",
   "execution_count": 14,
   "id": "8f9f5239",
   "metadata": {},
   "outputs": [
    {
     "name": "stdout",
     "output_type": "stream",
     "text": [
      "Scott\n",
      "28\n",
      "A\n"
     ]
    }
   ],
   "source": [
    "print(scott.name) # Output: Scott\n",
    "print(scott.age) # Output: 28\n",
    "print(scott.grade) # Output: ‘A’"
   ]
  },
  {
   "cell_type": "code",
   "execution_count": 17,
   "id": "b86f9c71",
   "metadata": {},
   "outputs": [],
   "source": [
    "students = (scott, nicole, john)"
   ]
  },
  {
   "cell_type": "code",
   "execution_count": 18,
   "id": "3bf958bf",
   "metadata": {},
   "outputs": [
    {
     "data": {
      "text/plain": [
       "(student(name='Scott', age=28, grade='A'),\n",
       " student(name='Nicole', age=26, grade='B'),\n",
       " student(name='John', age=29, grade='D'))"
      ]
     },
     "execution_count": 18,
     "metadata": {},
     "output_type": "execute_result"
    }
   ],
   "source": [
    "students"
   ]
  },
  {
   "cell_type": "code",
   "execution_count": 20,
   "id": "3ec47d3f",
   "metadata": {},
   "outputs": [],
   "source": [
    "from collections import namedtuple\n",
    "\n",
    "# Checkpoint 1 code goes here.\n",
    "country = namedtuple('country', ['name', 'capital', 'continent'])\n",
    "\n",
    "# Checkpoint 2 code goes here.\n",
    "France = country('France', 'Paris', 'Europe')\n",
    "Japan = country('Japan', 'Tokyo', 'Asia')\n",
    "Senegal = country('Senegal','Dakar', 'Africa')\n",
    "\n",
    "# Checkpoint 3 code goes here.\n",
    "countries = (France, Japan, Senegal)"
   ]
  },
  {
   "cell_type": "code",
   "execution_count": 23,
   "id": "ed37993a",
   "metadata": {},
   "outputs": [
    {
     "data": {
      "text/plain": [
       "(country(name='France', capital='Paris', continent='Europe'),\n",
       " country(name='Japan', capital='Tokyo', continent='Asia'),\n",
       " country(name='Senegal', capital='Dakar', continent='Africa'))"
      ]
     },
     "execution_count": 23,
     "metadata": {},
     "output_type": "execute_result"
    }
   ],
   "source": [
    "countries"
   ]
  },
  {
   "cell_type": "markdown",
   "id": "b7059830",
   "metadata": {},
   "source": [
    "### Lamda"
   ]
  },
  {
   "cell_type": "code",
   "execution_count": 24,
   "id": "43227814",
   "metadata": {},
   "outputs": [
    {
     "name": "stdout",
     "output_type": "stream",
     "text": [
      "75\n",
      "84.0\n"
     ]
    }
   ],
   "source": [
    "# normal function\n",
    "def rect(b, h):\n",
    "  return b * h\n",
    " \n",
    "def tri(b, h):\n",
    "  return 0.5 * (b * h)\n",
    " \n",
    "# ppsm: price per square meter\n",
    "# dim: dimensions tuple\n",
    "def total_cost(ppsm, dim, area):\n",
    "  return ppsm * area(dim[0], dim[1])\n",
    " \n",
    "print(total_cost(3, (5, 5), rect)) # Rectangular sheet costing 75 units\n",
    "print(total_cost(4, (6, 7), tri)) # Rectangular sheet costing 84 units\n"
   ]
  },
  {
   "cell_type": "code",
   "execution_count": 26,
   "id": "bc5cdf77",
   "metadata": {},
   "outputs": [
    {
     "name": "stdout",
     "output_type": "stream",
     "text": [
      "75\n",
      "84.0\n"
     ]
    }
   ],
   "source": [
    "# lamda\n",
    "# ppsm: price per square meter\n",
    "# dim: dimensions tuple\n",
    "def total_cost(ppsm, dim, area):\n",
    "  return ppsm * area(dim[0], dim[1])\n",
    " \n",
    "print(total_cost(3, (5, 5), lambda b, h: b*h)) # Rectangular sheet costing 75 units\n",
    "print(total_cost(4, (6, 7), lambda b, h: 0.5 * b*h)) # Rectangular sheet costing 84 units"
   ]
  },
  {
   "cell_type": "code",
   "execution_count": 27,
   "id": "63b29d7e",
   "metadata": {},
   "outputs": [],
   "source": [
    "# Lambda functions can be stored in a variable like so:\n",
    "rect = lambda x, y: x * y\n",
    "tri = lambda x, y: 0.5 * x * y"
   ]
  },
  {
   "cell_type": "markdown",
   "id": "b5cab013",
   "metadata": {},
   "source": [
    "hghg"
   ]
  },
  {
   "cell_type": "code",
   "execution_count": null,
   "id": "5e17fc87",
   "metadata": {},
   "outputs": [],
   "source": []
  },
  {
   "cell_type": "code",
   "execution_count": null,
   "id": "227ed923",
   "metadata": {},
   "outputs": [],
   "source": []
  },
  {
   "cell_type": "code",
   "execution_count": null,
   "id": "b0a7f175",
   "metadata": {},
   "outputs": [],
   "source": []
  },
  {
   "cell_type": "code",
   "execution_count": null,
   "id": "76819567",
   "metadata": {},
   "outputs": [],
   "source": []
  },
  {
   "cell_type": "code",
   "execution_count": null,
   "id": "5a39d86e",
   "metadata": {},
   "outputs": [],
   "source": []
  },
  {
   "cell_type": "code",
   "execution_count": null,
   "id": "081eb6b9",
   "metadata": {},
   "outputs": [],
   "source": []
  },
  {
   "cell_type": "code",
   "execution_count": null,
   "id": "e7cc47d9",
   "metadata": {},
   "outputs": [],
   "source": []
  }
 ],
 "metadata": {
  "kernelspec": {
   "display_name": "Python 3 (ipykernel)",
   "language": "python",
   "name": "python3"
  },
  "language_info": {
   "codemirror_mode": {
    "name": "ipython",
    "version": 3
   },
   "file_extension": ".py",
   "mimetype": "text/x-python",
   "name": "python",
   "nbconvert_exporter": "python",
   "pygments_lexer": "ipython3",
   "version": "3.8.13"
  }
 },
 "nbformat": 4,
 "nbformat_minor": 5
}
