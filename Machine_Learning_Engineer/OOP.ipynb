{
 "cells": [
  {
   "cell_type": "markdown",
   "id": "7e039377",
   "metadata": {},
   "source": [
    "# Object Oriented Programing"
   ]
  },
  {
   "cell_type": "markdown",
   "id": "4587b74b",
   "metadata": {},
   "source": [
    "***\n"
   ]
  },
  {
   "cell_type": "markdown",
   "id": "ada69e29",
   "metadata": {},
   "source": [
    "# OOP Pillar: Inheritance"
   ]
  },
  {
   "cell_type": "code",
   "execution_count": null,
   "id": "512c3c35",
   "metadata": {},
   "outputs": [],
   "source": [
    "# parent class\n",
    "class Employee():\n",
    "  new_id = 1\n",
    "  def __init__(self):\n",
    "    self.id = Employee.new_id\n",
    "    Employee.new_id += 1\n",
    "\n",
    "  def say_id(self):\n",
    "    print(\"My id is {}.\".format(self.id))\n",
    "\n",
    "    \n",
    "# childred class\n",
    "# passing Employee Class into Admin Class (inherit Class Employee codes)\n",
    "class Admin(Employee):\n",
    "  pass\n"
   ]
  },
  {
   "cell_type": "code",
   "execution_count": null,
   "id": "20666247",
   "metadata": {},
   "outputs": [],
   "source": [
    "# object/class instance\n",
    "e1 = Employee()\n",
    "e2 = Employee()\n",
    "e3 = Admin()\n",
    "\n",
    "print(e1.id) # e1.id no close open bracket/this is instance variable\n",
    "e2.say_id() # say_id is a method\n",
    "e3.say_id() # e3 inherit the codes from Employee Class"
   ]
  },
  {
   "cell_type": "markdown",
   "id": "adfa30a4",
   "metadata": {},
   "source": [
    "### Overriding Methods\n",
    "When implementing inheritance, a child class may want to change the behavior of a method from its parent class"
   ]
  },
  {
   "cell_type": "code",
   "execution_count": null,
   "id": "c68ea597",
   "metadata": {},
   "outputs": [],
   "source": [
    "class Employee():\n",
    "  new_id = 1\n",
    "  def __init__(self):\n",
    "    self.id = Employee.new_id\n",
    "    Employee.new_id += 1\n",
    "\n",
    "  def say_id(self):\n",
    "    print(\"My id is {}.\".format(self.id))\n",
    "\n",
    "class Admin(Employee):\n",
    "  # Write your code below\n",
    "  def say_id(self):\n",
    "    print(\"I am an admin.\")"
   ]
  },
  {
   "cell_type": "code",
   "execution_count": null,
   "id": "d79c447c",
   "metadata": {},
   "outputs": [],
   "source": [
    "# object/class instance\n",
    "e1 = Employee()\n",
    "e2 = Employee()\n",
    "e3 = Admin()"
   ]
  },
  {
   "cell_type": "code",
   "execution_count": null,
   "id": "ce3f9b22",
   "metadata": {},
   "outputs": [],
   "source": [
    "e3.id"
   ]
  },
  {
   "cell_type": "code",
   "execution_count": null,
   "id": "8734919d",
   "metadata": {},
   "outputs": [],
   "source": [
    "e3.say_id()"
   ]
  },
  {
   "cell_type": "markdown",
   "id": "e1f3a7c5",
   "metadata": {},
   "source": [
    "### super()\n",
    "When overriding methods we sometimes want to still access the behavior of the parent method. In order to do that we need a way to call the method of the parent class."
   ]
  },
  {
   "cell_type": "code",
   "execution_count": null,
   "id": "c1156ca6",
   "metadata": {},
   "outputs": [],
   "source": [
    "class Animal:\n",
    "  def __init__(self, name, sound=\"Grrrr\"):\n",
    "    self.name = name\n",
    "    self.sound = sound\n",
    " \n",
    "  def make_noise(self):\n",
    "    print(\"{} says, {}\".format(self.name, self.sound))\n",
    " \n",
    "\n",
    "\n",
    "class Cat(Animal):\n",
    "  def __init__(self, name):\n",
    "    super().__init__(name, sound=\"Meow!\") # access the behavior of Animal Class\n",
    "\n",
    "class Dog(Animal):\n",
    "  def __init__(self, name):\n",
    "    super().__init__(name, sound=\"AW! aw!!\") \n"
   ]
  },
  {
   "cell_type": "code",
   "execution_count": null,
   "id": "19cb391c",
   "metadata": {},
   "outputs": [],
   "source": [
    "pet_cat = Cat(\"Rachel\")\n",
    "pet_cat.make_noise()"
   ]
  },
  {
   "cell_type": "code",
   "execution_count": null,
   "id": "f9936e94",
   "metadata": {},
   "outputs": [],
   "source": [
    "pet_animal = Animal(\"all animals\")\n",
    "pet_animal.make_noise()"
   ]
  },
  {
   "cell_type": "code",
   "execution_count": null,
   "id": "5dbc71e4",
   "metadata": {},
   "outputs": [],
   "source": [
    "pet_Dog = Animal(\"douglas\")\n",
    "pet_Dog.make_noise()"
   ]
  },
  {
   "cell_type": "markdown",
   "id": "634e5bb5",
   "metadata": {},
   "source": [
    "#### Example 2"
   ]
  },
  {
   "cell_type": "code",
   "execution_count": null,
   "id": "7c40008b",
   "metadata": {},
   "outputs": [],
   "source": [
    "class Employee():\n",
    "  new_id = 1\n",
    "  def __init__(self):\n",
    "    self.id = Employee.new_id\n",
    "    Employee.new_id += 1\n",
    "\n",
    "  def say_id(self):\n",
    "    print(\"My id is {}.\".format(self.id))\n",
    "\n",
    "class Admin(Employee):\n",
    "  def say_id(self):\n",
    "    # Write your code below:\n",
    "    super().say_id() # overide but still access the class employee method\n",
    "    print(\"I am an admin.\")\n",
    "\n",
    "e1 = Employee()\n",
    "e2 = Employee()\n",
    "e3 = Admin()\n",
    "e3.say_id()"
   ]
  },
  {
   "cell_type": "markdown",
   "id": "9702f32a",
   "metadata": {},
   "source": [
    "### Multiple Inheritance: Part 1"
   ]
  },
  {
   "cell_type": "code",
   "execution_count": null,
   "id": "3eee1feb",
   "metadata": {},
   "outputs": [],
   "source": [
    "class Animal:\n",
    "  def __init__(self, name):\n",
    "    self.name = name\n",
    " \n",
    "  def say_hi(self):\n",
    "    print(\"{} says, Hi!\".format(self.name))\n",
    " \n",
    "class Cat(Animal):\n",
    "  pass\n",
    " \n",
    "class Angry_Cat(Cat):\n",
    "  pass\n",
    " \n",
    "my_pet = Angry_Cat(\"Mr. Cranky\")\n",
    "my_pet.say_hi()"
   ]
  },
  {
   "cell_type": "markdown",
   "id": "cecb2bbe",
   "metadata": {},
   "source": [
    "In the above example, Angry_Cat inherits from Cat and Cat inherits from Animal. Both Angry_Cat and Cat have access to the Animal class name attribute and .say_hi() method. Any feature added to Cat, Angry_Cat will also have access to."
   ]
  },
  {
   "cell_type": "code",
   "execution_count": null,
   "id": "47ed4873",
   "metadata": {},
   "outputs": [],
   "source": [
    "class Employee():\n",
    "  new_id = 1\n",
    "  def __init__(self):\n",
    "    self.id = Employee.new_id\n",
    "    Employee.new_id += 1\n",
    "\n",
    "  def say_id(self):\n",
    "    print(\"My id is {}.\".format(self.id))\n",
    "\n",
    "class Admin(Employee):\n",
    "  def say_id(self):\n",
    "    super().say_id()  # call the Employee class say_id method\n",
    "    print(\"I am an admin.\")\n",
    "\n",
    "# Write your code below\n",
    "class Manager(Admin):\n",
    "  def say_id(self):\n",
    "    super().say_id()   # call the Admin class say_id method\n",
    "    print('Im incharge')\n"
   ]
  },
  {
   "cell_type": "code",
   "execution_count": null,
   "id": "e0231432",
   "metadata": {},
   "outputs": [],
   "source": [
    "e1 = Employee()\n",
    "e2 = Employee()\n",
    "e3 = Admin()\n",
    "e4 = Manager()\n",
    "\n",
    "e4.say_id()"
   ]
  },
  {
   "cell_type": "markdown",
   "id": "a8c3232c",
   "metadata": {},
   "source": [
    "### Multiple Inheritance: Part 2\n",
    "Another form of multiple inhertance involves a subclass that inherits directly from two classes and can use the attributes and methods of both."
   ]
  },
  {
   "cell_type": "code",
   "execution_count": null,
   "id": "eb45f2a8",
   "metadata": {},
   "outputs": [],
   "source": [
    "class Animal:\n",
    "  def __init__(self, name):\n",
    "    self.name = name\n",
    " \n",
    "class Dog(Animal):\n",
    "  def action(self):\n",
    "    print(\"{} wags tail. Awwww\".format(self.name))\n",
    " \n",
    "class Wolf(Animal):\n",
    "  def action(self):\n",
    "    print(\"{} bites. OUCH!\".format(self.name))\n",
    " \n",
    "class Hybrid(Dog, Wolf): # inherit both the dog and wolf class\n",
    "  def action(self):\n",
    "    super().action()\n",
    "    Wolf.action(self)\n",
    " \n",
    "my_pet = Hybrid(\"Fluffy\")\n",
    "my_pet.action()"
   ]
  },
  {
   "cell_type": "markdown",
   "id": "347f592b",
   "metadata": {},
   "source": [
    "### Example 2\n",
    "Admins in the company need access to the consumer-facing website. This means that admins must also be users of the site.\n",
    "The class User has been added and has the attributes username and role and the .say_user_info() method."
   ]
  },
  {
   "cell_type": "code",
   "execution_count": null,
   "id": "1b742987",
   "metadata": {},
   "outputs": [],
   "source": [
    "class Employee():\n",
    "  new_id = 1\n",
    "  def __init__(self):\n",
    "    self.id = Employee.new_id\n",
    "    Employee.new_id += 1\n",
    "\n",
    "  def say_id(self):\n",
    "    print(\"My id is {}.\".format(self.id))\n",
    "\n",
    "class User:\n",
    "  def __init__(self, username, role=\"Customer\"): # role 'Customer is implicit' in User Class\n",
    "    self.username = username\n",
    "    self.role = role\n",
    "\n",
    "  def say_user_info(self):\n",
    "    print(\"My username is {}\".format(self.username))\n",
    "    print(\"My role is {}\".format(self.role))\n",
    "\n",
    "# Write your code below\n",
    "class Admin(Employee, User):\n",
    "  def __init__(self):\n",
    "    super().__init__()\n",
    "    User.__init__(self, self.id, 'Admin') # call the init method of User class and pass the \n",
    "    # admin class instance, id and string 'Admin' as arguments to the .__init__ method call\n",
    "                                      \n",
    "  def say_id(self):\n",
    "    super().say_id()\n",
    "    print(\"I am an admin.\")\n",
    "\n",
    "e0 = User('alyx')    \n",
    "e1 = Employee()\n",
    "e2 = Employee()\n",
    "e3 = Admin()"
   ]
  },
  {
   "cell_type": "code",
   "execution_count": null,
   "id": "8ee1ffe1",
   "metadata": {},
   "outputs": [],
   "source": [
    "e3.say_user_info()"
   ]
  },
  {
   "cell_type": "code",
   "execution_count": null,
   "id": "675c309b",
   "metadata": {},
   "outputs": [],
   "source": [
    "e2.id"
   ]
  },
  {
   "cell_type": "code",
   "execution_count": null,
   "id": "c4f32d32",
   "metadata": {},
   "outputs": [],
   "source": [
    "e0.username"
   ]
  },
  {
   "cell_type": "code",
   "execution_count": null,
   "id": "c729a1d2",
   "metadata": {},
   "outputs": [],
   "source": [
    "e0.role"
   ]
  },
  {
   "cell_type": "markdown",
   "id": "d34dde4f",
   "metadata": {},
   "source": [
    "# OOP Pillar: Polymorphism"
   ]
  },
  {
   "cell_type": "code",
   "execution_count": null,
   "id": "3941261d",
   "metadata": {},
   "outputs": [],
   "source": [
    "class Animal:\n",
    "  def __init__(self, name):\n",
    "    self.name = name\n",
    " \n",
    "  def make_noise(self):\n",
    "    print(\"{} says, Grrrr\".format(self.name))\n",
    " \n",
    "class Cat(Animal):\n",
    " \n",
    "  def make_noise(self):\n",
    "    print(\"{} says, Meow!\".format(self.name))\n",
    " \n",
    "class Robot:\n",
    " \n",
    "  def make_noise(self):\n",
    "    print(\"beep.boop...BEEEEP!!!\")"
   ]
  },
  {
   "cell_type": "markdown",
   "id": "2b1a8ba8",
   "metadata": {},
   "source": [
    "The example above shows an Animal class, its subclass Cat, and another standalone class Robot. Each class has a method .make_noise() with different outputs. The identical method name with different behaviors is a form of polymorphism."
   ]
  },
  {
   "cell_type": "code",
   "execution_count": null,
   "id": "b0672f82",
   "metadata": {},
   "outputs": [],
   "source": [
    "an_animal = Animal(\"Bear\")\n",
    "my_pet = Cat(\"Maisy\")\n",
    "my_vacuum = Robot()\n",
    "\n",
    "objects = [an_animal, my_pet, my_vacuum]\n",
    "\n",
    "for o in objects:\n",
    "  o.make_noise()"
   ]
  },
  {
   "cell_type": "markdown",
   "id": "9321651c",
   "metadata": {},
   "source": [
    "### Dunder Methods"
   ]
  },
  {
   "cell_type": "code",
   "execution_count": null,
   "id": "00cea8ef",
   "metadata": {},
   "outputs": [],
   "source": [
    "class Animal:\n",
    "  def __init__(self, name):\n",
    "    self.name = name\n",
    " \n",
    "  def __repr__(self):\n",
    "    return self.name\n",
    " \n",
    "  def __add__(self, another_animal):\n",
    "    return Animal(self.name + another_animal.name)\n",
    " \n",
    "a1 = Animal(\"Horse\")\n",
    "a2 = Animal(\"Penguin\")\n",
    "a3 = a1 + a2\n"
   ]
  },
  {
   "cell_type": "code",
   "execution_count": null,
   "id": "c083593d",
   "metadata": {},
   "outputs": [],
   "source": [
    "print(a1) # Prints \"Horse\"\n",
    "print(a2) # Prints \"Penguin\"\n",
    "print(a3) # Prints \"HorsePenguin\""
   ]
  },
  {
   "cell_type": "markdown",
   "id": "2b1e7727",
   "metadata": {},
   "source": [
    "The line of code a3 = a1 + a2 invokes the .__add__() method of the left operand, a1, with the right operand a2 passed as an argument. The name attributes of a1 and a2 are concatenated using the .__add__() parameters, self and another_animal. The resulting string is used as the name of a new Animal object which is returned to become the value of a3."
   ]
  },
  {
   "cell_type": "markdown",
   "id": "6a9a4fa6",
   "metadata": {},
   "source": [
    "### Example2"
   ]
  },
  {
   "cell_type": "code",
   "execution_count": null,
   "id": "c5ea8719",
   "metadata": {},
   "outputs": [],
   "source": [
    "####\n",
    "class Employee():\n",
    "  new_id = 1\n",
    "  def __init__(self):\n",
    "    self.id = Employee.new_id\n",
    "    Employee.new_id += 1\n",
    "\n",
    "    \n",
    "#####    \n",
    "class Meeting:\n",
    "  def __init__(self):\n",
    "    self.attendees = []\n",
    "  \n",
    "  def __add__(self, employee):\n",
    "    print(\"ID {} added.\".format(employee.id))\n",
    "    self.attendees.append(employee)\n",
    "\n",
    "  # Write your code\n",
    "  def __len__(self):\n",
    "    return len(self.attendees)\n"
   ]
  },
  {
   "cell_type": "code",
   "execution_count": null,
   "id": "92e2e79e",
   "metadata": {},
   "outputs": [],
   "source": [
    "e1 = Employee()\n",
    "e2 = Employee()\n",
    "e3 = Employee()\n",
    "m1 = Meeting()"
   ]
  },
  {
   "cell_type": "code",
   "execution_count": null,
   "id": "9fe0e512",
   "metadata": {},
   "outputs": [],
   "source": [
    "m1 + e1\n",
    "m1 + e2\n",
    "m1 + e3\n",
    "print(len(m1))"
   ]
  },
  {
   "cell_type": "code",
   "execution_count": null,
   "id": "5c02b084",
   "metadata": {},
   "outputs": [],
   "source": [
    "e1"
   ]
  },
  {
   "cell_type": "code",
   "execution_count": null,
   "id": "90d029ba",
   "metadata": {},
   "outputs": [],
   "source": [
    "m1.attendees"
   ]
  },
  {
   "cell_type": "markdown",
   "id": "f61f9026",
   "metadata": {},
   "source": [
    "# OOP Pillar: Abstraction"
   ]
  },
  {
   "cell_type": "code",
   "execution_count": null,
   "id": "dbd67fc3",
   "metadata": {},
   "outputs": [],
   "source": [
    "from abc import ABC, abstractmethod\n",
    " \n",
    "class Animal(ABC):\n",
    "  def __init__(self, name):\n",
    "    self.name = name\n",
    " \n",
    "  @abstractmethod\n",
    "  def make_noise(self):\n",
    "    pass\n",
    " \n",
    "class Cat(Animal):\n",
    "  def make_noise(self):\n",
    "    print(\"{} says, Meow!\".format(self.name))\n",
    " \n",
    "class Dog(Animal):\n",
    "  def make_noise(self):\n",
    "    print(\"{} says, Woof!\".format(self.name))\n",
    " \n",
    "kitty = Cat(\"Maisy\")\n",
    "doggy = Dog(\"Amber\")"
   ]
  },
  {
   "cell_type": "code",
   "execution_count": null,
   "id": "4139c6d4",
   "metadata": {},
   "outputs": [],
   "source": [
    "kitty.make_noise() \n",
    "doggy.make_noise() "
   ]
  },
  {
   "cell_type": "markdown",
   "id": "e2b4e1a6",
   "metadata": {},
   "source": [
    "Above we have Cat and Dog classes that inherit from Animal. The Animal class now inherits from an imported class ABC, which stands for Abstract Base Class.\n",
    "\n",
    "This is the first step to making Animal an abstract class that cannot be instantiated. The second step is using the imported decorator @abstractmethod on the empty method .make_noise().\n",
    "\n",
    "The below line of code would throw an error."
   ]
  },
  {
   "cell_type": "markdown",
   "id": "d0a0254b",
   "metadata": {},
   "source": [
    "    an_animal = Animal(\"Scruffy\")\n",
    " \n",
    "    TypeError: Can't instantiate abstract class Animal with abstract method make_noise\n"
   ]
  },
  {
   "cell_type": "markdown",
   "id": "7ebbc0e2",
   "metadata": {},
   "source": [
    "The abstraction process defines what an Animal is but does not allow the creation of one. The .__init__() method still requires a name, since we feel all animals deserve a name.\n",
    "\n",
    "The .make_noise() method exists since all animals make some form of noise, but the method is not implemented since each animal makes a different noise. Each subclass of Animal is now required to define their own .make_noise() method or an error will occur.\n",
    "\n",
    "These are some of the ways abstraction supports the design of an organized class structure."
   ]
  },
  {
   "cell_type": "markdown",
   "id": "78e4d8e8",
   "metadata": {},
   "source": [
    "### Example 2"
   ]
  },
  {
   "cell_type": "code",
   "execution_count": null,
   "id": "3d003b05",
   "metadata": {},
   "outputs": [],
   "source": [
    "from abc import ABC, abstractmethod\n",
    "\n",
    "# Blue print code\n",
    "class Vehicle(ABC):\n",
    "    def __init__(self, brand, year):\n",
    "        self.brand=brand\n",
    "        self.year=year\n",
    "        self.gas=False\n",
    "        self.deisel=False\n",
    "        self.electric=False\n",
    "    \n",
    "    @abstractmethod\n",
    "    def driving(self):\n",
    "        pass\n",
    "    \n",
    "\n",
    "##### \n",
    "class GasCar(Vehicle): #inherit the Vehicle Class\n",
    "    def __init__(self, brand, year):\n",
    "        super().__init__(brand, year) # access the behavior of Vehicle class\n",
    "        self.gas=True # overide methods\n",
    "        \n",
    "    \n",
    "    def driving(self):\n",
    "        print(\"{} {} is in drive mode\".format(self.brand, self.year))\n",
    "        \n",
    "#####\n",
    "class ElectricCar(Vehicle): #inherit the Vehicle Class\n",
    "    def __init__(self, brand, year):\n",
    "        super().__init__(brand, year) # access the behavior of Vehicle class\n",
    "        self.electric=True # overide methods\n",
    "        \n",
    "    \n",
    "    def driving(self):\n",
    "        print(\"{} {} is in drive mode\".format(self.brand, self.year))"
   ]
  },
  {
   "cell_type": "code",
   "execution_count": null,
   "id": "e5e17639",
   "metadata": {},
   "outputs": [],
   "source": [
    "h1 = GasCar('Honda','2002')\n",
    "h2 = GasCar('Honda', '2022')"
   ]
  },
  {
   "cell_type": "code",
   "execution_count": null,
   "id": "469fb3b4",
   "metadata": {},
   "outputs": [],
   "source": [
    "print(h1.brand)\n",
    "print(h1.year)\n",
    "print(h1.gas)\n",
    "h1.driving()"
   ]
  },
  {
   "cell_type": "code",
   "execution_count": null,
   "id": "60223431",
   "metadata": {},
   "outputs": [],
   "source": [
    "e1 = ElectricCar('Tesla', '2000')"
   ]
  },
  {
   "cell_type": "code",
   "execution_count": null,
   "id": "b1306fd8",
   "metadata": {},
   "outputs": [],
   "source": [
    "print(e1.brand)\n",
    "print(e1.year)\n",
    "print(e1.gas)\n",
    "print(e1.electric)\n",
    "e1.driving()"
   ]
  },
  {
   "cell_type": "markdown",
   "id": "23618e3a",
   "metadata": {},
   "source": [
    "# OOP Pillar: Encapsulation"
   ]
  },
  {
   "cell_type": "code",
   "execution_count": null,
   "id": "46242ab3",
   "metadata": {},
   "outputs": [],
   "source": [
    "class Employee():\n",
    "    def __init__(self):\n",
    "        self.id = None\n",
    "        # Write your code below\n",
    "        self._id = 'watever'\n",
    "        self.__id = 'whocares'\n",
    "        \n",
    "\n",
    "e = Employee()\n",
    "print(dir(e))"
   ]
  },
  {
   "cell_type": "markdown",
   "id": "309bf5d3",
   "metadata": {},
   "source": [
    "### Getters, Setters and Deleters"
   ]
  },
  {
   "cell_type": "code",
   "execution_count": null,
   "id": "f4352882",
   "metadata": {},
   "outputs": [],
   "source": [
    "class Animal:\n",
    "  def __init__(self, name):\n",
    "    self._name = name\n",
    "    self._age = None\n",
    " \n",
    "  def get_age(self):\n",
    "    return self._age\n",
    " \n",
    "  def set_age(self, new_age):\n",
    "    if isinstance(new_age, int):\n",
    "      self._age = new_age\n",
    "    else:\n",
    "      raise TypeError\n",
    " \n",
    "  def delete_age(self):\n",
    "    print(\"_age Deleted\")\n",
    "    del self._age"
   ]
  },
  {
   "cell_type": "code",
   "execution_count": null,
   "id": "e8352ad8",
   "metadata": {},
   "outputs": [],
   "source": [
    "dog1 = Animal('cho2')"
   ]
  },
  {
   "cell_type": "code",
   "execution_count": null,
   "id": "8a65474e",
   "metadata": {},
   "outputs": [],
   "source": [
    "dog1._name"
   ]
  },
  {
   "cell_type": "code",
   "execution_count": null,
   "id": "ba69581a",
   "metadata": {},
   "outputs": [],
   "source": [
    "dog1.set_age(13)"
   ]
  },
  {
   "cell_type": "code",
   "execution_count": null,
   "id": "84864dcd",
   "metadata": {},
   "outputs": [],
   "source": [
    "dog1.get_age()"
   ]
  },
  {
   "cell_type": "code",
   "execution_count": null,
   "id": "ce8f1554",
   "metadata": {},
   "outputs": [],
   "source": [
    "dog1. delete_age()"
   ]
  },
  {
   "cell_type": "code",
   "execution_count": null,
   "id": "c8725369",
   "metadata": {},
   "outputs": [],
   "source": [
    "# dog1.get_age()"
   ]
  },
  {
   "cell_type": "markdown",
   "id": "5c62197a",
   "metadata": {},
   "source": [
    "Looking at the Animal class above there is an _age attribute with a single underscore. This notates it is intended to be used only within the module. There are then 3 methods related to age each with a different purpose. These define the getter, setter, and deleter of the specific property.\n",
    "\n",
    "The first method related to age is a getter and returns self._age. The setter is implemented below that. It includes logic that ensures that the value passed to new_age is an integer. If so, self._age = new_age. If not, raise an error. This is useful and shows the power of using these functions for encapsulation.\n",
    "\n",
    "The deleter is implemented below the setter. It outputs a confirmation message and uses the del keyword to delete the self._age attribute."
   ]
  },
  {
   "cell_type": "code",
   "execution_count": null,
   "id": "b199672e",
   "metadata": {},
   "outputs": [],
   "source": [
    "class Employee():\n",
    "  new_id = 1\n",
    "  def __init__(self, name=None): # name default to None unless a string argument is passed during instantiation.\n",
    "    self.id = Employee.new_id\n",
    "    Employee.new_id += 1\n",
    "    self._name = name\n",
    "\n",
    "  # getter\n",
    "  def get_name(self):\n",
    "    return self._name\n",
    "  \n",
    " # setter\n",
    "  def set_name(self, new_name):\n",
    "    self._name = new_name\n",
    "\n",
    " # deleter\n",
    "  def del_name(self):\n",
    "    del self._name\n"
   ]
  },
  {
   "cell_type": "code",
   "execution_count": null,
   "id": "d22e0285",
   "metadata": {},
   "outputs": [],
   "source": [
    "### class instance\n",
    "e1 = Employee(\"Maisy\")\n",
    "e2 = Employee()"
   ]
  },
  {
   "cell_type": "code",
   "execution_count": null,
   "id": "52cdbc69",
   "metadata": {},
   "outputs": [],
   "source": [
    "print(e1.get_name())"
   ]
  },
  {
   "cell_type": "code",
   "execution_count": null,
   "id": "c9dcac33",
   "metadata": {},
   "outputs": [],
   "source": [
    "e2.set_name(\"Fluffy\")\n",
    "print(e2.get_name())"
   ]
  },
  {
   "cell_type": "code",
   "execution_count": null,
   "id": "7b7fb5ce",
   "metadata": {},
   "outputs": [],
   "source": [
    "# e2.del_name()\n",
    "# print(e2.get_name())"
   ]
  },
  {
   "cell_type": "markdown",
   "id": "ec19365a",
   "metadata": {},
   "source": [
    "***"
   ]
  },
  {
   "cell_type": "markdown",
   "id": "12de1bb6",
   "metadata": {},
   "source": [
    "# Review"
   ]
  },
  {
   "cell_type": "markdown",
   "id": "70b7e579",
   "metadata": {},
   "source": [
    "### Inheritance\n",
    "Python allows classes to inherit on multiple levels. Meaning a class can inherit from a base class as well as a derived class. Python also supports multiple inheritance, where one class can inherit from any number of other classes. This allows us to describe complex relationships between objects with minimal repeated code.\n",
    "\n",
    "### Polymorphism\n",
    "Polymorphism is a concept that allows functions and objects to behave in different ways depending on context. There is the polymorphism of functions like len() or the addition operator +, which can act differently depending on the provided data.\n",
    "\n",
    "### Abstraction\n",
    "Python supports the concept of abstraction by allowing objects with methods that have the same name, to be called in a general manner. Further, Python provides the Abstract Base Class (ABC) for us to create a more clearly defined interface.\n",
    "\n",
    "### Encapsulation\n",
    "Python’s approach to encapsulation is unique compared to most other object-oriented programming languages. In Python, all members of an object are publicly accessible but there are conventions to indicate to developers that a member is intended to be protected or private."
   ]
  },
  {
   "cell_type": "markdown",
   "id": "8587b7eb",
   "metadata": {},
   "source": [
    "#### In this lesson, we learned more complicated relationships between classes. We learned:\n",
    "\n",
    "1. How to create a subclass of an existing class.\n",
    "2. How to redefine existing methods of a parent class in a subclass by overriding them.\n",
    "3. How to leverage a parent class’s methods in the body of a subclass method using the super() function.\n",
    "4. How to write programs that are flexible using interfaces and polymorphism.\n",
    "5. How to write data types that look and feel like native data types with dunder methods."
   ]
  },
  {
   "cell_type": "markdown",
   "id": "c424c5c5",
   "metadata": {},
   "source": [
    "# Sample Codes"
   ]
  },
  {
   "cell_type": "code",
   "execution_count": null,
   "id": "0ea6a225",
   "metadata": {},
   "outputs": [],
   "source": [
    "from abc import ABC, abstractmethod\n",
    "\n",
    "class AbstractEmployee(ABC):\n",
    "  new_id = 1\n",
    "  def __init__(self):\n",
    "    self.id = AbstractEmployee.new_id\n",
    "    AbstractEmployee.new_id += 1\n",
    "\n",
    "  @abstractmethod\n",
    "  def say_id(self):\n",
    "    pass\n",
    "\n",
    "\n",
    "########\n",
    "class User:\n",
    "  def __init__(self):\n",
    "    self._username = None\n",
    "\n",
    "  @property\n",
    "  def username(self):\n",
    "    return self._username\n",
    "\n",
    "  @username.setter\n",
    "  def username(self, new_name):\n",
    "    self._username = new_name\n",
    "\n",
    "    \n",
    "    \n",
    "########    \n",
    "class Meeting:\n",
    "  def __init__(self):\n",
    "    self.attendees = []\n",
    "  \n",
    "  def __add__(self, employee):\n",
    "    print(\"{} added.\".format(employee.username))\n",
    "    self.attendees.append(employee.username)\n",
    "\n",
    "  def __len__(self):\n",
    "    return len(self.attendees)\n",
    "\n",
    "\n",
    "\n",
    "#######\n",
    "class Employee(AbstractEmployee, User):\n",
    "    def __init__(self, username):\n",
    "      super().__init__()\n",
    "      User.__init__(self)\n",
    "      self.username = username\n",
    "\n",
    "    def say_id(self):\n",
    "      print(\"My id is {}\".format(self.id))\n",
    " \n",
    "    def say_username(self):\n",
    "      print(\"My username is {}\".format(self.username))"
   ]
  },
  {
   "cell_type": "markdown",
   "id": "e78e047b",
   "metadata": {},
   "source": [
    "***"
   ]
  },
  {
   "cell_type": "markdown",
   "id": "84247b4f",
   "metadata": {},
   "source": [
    "# Corey Schafer"
   ]
  },
  {
   "cell_type": "markdown",
   "id": "43f788be",
   "metadata": {},
   "source": [
    "### Classes and Instance"
   ]
  },
  {
   "cell_type": "code",
   "execution_count": null,
   "id": "65eb217d",
   "metadata": {},
   "outputs": [],
   "source": [
    "class Employee:\n",
    "    pass"
   ]
  },
  {
   "cell_type": "code",
   "execution_count": null,
   "id": "3fe2a692",
   "metadata": {},
   "outputs": [],
   "source": [
    "# class instance\n",
    "emp1=Employee()\n",
    "emp2=Employee()"
   ]
  },
  {
   "cell_type": "code",
   "execution_count": null,
   "id": "e3b81b28",
   "metadata": {},
   "outputs": [],
   "source": [
    "# Instance Variable are unique to each instance \n",
    "# each of these instance has attributes that unique to them\n",
    "\n",
    "emp1.first='alyx'\n",
    "emp1.last='mandario'\n",
    "emp1.email='alyxmandario@gmail.com'\n",
    "emp1.pay=20000\n",
    "\n",
    "emp2.first='vane'\n",
    "emp2.last='ruby'\n",
    "emp2.email='vaneruby@gmail.com'\n",
    "emp2.pay=30000\n",
    "\n",
    "# we dont have to do this alot of code everytime. We gonna use special __init__ method"
   ]
  },
  {
   "cell_type": "code",
   "execution_count": null,
   "id": "72db7325",
   "metadata": {},
   "outputs": [],
   "source": [
    "emp1.__dict__"
   ]
  },
  {
   "cell_type": "code",
   "execution_count": null,
   "id": "2b172f7f",
   "metadata": {},
   "outputs": [],
   "source": [
    "class Employee:\n",
    "    \n",
    "    # when we create method inside a class, they receive the instance as the first arguments automatically and by \n",
    "    # onvention we call the that instance \"self\".\n",
    "    # __init__ method run evertime we create an instance    \n",
    "    def __init__(self, first, last, pay): \n",
    "        self.first=first\n",
    "        self.last=last\n",
    "        self.pay=pay\n",
    "        self.email=first + '.' + last + '@company.com'\n",
    "    \n",
    "    # method (perform some kind of action)\n",
    "    # display fullname\n",
    "    def fullname(self):\n",
    "        return '{} {}'.format(self.first, self.last)\n",
    "    "
   ]
  },
  {
   "cell_type": "code",
   "execution_count": null,
   "id": "762e0686",
   "metadata": {},
   "outputs": [],
   "source": [
    "# Now we can arguments to our class instance \n",
    "# emp1 will be pass as self in our Employee class\n",
    "emp1=Employee('alyx', 'mandario', 20000) # first/last/pay\n",
    "emp2=Employee('vane', 'ruby', 30000)"
   ]
  },
  {
   "cell_type": "code",
   "execution_count": null,
   "id": "e2260214",
   "metadata": {},
   "outputs": [],
   "source": [
    "# call atrribute\n",
    "emp1.email"
   ]
  },
  {
   "cell_type": "code",
   "execution_count": null,
   "id": "1d485350",
   "metadata": {},
   "outputs": [],
   "source": [
    "# call method\n",
    "emp1.fullname()"
   ]
  },
  {
   "cell_type": "markdown",
   "id": "0dfe0a66",
   "metadata": {},
   "source": [
    "### Class variable\n",
    "Variable that are shared among all instances of a class"
   ]
  },
  {
   "cell_type": "code",
   "execution_count": 45,
   "id": "4042c4c6",
   "metadata": {},
   "outputs": [],
   "source": [
    "# what data we want to be shared among of our class employee\n",
    "# lets say all instance have a yearly bonus that are equal to all employee (50% pay bunos for example)\n",
    "  \n",
    "class Employee:\n",
    "    \n",
    "    \n",
    "    #class variable\n",
    "    raise_pct = 1.5\n",
    "    \n",
    "    # keep track of number of employee\n",
    "    num_emp = 0 \n",
    "    \n",
    "    # when we create method inside a class, they receive the instance as the first arguments automatically and by \n",
    "    # onvention we call the that instance \"self\".\n",
    "    def __init__(self, first, last, pay): \n",
    "        self.first=first\n",
    "        self.last=last\n",
    "        self.pay=pay\n",
    "        self.email=first + '.' + last + '@company.com'\n",
    "        \n",
    "        # access Employee class\n",
    "        Employee.num_emp += 1\n",
    "        \n",
    "        \n",
    "        \n",
    "    # method (perform some kind of action)\n",
    "    # display fullname\n",
    "    def fullname(self):\n",
    "        return '{} {}'.format(self.first, self.last)\n",
    "    \n",
    "    \n",
    "    \n",
    "    \n",
    "    # compute 50% raise bunos (update the pay to raise_pct value)\n",
    "    def raise_amount(self):\n",
    "        self.pay=int(self.pay * self.raise_pct)"
   ]
  },
  {
   "cell_type": "code",
   "execution_count": 47,
   "id": "3d163bca",
   "metadata": {},
   "outputs": [],
   "source": [
    "emp1=Employee('alyx', 'mandario', 20000) # first/last/pay\n",
    "emp2=Employee('vane', 'ruby', 30000)"
   ]
  },
  {
   "cell_type": "code",
   "execution_count": 48,
   "id": "620c0de7",
   "metadata": {},
   "outputs": [
    {
     "name": "stdout",
     "output_type": "stream",
     "text": [
      "20000\n",
      "30000\n"
     ]
    }
   ],
   "source": [
    "# orignal pay\n",
    "print(emp1.pay)\n",
    "\n",
    "# apply raise_amount method\n",
    "emp1.raise_amount()\n",
    "\n",
    "# updated pat\n",
    "print(emp1.pay)"
   ]
  },
  {
   "cell_type": "code",
   "execution_count": 49,
   "id": "45bd582f",
   "metadata": {},
   "outputs": [
    {
     "name": "stdout",
     "output_type": "stream",
     "text": [
      "1.5\n",
      "1.5\n",
      "1.5\n"
     ]
    }
   ],
   "source": [
    "# check raise_oct for the employee class and each individual instance\n",
    "print(Employee.raise_pct)\n",
    "print(emp1.raise_pct)\n",
    "print(emp2.raise_pct)\n",
    "\n",
    "# they all have the same raise_pct"
   ]
  },
  {
   "cell_type": "code",
   "execution_count": 50,
   "id": "e4708254",
   "metadata": {},
   "outputs": [],
   "source": [
    "# change raise_pct for particular instance\n",
    "\n",
    "# raise_pct to 100%\n",
    "emp2.raise_pct = 2"
   ]
  },
  {
   "cell_type": "code",
   "execution_count": 51,
   "id": "bcb0fcc9",
   "metadata": {},
   "outputs": [
    {
     "name": "stdout",
     "output_type": "stream",
     "text": [
      "1.5\n",
      "1.5\n",
      "2\n"
     ]
    }
   ],
   "source": [
    "print(Employee.raise_pct)\n",
    "print(emp1.raise_pct)\n",
    "print(emp2.raise_pct)"
   ]
  },
  {
   "cell_type": "code",
   "execution_count": 52,
   "id": "ffb68c01",
   "metadata": {},
   "outputs": [
    {
     "name": "stdout",
     "output_type": "stream",
     "text": [
      "60000\n"
     ]
    }
   ],
   "source": [
    "emp2.raise_amount()\n",
    "print(emp2.pay)"
   ]
  },
  {
   "cell_type": "code",
   "execution_count": 53,
   "id": "aa47d39e",
   "metadata": {},
   "outputs": [],
   "source": [
    "# raise_pct to 100% to all instances(Employee class)\n",
    "Employee.raise_pct = 2"
   ]
  },
  {
   "cell_type": "code",
   "execution_count": 54,
   "id": "c404a724",
   "metadata": {},
   "outputs": [
    {
     "name": "stdout",
     "output_type": "stream",
     "text": [
      "2\n",
      "2\n",
      "2\n"
     ]
    }
   ],
   "source": [
    "print(Employee.raise_pct)\n",
    "print(emp1.raise_pct)\n",
    "print(emp2.raise_pct)"
   ]
  },
  {
   "cell_type": "code",
   "execution_count": 55,
   "id": "646f9032",
   "metadata": {},
   "outputs": [
    {
     "data": {
      "text/plain": [
       "2"
      ]
     },
     "execution_count": 55,
     "metadata": {},
     "output_type": "execute_result"
    }
   ],
   "source": [
    "# number of employee\n",
    "Employee.num_emp"
   ]
  },
  {
   "cell_type": "code",
   "execution_count": null,
   "id": "2b3d14ce",
   "metadata": {},
   "outputs": [],
   "source": []
  },
  {
   "cell_type": "code",
   "execution_count": null,
   "id": "5427044e",
   "metadata": {},
   "outputs": [],
   "source": []
  },
  {
   "cell_type": "code",
   "execution_count": null,
   "id": "e0064845",
   "metadata": {},
   "outputs": [],
   "source": []
  },
  {
   "cell_type": "code",
   "execution_count": null,
   "id": "b1534c41",
   "metadata": {},
   "outputs": [],
   "source": []
  },
  {
   "cell_type": "code",
   "execution_count": null,
   "id": "fa4553f0",
   "metadata": {},
   "outputs": [],
   "source": []
  },
  {
   "cell_type": "code",
   "execution_count": null,
   "id": "2e5ca69a",
   "metadata": {},
   "outputs": [],
   "source": []
  },
  {
   "cell_type": "code",
   "execution_count": null,
   "id": "aec5f658",
   "metadata": {},
   "outputs": [],
   "source": []
  },
  {
   "cell_type": "code",
   "execution_count": null,
   "id": "7a3465bb",
   "metadata": {},
   "outputs": [],
   "source": []
  }
 ],
 "metadata": {
  "kernelspec": {
   "display_name": "Python 3 (ipykernel)",
   "language": "python",
   "name": "python3"
  },
  "language_info": {
   "codemirror_mode": {
    "name": "ipython",
    "version": 3
   },
   "file_extension": ".py",
   "mimetype": "text/x-python",
   "name": "python",
   "nbconvert_exporter": "python",
   "pygments_lexer": "ipython3",
   "version": "3.8.13"
  }
 },
 "nbformat": 4,
 "nbformat_minor": 5
}
