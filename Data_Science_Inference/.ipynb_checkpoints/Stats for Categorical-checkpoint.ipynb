{
 "cells": [
  {
   "cell_type": "markdown",
   "id": "7cf04528",
   "metadata": {},
   "source": [
    "# Summary Statistic for Categorical Variable"
   ]
  },
  {
   "cell_type": "code",
   "execution_count": 12,
   "id": "afc6cd75",
   "metadata": {},
   "outputs": [
    {
     "name": "stdout",
     "output_type": "stream",
     "text": [
      "(50000, 6)\n"
     ]
    },
    {
     "data": {
      "text/html": [
       "<div>\n",
       "<style scoped>\n",
       "    .dataframe tbody tr th:only-of-type {\n",
       "        vertical-align: middle;\n",
       "    }\n",
       "\n",
       "    .dataframe tbody tr th {\n",
       "        vertical-align: top;\n",
       "    }\n",
       "\n",
       "    .dataframe thead th {\n",
       "        text-align: right;\n",
       "    }\n",
       "</style>\n",
       "<table border=\"1\" class=\"dataframe\">\n",
       "  <thead>\n",
       "    <tr style=\"text-align: right;\">\n",
       "      <th></th>\n",
       "      <th>tree_id</th>\n",
       "      <th>trunk_diam</th>\n",
       "      <th>status</th>\n",
       "      <th>health</th>\n",
       "      <th>spc_common</th>\n",
       "      <th>neighborhood</th>\n",
       "    </tr>\n",
       "  </thead>\n",
       "  <tbody>\n",
       "    <tr>\n",
       "      <th>0</th>\n",
       "      <td>199250</td>\n",
       "      <td>8</td>\n",
       "      <td>Alive</td>\n",
       "      <td>Good</td>\n",
       "      <td>crab apple</td>\n",
       "      <td>Lincoln Square</td>\n",
       "    </tr>\n",
       "    <tr>\n",
       "      <th>1</th>\n",
       "      <td>136891</td>\n",
       "      <td>17</td>\n",
       "      <td>Alive</td>\n",
       "      <td>Good</td>\n",
       "      <td>honeylocust</td>\n",
       "      <td>East Harlem North</td>\n",
       "    </tr>\n",
       "    <tr>\n",
       "      <th>2</th>\n",
       "      <td>200218</td>\n",
       "      <td>3</td>\n",
       "      <td>Alive</td>\n",
       "      <td>Good</td>\n",
       "      <td>ginkgo</td>\n",
       "      <td>Chinatown</td>\n",
       "    </tr>\n",
       "  </tbody>\n",
       "</table>\n",
       "</div>"
      ],
      "text/plain": [
       "   tree_id  trunk_diam status health   spc_common       neighborhood\n",
       "0   199250           8  Alive   Good   crab apple     Lincoln Square\n",
       "1   136891          17  Alive   Good  honeylocust  East Harlem North\n",
       "2   200218           3  Alive   Good       ginkgo          Chinatown"
      ]
     },
     "execution_count": 12,
     "metadata": {},
     "output_type": "execute_result"
    }
   ],
   "source": [
    "import matplotlib.pyplot as plt\n",
    "import pandas as pd\n",
    "import seaborn as sns\n",
    "\n",
    "\n",
    "df = pd.read_csv('nyc_tree_census.csv')\n",
    "print(df.shape)\n",
    "df.head(3)"
   ]
  },
  {
   "cell_type": "markdown",
   "id": "faafb635",
   "metadata": {},
   "source": [
    "## Ordinal Category\n",
    "Unordered, no order categorical variable."
   ]
  },
  {
   "cell_type": "code",
   "execution_count": 11,
   "id": "b7f3917d",
   "metadata": {},
   "outputs": [
    {
     "data": {
      "text/plain": [
       "London planetree    6472\n",
       "honeylocust         4798\n",
       "Callery pear        4189\n",
       "pin oak             3792\n",
       "Norway maple        2477\n",
       "                    ... \n",
       "black maple            3\n",
       "Scots pine             3\n",
       "smoketree              2\n",
       "sassafras              2\n",
       "Ohio buckeye           2\n",
       "Name: spc_common, Length: 131, dtype: int64"
      ]
     },
     "execution_count": 11,
     "metadata": {},
     "output_type": "execute_result"
    }
   ],
   "source": [
    "# getting the mode (most common)\n",
    "df.spc_common.value_counts()"
   ]
  },
  {
   "cell_type": "code",
   "execution_count": 32,
   "id": "6be70204",
   "metadata": {},
   "outputs": [
    {
     "name": "stderr",
     "output_type": "stream",
     "text": [
      "C:\\Users\\Toto\\anaconda3\\lib\\site-packages\\seaborn\\_decorators.py:36: FutureWarning: Pass the following variable as a keyword arg: x. From version 0.12, the only valid positional argument will be `data`, and passing other arguments without an explicit keyword will result in an error or misinterpretation.\n",
      "  warnings.warn(\n"
     ]
    },
    {
     "data": {
      "text/plain": [
       "<AxesSubplot:xlabel='spc_common', ylabel='count'>"
      ]
     },
     "execution_count": 32,
     "metadata": {},
     "output_type": "execute_result"
    },
    {
     "data": {
      "image/png": "[encoded data removed]",
      "text/plain": [
       "<Figure size 640x480 with 1 Axes>"
      ]
     },
     "metadata": {},
     "output_type": "display_data"
    }
   ],
   "source": [
    "# top 20 'spicies'\n",
    "\n",
    "top_10 = df['spc_common'].head(10)\n",
    "\n",
    "sns.countplot(top_10)\n",
    "# top_10"
   ]
  },
  {
   "cell_type": "code",
   "execution_count": 4,
   "id": "87d0ecd1",
   "metadata": {},
   "outputs": [],
   "source": [
    "# Sample Code:\n",
    "correct_order = ['Preschool', '1st-4th', '5th-6th', '7th-8th', '9th', '10th', '11th', '12th', 'HS-grad', 'Some-college', 'Assoc-voc', 'Assoc-acdm', 'Bachelors', 'Masters', 'Prof-school', 'Doctorate']\n",
    " # df['education'] = pd.Categorical(df['education'], correct_order, ordered=True)"
   ]
  },
  {
   "cell_type": "markdown",
   "id": "1e88f2a0",
   "metadata": {},
   "source": [
    "Nominal Categories"
   ]
  },
  {
   "cell_type": "markdown",
   "id": "10d6c1ef",
   "metadata": {},
   "source": [
    "We can"
   ]
  },
  {
   "cell_type": "code",
   "execution_count": null,
   "id": "1a0c99af",
   "metadata": {},
   "outputs": [],
   "source": []
  },
  {
   "cell_type": "code",
   "execution_count": null,
   "id": "3c03a460",
   "metadata": {},
   "outputs": [],
   "source": []
  },
  {
   "cell_type": "code",
   "execution_count": null,
   "id": "5766bd88",
   "metadata": {},
   "outputs": [],
   "source": []
  }
 ],
 "metadata": {
  "kernelspec": {
   "display_name": "Python 3 (ipykernel)",
   "language": "python",
   "name": "python3"
  },
  "language_info": {
   "codemirror_mode": {
    "name": "ipython",
    "version": 3
   },
   "file_extension": ".py",
   "mimetype": "text/x-python",
   "name": "python",
   "nbconvert_exporter": "python",
   "pygments_lexer": "ipython3",
   "version": "3.8.13"
  }
 },
 "nbformat": 4,
 "nbformat_minor": 5
}
