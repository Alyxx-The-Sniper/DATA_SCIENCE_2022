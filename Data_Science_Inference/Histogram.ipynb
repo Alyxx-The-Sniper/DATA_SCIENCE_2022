{
 "cells": [
  {
   "cell_type": "markdown",
   "id": "66562875",
   "metadata": {},
   "source": [
    "# Histogram"
   ]
  },
  {
   "cell_type": "markdown",
   "id": "4f4b3074",
   "metadata": {},
   "source": [
    "`Task:`\n",
    "\n",
    "Find the busiest times of day at a grocery store"
   ]
  },
  {
   "cell_type": "code",
   "execution_count": 3,
   "id": "2bf74f03",
   "metadata": {},
   "outputs": [
    {
     "name": "stdout",
     "output_type": "stream",
     "text": [
      "(1000, 3)\n"
     ]
    },
    {
     "data": {
      "text/html": [
       "<div>\n",
       "<style scoped>\n",
       "    .dataframe tbody tr th:only-of-type {\n",
       "        vertical-align: middle;\n",
       "    }\n",
       "\n",
       "    .dataframe tbody tr th {\n",
       "        vertical-align: top;\n",
       "    }\n",
       "\n",
       "    .dataframe thead th {\n",
       "        text-align: right;\n",
       "    }\n",
       "</style>\n",
       "<table border=\"1\" class=\"dataframe\">\n",
       "  <thead>\n",
       "    <tr style=\"text-align: right;\">\n",
       "      <th></th>\n",
       "      <th>Unnamed: 0</th>\n",
       "      <th>Transaction Time</th>\n",
       "      <th>Cost</th>\n",
       "    </tr>\n",
       "  </thead>\n",
       "  <tbody>\n",
       "    <tr>\n",
       "      <th>0</th>\n",
       "      <td>0</td>\n",
       "      <td>7.939419</td>\n",
       "      <td>98.422021</td>\n",
       "    </tr>\n",
       "    <tr>\n",
       "      <th>1</th>\n",
       "      <td>1</td>\n",
       "      <td>4.314811</td>\n",
       "      <td>87.329861</td>\n",
       "    </tr>\n",
       "    <tr>\n",
       "      <th>2</th>\n",
       "      <td>2</td>\n",
       "      <td>6.394080</td>\n",
       "      <td>112.334882</td>\n",
       "    </tr>\n",
       "    <tr>\n",
       "      <th>3</th>\n",
       "      <td>3</td>\n",
       "      <td>7.031504</td>\n",
       "      <td>87.570689</td>\n",
       "    </tr>\n",
       "    <tr>\n",
       "      <th>4</th>\n",
       "      <td>4</td>\n",
       "      <td>5.840730</td>\n",
       "      <td>97.321191</td>\n",
       "    </tr>\n",
       "  </tbody>\n",
       "</table>\n",
       "</div>"
      ],
      "text/plain": [
       "   Unnamed: 0  Transaction Time        Cost\n",
       "0           0          7.939419   98.422021\n",
       "1           1          4.314811   87.329861\n",
       "2           2          6.394080  112.334882\n",
       "3           3          7.031504   87.570689\n",
       "4           4          5.840730   97.321191"
      ]
     },
     "execution_count": 3,
     "metadata": {},
     "output_type": "execute_result"
    }
   ],
   "source": [
    "import pandas as pd \n",
    "import numpy as np\n",
    "\n",
    "# dataset containing the transaction time of the grocery store\n",
    "# Transaction time is in military time format (i.e 0 = 12:00 am, 1 = 1:00 am ans so on..)\n",
    "df = pd.read_csv(\"transaction.csv\")\n",
    "print(df.shape)\n",
    "df.head()"
   ]
  },
  {
   "cell_type": "markdown",
   "id": "3883b015",
   "metadata": {},
   "source": [
    "### Check the spread of the data"
   ]
  },
  {
   "cell_type": "code",
   "execution_count": 4,
   "id": "56e9ac48",
   "metadata": {},
   "outputs": [
    {
     "name": "stdout",
     "output_type": "stream",
     "text": [
      "0.0266151836095787\n",
      "23.675374635328755\n",
      "-23.648759451719176\n"
     ]
    }
   ],
   "source": [
    "# getting the range\n",
    "times = df['Transaction Time']\n",
    "\n",
    "min_time = np.amin(times)\n",
    "max_time = np.amax(times)\n",
    "range_time = min_time - max_time\n",
    "\n",
    "print(min_time)\n",
    "print(max_time)\n",
    "print(range_time)"
   ]
  },
  {
   "cell_type": "markdown",
   "id": "3882bd68",
   "metadata": {},
   "source": [
    "Earliest customer visit time is at 12:00 am and the last customer visit is around 11:40 pm.\n",
    "Visit time range is 23.65 (rounded 24 hours).\n"
   ]
  },
  {
   "cell_type": "markdown",
   "id": "7f4f54af",
   "metadata": {},
   "source": [
    "### Center of the distribution"
   ]
  },
  {
   "cell_type": "code",
   "execution_count": 28,
   "id": "f6a302e3",
   "metadata": {},
   "outputs": [
    {
     "name": "stdout",
     "output_type": "stream",
     "text": [
      "14.943439668312369\n",
      "17.54592514343596\n"
     ]
    }
   ],
   "source": [
    "# getting the average visit time \n",
    "print(np.mean(times))\n",
    "print(np.median(times))"
   ]
  },
  {
   "cell_type": "markdown",
   "id": "bd106da3",
   "metadata": {},
   "source": [
    "The average customer visit time is at 3:00pm and median at 5:30pm . Is this the busiest time of the grocery store? We can only verify this by looking at histogram and check what time has the highest number of visits."
   ]
  },
  {
   "cell_type": "markdown",
   "id": "76526108",
   "metadata": {},
   "source": [
    "### Visualization"
   ]
  },
  {
   "cell_type": "code",
   "execution_count": 20,
   "id": "541e7f23",
   "metadata": {},
   "outputs": [
    {
     "data": {
      "text/plain": [
       "<matplotlib.legend.Legend at 0x220c32ffd30>"
      ]
     },
     "execution_count": 20,
     "metadata": {},
     "output_type": "execute_result"
    },
    {
     "data": {
      "image/png": "[encoded data removed]",
      "text/plain": [
       "<Figure size 640x480 with 1 Axes>"
      ]
     },
     "metadata": {},
     "output_type": "display_data"
    }
   ],
   "source": [
    "from matplotlib import pyplot as plt\n",
    "plt.hist(times, range=(0, 24), bins=24,  edgecolor=\"black\", alpha = 0.5)\n",
    "\n",
    "\n",
    "# 1st quartile\n",
    "plt.axvline(np.quantile(times, 0.25), color = 'red', linestyle='--', label = \"Q1\")\n",
    "# 2nd quartile (also known as median)\n",
    "plt.axvline(np.quantile(times, 0.50), color = 'blue', linestyle='--', label = \"Q2\")\n",
    "# 3rd quartile\n",
    "plt.axvline(np.quantile(times, 0.75), color = 'yellow', linestyle='--', label = \"Q3\")\n",
    "\n",
    "plt.title(\"Customers time Visit\")\n",
    "plt.xlabel(\"Hours (1 hour increments)\")\n",
    "plt.ylabel(\"Visit Count\")\n",
    "plt.legend()"
   ]
  },
  {
   "cell_type": "markdown",
   "id": "5f191ac7",
   "metadata": {},
   "source": [
    "The graph show that volume of visits starting to increase from 5:00am - 10:00am, decrease around 12:00pm then start to increase again from 5:00pm to 10:00pm.\n",
    "\n",
    "Given that we have a bimodal dataset, the two peak hours falls under the 1st and 3rd-4th quartile. (we have a very quite 2nd quartile.) \n",
    "\n",
    "1. From 5:00 am to 10:00 am\n",
    "2. From 5:00 pm to 10:00 pm\n"
   ]
  },
  {
   "cell_type": "markdown",
   "id": "ce60d513",
   "metadata": {},
   "source": [
    "## Describing Histogram\n"
   ]
  },
  {
   "cell_type": "markdown",
   "id": "539a6801",
   "metadata": {},
   "source": [
    "#### Center of data\n",
    "\n",
    "The mean and median"
   ]
  },
  {
   "cell_type": "markdown",
   "id": "075a97f4",
   "metadata": {},
   "source": [
    "#### Spread\n",
    "min, max and range value"
   ]
  },
  {
   "cell_type": "markdown",
   "id": "10dbb740",
   "metadata": {},
   "source": [
    "#### Skew\n",
    "\n",
    "`Right skew` =  A histogram with a tail that extends to the right is called a right-skewed dataset. The median of this dataset is less than the mean.\n",
    "\n",
    "`Left skew` = A histogram with one prominent peak to the right, and a tail that extends to the left is called a left-skewed dataset. The median of this dataset is greater than the mean."
   ]
  },
  {
   "cell_type": "markdown",
   "id": "b147491f",
   "metadata": {},
   "source": [
    "#### Modality\n",
    "\n",
    "Number of peak in a dataset (unimodal , bimodal, multimodal, uniform)."
   ]
  },
  {
   "cell_type": "markdown",
   "id": "c8762ab5",
   "metadata": {},
   "source": [
    "#### Outliers\n",
    "Data point that is far away from therest of the dataset."
   ]
  },
  {
   "cell_type": "code",
   "execution_count": null,
   "id": "870daf9e",
   "metadata": {},
   "outputs": [],
   "source": []
  },
  {
   "cell_type": "code",
   "execution_count": null,
   "id": "00bac17f",
   "metadata": {},
   "outputs": [],
   "source": []
  },
  {
   "cell_type": "code",
   "execution_count": null,
   "id": "8a88bb32",
   "metadata": {},
   "outputs": [],
   "source": []
  },
  {
   "cell_type": "code",
   "execution_count": null,
   "id": "6108aeb5",
   "metadata": {},
   "outputs": [],
   "source": []
  }
 ],
 "metadata": {
  "kernelspec": {
   "display_name": "Python 3 (ipykernel)",
   "language": "python",
   "name": "python3"
  },
  "language_info": {
   "codemirror_mode": {
    "name": "ipython",
    "version": 3
   },
   "file_extension": ".py",
   "mimetype": "text/x-python",
   "name": "python",
   "nbconvert_exporter": "python",
   "pygments_lexer": "ipython3",
   "version": "3.8.13"
  }
 },
 "nbformat": 4,
 "nbformat_minor": 5
}
